{
 "cells": [
  {
   "cell_type": "markdown",
   "id": "71a41ee7",
   "metadata": {},
   "source": [
    "# Lecture 6: Exercises and Activities\n",
    "\n",
    "## **Activity 2a:** \n",
    "Compute the Tanimoto similarity scores between the seven compounds used in this section, using the PubChem fingerprints\n",
    "\n",
    "- Download the PubChem Fingerprint for the seven CIDs.\n",
    "- Convert the downloaded fingerprints into bit vectors.\n",
    "- Compute the pair-wise Tanimoto scores using the bit vectors."
   ]
  },
  {
   "cell_type": "code",
   "execution_count": 1,
   "id": "4c72f9eb",
   "metadata": {},
   "outputs": [],
   "source": [
    "cids = [    54454,  # Simvastatin (Zocor)\n",
    "            54687,  # Pravastatin (Pravachol)\n",
    "            60823,  # Atorvastatin (Lipitor)\n",
    "           446155,  # Fluvastatin (Lescol)   \n",
    "           446157,  # Rosuvastatin (Crestor)\n",
    "          5282452,  # Pitavastatin (Livalo)\n",
    "         97938126 ] # Lovastatin (Altoprev)"
   ]
  },
  {
   "cell_type": "code",
   "execution_count": 2,
   "id": "16ad949c",
   "metadata": {},
   "outputs": [],
   "source": [
    "from base64 import b64decode\n",
    "from rdkit import DataStructs\n",
    "import requests\n",
    "import time\n",
    "\n",
    "def PCFP_BitString(pcfp_base64) :\n",
    "\n",
    "    pcfp_bitstring = \"\".join( [\"{:08b}\".format(x) for x in b64decode( pcfp_base64 )] )[32:913]\n",
    "    return pcfp_bitstring"
   ]
  },
  {
   "cell_type": "code",
   "execution_count": null,
   "id": "ebc16da8",
   "metadata": {},
   "outputs": [],
   "source": []
  }
 ],
 "metadata": {
  "kernelspec": {
   "display_name": "Python [conda env:root] *",
   "language": "python",
   "name": "conda-root-py"
  },
  "language_info": {
   "codemirror_mode": {
    "name": "ipython",
    "version": 3
   },
   "file_extension": ".py",
   "mimetype": "text/x-python",
   "name": "python",
   "nbconvert_exporter": "python",
   "pygments_lexer": "ipython3",
   "version": "3.9.12"
  }
 },
 "nbformat": 4,
 "nbformat_minor": 5
}
