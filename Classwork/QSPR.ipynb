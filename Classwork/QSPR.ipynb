{
 "cells": [
  {
   "cell_type": "markdown",
   "metadata": {},
   "source": [
    "## Quantitative Structure-Property Relationships\n",
    "\n"
   ]
  },
  {
   "cell_type": "markdown",
   "metadata": {},
   "source": [
    "Quantitative Structure-Property Relationships (QSPR) and Quantitative\n",
    "Structure-Activity Relationships (QSAR) use statistical models to relate a set\n",
    "of predictor values to a response variable. Molecules are described using a set\n",
    "of *descriptors*, and then mathematical relationships can be developed to explain\n",
    "observed properties. In QSPR and QSAR, physico-chemical properties of theoretical\n",
    "descriptors of chemicals are used to predict either a physical property or a\n",
    "biological outcome.\n",
    "\n"
   ]
  },
  {
   "cell_type": "markdown",
   "metadata": {},
   "source": [
    "## Molecular Descriptors\n",
    "\n"
   ]
  },
  {
   "cell_type": "markdown",
   "metadata": {},
   "source": [
    "A molecular descriptor is &ldquo;final result of a logical and mathematical procedure,\n",
    "which transforms chemical information encoded within a symbolic repre-sentation\n",
    "of a molecule into a useful number or the result of some standardized\n",
    "experiment&rdquo; (Todeschini, R.; Consonni, V. *Molecular descriptors for\n",
    "chemoinformatics* **2009** Wiley‑VCH, Weinheim). You are already familiar with\n",
    "descriptors such as molecular weight or number of heavy atoms and we have\n",
    "queried PubChem for data such as XLogP. We&rsquo;ll examine just a few simple\n",
    "descriptors, but thousands have been developed for applications in QSPR.\n",
    "\n"
   ]
  },
  {
   "cell_type": "markdown",
   "metadata": {},
   "source": [
    "## Using rdkit and mordred to calculate descriptors\n",
    "\n"
   ]
  },
  {
   "cell_type": "markdown",
   "metadata": {},
   "source": [
    "Clearly we have been using algorithms for calculating these indices. This is\n",
    "time consuming for an individual, but programs can be used to complete this much\n",
    "easier. We will use the rdkit and mordred python libraries to help us out.\n",
    "\n"
   ]
  },
  {
   "cell_type": "code",
   "execution_count": 2,
   "metadata": {},
   "outputs": [
    {
     "data": {
      "text/plain": [
       "1613"
      ]
     },
     "execution_count": 2,
     "metadata": {},
     "output_type": "execute_result"
    }
   ],
   "source": [
    "from rdkit import Chem                            # imports the Chem module from rdkit\n",
    "from mordred import Calculator, descriptors       # imports mordred descriptor library\n",
    "calc = Calculator(descriptors, ignore_3D=True)    # sets up a function reading descriptors\n",
    "len(calc.descriptors) # tells us how many different types of descriptors are available in the library"
   ]
  },
  {
   "cell_type": "markdown",
   "metadata": {},
   "source": [
    "### Wiener Index\n",
    "\n"
   ]
  },
  {
   "cell_type": "markdown",
   "metadata": {},
   "source": [
    "We already calculated the Wiener index for *n*-pentane and 2-methylpentane. Now\n",
    "let&rsquo;s have mordred do it for us.\n",
    "\n"
   ]
  },
  {
   "cell_type": "code",
   "execution_count": 3,
   "metadata": {},
   "outputs": [
    {
     "name": "stdout",
     "output_type": "stream",
     "text": [
      "The Wiener index for n-pentane is:  20\n",
      "The Wiener index for 2-methylpentane is:  32\n"
     ]
    }
   ],
   "source": [
    "from mordred import WienerIndex\n",
    "pentane = Chem.MolFromSmiles('CCCCC')                  # Use rdkit to create a mol file from the smiles string for n-pentane\n",
    "methyl_pentane = Chem.MolFromSmiles('CCCC(C)C')        #  and for 2-methylpentane\n",
    "wiener_index = WienerIndex.WienerIndex()               # create descriptor instance for Wiener index\n",
    "result1 = wiener_index(pentane)                        # calculate wiener index for n-pentane\n",
    "result2 = wiener_index(methyl_pentane)                 #  and for 2-methylpentane\n",
    "print(\"The Wiener index for n-pentane is: \", result1)  # display result\n",
    "print(\"The Wiener index for 2-methylpentane is: \", result2)"
   ]
  },
  {
   "cell_type": "markdown",
   "metadata": {},
   "source": [
    "### Zagreb Indices\n",
    "\n"
   ]
  },
  {
   "cell_type": "markdown",
   "metadata": {},
   "source": [
    "And we can do the same for the different Zagreb indices for *n*-pentane and\n",
    "2-methylpentane.\n",
    "\n"
   ]
  },
  {
   "cell_type": "code",
   "execution_count": 4,
   "metadata": {},
   "outputs": [
    {
     "name": "stdout",
     "output_type": "stream",
     "text": [
      "The Zagreb index 1 for n-pentane is: 14.0\n",
      "The Zagreb index 2 for n-pentane is: 12.0\n",
      "The Zagreb index 1 for 2-methylpentane is: 20.0\n",
      "The Zagreb index 2 for 2-methylpentane is: 18.0\n"
     ]
    }
   ],
   "source": [
    "from mordred import ZagrebIndex\n",
    "\n",
    "zagreb_index1 = ZagrebIndex.ZagrebIndex(version = 1)            # create descriptor instance for Zagreb index 1\n",
    "zagreb_index2 = ZagrebIndex.ZagrebIndex(version = 2)            # create descriptor instance for Zagreb index 1\n",
    "\n",
    "result_Z1 = zagreb_index1(pentane)                              # calculate Z1 descriptor value for n-pentane\n",
    "result_Z2 = zagreb_index2(pentane)                              # calculate Z2 descriptor value for n-pentane\n",
    "print(\"The Zagreb index 1 for n-pentane is:\", result_Z1)\n",
    "print(\"The Zagreb index 2 for n-pentane is:\", result_Z2)\n",
    "\n",
    "result_Z1 = zagreb_index1(methyl_pentane)                       # and for 2-methylpentane as well\n",
    "result_Z2 = zagreb_index2(methyl_pentane)                      \n",
    "print(\"The Zagreb index 1 for 2-methylpentane is:\", result_Z1)\n",
    "print(\"The Zagreb index 2 for 2-methylpentane is:\", result_Z2)"
   ]
  },
  {
   "cell_type": "markdown",
   "metadata": {},
   "source": [
    "As you can see from the code above, each index will have different code that\n",
    "needs to be followed for programming. Each descriptor and the resulting code\n",
    "syntax can be found here\n",
    "[http://mordred-descriptor.github.io/documentation/master/api/modules.html](http://mordred-descriptor.github.io/documentation/master/api/modules.html)\n",
    "\n"
   ]
  },
  {
   "cell_type": "markdown",
   "metadata": {},
   "source": [
    "### Looping through a list of molecules\n",
    "\n"
   ]
  },
  {
   "cell_type": "markdown",
   "metadata": {},
   "source": [
    "Now that we have an understanding on how rdkit and mordred work to get our\n",
    "descriptors, let&rsquo;s simplify the code using a looping structure:\n",
    "\n"
   ]
  },
  {
   "cell_type": "code",
   "execution_count": 5,
   "metadata": {},
   "outputs": [
    {
     "name": "stdout",
     "output_type": "stream",
     "text": [
      "The Zagreb index 1 for CCC is: 6.0\n",
      "The Zagreb index 2 for CCC is: 4.0\n",
      "\n",
      "The Zagreb index 1 for CCCC is: 10.0\n",
      "The Zagreb index 2 for CCCC is: 8.0\n",
      "\n",
      "The Zagreb index 1 for CCCCC is: 14.0\n",
      "The Zagreb index 2 for CCCCC is: 12.0\n",
      "\n",
      "The Zagreb index 1 for CCCC(C)C is: 20.0\n",
      "The Zagreb index 2 for CCCC(C)C is: 18.0\n",
      "\n",
      "The Zagreb index 1 for CC(C)C(C)C is: 22.0\n",
      "The Zagreb index 2 for CC(C)C(C)C is: 21.0\n",
      "\n"
     ]
    }
   ],
   "source": [
    "smiles = [\"CCC\", \"CCCC\", \"CCCCC\", \"CCCC(C)C\",\"CC(C)C(C)C\"]         #store smiles strings in a list\n",
    "\n",
    "for smile in smiles:\n",
    "    mol = Chem.MolFromSmiles(smile)                      # convert smiles string to mol file\n",
    "    result_Z1 = zagreb_index1(mol)                       # calculate Z1 descriptor value\n",
    "    result_Z2 = zagreb_index2(mol)                       # calculate Z2 descriptor value\n",
    "    print(\"The Zagreb index 1 for\", smile, \"is:\", result_Z1)\n",
    "    print(\"The Zagreb index 2 for\", smile, \"is:\", result_Z2)\n",
    "    print()"
   ]
  },
  {
   "cell_type": "markdown",
   "metadata": {},
   "source": [
    "## Using descriptors to predict molecular properties\n",
    "\n"
   ]
  },
  {
   "cell_type": "markdown",
   "metadata": {},
   "source": [
    "For this exercise we will take a series of alkanes and create an equation that\n",
    "will allow us to predict boiling points. We will start with a 30 molecule alkane\n",
    "training set. We will obtain various descriptors and see how they can predict\n",
    "the physical property boiling point.\n",
    "\n",
    "For this exercise we will be using the [pandas](https://pandas.pydata.org/) (Python Data Analysis) library to\n",
    "help us read, write and manage data. We will also use matplotlib to generate\n",
    "graphs.\n",
    "\n"
   ]
  },
  {
   "cell_type": "markdown",
   "metadata": {},
   "source": [
    "### Boiling Point data\n",
    "\n"
   ]
  },
  {
   "cell_type": "markdown",
   "metadata": {},
   "source": [
    "Let&rsquo;s start by reading and graphing a set of boiling point data. First we read\n",
    "our csv file into a pandas &ldquo;dataframe&rdquo;. Notice that we can generate a nicely\n",
    "formatted table from our dataframe by just entering the name of the dataframe on\n",
    "the last line.\n",
    "\n"
   ]
  },
  {
   "cell_type": "code",
   "execution_count": 6,
   "metadata": {},
   "outputs": [
    {
     "data": {
      "text/html": [
       "<div>\n",
       "<style scoped>\n",
       "    .dataframe tbody tr th:only-of-type {\n",
       "        vertical-align: middle;\n",
       "    }\n",
       "\n",
       "    .dataframe tbody tr th {\n",
       "        vertical-align: top;\n",
       "    }\n",
       "\n",
       "    .dataframe thead th {\n",
       "        text-align: right;\n",
       "    }\n",
       "</style>\n",
       "<table border=\"1\" class=\"dataframe\">\n",
       "  <thead>\n",
       "    <tr style=\"text-align: right;\">\n",
       "      <th></th>\n",
       "      <th>compound</th>\n",
       "      <th>name</th>\n",
       "      <th>BP_C</th>\n",
       "      <th>BP_K</th>\n",
       "      <th>SMILES</th>\n",
       "      <th>MW</th>\n",
       "    </tr>\n",
       "  </thead>\n",
       "  <tbody>\n",
       "    <tr>\n",
       "      <th>0</th>\n",
       "      <td>1</td>\n",
       "      <td>Methane</td>\n",
       "      <td>-162.2</td>\n",
       "      <td>110.95</td>\n",
       "      <td>C</td>\n",
       "      <td>16.043</td>\n",
       "    </tr>\n",
       "    <tr>\n",
       "      <th>1</th>\n",
       "      <td>2</td>\n",
       "      <td>Ethane</td>\n",
       "      <td>-88.6</td>\n",
       "      <td>184.55</td>\n",
       "      <td>CC</td>\n",
       "      <td>30.070</td>\n",
       "    </tr>\n",
       "    <tr>\n",
       "      <th>2</th>\n",
       "      <td>3</td>\n",
       "      <td>propane</td>\n",
       "      <td>-42.2</td>\n",
       "      <td>230.95</td>\n",
       "      <td>CCC</td>\n",
       "      <td>44.100</td>\n",
       "    </tr>\n",
       "    <tr>\n",
       "      <th>3</th>\n",
       "      <td>4</td>\n",
       "      <td>butane</td>\n",
       "      <td>-0.1</td>\n",
       "      <td>273.05</td>\n",
       "      <td>CCCC</td>\n",
       "      <td>58.120</td>\n",
       "    </tr>\n",
       "    <tr>\n",
       "      <th>4</th>\n",
       "      <td>5</td>\n",
       "      <td>2-methylpropane</td>\n",
       "      <td>-11.2</td>\n",
       "      <td>261.95</td>\n",
       "      <td>CC(C)C</td>\n",
       "      <td>58.120</td>\n",
       "    </tr>\n",
       "    <tr>\n",
       "      <th>5</th>\n",
       "      <td>6</td>\n",
       "      <td>pentane</td>\n",
       "      <td>36.1</td>\n",
       "      <td>309.25</td>\n",
       "      <td>CCCCC</td>\n",
       "      <td>72.150</td>\n",
       "    </tr>\n",
       "    <tr>\n",
       "      <th>6</th>\n",
       "      <td>7</td>\n",
       "      <td>2-methylbutane</td>\n",
       "      <td>27.0</td>\n",
       "      <td>300.15</td>\n",
       "      <td>CC(C)CC</td>\n",
       "      <td>72.150</td>\n",
       "    </tr>\n",
       "    <tr>\n",
       "      <th>7</th>\n",
       "      <td>8</td>\n",
       "      <td>2,2-dimethylpropane</td>\n",
       "      <td>9.5</td>\n",
       "      <td>282.65</td>\n",
       "      <td>CC(C)(C)C</td>\n",
       "      <td>72.150</td>\n",
       "    </tr>\n",
       "    <tr>\n",
       "      <th>8</th>\n",
       "      <td>9</td>\n",
       "      <td>hexane</td>\n",
       "      <td>68.8</td>\n",
       "      <td>341.95</td>\n",
       "      <td>CCCCCC</td>\n",
       "      <td>86.180</td>\n",
       "    </tr>\n",
       "    <tr>\n",
       "      <th>9</th>\n",
       "      <td>10</td>\n",
       "      <td>2-methylpentane</td>\n",
       "      <td>60.9</td>\n",
       "      <td>334.05</td>\n",
       "      <td>CC(C)CCC</td>\n",
       "      <td>86.180</td>\n",
       "    </tr>\n",
       "    <tr>\n",
       "      <th>10</th>\n",
       "      <td>11</td>\n",
       "      <td>3-methylpentane</td>\n",
       "      <td>63.3</td>\n",
       "      <td>336.45</td>\n",
       "      <td>CC(CC)CC</td>\n",
       "      <td>86.180</td>\n",
       "    </tr>\n",
       "    <tr>\n",
       "      <th>11</th>\n",
       "      <td>12</td>\n",
       "      <td>2,2-dimethylbutane</td>\n",
       "      <td>49.8</td>\n",
       "      <td>322.95</td>\n",
       "      <td>CC(C)(CC)C</td>\n",
       "      <td>86.180</td>\n",
       "    </tr>\n",
       "    <tr>\n",
       "      <th>12</th>\n",
       "      <td>13</td>\n",
       "      <td>2,3-dimethylbutane</td>\n",
       "      <td>58.1</td>\n",
       "      <td>331.25</td>\n",
       "      <td>CC(C)C(C)C</td>\n",
       "      <td>86.180</td>\n",
       "    </tr>\n",
       "    <tr>\n",
       "      <th>13</th>\n",
       "      <td>14</td>\n",
       "      <td>heptane</td>\n",
       "      <td>98.5</td>\n",
       "      <td>371.65</td>\n",
       "      <td>CCCCCCC</td>\n",
       "      <td>100.200</td>\n",
       "    </tr>\n",
       "    <tr>\n",
       "      <th>14</th>\n",
       "      <td>15</td>\n",
       "      <td>3-ethylpentane</td>\n",
       "      <td>93.5</td>\n",
       "      <td>366.65</td>\n",
       "      <td>C(C)C(CC)CC</td>\n",
       "      <td>100.200</td>\n",
       "    </tr>\n",
       "    <tr>\n",
       "      <th>15</th>\n",
       "      <td>16</td>\n",
       "      <td>2,2-dimethylpentane</td>\n",
       "      <td>79.2</td>\n",
       "      <td>352.35</td>\n",
       "      <td>CC(C)(CCC)C</td>\n",
       "      <td>100.200</td>\n",
       "    </tr>\n",
       "    <tr>\n",
       "      <th>16</th>\n",
       "      <td>17</td>\n",
       "      <td>2,3-dimethylpentane</td>\n",
       "      <td>89.8</td>\n",
       "      <td>362.95</td>\n",
       "      <td>CC(C)C(CC)C</td>\n",
       "      <td>100.200</td>\n",
       "    </tr>\n",
       "    <tr>\n",
       "      <th>17</th>\n",
       "      <td>18</td>\n",
       "      <td>2,4-dimethylpentane</td>\n",
       "      <td>80.6</td>\n",
       "      <td>353.75</td>\n",
       "      <td>CC(C)CC(C)C</td>\n",
       "      <td>100.200</td>\n",
       "    </tr>\n",
       "    <tr>\n",
       "      <th>18</th>\n",
       "      <td>19</td>\n",
       "      <td>2-methylhexane</td>\n",
       "      <td>90.1</td>\n",
       "      <td>363.25</td>\n",
       "      <td>CC(C)CCCC</td>\n",
       "      <td>100.205</td>\n",
       "    </tr>\n",
       "    <tr>\n",
       "      <th>19</th>\n",
       "      <td>20</td>\n",
       "      <td>3-methylhexane</td>\n",
       "      <td>91.8</td>\n",
       "      <td>364.95</td>\n",
       "      <td>CC(CC)CCC</td>\n",
       "      <td>100.200</td>\n",
       "    </tr>\n",
       "    <tr>\n",
       "      <th>20</th>\n",
       "      <td>21</td>\n",
       "      <td>octane</td>\n",
       "      <td>125.6</td>\n",
       "      <td>398.75</td>\n",
       "      <td>CCCCCCCC</td>\n",
       "      <td>114.230</td>\n",
       "    </tr>\n",
       "    <tr>\n",
       "      <th>21</th>\n",
       "      <td>22</td>\n",
       "      <td>3-methylheptane</td>\n",
       "      <td>118.9</td>\n",
       "      <td>392.05</td>\n",
       "      <td>CC(CC)CCCC</td>\n",
       "      <td>114.232</td>\n",
       "    </tr>\n",
       "    <tr>\n",
       "      <th>22</th>\n",
       "      <td>23</td>\n",
       "      <td>2,2,3,3-tetramethylbutane</td>\n",
       "      <td>106.5</td>\n",
       "      <td>379.65</td>\n",
       "      <td>CC(C)(C(C)(C)C)C</td>\n",
       "      <td>114.230</td>\n",
       "    </tr>\n",
       "    <tr>\n",
       "      <th>23</th>\n",
       "      <td>24</td>\n",
       "      <td>2,3,3-trimethylpentane</td>\n",
       "      <td>114.7</td>\n",
       "      <td>387.85</td>\n",
       "      <td>CC(C)C(CC)(C)C</td>\n",
       "      <td>114.230</td>\n",
       "    </tr>\n",
       "    <tr>\n",
       "      <th>24</th>\n",
       "      <td>25</td>\n",
       "      <td>2,3,4-trimethylpentane</td>\n",
       "      <td>113.7</td>\n",
       "      <td>386.85</td>\n",
       "      <td>CC(C)C(C(C)C)C</td>\n",
       "      <td>114.230</td>\n",
       "    </tr>\n",
       "    <tr>\n",
       "      <th>25</th>\n",
       "      <td>26</td>\n",
       "      <td>2,2,4-trimethylpentane</td>\n",
       "      <td>99.3</td>\n",
       "      <td>372.45</td>\n",
       "      <td>CC(C)(CC(C)C)C</td>\n",
       "      <td>114.230</td>\n",
       "    </tr>\n",
       "    <tr>\n",
       "      <th>26</th>\n",
       "      <td>27</td>\n",
       "      <td>nonane</td>\n",
       "      <td>150.7</td>\n",
       "      <td>423.85</td>\n",
       "      <td>CCCCCCCCC</td>\n",
       "      <td>128.250</td>\n",
       "    </tr>\n",
       "    <tr>\n",
       "      <th>27</th>\n",
       "      <td>28</td>\n",
       "      <td>2-methyloctane</td>\n",
       "      <td>143.0</td>\n",
       "      <td>416.15</td>\n",
       "      <td>CC(C)CCCCCC</td>\n",
       "      <td>128.259</td>\n",
       "    </tr>\n",
       "    <tr>\n",
       "      <th>28</th>\n",
       "      <td>29</td>\n",
       "      <td>decane</td>\n",
       "      <td>174.2</td>\n",
       "      <td>447.35</td>\n",
       "      <td>CCCCCCCCCC</td>\n",
       "      <td>142.280</td>\n",
       "    </tr>\n",
       "    <tr>\n",
       "      <th>29</th>\n",
       "      <td>30</td>\n",
       "      <td>2-methylnonane</td>\n",
       "      <td>166.9</td>\n",
       "      <td>440.05</td>\n",
       "      <td>CC(C)CCCCCCC</td>\n",
       "      <td>142.280</td>\n",
       "    </tr>\n",
       "  </tbody>\n",
       "</table>\n",
       "</div>"
      ],
      "text/plain": [
       "    compound                       name   BP_C    BP_K            SMILES  \\\n",
       "0          1                    Methane -162.2  110.95                 C   \n",
       "1          2                     Ethane  -88.6  184.55                CC   \n",
       "2          3                    propane  -42.2  230.95               CCC   \n",
       "3          4                     butane   -0.1  273.05              CCCC   \n",
       "4          5            2-methylpropane  -11.2  261.95            CC(C)C   \n",
       "5          6                    pentane   36.1  309.25             CCCCC   \n",
       "6          7             2-methylbutane   27.0  300.15           CC(C)CC   \n",
       "7          8        2,2-dimethylpropane    9.5  282.65         CC(C)(C)C   \n",
       "8          9                     hexane   68.8  341.95            CCCCCC   \n",
       "9         10            2-methylpentane   60.9  334.05          CC(C)CCC   \n",
       "10        11            3-methylpentane   63.3  336.45          CC(CC)CC   \n",
       "11        12         2,2-dimethylbutane   49.8  322.95        CC(C)(CC)C   \n",
       "12        13         2,3-dimethylbutane   58.1  331.25        CC(C)C(C)C   \n",
       "13        14                    heptane   98.5  371.65           CCCCCCC   \n",
       "14        15             3-ethylpentane   93.5  366.65       C(C)C(CC)CC   \n",
       "15        16        2,2-dimethylpentane   79.2  352.35       CC(C)(CCC)C   \n",
       "16        17        2,3-dimethylpentane   89.8  362.95       CC(C)C(CC)C   \n",
       "17        18        2,4-dimethylpentane   80.6  353.75       CC(C)CC(C)C   \n",
       "18        19             2-methylhexane   90.1  363.25         CC(C)CCCC   \n",
       "19        20             3-methylhexane   91.8  364.95         CC(CC)CCC   \n",
       "20        21                     octane  125.6  398.75          CCCCCCCC   \n",
       "21        22            3-methylheptane  118.9  392.05        CC(CC)CCCC   \n",
       "22        23  2,2,3,3-tetramethylbutane  106.5  379.65  CC(C)(C(C)(C)C)C   \n",
       "23        24     2,3,3-trimethylpentane  114.7  387.85    CC(C)C(CC)(C)C   \n",
       "24        25     2,3,4-trimethylpentane  113.7  386.85    CC(C)C(C(C)C)C   \n",
       "25        26     2,2,4-trimethylpentane   99.3  372.45    CC(C)(CC(C)C)C   \n",
       "26        27                     nonane  150.7  423.85         CCCCCCCCC   \n",
       "27        28             2-methyloctane  143.0  416.15       CC(C)CCCCCC   \n",
       "28        29                     decane  174.2  447.35        CCCCCCCCCC   \n",
       "29        30             2-methylnonane  166.9  440.05      CC(C)CCCCCCC   \n",
       "\n",
       "         MW  \n",
       "0    16.043  \n",
       "1    30.070  \n",
       "2    44.100  \n",
       "3    58.120  \n",
       "4    58.120  \n",
       "5    72.150  \n",
       "6    72.150  \n",
       "7    72.150  \n",
       "8    86.180  \n",
       "9    86.180  \n",
       "10   86.180  \n",
       "11   86.180  \n",
       "12   86.180  \n",
       "13  100.200  \n",
       "14  100.200  \n",
       "15  100.200  \n",
       "16  100.200  \n",
       "17  100.200  \n",
       "18  100.205  \n",
       "19  100.200  \n",
       "20  114.230  \n",
       "21  114.232  \n",
       "22  114.230  \n",
       "23  114.230  \n",
       "24  114.230  \n",
       "25  114.230  \n",
       "26  128.250  \n",
       "27  128.259  \n",
       "28  142.280  \n",
       "29  142.280  "
      ]
     },
     "execution_count": 6,
     "metadata": {},
     "output_type": "execute_result"
    }
   ],
   "source": [
    "import pandas as pd        # import the Python Data Analysis Library with the shortened name pd\n",
    "df = pd.read_csv(\"BP.csv\") # read in the file into a pandas dataframe\n",
    "df                         # print the dataframe"
   ]
  },
  {
   "cell_type": "markdown",
   "metadata": {},
   "source": [
    "### Graphing the data\n",
    "\n"
   ]
  },
  {
   "cell_type": "markdown",
   "metadata": {},
   "source": [
    "Now we can graph the data using matplotlib.\n",
    "\n"
   ]
  },
  {
   "cell_type": "code",
   "execution_count": 7,
   "metadata": {},
   "outputs": [
    {
     "data": {
      "image/png": "[encoded data removed]",
      "text/plain": [
       "<Figure size 432x288 with 1 Axes>"
      ]
     },
     "metadata": {
      "needs_background": "light"
     },
     "output_type": "display_data"
    }
   ],
   "source": [
    "import matplotlib.pyplot as plt\n",
    "\n",
    "plt.scatter(df.MW, df.BP_K)     # plot of boiling point (in K) vs molecular weight\n",
    "plt.xlabel('Molecular Weight')\n",
    "plt.ylabel('Boiling Point in Kelvin')\n",
    "plt.show()"
   ]
  },
  {
   "cell_type": "markdown",
   "metadata": {},
   "source": [
    "Clearly from the data we can see that we have multiple molecules with the same\n",
    "molecular weight, but different boiling points. Molecular weight is therefore\n",
    "not the best predictor of boiling point. We can see if there are other\n",
    "descriptors that we can use such as Weiner or Zagreb. Let&rsquo;s add various\n",
    "descriptors to the dataframe.\n",
    "\n"
   ]
  },
  {
   "cell_type": "markdown",
   "metadata": {},
   "source": [
    "### Adding descriptors to the dataset\n",
    "\n"
   ]
  },
  {
   "cell_type": "markdown",
   "metadata": {},
   "source": [
    "We can now calculate the Wiener and Zagreb indices for each of our\n",
    "hydrocarbons and add them to the dataframe.\n",
    "\n"
   ]
  },
  {
   "cell_type": "code",
   "execution_count": 8,
   "metadata": {},
   "outputs": [
    {
     "data": {
      "text/html": [
       "<div>\n",
       "<style scoped>\n",
       "    .dataframe tbody tr th:only-of-type {\n",
       "        vertical-align: middle;\n",
       "    }\n",
       "\n",
       "    .dataframe tbody tr th {\n",
       "        vertical-align: top;\n",
       "    }\n",
       "\n",
       "    .dataframe thead th {\n",
       "        text-align: right;\n",
       "    }\n",
       "</style>\n",
       "<table border=\"1\" class=\"dataframe\">\n",
       "  <thead>\n",
       "    <tr style=\"text-align: right;\">\n",
       "      <th></th>\n",
       "      <th>compound</th>\n",
       "      <th>name</th>\n",
       "      <th>BP_C</th>\n",
       "      <th>BP_K</th>\n",
       "      <th>SMILES</th>\n",
       "      <th>MW</th>\n",
       "      <th>Wiener</th>\n",
       "      <th>Z1</th>\n",
       "      <th>Z2</th>\n",
       "    </tr>\n",
       "  </thead>\n",
       "  <tbody>\n",
       "    <tr>\n",
       "      <th>0</th>\n",
       "      <td>1</td>\n",
       "      <td>Methane</td>\n",
       "      <td>-162.2</td>\n",
       "      <td>110.95</td>\n",
       "      <td>C</td>\n",
       "      <td>16.043</td>\n",
       "      <td>0</td>\n",
       "      <td>0.0</td>\n",
       "      <td>0.0</td>\n",
       "    </tr>\n",
       "    <tr>\n",
       "      <th>1</th>\n",
       "      <td>2</td>\n",
       "      <td>Ethane</td>\n",
       "      <td>-88.6</td>\n",
       "      <td>184.55</td>\n",
       "      <td>CC</td>\n",
       "      <td>30.070</td>\n",
       "      <td>1</td>\n",
       "      <td>2.0</td>\n",
       "      <td>1.0</td>\n",
       "    </tr>\n",
       "    <tr>\n",
       "      <th>2</th>\n",
       "      <td>3</td>\n",
       "      <td>propane</td>\n",
       "      <td>-42.2</td>\n",
       "      <td>230.95</td>\n",
       "      <td>CCC</td>\n",
       "      <td>44.100</td>\n",
       "      <td>4</td>\n",
       "      <td>6.0</td>\n",
       "      <td>4.0</td>\n",
       "    </tr>\n",
       "    <tr>\n",
       "      <th>3</th>\n",
       "      <td>4</td>\n",
       "      <td>butane</td>\n",
       "      <td>-0.1</td>\n",
       "      <td>273.05</td>\n",
       "      <td>CCCC</td>\n",
       "      <td>58.120</td>\n",
       "      <td>10</td>\n",
       "      <td>10.0</td>\n",
       "      <td>8.0</td>\n",
       "    </tr>\n",
       "    <tr>\n",
       "      <th>4</th>\n",
       "      <td>5</td>\n",
       "      <td>2-methylpropane</td>\n",
       "      <td>-11.2</td>\n",
       "      <td>261.95</td>\n",
       "      <td>CC(C)C</td>\n",
       "      <td>58.120</td>\n",
       "      <td>9</td>\n",
       "      <td>12.0</td>\n",
       "      <td>9.0</td>\n",
       "    </tr>\n",
       "    <tr>\n",
       "      <th>5</th>\n",
       "      <td>6</td>\n",
       "      <td>pentane</td>\n",
       "      <td>36.1</td>\n",
       "      <td>309.25</td>\n",
       "      <td>CCCCC</td>\n",
       "      <td>72.150</td>\n",
       "      <td>20</td>\n",
       "      <td>14.0</td>\n",
       "      <td>12.0</td>\n",
       "    </tr>\n",
       "    <tr>\n",
       "      <th>6</th>\n",
       "      <td>7</td>\n",
       "      <td>2-methylbutane</td>\n",
       "      <td>27.0</td>\n",
       "      <td>300.15</td>\n",
       "      <td>CC(C)CC</td>\n",
       "      <td>72.150</td>\n",
       "      <td>18</td>\n",
       "      <td>16.0</td>\n",
       "      <td>14.0</td>\n",
       "    </tr>\n",
       "    <tr>\n",
       "      <th>7</th>\n",
       "      <td>8</td>\n",
       "      <td>2,2-dimethylpropane</td>\n",
       "      <td>9.5</td>\n",
       "      <td>282.65</td>\n",
       "      <td>CC(C)(C)C</td>\n",
       "      <td>72.150</td>\n",
       "      <td>16</td>\n",
       "      <td>20.0</td>\n",
       "      <td>16.0</td>\n",
       "    </tr>\n",
       "    <tr>\n",
       "      <th>8</th>\n",
       "      <td>9</td>\n",
       "      <td>hexane</td>\n",
       "      <td>68.8</td>\n",
       "      <td>341.95</td>\n",
       "      <td>CCCCCC</td>\n",
       "      <td>86.180</td>\n",
       "      <td>35</td>\n",
       "      <td>18.0</td>\n",
       "      <td>16.0</td>\n",
       "    </tr>\n",
       "    <tr>\n",
       "      <th>9</th>\n",
       "      <td>10</td>\n",
       "      <td>2-methylpentane</td>\n",
       "      <td>60.9</td>\n",
       "      <td>334.05</td>\n",
       "      <td>CC(C)CCC</td>\n",
       "      <td>86.180</td>\n",
       "      <td>32</td>\n",
       "      <td>20.0</td>\n",
       "      <td>18.0</td>\n",
       "    </tr>\n",
       "    <tr>\n",
       "      <th>10</th>\n",
       "      <td>11</td>\n",
       "      <td>3-methylpentane</td>\n",
       "      <td>63.3</td>\n",
       "      <td>336.45</td>\n",
       "      <td>CC(CC)CC</td>\n",
       "      <td>86.180</td>\n",
       "      <td>31</td>\n",
       "      <td>20.0</td>\n",
       "      <td>19.0</td>\n",
       "    </tr>\n",
       "    <tr>\n",
       "      <th>11</th>\n",
       "      <td>12</td>\n",
       "      <td>2,2-dimethylbutane</td>\n",
       "      <td>49.8</td>\n",
       "      <td>322.95</td>\n",
       "      <td>CC(C)(CC)C</td>\n",
       "      <td>86.180</td>\n",
       "      <td>28</td>\n",
       "      <td>24.0</td>\n",
       "      <td>22.0</td>\n",
       "    </tr>\n",
       "    <tr>\n",
       "      <th>12</th>\n",
       "      <td>13</td>\n",
       "      <td>2,3-dimethylbutane</td>\n",
       "      <td>58.1</td>\n",
       "      <td>331.25</td>\n",
       "      <td>CC(C)C(C)C</td>\n",
       "      <td>86.180</td>\n",
       "      <td>29</td>\n",
       "      <td>22.0</td>\n",
       "      <td>21.0</td>\n",
       "    </tr>\n",
       "    <tr>\n",
       "      <th>13</th>\n",
       "      <td>14</td>\n",
       "      <td>heptane</td>\n",
       "      <td>98.5</td>\n",
       "      <td>371.65</td>\n",
       "      <td>CCCCCCC</td>\n",
       "      <td>100.200</td>\n",
       "      <td>56</td>\n",
       "      <td>22.0</td>\n",
       "      <td>20.0</td>\n",
       "    </tr>\n",
       "    <tr>\n",
       "      <th>14</th>\n",
       "      <td>15</td>\n",
       "      <td>3-ethylpentane</td>\n",
       "      <td>93.5</td>\n",
       "      <td>366.65</td>\n",
       "      <td>C(C)C(CC)CC</td>\n",
       "      <td>100.200</td>\n",
       "      <td>48</td>\n",
       "      <td>24.0</td>\n",
       "      <td>24.0</td>\n",
       "    </tr>\n",
       "    <tr>\n",
       "      <th>15</th>\n",
       "      <td>16</td>\n",
       "      <td>2,2-dimethylpentane</td>\n",
       "      <td>79.2</td>\n",
       "      <td>352.35</td>\n",
       "      <td>CC(C)(CCC)C</td>\n",
       "      <td>100.200</td>\n",
       "      <td>46</td>\n",
       "      <td>28.0</td>\n",
       "      <td>26.0</td>\n",
       "    </tr>\n",
       "    <tr>\n",
       "      <th>16</th>\n",
       "      <td>17</td>\n",
       "      <td>2,3-dimethylpentane</td>\n",
       "      <td>89.8</td>\n",
       "      <td>362.95</td>\n",
       "      <td>CC(C)C(CC)C</td>\n",
       "      <td>100.200</td>\n",
       "      <td>46</td>\n",
       "      <td>26.0</td>\n",
       "      <td>26.0</td>\n",
       "    </tr>\n",
       "    <tr>\n",
       "      <th>17</th>\n",
       "      <td>18</td>\n",
       "      <td>2,4-dimethylpentane</td>\n",
       "      <td>80.6</td>\n",
       "      <td>353.75</td>\n",
       "      <td>CC(C)CC(C)C</td>\n",
       "      <td>100.200</td>\n",
       "      <td>48</td>\n",
       "      <td>26.0</td>\n",
       "      <td>24.0</td>\n",
       "    </tr>\n",
       "    <tr>\n",
       "      <th>18</th>\n",
       "      <td>19</td>\n",
       "      <td>2-methylhexane</td>\n",
       "      <td>90.1</td>\n",
       "      <td>363.25</td>\n",
       "      <td>CC(C)CCCC</td>\n",
       "      <td>100.205</td>\n",
       "      <td>52</td>\n",
       "      <td>24.0</td>\n",
       "      <td>22.0</td>\n",
       "    </tr>\n",
       "    <tr>\n",
       "      <th>19</th>\n",
       "      <td>20</td>\n",
       "      <td>3-methylhexane</td>\n",
       "      <td>91.8</td>\n",
       "      <td>364.95</td>\n",
       "      <td>CC(CC)CCC</td>\n",
       "      <td>100.200</td>\n",
       "      <td>50</td>\n",
       "      <td>24.0</td>\n",
       "      <td>23.0</td>\n",
       "    </tr>\n",
       "    <tr>\n",
       "      <th>20</th>\n",
       "      <td>21</td>\n",
       "      <td>octane</td>\n",
       "      <td>125.6</td>\n",
       "      <td>398.75</td>\n",
       "      <td>CCCCCCCC</td>\n",
       "      <td>114.230</td>\n",
       "      <td>84</td>\n",
       "      <td>26.0</td>\n",
       "      <td>24.0</td>\n",
       "    </tr>\n",
       "    <tr>\n",
       "      <th>21</th>\n",
       "      <td>22</td>\n",
       "      <td>3-methylheptane</td>\n",
       "      <td>118.9</td>\n",
       "      <td>392.05</td>\n",
       "      <td>CC(CC)CCCC</td>\n",
       "      <td>114.232</td>\n",
       "      <td>76</td>\n",
       "      <td>28.0</td>\n",
       "      <td>27.0</td>\n",
       "    </tr>\n",
       "    <tr>\n",
       "      <th>22</th>\n",
       "      <td>23</td>\n",
       "      <td>2,2,3,3-tetramethylbutane</td>\n",
       "      <td>106.5</td>\n",
       "      <td>379.65</td>\n",
       "      <td>CC(C)(C(C)(C)C)C</td>\n",
       "      <td>114.230</td>\n",
       "      <td>58</td>\n",
       "      <td>38.0</td>\n",
       "      <td>40.0</td>\n",
       "    </tr>\n",
       "    <tr>\n",
       "      <th>23</th>\n",
       "      <td>24</td>\n",
       "      <td>2,3,3-trimethylpentane</td>\n",
       "      <td>114.7</td>\n",
       "      <td>387.85</td>\n",
       "      <td>CC(C)C(CC)(C)C</td>\n",
       "      <td>114.230</td>\n",
       "      <td>62</td>\n",
       "      <td>34.0</td>\n",
       "      <td>36.0</td>\n",
       "    </tr>\n",
       "    <tr>\n",
       "      <th>24</th>\n",
       "      <td>25</td>\n",
       "      <td>2,3,4-trimethylpentane</td>\n",
       "      <td>113.7</td>\n",
       "      <td>386.85</td>\n",
       "      <td>CC(C)C(C(C)C)C</td>\n",
       "      <td>114.230</td>\n",
       "      <td>65</td>\n",
       "      <td>32.0</td>\n",
       "      <td>33.0</td>\n",
       "    </tr>\n",
       "    <tr>\n",
       "      <th>25</th>\n",
       "      <td>26</td>\n",
       "      <td>2,2,4-trimethylpentane</td>\n",
       "      <td>99.3</td>\n",
       "      <td>372.45</td>\n",
       "      <td>CC(C)(CC(C)C)C</td>\n",
       "      <td>114.230</td>\n",
       "      <td>66</td>\n",
       "      <td>34.0</td>\n",
       "      <td>32.0</td>\n",
       "    </tr>\n",
       "    <tr>\n",
       "      <th>26</th>\n",
       "      <td>27</td>\n",
       "      <td>nonane</td>\n",
       "      <td>150.7</td>\n",
       "      <td>423.85</td>\n",
       "      <td>CCCCCCCCC</td>\n",
       "      <td>128.250</td>\n",
       "      <td>120</td>\n",
       "      <td>30.0</td>\n",
       "      <td>28.0</td>\n",
       "    </tr>\n",
       "    <tr>\n",
       "      <th>27</th>\n",
       "      <td>28</td>\n",
       "      <td>2-methyloctane</td>\n",
       "      <td>143.0</td>\n",
       "      <td>416.15</td>\n",
       "      <td>CC(C)CCCCCC</td>\n",
       "      <td>128.259</td>\n",
       "      <td>114</td>\n",
       "      <td>32.0</td>\n",
       "      <td>30.0</td>\n",
       "    </tr>\n",
       "    <tr>\n",
       "      <th>28</th>\n",
       "      <td>29</td>\n",
       "      <td>decane</td>\n",
       "      <td>174.2</td>\n",
       "      <td>447.35</td>\n",
       "      <td>CCCCCCCCCC</td>\n",
       "      <td>142.280</td>\n",
       "      <td>165</td>\n",
       "      <td>34.0</td>\n",
       "      <td>32.0</td>\n",
       "    </tr>\n",
       "    <tr>\n",
       "      <th>29</th>\n",
       "      <td>30</td>\n",
       "      <td>2-methylnonane</td>\n",
       "      <td>166.9</td>\n",
       "      <td>440.05</td>\n",
       "      <td>CC(C)CCCCCCC</td>\n",
       "      <td>142.280</td>\n",
       "      <td>158</td>\n",
       "      <td>36.0</td>\n",
       "      <td>34.0</td>\n",
       "    </tr>\n",
       "  </tbody>\n",
       "</table>\n",
       "</div>"
      ],
      "text/plain": [
       "    compound                       name   BP_C    BP_K            SMILES  \\\n",
       "0          1                    Methane -162.2  110.95                 C   \n",
       "1          2                     Ethane  -88.6  184.55                CC   \n",
       "2          3                    propane  -42.2  230.95               CCC   \n",
       "3          4                     butane   -0.1  273.05              CCCC   \n",
       "4          5            2-methylpropane  -11.2  261.95            CC(C)C   \n",
       "5          6                    pentane   36.1  309.25             CCCCC   \n",
       "6          7             2-methylbutane   27.0  300.15           CC(C)CC   \n",
       "7          8        2,2-dimethylpropane    9.5  282.65         CC(C)(C)C   \n",
       "8          9                     hexane   68.8  341.95            CCCCCC   \n",
       "9         10            2-methylpentane   60.9  334.05          CC(C)CCC   \n",
       "10        11            3-methylpentane   63.3  336.45          CC(CC)CC   \n",
       "11        12         2,2-dimethylbutane   49.8  322.95        CC(C)(CC)C   \n",
       "12        13         2,3-dimethylbutane   58.1  331.25        CC(C)C(C)C   \n",
       "13        14                    heptane   98.5  371.65           CCCCCCC   \n",
       "14        15             3-ethylpentane   93.5  366.65       C(C)C(CC)CC   \n",
       "15        16        2,2-dimethylpentane   79.2  352.35       CC(C)(CCC)C   \n",
       "16        17        2,3-dimethylpentane   89.8  362.95       CC(C)C(CC)C   \n",
       "17        18        2,4-dimethylpentane   80.6  353.75       CC(C)CC(C)C   \n",
       "18        19             2-methylhexane   90.1  363.25         CC(C)CCCC   \n",
       "19        20             3-methylhexane   91.8  364.95         CC(CC)CCC   \n",
       "20        21                     octane  125.6  398.75          CCCCCCCC   \n",
       "21        22            3-methylheptane  118.9  392.05        CC(CC)CCCC   \n",
       "22        23  2,2,3,3-tetramethylbutane  106.5  379.65  CC(C)(C(C)(C)C)C   \n",
       "23        24     2,3,3-trimethylpentane  114.7  387.85    CC(C)C(CC)(C)C   \n",
       "24        25     2,3,4-trimethylpentane  113.7  386.85    CC(C)C(C(C)C)C   \n",
       "25        26     2,2,4-trimethylpentane   99.3  372.45    CC(C)(CC(C)C)C   \n",
       "26        27                     nonane  150.7  423.85         CCCCCCCCC   \n",
       "27        28             2-methyloctane  143.0  416.15       CC(C)CCCCCC   \n",
       "28        29                     decane  174.2  447.35        CCCCCCCCCC   \n",
       "29        30             2-methylnonane  166.9  440.05      CC(C)CCCCCCC   \n",
       "\n",
       "         MW  Wiener    Z1    Z2  \n",
       "0    16.043       0   0.0   0.0  \n",
       "1    30.070       1   2.0   1.0  \n",
       "2    44.100       4   6.0   4.0  \n",
       "3    58.120      10  10.0   8.0  \n",
       "4    58.120       9  12.0   9.0  \n",
       "5    72.150      20  14.0  12.0  \n",
       "6    72.150      18  16.0  14.0  \n",
       "7    72.150      16  20.0  16.0  \n",
       "8    86.180      35  18.0  16.0  \n",
       "9    86.180      32  20.0  18.0  \n",
       "10   86.180      31  20.0  19.0  \n",
       "11   86.180      28  24.0  22.0  \n",
       "12   86.180      29  22.0  21.0  \n",
       "13  100.200      56  22.0  20.0  \n",
       "14  100.200      48  24.0  24.0  \n",
       "15  100.200      46  28.0  26.0  \n",
       "16  100.200      46  26.0  26.0  \n",
       "17  100.200      48  26.0  24.0  \n",
       "18  100.205      52  24.0  22.0  \n",
       "19  100.200      50  24.0  23.0  \n",
       "20  114.230      84  26.0  24.0  \n",
       "21  114.232      76  28.0  27.0  \n",
       "22  114.230      58  38.0  40.0  \n",
       "23  114.230      62  34.0  36.0  \n",
       "24  114.230      65  32.0  33.0  \n",
       "25  114.230      66  34.0  32.0  \n",
       "26  128.250     120  30.0  28.0  \n",
       "27  128.259     114  32.0  30.0  \n",
       "28  142.280     165  34.0  32.0  \n",
       "29  142.280     158  36.0  34.0  "
      ]
     },
     "execution_count": 8,
     "metadata": {},
     "output_type": "execute_result"
    }
   ],
   "source": [
    "# create new lists to store results we calculate\n",
    "result_Wiener= []\n",
    "result_Z1= []\n",
    "result_Z2= []\n",
    "\n",
    "for index, row in df.iterrows():                # iterate through each row of the CSV data\n",
    "    SMILE = row['SMILES']                       # get SMILES string from row\n",
    "    mol = Chem.MolFromSmiles(SMILE)             # convert smiles string to mol file\n",
    "    result_Wiener.append(wiener_index(mol))     # calculate Wiener index descripter value\n",
    "    result_Z1.append(zagreb_index1(mol))        # calculate zagreb (Z1) descriptor value\n",
    "    result_Z2.append(zagreb_index2(mol))        # calculate zagreb (Z2) descriptor value\n",
    "\n",
    "df['Wiener'] = result_Wiener           # add the results for WienerIndex to dataframe\n",
    "df['Z1'] = result_Z1                   # add the results for Zagreb 1 to dataframe\n",
    "df['Z2'] = result_Z2                   # add the results for Zagreb 2 to dataframe\n",
    "df                                     # print the updated dataframe"
   ]
  },
  {
   "cell_type": "markdown",
   "metadata": {},
   "source": [
    "Now we can see how each of these descriptors are related to the boiling points\n",
    "of their respective compounds.\n",
    "\n"
   ]
  },
  {
   "cell_type": "code",
   "execution_count": 9,
   "metadata": {},
   "outputs": [
    {
     "data": {
      "image/png": "[encoded data removed]",
      "text/plain": [
       "<Figure size 432x288 with 1 Axes>"
      ]
     },
     "metadata": {
      "needs_background": "light"
     },
     "output_type": "display_data"
    }
   ],
   "source": [
    "plt.scatter(df.Wiener, df.BP_K) # plot of BP versus Wiener index\n",
    "plt.xlabel('Wiener Index')\n",
    "plt.ylabel('Boiling Point in Kelvin')\n",
    "plt.show()"
   ]
  },
  {
   "cell_type": "code",
   "execution_count": 10,
   "metadata": {},
   "outputs": [
    {
     "data": {
      "image/png": "[encoded data removed]",
      "text/plain": [
       "<Figure size 432x288 with 1 Axes>"
      ]
     },
     "metadata": {
      "needs_background": "light"
     },
     "output_type": "display_data"
    }
   ],
   "source": [
    "plt.scatter(df.Z1, df.BP_K) # plot of BP versus Zagreb M1\n",
    "plt.xlabel('Zagreb M1')\n",
    "plt.ylabel('Boiling Point in Kelvin')\n",
    "plt.show()"
   ]
  },
  {
   "cell_type": "code",
   "execution_count": 14,
   "metadata": {},
   "outputs": [
    {
     "data": {
      "image/png": "[encoded data removed]",
      "text/plain": [
       "<Figure size 432x288 with 1 Axes>"
      ]
     },
     "metadata": {
      "needs_background": "light"
     },
     "output_type": "display_data"
    }
   ],
   "source": [
    "'''Excercise 1a: plotting Z1 values against the Z2 value.'''\n",
    "plt.scatter(df.Z1, df.Z2)\n",
    "plt.xlabel(\"Zagreb M1\")\n",
    "plt.ylabel(\"Zagreb M2\")\n",
    "plt.show()"
   ]
  },
  {
   "cell_type": "code",
   "execution_count": 11,
   "metadata": {},
   "outputs": [
    {
     "data": {
      "image/png": "[encoded data removed]",
      "text/plain": [
       "<Figure size 432x288 with 1 Axes>"
      ]
     },
     "metadata": {
      "needs_background": "light"
     },
     "output_type": "display_data"
    }
   ],
   "source": [
    "plt.scatter(df.Z2, df.BP_K) # plot of BP versus Zagreb M2\n",
    "plt.xlabel('Zagreb M2')\n",
    "plt.ylabel('Boiling Point in Kelvin')\n",
    "plt.show()"
   ]
  },
  {
   "cell_type": "markdown",
   "metadata": {},
   "source": [
    "Clearly molecular weight was somewhat predictive, but problematic. It looks like\n",
    "using the other indicators we have have some other ways to predict boiling\n",
    "point.\n",
    "\n",
    "One option is write this data to a new CSV file and work in Microsoft Excel to\n",
    "perform a regression analysis. Exporting the data is straightforward and your\n",
    "instructor may provide instructions on how to analyze the data using Excel.\n",
    "\n"
   ]
  },
  {
   "cell_type": "code",
   "execution_count": 15,
   "metadata": {},
   "outputs": [],
   "source": [
    "df.to_csv('bp_descriptor_data.csv', encoding='utf-8', index=False)"
   ]
  },
  {
   "cell_type": "markdown",
   "metadata": {},
   "source": [
    "## Mulitple regression analysis using statsmodels\n",
    "\n"
   ]
  },
  {
   "cell_type": "markdown",
   "metadata": {},
   "source": [
    "The [statsmodels](https://www.statsmodels.org/stable/index.html) package provides numerous tools for performaing statistical\n",
    "analysis using Python. In this case, we want to perform a *multiple linear\n",
    "regression* using all of our descriptors (molecular weight, Wiener index, Zagreb\n",
    "indices) to help predict our boiling point.\n",
    "\n"
   ]
  },
  {
   "cell_type": "code",
   "execution_count": null,
   "metadata": {},
   "outputs": [],
   "source": [
    "import statsmodels.api as sm           # import the statsmodels library as sm\n",
    "X = df[[\"MW\", \"Wiener\", \"Z1\", \"Z2\"]]   # select our independent variables\n",
    "X = sm.add_constant(X)                 # add an intercept to our model\n",
    "y = df[[\"BP_K\"]]                       # select BP as our dependent variable\n",
    "model = sm.OLS(y,X).fit()              # set up our model\n",
    "predictions = model.predict(X)         # make the predictions\n",
    "print(model.summary())                 # print out statistical summary"
   ]
  },
  {
   "cell_type": "markdown",
   "metadata": {},
   "source": [
    "Note above that we now have coeffiecients for an equation that can be used for prediction of boiling points for molecules not included in our dataset. The equation would be:\n",
    "\n",
    "    Predicted BP = 4.4325 * MW - 0.6411 * Weiner - 4.3920 * Z1 + 0.2982 * Z2 + 55.5695\n",
    "\n",
    "We can use this equation to predict the boiling point of a new molecule. However, before we do, we need to explore the validity of the model."
   ]
  },
  {
   "cell_type": "markdown",
   "metadata": {},
   "source": [
    "### Model summary and analysis using partial regression plots\n",
    "\n"
   ]
  },
  {
   "cell_type": "markdown",
   "metadata": {},
   "source": [
    "A quick look at the results summary shows that the model has an excellent\n",
    "R-squared value. Upon more careful examination, you may notice that one of our\n",
    "descriptors has a very large P value. This would indicate that perhaps the Z2\n",
    "descriptor is not working well in this case. We can generate a more graphical\n",
    "interpretation that will make this more obvious.\n",
    "\n"
   ]
  },
  {
   "cell_type": "code",
   "execution_count": null,
   "metadata": {},
   "outputs": [],
   "source": [
    "fig = plt.figure(figsize=(10,8))\n",
    "fig = sm.graphics.plot_partregress_grid(model, fig=fig)"
   ]
  },
  {
   "cell_type": "markdown",
   "metadata": {},
   "source": [
    "Part of the reason that Z2 may not be predictive in this model is that there is colinearity with the Z1 descriptor. Both descriptors have similar calculations (as outlined in the Libretexts page for this activity). Later on in this exercise we can explore dropping this descriptor."
   ]
  },
  {
   "cell_type": "markdown",
   "metadata": {},
   "source": [
    "### How good is our model?\n",
    "\n"
   ]
  },
  {
   "cell_type": "markdown",
   "metadata": {},
   "source": [
    "If we look at a plot of actual versus predicted boiling points\n",
    "\n"
   ]
  },
  {
   "cell_type": "code",
   "execution_count": null,
   "metadata": {},
   "outputs": [],
   "source": [
    "pred_bp = model.fittedvalues.copy()       # use our model to create a set of predicted bp's\n",
    "fig, ax = plt.subplots(figsize=(8, 5))\n",
    "lmod = sm.OLS(pred_bp, df.BP_K)           # linear regression of observed vs predicted bp's\n",
    "res = lmod.fit()                          # run fitting\n",
    "plt.scatter(pred_bp, df.BP_K)             # plot of of observed vs predicted bp's\n",
    "plt.ylabel('observed boiling point (K)')\n",
    "plt.xlabel('predicted boiling point (K)')\n",
    "plt.show()\n",
    "print(res.summary())                      # print linear regression stats summary"
   ]
  },
  {
   "cell_type": "markdown",
   "metadata": {},
   "source": [
    "The model appears to have very good predictability (R-squared = 1.000) within the original 30 molecule data set. One way to test this model is to use a new molecule with its descriptors to see how well it is predicted. One molecule in the dataset is 2-methylheptane. It has the following data:\n",
    "MW = 114.232\n",
    "Wiener Index = 79\n",
    "Z1 = 28\n",
    "Z2 = 26\n",
    "Boiling Point = 390.6 K\n",
    "\n",
    "Using the equation from above we can determine that the boiling point from the equation \n",
    "    Predicted BP = 4.4325 * MW - 0.6411 * Weiner - 4.3920 * Z1 + 0.2982 * Z2 + 55.5695\n",
    "is 396.0 K. The model gives a 1.4% error for prediction of the boiling point outide the training set. "
   ]
  },
  {
   "cell_type": "markdown",
   "metadata": {},
   "source": [
    "We had mentioned earlier that Z2 may not be very predictive in this model. We can remove the variable an rerun the analysis to see if we can improve the predictability of the model."
   ]
  },
  {
   "cell_type": "code",
   "execution_count": null,
   "metadata": {},
   "outputs": [],
   "source": [
    "import statsmodels.api as sm           # import the statsmodels library as sm\n",
    "X = df[[\"MW\", \"Wiener\", \"Z1\"]]         # select our independent variables, this time without Z2\n",
    "X = sm.add_constant(X)                 # add an intercept to our model\n",
    "y = df[[\"BP_K\"]]                       # select BP as our dependent variable\n",
    "model = sm.OLS(y,X).fit()              # set up our model\n",
    "predictions = model.predict(X)         # make the predictions\n",
    "print(model.summary())                 # print out statistical summary"
   ]
  },
  {
   "cell_type": "markdown",
   "metadata": {},
   "source": [
    "The model appears to have very good predictability (R-squared = 0.994) within the original 30 molecule data set. Let's reexamine 2-methylheptane:\n",
    "MW = 114.232\n",
    "Wiener Index = 79\n",
    "Z1 = 28\n",
    "Boiling Point = 390.6 K\n",
    "\n",
    "Using the equation from above we can determine that the boiling point from the equation \n",
    "    Predicted BP = 4.4114 * MW - 0.6397 * Weiner - 4.0260 * Z1  + 55.4979\n",
    "is 396.2 K. The model also gives a 1.4% error for prediction of the boiling point outide the training set. "
   ]
  },
  {
   "cell_type": "markdown",
   "metadata": {},
   "source": [
    "We can see here that Z2 doesn't really change the result of the calculation, and can probably be best left out to simplify the model.\n",
    "\n",
    "Keep in mind that we have completed this analysis with only a training set of 30 molecules. If the training set had more molecules, you should be able to develop a better model."
   ]
  },
  {
   "cell_type": "markdown",
   "metadata": {},
   "source": [
    "## Assignment\n",
    "\n"
   ]
  },
  {
   "cell_type": "markdown",
   "metadata": {},
   "source": [
    "You originally ran this analysis on a 30 molecule data set (BP.CSV). You also have available to you a 102 molecule data set (102BP.CSV). \n",
    "\n",
    "* Complete the above analysis using the expanded data set to determine if a better predictive model can be obtained with a larger training set. Note that 2-methylheptane is in this new dataset so you will need to choose a new test molecule.\n",
    "\n",
    "When you have completed the analysis, you will create a new analysis:\n",
    "* Choose four new topological and other calculated descriptors found in Mordred http://mordred-descriptor.github.io/documentation/master/api/modules.html \n",
    "\n",
    "*\tComplete simple linear analysis for each of your new descriptors. \n",
    "*\tComplete a multiple linear regression to create an equation that best represents the data boiling point data and your descriptors. \n",
    "*\tCreate a separate sheet that has your regression data. \n",
    "*\tMake a plot of Actual vs Predicted BP for your regression.\n",
    "*\tChoose a new molecule not in the dataset (not 2-methylheptane, be creative and use chemical intuition).\n",
    "*\tUse your multiple linear equation to predict this molecule’s BP and look of the literature value.\n",
    "*\tWrite a short one-two page paper that includes:\n",
    "    *\tWhat your new chosen descriptors mean\n",
    "    *\tWhich new chosen descriptors correlate\n",
    "    *\tWhat is the overall equation calculated\n",
    "    *\tHow to choose the molecule to test\n",
    "    *\tHow close this multiple linear regression predicts your boiling point of your molecule\n",
    "\n",
    "\n"
   ]
  },
  {
   "cell_type": "code",
   "execution_count": null,
   "metadata": {},
   "outputs": [],
   "source": []
  }
 ],
 "metadata": {
  "kernelspec": {
   "display_name": "Python 3 (ipykernel)",
   "language": "python",
   "name": "python3"
  },
  "language_info": {
   "codemirror_mode": {
    "name": "ipython",
    "version": 3
   },
   "file_extension": ".py",
   "mimetype": "text/x-python",
   "name": "python",
   "nbconvert_exporter": "python",
   "pygments_lexer": "ipython3",
   "version": "3.9.12"
  },
  "org": null
 },
 "nbformat": 4,
 "nbformat_minor": 4
}
