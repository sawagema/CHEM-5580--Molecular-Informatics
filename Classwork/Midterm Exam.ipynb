{
 "cells": [
  {
   "cell_type": "code",
   "execution_count": null,
   "id": "635a4940",
   "metadata": {},
   "outputs": [],
   "source": [
    "#Question 1 part A\n",
    "import requests\n",
    "import time\n",
    "import rdkit\n",
    "\n",
    "prolog    = \"https://pubchem.ncbi.nlm.nih.gov/rest/pug\"\n",
    "\n",
    "pr_input  = \"compound/cid/129825914\"\n",
    "pr_oper   = \"sids\"\n",
    "pr_output = \"txt\""
   ]
  }
 ],
 "metadata": {
  "kernelspec": {
   "display_name": "Python [conda env:root] *",
   "language": "python",
   "name": "conda-root-py"
  },
  "language_info": {
   "codemirror_mode": {
    "name": "ipython",
    "version": 3
   },
   "file_extension": ".py",
   "mimetype": "text/x-python",
   "name": "python",
   "nbconvert_exporter": "python",
   "pygments_lexer": "ipython3",
   "version": "3.9.12"
  }
 },
 "nbformat": 4,
 "nbformat_minor": 5
}
