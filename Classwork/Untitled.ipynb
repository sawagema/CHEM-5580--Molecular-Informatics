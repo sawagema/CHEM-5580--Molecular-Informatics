{
 "cells": [
  {
   "cell_type": "markdown",
   "id": "154cc84a",
   "metadata": {},
   "source": [
    "# MolSSI Workshop\n",
    "\n",
    "## Introduction\n",
    "\n",
    "Covering Python basics."
   ]
  },
  {
   "cell_type": "code",
   "execution_count": 1,
   "id": "d84799b5",
   "metadata": {},
   "outputs": [],
   "source": [
    "deltaH = -541.5   #kJ/mole\n",
    "deltaS =  10.4     #kJ/(mole K)\n",
    "temp = 298      #Kelvin\n",
    "deltaG = deltaH - temp * deltaS"
   ]
  },
  {
   "cell_type": "code",
   "execution_count": 2,
   "id": "039acb0f",
   "metadata": {},
   "outputs": [
    {
     "name": "stdout",
     "output_type": "stream",
     "text": [
      "-3640.7000000000003\n"
     ]
    }
   ],
   "source": [
    "print(deltaG)"
   ]
  },
  {
   "cell_type": "code",
   "execution_count": 3,
   "id": "8bdee2fb",
   "metadata": {},
   "outputs": [
    {
     "name": "stdout",
     "output_type": "stream",
     "text": [
      "-3640700.0000000005\n"
     ]
    }
   ],
   "source": [
    "deltaG *= 1000\n",
    "print(deltaG)"
   ]
  },
  {
   "cell_type": "code",
   "execution_count": 11,
   "id": "0061647a",
   "metadata": {},
   "outputs": [
    {
     "name": "stdout",
     "output_type": "stream",
     "text": [
      "-3640.7\n"
     ]
    }
   ],
   "source": [
    "# assigning multiple values at once can be done using commas to seperate variables and values\n",
    "deltaH, deltaS, temp = -541.5, 10.4, 298\n",
    "deltaG = deltaH - temp * deltaS\n",
    "print(round(deltaG, 2))"
   ]
  },
  {
   "cell_type": "code",
   "execution_count": 12,
   "id": "a4565b91",
   "metadata": {},
   "outputs": [
    {
     "name": "stdout",
     "output_type": "stream",
     "text": [
      "The length of this list is 4\n"
     ]
    }
   ],
   "source": [
    "# This is a list\n",
    "energy_kcal = [-13.4, -2.7, 5.4, 42.1]\n",
    "# I can determine its length\n",
    "energy_length = len(energy_kcal)\n",
    "\n",
    "# print the list length\n",
    "print('The length of this list is', energy_length)"
   ]
  },
  {
   "cell_type": "code",
   "execution_count": 13,
   "id": "3557e16c",
   "metadata": {},
   "outputs": [
    {
     "name": "stdout",
     "output_type": "stream",
     "text": [
      "-13.4\n"
     ]
    }
   ],
   "source": [
    "# Displaying the first element in the list\n",
    "print(energy_kcal[0])"
   ]
  },
  {
   "cell_type": "code",
   "execution_count": 15,
   "id": "c36f3d31",
   "metadata": {},
   "outputs": [
    {
     "name": "stdout",
     "output_type": "stream",
     "text": [
      "-11.296800000000001\n"
     ]
    }
   ],
   "source": [
    "#converting the second element of the list to kilojoules\n",
    "energy_kJ = energy_kcal[1] * 4.184\n",
    "print(energy_kJ)"
   ]
  },
  {
   "cell_type": "code",
   "execution_count": 17,
   "id": "f44d9a79",
   "metadata": {},
   "outputs": [
    {
     "name": "stdout",
     "output_type": "stream",
     "text": [
      "[-13.4, -2.7]\n"
     ]
    }
   ],
   "source": [
    "#Sometimes it is useful to create a subset of an existing list, this can be done with slicing\n",
    "##For example, to create a subset of the energy_kcal list\n",
    "short_list = energy_kcal[0:2]\n",
    "print(short_list)"
   ]
  },
  {
   "cell_type": "code",
   "execution_count": 19,
   "id": "b1520cea",
   "metadata": {},
   "outputs": [
    {
     "name": "stdout",
     "output_type": "stream",
     "text": [
      "slice 1 is,  [-2.7, 5.4, 42.1]\n",
      "slice 2 is,  [-13.4, -2.7, 5.4]\n"
     ]
    }
   ],
   "source": [
    "slice1 = energy_kcal[1:]\n",
    "slice2 = energy_kcal[:3]\n",
    "print(\"slice 1 is, \", slice1) #prints the second element in the list till the end of the list\n",
    "print(\"slice 2 is, \", slice2) #print the first three elements in the list"
   ]
  },
  {
   "cell_type": "code",
   "execution_count": 22,
   "id": "49e18d38",
   "metadata": {},
   "outputs": [
    {
     "name": "stdout",
     "output_type": "stream",
     "text": [
      "[-56.0656, -11.296800000000001, 22.593600000000002, 176.1464]\n"
     ]
    }
   ],
   "source": [
    "energy_kJ = []\n",
    "for val in energy_kcal:\n",
    "    kJ = val * 4.184\n",
    "    energy_kJ.append(kJ)\n",
    "    \n",
    "print (energy_kJ)\n",
    "    #the append function adds new values to the list"
   ]
  },
  {
   "cell_type": "code",
   "execution_count": null,
   "id": "f094de74",
   "metadata": {},
   "outputs": [],
   "source": []
  }
 ],
 "metadata": {
  "kernelspec": {
   "display_name": "Python 3 (ipykernel)",
   "language": "python",
   "name": "python3"
  },
  "language_info": {
   "codemirror_mode": {
    "name": "ipython",
    "version": 3
   },
   "file_extension": ".py",
   "mimetype": "text/x-python",
   "name": "python",
   "nbconvert_exporter": "python",
   "pygments_lexer": "ipython3",
   "version": "3.9.12"
  }
 },
 "nbformat": 4,
 "nbformat_minor": 5
}
