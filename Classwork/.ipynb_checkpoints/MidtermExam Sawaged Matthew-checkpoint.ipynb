{
 "cells": [
  {
   "cell_type": "markdown",
   "metadata": {},
   "source": [
    "## Molecular Informatics Midterm Exam\n",
    "You **may** look at old class material, anything on canvas, websites (e.g. PUGREST), StackOverflow, or other sites to answer these questions.\n",
    "\n",
    "You **may NOT** email, text or get help from other people in any way or use Co-pilot.\n",
    "\n",
    "Read each question carefully; some have multiple parts, some require written responses, and some require code responses. In some cases I have provided a starting block of code you can use.\n",
    "\n",
    "For full credit your code blocks should run in sequence as written. If you re-use variables, do so cautiously. You only need to import a module once. You may use any module we have used in class. Ask permission before using pip install for a new module. \n",
    "\n",
    "Suggestion: Read through all parts of a question first. The later parts might change how you answer the earlier parts.\n",
    "\n",
    "If you run out of time you can pick one question to work on after class and submit by the end of the day following the same rules listed above. But all other questions must be submitted by email by 10:40am as a single ipynb file.\n",
    "\n",
    "Questions 2 and 3 build off of Question 1. Question 4 is independent.\n",
    "\n",
    "Question 1: 20 pts, Question 2: 35 pts, Question 3: 15pts Question 4: 30 pts"
   ]
  },
  {
   "cell_type": "code",
   "execution_count": 43,
   "metadata": {},
   "outputs": [],
   "source": [
    "import requests\n",
    "import time\n",
    "import rdkit\n",
    "import pandas as pd"
   ]
  },
  {
   "cell_type": "code",
   "execution_count": 35,
   "metadata": {},
   "outputs": [
    {
     "name": "stdout",
     "output_type": "stream",
     "text": [
      "tetrahydrocannabinol :\n",
      "\"CID\",\"RotatableBondCount\",\"TPSA\",\"CanonicalSMILES\",\"IsomericSMILES\"\n",
      "16078,4,29.5,\"CCCCCC1=CC(=C2C3C=C(CCC3C(OC2=C1)(C)C)C)O\",\"CCCCCC1=CC(=C2[C@@H]3C=C(CC[C@H]3C(OC2=C1)(C)C)C)O\"\n",
      "\n",
      "cannabigerol :\n",
      "\"CID\",\"RotatableBondCount\",\"TPSA\",\"CanonicalSMILES\",\"IsomericSMILES\"\n",
      "5315659,9,40.5,\"CCCCCC1=CC(=C(C(=C1)O)CC=C(C)CCC=C(C)C)O\",\"CCCCCC1=CC(=C(C(=C1)O)C/C=C(\\C)/CCC=C(C)C)O\"\n",
      "\n",
      "cannabivarin :\n",
      "\"CID\",\"RotatableBondCount\",\"TPSA\",\"CanonicalSMILES\",\"IsomericSMILES\"\n",
      "622545,2,29.5,\"CCCC1=CC(=C2C(=C1)OC(C3=C2C=C(C=C3)C)(C)C)O\",\"CCCC1=CC(=C2C(=C1)OC(C3=C2C=C(C=C3)C)(C)C)O\"\n",
      "\n",
      "Delta-8-Tetrahydrocannabinol :\n",
      "\"CID\",\"RotatableBondCount\",\"TPSA\",\"CanonicalSMILES\",\"IsomericSMILES\"\n",
      "2977,4,29.5,\"CCCCCC1=CC(=C2C3CC(=CCC3C(OC2=C1)(C)C)C)O\",\"CCCCCC1=CC(=C2C3CC(=CCC3C(OC2=C1)(C)C)C)O\"\n",
      "\n",
      "cannabicyclol :\n",
      "\"CID\",\"RotatableBondCount\",\"TPSA\",\"CanonicalSMILES\",\"IsomericSMILES\"\n",
      "30607,4,29.5,\"CCCCCC1=CC(=C2C3C4C(C3(C)C)CCC4(OC2=C1)C)O\",\"CCCCCC1=CC(=C2C3C4C(C3(C)C)CCC4(OC2=C1)C)O\"\n",
      "\n"
     ]
    },
    {
     "data": {
      "text/plain": [
       "<function TextIOWrapper.close()>"
      ]
     },
     "execution_count": 35,
     "metadata": {},
     "output_type": "execute_result"
    }
   ],
   "source": [
    "# Answer Question 1a here:\n",
    "drug_list = ['tetrahydrocannabinol', 'cannabigerol', 'cannabivarin', 'Delta-8-Tetrahydrocannabinol', 'cannabicyclol']\n",
    "prolog = 'https://pubchem.ncbi.nlm.nih.gov/rest/pug'\n",
    "prolog    = \"https://pubchem.ncbi.nlm.nih.gov/rest/pug\"\n",
    "file = open ('drug_info.txt','w')\n",
    "for drug in drug_list:\n",
    "    pr_input  = \"compound/name/\" + drug\n",
    "    pr_oper   = \"/property/RotatableBondCount,TPSA,CanonicalSMILES,IsomericSMILES\"\n",
    "    pr_output = \"csv\"\n",
    "    url = prolog + \"/\" + pr_input + pr_oper + \"/\" + pr_output\n",
    "    print(drug, \":\")\n",
    "    \n",
    "    res = requests.get(url)\n",
    "    print(res.text)\n",
    "    file.write(res.text)\n",
    "    \n",
    "file.close"
   ]
  },
  {
   "cell_type": "markdown",
   "metadata": {},
   "source": [
    "Answer Question 1b here:"
   ]
  },
  {
   "cell_type": "markdown",
   "metadata": {},
   "source": [
    "Here are the SMILES codes from Q1a that you can use to answer Q1b and Q2 if you get stuck:\n",
    "isomeric_smiles  ['CCCCCC1=CC(=C2[C@@H]3C=C(CC[C@H]3C(OC2=C1)(C)C)C)O', 'CCCCCC1=CC(=C(C(=C1)O)C/C=C(\\\\C)/CCC=C(C)C)O', 'CCCC1=CC(=C2C(=C1)OC(C3=C2C=C(C=C3)C)(C)C)O', 'CCCCCC1=CC(=C2C3CC(=CCC3C(OC2=C1)(C)C)C)O', 'CCCCCC1=CC(=C2C3C4C(C3(C)C)CCC4(OC2=C1)C)O']\n",
    "canonical_smiles ['CCCCCC1=CC(=C2C3C=C(CCC3C(OC2=C1)(C)C)C)O', 'CCCCCC1=CC(=C(C(=C1)O)CC=C(C)CCC=C(C)C)O', 'CCCC1=CC(=C2C(=C1)OC(C3=C2C=C(C=C3)C)(C)C)O', 'CCCCCC1=CC(=C2C3CC(=CCC3C(OC2=C1)(C)C)C)O', 'CCCCCC1=CC(=C2C3C4C(C3(C)C)CCC4(OC2=C1)C)O']\n",
    "- The difference between isomeric and canonical smiles is that isomeric smiles contain a unique code that implicates stcuture specificitity so that only one molecule can exist under its domain. These special structures in isomeric SMILES can be isotopic and/or chiral that are denoted by '@' and '/' symbols.\n",
    "    - @ symbols are configurations areound tetrahedral centers\n",
    "    - / symbols are for cis and trans isomers"
   ]
  },
  {
   "cell_type": "code",
   "execution_count": 27,
   "metadata": {},
   "outputs": [
    {
     "name": "stdout",
     "output_type": "stream",
     "text": [
      "> tetrahydrocannabinol : CCCCCC1=CC(=C2C3C=C(CCC3C(OC2=C1)(C)C)C)O\n",
      "CYQFCXCEBYINGO-UHFFFAOYSA-N , InChI=1S/C21H30O2/c1-5-6-7-8-15-12-18(22)20-16-11-14(2)9-10-17(16)21(3,4)23-19(20)13-15/h11-13,16-17,22H,5-10H2,1-4H3\n",
      "> cannabigerol : CCCCCC1=CC(=C(C(=C1)O)CC=C(C)CCC=C(C)C)O\n",
      "QXACEHWTBCFNSA-UHFFFAOYSA-N , InChI=1S/C21H32O2/c1-5-6-7-11-18-14-20(22)19(21(23)15-18)13-12-17(4)10-8-9-16(2)3/h9,12,14-15,22-23H,5-8,10-11,13H2,1-4H3\n",
      "> cannabivarin : CCCC1=CC(=C2C(=C1)OC(C3=C2C=C(C=C3)C)(C)C)O\n",
      "SVTKBAIRFMXQQF-UHFFFAOYSA-N , InChI=1S/C19H22O2/c1-5-6-13-10-16(20)18-14-9-12(2)7-8-15(14)19(3,4)21-17(18)11-13/h7-11,20H,5-6H2,1-4H3\n",
      "> Delta-8-Tetrahydrocannabinol : CCCCCC1=CC(=C2C3CC(=CCC3C(OC2=C1)(C)C)C)O\n",
      "HCAWPGARWVBULJ-UHFFFAOYSA-N , InChI=1S/C21H30O2/c1-5-6-7-8-15-12-18(22)20-16-11-14(2)9-10-17(16)21(3,4)23-19(20)13-15/h9,12-13,16-17,22H,5-8,10-11H2,1-4H3\n",
      "> cannabicyclol : CCCCCC1=CC(=C2C3C4C(C3(C)C)CCC4(OC2=C1)C)O\n",
      "IGHTZQUIFGUJTG-UHFFFAOYSA-N , InChI=1S/C21H30O2/c1-5-6-7-8-13-11-15(22)17-16(12-13)23-21(4)10-9-14-18(21)19(17)20(14,2)3/h11-12,14,18-19,22H,5-10H2,1-4H3\n"
     ]
    },
    {
     "name": "stderr",
     "output_type": "stream",
     "text": [
      "[09:59:41] WARNING: Omitted undefined stereo\n",
      "\n",
      "[09:59:41] WARNING: Omitted undefined stereo\n",
      "\n",
      "[09:59:41] WARNING: Omitted undefined stereo\n",
      "\n",
      "[09:59:41] WARNING: Omitted undefined stereo\n",
      "\n"
     ]
    }
   ],
   "source": [
    "# Answer Question 2a here:\n",
    "from rdkit import Chem\n",
    "canonical_smiles = ['CCCCCC1=CC(=C2C3C=C(CCC3C(OC2=C1)(C)C)C)O', \n",
    "                  'CCCCCC1=CC(=C(C(=C1)O)CC=C(C)CCC=C(C)C)O', \n",
    "                  'CCCC1=CC(=C2C(=C1)OC(C3=C2C=C(C=C3)C)(C)C)O', \n",
    "                  'CCCCCC1=CC(=C2C3CC(=CCC3C(OC2=C1)(C)C)C)O', \n",
    "                  'CCCCCC1=CC(=C2C3C4C(C3(C)C)CCC4(OC2=C1)C)O']\n",
    "count = 0\n",
    "for smiles in canonical_smiles:\n",
    "    \n",
    "    drug = [drug for drug in drug_list]\n",
    "    mol = Chem.MolFromSmiles(smiles)\n",
    "    InchiKey = Chem.MolToInchiKey(mol)\n",
    "    Inchi = Chem.MolToInchi(mol)\n",
    "    print (\">\", drug[count], \":\", smiles)\n",
    "    print(InchiKey, \",\", Inchi)\n",
    "    count +=1"
   ]
  },
  {
   "cell_type": "code",
   "execution_count": 26,
   "metadata": {},
   "outputs": [
    {
     "name": "stdout",
     "output_type": "stream",
     "text": [
      "> tetrahydrocannabinol : CCCCCC1=CC(=C2[C@@H]3C=C(CC[C@H]3C(OC2=C1)(C)C)C)O\n",
      "CYQFCXCEBYINGO-IAGOWNOFSA-N , InChI=1S/C21H30O2/c1-5-6-7-8-15-12-18(22)20-16-11-14(2)9-10-17(16)21(3,4)23-19(20)13-15/h11-13,16-17,22H,5-10H2,1-4H3/t16-,17-/m1/s1\n",
      "> cannabigerol : CCCCCC1=CC(=C(C(=C1)O)C/C=C(\\C)/CCC=C(C)C)O\n",
      "QXACEHWTBCFNSA-SFQUDFHCSA-N , InChI=1S/C21H32O2/c1-5-6-7-11-18-14-20(22)19(21(23)15-18)13-12-17(4)10-8-9-16(2)3/h9,12,14-15,22-23H,5-8,10-11,13H2,1-4H3/b17-12+\n",
      "> cannabivarin : CCCC1=CC(=C2C(=C1)OC(C3=C2C=C(C=C3)C)(C)C)O\n",
      "SVTKBAIRFMXQQF-UHFFFAOYSA-N , InChI=1S/C19H22O2/c1-5-6-13-10-16(20)18-14-9-12(2)7-8-15(14)19(3,4)21-17(18)11-13/h7-11,20H,5-6H2,1-4H3\n",
      "> Delta-8-Tetrahydrocannabinol : CCCCCC1=CC(=C2C3CC(=CCC3C(OC2=C1)(C)C)C)O\n",
      "HCAWPGARWVBULJ-UHFFFAOYSA-N , InChI=1S/C21H30O2/c1-5-6-7-8-15-12-18(22)20-16-11-14(2)9-10-17(16)21(3,4)23-19(20)13-15/h9,12-13,16-17,22H,5-8,10-11H2,1-4H3\n",
      "> cannabicyclol : CCCCCC1=CC(=C2C3C4C(C3(C)C)CCC4(OC2=C1)C)O\n",
      "IGHTZQUIFGUJTG-UHFFFAOYSA-N , InChI=1S/C21H30O2/c1-5-6-7-8-13-11-15(22)17-16(12-13)23-21(4)10-9-14-18(21)19(17)20(14,2)3/h11-12,14,18-19,22H,5-10H2,1-4H3\n"
     ]
    },
    {
     "name": "stderr",
     "output_type": "stream",
     "text": [
      "[09:59:15] WARNING: Omitted undefined stereo\n",
      "\n",
      "[09:59:15] WARNING: Omitted undefined stereo\n",
      "\n"
     ]
    }
   ],
   "source": [
    "# Answer Question 2b here:\n",
    "isomeric_smiles = ['CCCCCC1=CC(=C2[C@@H]3C=C(CC[C@H]3C(OC2=C1)(C)C)C)O', \n",
    "                   'CCCCCC1=CC(=C(C(=C1)O)C/C=C(\\C)/CCC=C(C)C)O', \n",
    "                   'CCCC1=CC(=C2C(=C1)OC(C3=C2C=C(C=C3)C)(C)C)O', \n",
    "                   'CCCCCC1=CC(=C2C3CC(=CCC3C(OC2=C1)(C)C)C)O', \n",
    "                   'CCCCCC1=CC(=C2C3C4C(C3(C)C)CCC4(OC2=C1)C)O']\n",
    "count = 0\n",
    "for smiles in isomeric_smiles:\n",
    "    \n",
    "    drug = [drug for drug in drug_list]\n",
    "    mol = Chem.MolFromSmiles(smiles)\n",
    "    InchiKey = Chem.MolToInchiKey(mol)\n",
    "    Inchi = Chem.MolToInchi(mol)\n",
    "    print (\">\", drug[count], \":\", smiles)\n",
    "    print(InchiKey, \",\", Inchi)\n",
    "    count +=1"
   ]
  },
  {
   "cell_type": "markdown",
   "metadata": {},
   "source": [
    "Answer Question 2c here:\n",
    "**The first two compounds [tetrahydrocannabinol and cannabigerol] had a difference in the last segment of the 15 characters in InchiKey generated from the isomeric SMILES**, and thus 3 compounds had no difference in Inchi keys generated between the canonical and isomeric SMILES.\n",
    "\n",
    "> tetrahydrocannabinol : CCCCCC1=CC(=C2[C@@H]3C=C(CC[C@H]3C(OC2=C1)(C)C)C)O\n",
    "\n",
    "isomeric: CYQFCXCEBYINGO-IAGOWNOFSA-N , InChI=1S/C21H30O2/c1-5-6-7-8-15-12-18(22)20-16-11-14(2)9-10-17(16)21(3,4)23-19(20)13-15/h11-13,16-17,22H,5-10H2,1-4H3**/t16-,17-/m1/s1**\n",
    "\n",
    "> tetrahydrocannabinol : CCCCCC1=CC(=C2C3C=C(CCC3C(OC2=C1)(C)C)C)O\n",
    "\n",
    "canonical: CYQFCXCEBYINGO-UHFFFAOYSA-N , InChI=1S/C21H30O2/c1-5-6-7-8-15-12-18(22)20-16-11-14(2)9-10-17(16)21(3,4)23-19(20)13-15/h11-13,16-17,22H,5-10H2,1-4H3\n",
    "> cannabigerol : CCCCCC1=CC(=C(C(=C1)O)C/C=C(\\C)/CCC=C(C)C)O\n",
    "\n",
    "isomeric:QXACEHWTBCFNSA-SFQUDFHCSA-N , InChI=1S/C21H32O2/c1-5-6-7-11-18-14-20(22)19(21(23)15-18)13-12-17(4)10-8-9-16(2)3/h9,12,14-15,22-23H,5-8,10-11,13H2,1-4H3**/b17-12+**\n",
    "> cannabigerol : CCCCCC1=CC(=C(C(=C1)O)CC=C(C)CCC=C(C)C)O\n",
    "\n",
    "canonical: QXACEHWTBCFNSA-UHFFFAOYSA-N , InChI=1S/C21H32O2/c1-5-6-7-11-18-14-20(22)19(21(23)15-18)13-12-17(4)10-8-9-16(2)3/h9,12,14-15,22-23H,5-8,10-11,13H2,1-4H3\n",
    "> cannabivarin : CCCC1=CC(=C2C(=C1)OC(C3=C2C=C(C=C3)C)(C)C)O\n",
    "\n",
    "isomeric: SVTKBAIRFMXQQF-UHFFFAOYSA-N , InChI=1S/C19H22O2/c1-5-6-13-10-16(20)18-14-9-12(2)7-8-15(14)19(3,4)21-17(18)11-13/h7-11,20H,5-6H2,1-4H3\n",
    "\n",
    "> cannabivarin : CCCC1=CC(=C2C(=C1)OC(C3=C2C=C(C=C3)C)(C)C)O\n",
    "\n",
    "canonical: SVTKBAIRFMXQQF-UHFFFAOYSA-N , InChI=1S/C19H22O2/c1-5-6-13-10-16(20)18-14-9-12(2)7-8-15(14)19(3,4)21-17(18)11-13/h7-11,20H,5-6H2,1-4H3\n",
    "> Delta-8-Tetrahydrocannabinol : CCCCCC1=CC(=C2C3CC(=CCC3C(OC2=C1)(C)C)C)O\n",
    "\n",
    "isomeric: HCAWPGARWVBULJ-UHFFFAOYSA-N , InChI=1S/C21H30O2/c1-5-6-7-8-15-12-18(22)20-16-11-14(2)9-10-17(16)21(3,4)23-19(20)13-15/h9,12-13,16-17,22H,5-8,10-11H2,1-4H3\n",
    "> Delta-8-Tetrahydrocannabinol : CCCCCC1=CC(=C2C3CC(=CCC3C(OC2=C1)(C)C)C)O\n",
    "\n",
    "canonical: HCAWPGARWVBULJ-UHFFFAOYSA-N , InChI=1S/C21H30O2/c1-5-6-7-8-15-12-18(22)20-16-11-14(2)9-10-17(16)21(3,4)23-19(20)13-15/h9,12-13,16-17,22H,5-8,10-11H2,1-4H3\n",
    "> cannabicyclol : CCCCCC1=CC(=C2C3C4C(C3(C)C)CCC4(OC2=C1)C)O\n",
    "\n",
    "isomeric: IGHTZQUIFGUJTG-UHFFFAOYSA-N , InChI=1S/C21H30O2/c1-5-6-7-8-13-11-15(22)17-16(12-13)23-21(4)10-9-14-18(21)19(17)20(14,2)3/h11-12,14,18-19,22H,5-10H2,1-4H3\n",
    "> cannabicyclol : CCCCCC1=CC(=C2C3C4C(C3(C)C)CCC4(OC2=C1)C)O\n",
    "\n",
    "canonical: IGHTZQUIFGUJTG-UHFFFAOYSA-N , InChI=1S/C21H30O2/c1-5-6-7-8-13-11-15(22)17-16(12-13)23-21(4)10-9-14-18(21)19(17)20(14,2)3/h11-12,14,18-19,22H,5-10H2,1-4H3\n"
   ]
  },
  {
   "cell_type": "code",
   "execution_count": 32,
   "metadata": {},
   "outputs": [
    {
     "name": "stdout",
     "output_type": "stream",
     "text": [
      "tetrahydrocannabinol : -IAGOWNOFSA-N\n",
      "cannabigerol : -SFQUDFHCSA-N\n",
      "cannabivarin : UHFFFAOYSA-N \n",
      "Delta-8-Tetrahydrocannabinol : -UHFFFAOYSA-N\n",
      "cannabicyclol : -UHFFFAOYSA-N\n"
     ]
    }
   ],
   "source": [
    "# Answer Question 2, part d here:\n",
    "isomeric_Inchi = ['InChI=1S/C21H30O2/c1-5-6-7-8-15-12-18(22)20-16-11-14(2)9-10-17(16)21(3,4)23-19(20)13-15/h11-13,16-17,22H,5-10H2,1-4H3/t16-,17-/m1/s1',\n",
    "                 'InChI=1S/C21H32O2/c1-5-6-7-11-18-14-20(22)19(21(23)15-18)13-12-17(4)10-8-9-16(2)3/h9,12,14-15,22-23H,5-8,10-11,13H2,1-4H3/b17-12+',\n",
    "                 'InChI=1S/C19H22O2/c1-5-6-13-10-16(20)18-14-9-12(2)7-8-15(14)19(3,4)21-17(18)11-13/h7-11,20H,5-6H2,1-4H3',\n",
    "                 'InChI=1S/C21H30O2/c1-5-6-7-8-15-12-18(22)20-16-11-14(2)9-10-17(16)21(3,4)23-19(20)13-15/h9,12-13,16-17,22H,5-8,10-11H2,1-4H3',\n",
    "                 'InChI=1S/C21H30O2/c1-5-6-7-8-13-11-15(22)17-16(12-13)23-21(4)10-9-14-18(21)19(17)20(14,2)3/h11-12,14,18-19,22H,5-10H2,1-4H3']\n",
    "isomeric_InchiKeys = ['CYQFCXCEBYINGO-IAGOWNOFSA-N',\n",
    "                     'QXACEHWTBCFNSA-SFQUDFHCSA-N',\n",
    "                     'SVTKBAIRFMXQQF-UHFFFAOYSA-N ',\n",
    "                     'HCAWPGARWVBULJ-UHFFFAOYSA-N',\n",
    "                     'IGHTZQUIFGUJTG-UHFFFAOYSA-N']\n",
    "count = 0\n",
    "for inchi in isomeric_InchiKeys:    \n",
    "    drug = [drug for drug in drug_list]\n",
    "    print (drug[count], \":\", inchi[-13:])\n",
    "    count+=1"
   ]
  },
  {
   "cell_type": "markdown",
   "metadata": {},
   "source": [
    "Question 2, part E:\n",
    "The last three compounds with identical concluding inchi keys would be cannabivarin, Delta-8-Tetrahydrocannabinol, and cannabicyclol. The inchi keys are hased versions of the Inchi identifiers, these last characters indicate the stereochemistry, the version, and the protons(if any) in each compound."
   ]
  },
  {
   "cell_type": "markdown",
   "metadata": {},
   "source": [
    "tetrahydrocannabinol :\n",
    "\"CID\",\"RotatableBondCount\",\"TPSA\",\"CanonicalSMILES\",\"IsomericSMILES\"\n",
    "16078,4,29.5,\"CCCCCC1=CC(=C2C3C=C(CCC3C(OC2=C1)(C)C)C)O\",\"CCCCCC1=CC(=C2[C@@H]3C=C(CC[C@H]3C(OC2=C1)(C)C)C)O\"\n",
    "\n",
    "cannabigerol :\n",
    "\"CID\",\"RotatableBondCount\",\"TPSA\",\"CanonicalSMILES\",\"IsomericSMILES\"\n",
    "5315659,9,40.5,\"CCCCCC1=CC(=C(C(=C1)O)CC=C(C)CCC=C(C)C)O\",\"CCCCCC1=CC(=C(C(=C1)O)C/C=C(\\C)/CCC=C(C)C)O\"\n",
    "\n",
    "cannabivarin :\n",
    "\"CID\",\"RotatableBondCount\",\"TPSA\",\"CanonicalSMILES\",\"IsomericSMILES\"\n",
    "622545,2,29.5,\"CCCC1=CC(=C2C(=C1)OC(C3=C2C=C(C=C3)C)(C)C)O\",\"CCCC1=CC(=C2C(=C1)OC(C3=C2C=C(C=C3)C)(C)C)O\"\n",
    "\n",
    "Delta-8-Tetrahydrocannabinol :\n",
    "\"CID\",\"RotatableBondCount\",\"TPSA\",\"CanonicalSMILES\",\"IsomericSMILES\"\n",
    "2977,4,29.5,\"CCCCCC1=CC(=C2C3CC(=CCC3C(OC2=C1)(C)C)C)O\",\"CCCCCC1=CC(=C2C3CC(=CCC3C(OC2=C1)(C)C)C)O\"\n",
    "\n",
    "cannabicyclol :\n",
    "\"CID\",\"RotatableBondCount\",\"TPSA\",\"CanonicalSMILES\",\"IsomericSMILES\"\n",
    "30607,4,29.5,\"CCCCCC1=CC(=C2C3C4C(C3(C)C)CCC4(OC2=C1)C)O\",\"CCCCCC1=CC(=C2C3C4C(C3(C)C)CCC4(OC2=C1)C)O\""
   ]
  },
  {
   "cell_type": "code",
   "execution_count": 53,
   "metadata": {},
   "outputs": [
    {
     "name": "stdout",
     "output_type": "stream",
     "text": [
      "\n",
      "Rotatable Bond Count:  ['4', '9', '2', '4', '4']\n",
      "Topological Surface Area:  ['29.5', '40.5', '29.5', '29.5', '29.5']\n"
     ]
    },
    {
     "name": "stderr",
     "output_type": "stream",
     "text": [
      "/Users/matthewsawaged/opt/anaconda3/lib/python3.9/site-packages/IPython/core/interactiveshell.py:3369: FutureWarning: In a future version of pandas all arguments of read_table except for the argument 'filepath_or_buffer' will be keyword-only.\n",
      "  exec(code_obj, self.user_global_ns, self.user_ns)\n",
      "/Users/matthewsawaged/opt/anaconda3/lib/python3.9/site-packages/IPython/core/interactiveshell.py:3369: FutureWarning: In a future version of pandas all arguments of read_table except for the argument 'filepath_or_buffer' will be keyword-only.\n",
      "  exec(code_obj, self.user_global_ns, self.user_ns)\n",
      "/Users/matthewsawaged/opt/anaconda3/lib/python3.9/site-packages/IPython/core/interactiveshell.py:3369: FutureWarning: In a future version of pandas all arguments of read_table except for the argument 'filepath_or_buffer' will be keyword-only.\n",
      "  exec(code_obj, self.user_global_ns, self.user_ns)\n",
      "/Users/matthewsawaged/opt/anaconda3/lib/python3.9/site-packages/IPython/core/interactiveshell.py:3369: FutureWarning: In a future version of pandas all arguments of read_table except for the argument 'filepath_or_buffer' will be keyword-only.\n",
      "  exec(code_obj, self.user_global_ns, self.user_ns)\n",
      "/Users/matthewsawaged/opt/anaconda3/lib/python3.9/site-packages/IPython/core/interactiveshell.py:3369: FutureWarning: In a future version of pandas all arguments of read_table except for the argument 'filepath_or_buffer' will be keyword-only.\n",
      "  exec(code_obj, self.user_global_ns, self.user_ns)\n"
     ]
    },
    {
     "name": "stdout",
     "output_type": "stream",
     "text": [
      "       CID  RotatableBondCount  TPSA\n",
      "0    16078                   4  29.5\n",
      "0  5315659                   9  40.5\n",
      "0   622545                   2  29.5\n",
      "0     2977                   4  29.5\n",
      "0    30607                   4  29.5\n"
     ]
    },
    {
     "data": {
      "image/png": "[encoded data removed]",
      "text/plain": [
       "<Figure size 432x288 with 1 Axes>"
      ]
     },
     "metadata": {
      "needs_background": "light"
     },
     "output_type": "display_data"
    }
   ],
   "source": [
    "# Answer Question 3 here:\n",
    "with open ('drug_info.txt', 'r') as fp:\n",
    "    print(fp.read())\n",
    "\n",
    "properties = []\n",
    "rbc = []\n",
    "tpsa = []\n",
    "\n",
    "for x in drug_list:\n",
    "    url = prolog + \"/compound/name/\" + x + \"/property/RotatableBondCount/txt\"\n",
    "    res = requests.get(url)\n",
    "    rbc.append(str(res.text[:-1]))\n",
    "    url2 = prolog + \"/compound/name/\" + x + \"/property/TPSA/txt\"\n",
    "    res2 = requests.get(url2)\n",
    "    tpsa.append(str(res2.text[:-1]))\n",
    "\n",
    "print('Rotatable Bond Count: ', rbc)\n",
    "print('Topological Surface Area: ', tpsa)\n",
    "for x in drug_list:\n",
    "    \n",
    "    response = requests.get(url)\n",
    "    properties.append(response.text)\n",
    "\n",
    "for x, y in enumerate(drug_list):\n",
    "    url = prolog + \"/compound/name/\" + y + \"/property/RotatableBondCount,TPSA/csv\"\n",
    "\n",
    "    if x == 0:\n",
    "        df = pd.read_table(url, ',')    \n",
    "\n",
    "    else:\n",
    "        df2 = pd.read_table(url, ',')\n",
    "        df = pd.concat([df, df2])\n",
    "\n",
    "print(df)\n",
    "import matplotlib.pyplot as plt\n",
    "\n",
    "plt.scatter(df.RotatableBondCount, df.TPSA)     # plot of boiling point (in K) vs molecular weight\n",
    "plt.xlabel('Rotatable Bond Count')\n",
    "plt.ylabel('TPSA')\n",
    "plt.show()\n"
   ]
  },
  {
   "cell_type": "code",
   "execution_count": 55,
   "metadata": {},
   "outputs": [],
   "source": [
    "fasta_seq=\">histone_H3\\nMARTKQTARKSTGGKAPRKQLATKAARKSAPATGGVKKPHRYRPGTVALREIRRYQKSTELLIRKLPFQRLVREIAQDFKTDLR\\\n",
    "FQSSAVMALQEACEAYLVGLFEDTNLCAIHAKRVTIMPKDIQLARRIRGERA\\n>Actin\\nMDDDIAALVVDNGSGMCKAGFAGDDAPRAVFPSIVGRPRHQGVMVGMG\\\n",
    "QKDSYVGDEAQSKRGILTLKYPIEHGIVTNWDDMEKIWHHTFYNELRVAPEEHPVLLTEAPLNPKANREKMTQIMFETFNTPAMYVAIQAVLSLYASGRTTGIVMDSGDG\\\n",
    "VTHTVPIYEGYALPHAILRLDLAGRDLTDYLMKILTERGYSFTTTAEREIVRDIKEKLCYVALDFEQEMATAASSSSLEKSYELPDGQVITIGNERFRCPEALFQPSFLG\\\n",
    "MESCGIHETTFNSIMKCDVDIRKDLYANTVLSGGTTMYPGIADRMQKEITALAPSTMKIKIIAPPERKYSVWIGGSILASLSTFQQMWISKQEYDESGPSIVHRKCF\\n>\\\n",
    "Gapdh\\nMGKVKVGVNGFGRIGRLVTRAAFNSGKVDIVAINDPFIDLNYMVYMFQYDSTHGKFHGTVKAENGKLVINGNPITIFQERDPSKIKWGDAGAEYVVESTGVFT\\\n",
    "TMEKAGAHLQGGAKRVIISAPSADAPMFVMGVNHEKYDNSLKIISNASCTTNCLAPLAKVIHDNFGIVEGLMTTVHAITATQKTVDGPSGKLWRDGRGALQNIIPASTGA\\\n",
    "AKAVGKVIPELNGKLTGMAFRVPTANVSVVDLTCRLEKPAKYDDIKKVVKQASEGPLKGILGYTEHQVVSSDFNSDTHSSTFDAGAGIALNDHFVKLISWYDNEFGYSNRV\\\n",
    "VDLMAHMASKE\\n>HuR\\nMSNGYEDHMAEDCRGDIGRTNLIVNYLPQNMTQDELRSLFSSIGEVESAKLIRDKVAGHSLGYGFVNYVTAKDAERAINTLNGLRLQSKTIK\\\n",
    "VSYARPSSEVIKDANLYISGLPRTMTQKDVEDMFSRFGRIINSRVLVDQTTGLSRGVAFIRFDKRSEAEEAITSFNGHKPPGSSEPITVKFAANPNQNKNVALLSQLYHSP\\\n",
    "ARRFGGPVHHQAQRFRFSPMGVDHMSGLSGVNVPGNASSGWCIFIYNLGQDADEGILWQMFGPFGAVTNVKVIRDFNTNKCKGFGFVTMTNYEEAAMAIASLNGYRLGDKI\\\n",
    "LQVSFKTNKSHK\""
   ]
  },
  {
   "cell_type": "code",
   "execution_count": 112,
   "metadata": {},
   "outputs": [
    {
     "name": "stdout",
     "output_type": "stream",
     "text": [
      "Count of total residues with sequence 'AP':  10\n"
     ]
    }
   ],
   "source": [
    "# Answer Question 4, part A here:\n",
    "count = fasta_seq.count('AP')\n",
    "print(\"Count of total residues with sequence 'AP': \", count) #parses through entire list as one to count residues"
   ]
  },
  {
   "cell_type": "code",
   "execution_count": 111,
   "metadata": {},
   "outputs": [
    {
     "name": "stdout",
     "output_type": "stream",
     "text": [
      "Actin:  MDDDIAALVVDNGSGMCKAGFAGDDAPRAVFPSIVGRPRHQGVMVGMGQKDSYVGDEAQSKRGILTLKYPIEHGIVTNWDDMEKIWHHTFYNELRVAPEEHPVLLTEAPLNPKANREKMTQIMFETFNTPAMYVAIQAVLSLYASGRTTGIVMDSGDGVTHTVPIYEGYALPHAILRLDLAGRDLTDYLMKILTERGYSFTTTAEREIVRDIKEKLCYVALDFEQEMATAASSSSLEKSYELPDGQVITIGNERFRCPEALFQPSFLGMESCGIHETTFNSIMKCDVDIRKDLYANTVLSGGTTMYPGIADRMQKEITALAPSTMKIKIIAPPERKYSVWIGGSILASLSTFQQMWISKQEYDESGPSIVHRKCF\n",
      "The # of residues with sequence 'AP':  5\n"
     ]
    }
   ],
   "source": [
    "# Answer Question 4, part B here:\n",
    "\n",
    "##Splits the list into items with the 'defline' and the fasta sequence\n",
    "fasta_lines = fasta_seq.split('\\n')\n",
    "\n",
    "##Creates a dictionary with keys corresponding to the defline and the values corresponding to fasta sequences\n",
    "fasta_dict = {fasta_lines[i]: fasta_lines[i + 1] for i in range(0, len(fasta_lines), 2)}\n",
    "\n",
    "##Displays the Actin key-value pair\n",
    "print(\"Actin: \", fasta_dict['>Actin'])\n",
    "##Displays the count of 'AP' residues within Actin\n",
    "print(\"The # of residues with sequence 'AP': \", fasta_dict['>Actin'].count('AP'))"
   ]
  },
  {
   "cell_type": "code",
   "execution_count": 123,
   "metadata": {},
   "outputs": [],
   "source": [
    "# Answer Question 4, part C here:\n",
    "aminos_dict = {'C': 'CYS', 'D': 'ASP', 'S': 'SER', 'Q': 'GLN', 'K': 'LYS', 'G': 'GLY', 'H': 'HIS',\n",
    "     'L': 'LEU', 'R': 'ARG', 'W': 'TRP', 'I': 'ILE', 'P': 'PRO', 'T': 'THR', 'F': 'PHE', 'N': 'ASN', \n",
    "     'A': 'ALA', 'V': 'VAL', 'E': 'GLU', 'Y': 'TYR', 'M': 'MET'}"
   ]
  },
  {
   "cell_type": "code",
   "execution_count": 155,
   "metadata": {},
   "outputs": [
    {
     "name": "stdout",
     "output_type": "stream",
     "text": [
      "MetAspAspAspIleAlaAlaLeuValValAspAsnGlySerGlyMetCysLysAlaGlyPheAlaGlyAspAspAlaProArgAlaValPheProSerIleValGlyArgProArgHisGlnGlyValMetValGlyMetGlyGlnLysAspSerTyrValGlyAspGluAlaGlnSerLysArgGlyIleLeuThrLeuLysTyrProIleGluHisGlyIleValThrAsnTrpAspAspMetGluLysIleTrpHisHisThrPheTyrAsnGluLeuArgValAlaProGluGluHisProValLeuLeuThrGluAlaProLeuAsnProLysAlaAsnArgGluLysMetThrGlnIleMetPheGluThrPheAsnThrProAlaMetTyrValAlaIleGlnAlaValLeuSerLeuTyrAlaSerGlyArgThrThrGlyIleValMetAspSerGlyAspGlyValThrHisThrValProIleTyrGluGlyTyrAlaLeuProHisAlaIleLeuArgLeuAspLeuAlaGlyArgAspLeuThrAspTyrLeuMetLysIleLeuThrGluArgGlyTyrSerPheThrThrThrAlaGluArgGluIleValArgAspIleLysGluLysLeuCysTyrValAlaLeuAspPheGluGlnGluMetAlaThrAlaAlaSerSerSerSerLeuGluLysSerTyrGluLeuProAspGlyGlnValIleThrIleGlyAsnGluArgPheArgCysProGluAlaLeuPheGlnProSerPheLeuGlyMetGluSerCysGlyIleHisGluThrThrPheAsnSerIleMetLysCysAspValAspIleArgLysAspLeuTyrAlaAsnThrValLeuSerGlyGlyThrThrMetTyrProGlyIleAlaAspArgMetGlnLysGluIleThrAlaLeuAlaProSerThrMetLysIleLysIleIleAlaProProGluArgLysTyrSerValTrpIleGlyGlySerIleLeuAlaSerLeuSerThrPheGlnGlnMetTrpIleSerLysGlnGluTyrAspGluSerGlyProSerIleValHisArgLysCysPhe\n",
      "METASPASPASPILEALAALALEUVALVALASPASNGLYSERGLYMETCYSLYSALAGLYPHEALAGLYASPASPALAPROARGALAVALPHEPROSERILEVALGLYARGPROARGHISGLNGLYVALMETVALGLYMETGLYGLNLYSASPSERTYRVALGLYASPGLUALAGLNSERLYSARGGLYILELEUTHRLEULYSTYRPROILEGLUHISGLYILEVALTHRASNTRPASPASPMETGLULYSILETRPHISHISTHRPHETYRASNGLULEUARGVALALAPROGLUGLUHISPROVALLEULEUTHRGLUALAPROLEUASNPROLYSALAASNARGGLULYSMETTHRGLNILEMETPHEGLUTHRPHEASNTHRPROALAMETTYRVALALAILEGLNALAVALLEUSERLEUTYRALASERGLYARGTHRTHRGLYILEVALMETASPSERGLYASPGLYVALTHRHISTHRVALPROILETYRGLUGLYTYRALALEUPROHISALAILELEUARGLEUASPLEUALAGLYARGASPLEUTHRASPTYRLEUMETLYSILELEUTHRGLUARGGLYTYRSERPHETHRTHRTHRALAGLUARGGLUILEVALARGASPILELYSGLULYSLEUCYSTYRVALALALEUASPPHEGLUGLNGLUMETALATHRALAALASERSERSERSERLEUGLULYSSERTYRGLULEUPROASPGLYGLNVALILETHRILEGLYASNGLUARGPHEARGCYSPROGLUALALEUPHEGLNPROSERPHELEUGLYMETGLUSERCYSGLYILEHISGLUTHRTHRPHEASNSERILEMETLYSCYSASPVALASPILEARGLYSASPLEUTYRALAASNTHRVALLEUSERGLYGLYTHRTHRMETTYRPROGLYILEALAASPARGMETGLNLYSGLUILETHRALALEUALAPROSERTHRMETLYSILELYSILEILEALAPROPROGLUARGLYSTYRSERVALTRPILEGLYGLYSERILELEUALASERLEUSERTHRPHEGLNGLNMETTRPILESERLYSGLNGLUTYRASPGLUSERGLYPROSERILEVALHISARGLYSCYSPHE\n",
      " ['M', 'D', 'D', 'D', 'I', 'A', 'A', 'L', 'V', 'V', 'D', 'N', 'G', 'S', 'G', 'M', 'C', 'K', 'A', 'G', 'F', 'A', 'G', 'D', 'D', 'A', 'P', 'R', 'A', 'V', 'F', 'P', 'S', 'I', 'V', 'G', 'R', 'P', 'R', 'H', 'Q', 'G', 'V', 'M', 'V', 'G', 'M', 'G', 'Q', 'K', 'D', 'S', 'Y', 'V', 'G', 'D', 'E', 'A', 'Q', 'S', 'K', 'R', 'G', 'I', 'L', 'T', 'L', 'K', 'Y', 'P', 'I', 'E', 'H', 'G', 'I', 'V', 'T', 'N', 'W', 'D', 'D', 'M', 'E', 'K', 'I', 'W', 'H', 'H', 'T', 'F', 'Y', 'N', 'E', 'L', 'R', 'V', 'A', 'P', 'E', 'E', 'H', 'P', 'V', 'L', 'L', 'T', 'E', 'A', 'P', 'L', 'N', 'P', 'K', 'A', 'N', 'R', 'E', 'K', 'M', 'T', 'Q', 'I', 'M', 'F', 'E', 'T', 'F', 'N', 'T', 'P', 'A', 'M', 'Y', 'V', 'A', 'I', 'Q', 'A', 'V', 'L', 'S', 'L', 'Y', 'A', 'S', 'G', 'R', 'T', 'T', 'G', 'I', 'V', 'M', 'D', 'S', 'G', 'D', 'G', 'V', 'T', 'H', 'T', 'V', 'P', 'I', 'Y', 'E', 'G', 'Y', 'A', 'L', 'P', 'H', 'A', 'I', 'L', 'R', 'L', 'D', 'L', 'A', 'G', 'R', 'D', 'L', 'T', 'D', 'Y', 'L', 'M', 'K', 'I', 'L', 'T', 'E', 'R', 'G', 'Y', 'S', 'F', 'T', 'T', 'T', 'A', 'E', 'R', 'E', 'I', 'V', 'R', 'D', 'I', 'K', 'E', 'K', 'L', 'C', 'Y', 'V', 'A', 'L', 'D', 'F', 'E', 'Q', 'E', 'M', 'A', 'T', 'A', 'A', 'S', 'S', 'S', 'S', 'L', 'E', 'K', 'S', 'Y', 'E', 'L', 'P', 'D', 'G', 'Q', 'V', 'I', 'T', 'I', 'G', 'N', 'E', 'R', 'F', 'R', 'C', 'P', 'E', 'A', 'L', 'F', 'Q', 'P', 'S', 'F', 'L', 'G', 'M', 'E', 'S', 'C', 'G', 'I', 'H', 'E', 'T', 'T', 'F', 'N', 'S', 'I', 'M', 'K', 'C', 'D', 'V', 'D', 'I', 'R', 'K', 'D', 'L', 'Y', 'A', 'N', 'T', 'V', 'L', 'S', 'G', 'G', 'T', 'T', 'M', 'Y', 'P', 'G', 'I', 'A', 'D', 'R', 'M', 'Q', 'K', 'E', 'I', 'T', 'A', 'L', 'A', 'P', 'S', 'T', 'M', 'K', 'I', 'K', 'I', 'I', 'A', 'P', 'P', 'E', 'R', 'K', 'Y', 'S', 'V', 'W', 'I', 'G', 'G', 'S', 'I', 'L', 'A', 'S', 'L', 'S', 'T', 'F', 'Q', 'Q', 'M', 'W', 'I', 'S', 'K', 'Q', 'E', 'Y', 'D', 'E', 'S', 'G', 'P', 'S', 'I', 'V', 'H', 'R', 'K', 'C', 'F']"
     ]
    }
   ],
   "source": [
    "#I did this using 2 seperate methods outlined below:\n",
    "#Attempt using a biopython package\n",
    "from Bio.SeqUtils import seq3\n",
    "three_letter = seq3(fasta_dict[\">Actin\"])\n",
    "print(three_letter)\n",
    "\n",
    "#Attempt using iteration over sequence list and dictionary key \\\n",
    "###matching\n",
    "sequence = list(fasta_dict[\">Actin\"])\n",
    "#print(sequence)\n",
    "for i in sequence:\n",
    "    for k, v in aminos_dict.items():\n",
    "        if i == k:\n",
    "            print(v, end = '')\n",
    "\n",
    "            ###THIS IS MY ATTEMPT AT A LIST-DICTIONARY COMPREHENSION\n",
    "ls = [k for k, v in aminos_dict.items()]\n",
    "#print(ls)\n",
    "ls = [i for i in sequence if i in ls]\n",
    "print('\\n',ls, end ='')\n",
    "#doesn't work."
   ]
  },
  {
   "cell_type": "code",
   "execution_count": null,
   "metadata": {},
   "outputs": [],
   "source": []
  }
 ],
 "metadata": {
  "kernelspec": {
   "display_name": "Python [conda env:root] *",
   "language": "python",
   "name": "conda-root-py"
  },
  "language_info": {
   "codemirror_mode": {
    "name": "ipython",
    "version": 3
   },
   "file_extension": ".py",
   "mimetype": "text/x-python",
   "name": "python",
   "nbconvert_exporter": "python",
   "pygments_lexer": "ipython3",
   "version": "3.9.12"
  },
  "varInspector": {
   "cols": {
    "lenName": 16,
    "lenType": 16,
    "lenVar": 40
   },
   "kernels_config": {
    "python": {
     "delete_cmd_postfix": "",
     "delete_cmd_prefix": "del ",
     "library": "var_list.py",
     "varRefreshCmd": "print(var_dic_list())"
    },
    "r": {
     "delete_cmd_postfix": ") ",
     "delete_cmd_prefix": "rm(",
     "library": "var_list.r",
     "varRefreshCmd": "cat(var_dic_list()) "
    }
   },
   "types_to_exclude": [
    "module",
    "function",
    "builtin_function_or_method",
    "instance",
    "_Feature"
   ],
   "window_display": false
  },
  "vscode": {
   "interpreter": {
    "hash": "74b0eeecb9694be932ad336503137f0c047c9eb8ec8a4a235079c04fe56ee89e"
   }
  }
 },
 "nbformat": 4,
 "nbformat_minor": 2
}
