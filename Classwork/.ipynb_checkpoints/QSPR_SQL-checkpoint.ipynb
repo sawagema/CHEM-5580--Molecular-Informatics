{
 "cells": [
  {
   "cell_type": "markdown",
   "metadata": {},
   "source": [
    "## Quantitative Structure-Property Relationships\n",
    "\n"
   ]
  },
  {
   "cell_type": "markdown",
   "metadata": {},
   "source": [
    "Quantitative Structure-Property Relationships (QSPR) and Quantitative\n",
    "Structure-Activity Relationships (QSAR) use statistical models to relate a set\n",
    "of predictor values to a response variable. Molecules are described using a set\n",
    "of *descriptors*, and then mathematical relationships can be developed to explain\n",
    "observed properties. In QSPR and QSAR, physico-chemical properties of theoretical\n",
    "descriptors of chemicals are used to predict either a physical property or a\n",
    "biological outcome.\n",
    "\n"
   ]
  },
  {
   "cell_type": "markdown",
   "metadata": {},
   "source": [
    "## Molecular Descriptors\n",
    "\n"
   ]
  },
  {
   "cell_type": "markdown",
   "metadata": {},
   "source": [
    "A molecular descriptor is &ldquo;final result of a logical and mathematical procedure,\n",
    "which transforms chemical information encoded within a symbolic repre-sentation\n",
    "of a molecule into a useful number or the result of some standardized\n",
    "experiment&rdquo; (Todeschini, R.; Consonni, V. *Molecular descriptors for\n",
    "chemoinformatics* **2009** Wiley‑VCH, Weinheim). You are already familiar with\n",
    "descriptors such as molecular weight or number of heavy atoms and we have\n",
    "queried PubChem for data such as XLogP. We&rsquo;ll examine just a few simple\n",
    "descriptors, but thousands have been developed for applications in QSPR.\n",
    "\n"
   ]
  },
  {
   "cell_type": "markdown",
   "metadata": {},
   "source": [
    "## Using rdkit and mordred to calculate descriptors\n",
    "\n"
   ]
  },
  {
   "cell_type": "markdown",
   "metadata": {},
   "source": [
    "Clearly we have been using algorithms for calculating these indices. This is\n",
    "time consuming for an individual, but programs can be used to complete this much\n",
    "easier. We will use the rdkit and mordred python libraries to help us out.\n",
    "\n"
   ]
  },
  {
   "cell_type": "code",
   "execution_count": 46,
   "metadata": {},
   "outputs": [
    {
     "data": {
      "text/plain": [
       "1613"
      ]
     },
     "execution_count": 46,
     "metadata": {},
     "output_type": "execute_result"
    }
   ],
   "source": [
    "from rdkit import Chem                            # imports the Chem module from rdkit\n",
    "from mordred import Calculator, descriptors       # imports mordred descriptor library\n",
    "calc = Calculator(descriptors, ignore_3D=True)    # sets up a function reading descriptors\n",
    "len(calc.descriptors) # tells us how many different types of descriptors are available in the library"
   ]
  },
  {
   "cell_type": "markdown",
   "metadata": {},
   "source": [
    "### Wiener Index\n",
    "\n"
   ]
  },
  {
   "cell_type": "markdown",
   "metadata": {},
   "source": [
    "We already calculated the Wiener index for *n*-pentane and 2-methylpentane. Now\n",
    "let&rsquo;s have mordred do it for us.\n",
    "\n"
   ]
  },
  {
   "cell_type": "code",
   "execution_count": 47,
   "metadata": {},
   "outputs": [
    {
     "name": "stdout",
     "output_type": "stream",
     "text": [
      "The Wiener index for n-pentane is:  20\n",
      "The Wiener index for 2-methylpentane is:  32\n"
     ]
    }
   ],
   "source": [
    "from mordred import WienerIndex\n",
    "pentane = Chem.MolFromSmiles('CCCCC')                  # Use rdkit to create a mol file from the smiles string for n-pentane\n",
    "methyl_pentane = Chem.MolFromSmiles('CCCC(C)C')        #  and for 2-methylpentane\n",
    "wiener_index = WienerIndex.WienerIndex()               # create descriptor instance for Wiener index\n",
    "result1 = wiener_index(pentane)                        # calculate wiener index for n-pentane\n",
    "result2 = wiener_index(methyl_pentane)                 #  and for 2-methylpentane\n",
    "print(\"The Wiener index for n-pentane is: \", result1)  # display result\n",
    "print(\"The Wiener index for 2-methylpentane is: \", result2)"
   ]
  },
  {
   "cell_type": "markdown",
   "metadata": {},
   "source": [
    "### Zagreb Indices\n",
    "\n"
   ]
  },
  {
   "cell_type": "markdown",
   "metadata": {},
   "source": [
    "And we can do the same for the different Zagreb indices for *n*-pentane and\n",
    "2-methylpentane.\n",
    "\n"
   ]
  },
  {
   "cell_type": "code",
   "execution_count": 48,
   "metadata": {},
   "outputs": [
    {
     "name": "stdout",
     "output_type": "stream",
     "text": [
      "The Zagreb index 1 for n-pentane is: 14.0\n",
      "The Zagreb index 2 for n-pentane is: 12.0\n",
      "The Zagreb index 1 for 2-methylpentane is: 20.0\n",
      "The Zagreb index 2 for 2-methylpentane is: 18.0\n"
     ]
    }
   ],
   "source": [
    "from mordred import ZagrebIndex\n",
    "\n",
    "zagreb_index1 = ZagrebIndex.ZagrebIndex(version = 1)            # create descriptor instance for Zagreb index 1\n",
    "zagreb_index2 = ZagrebIndex.ZagrebIndex(version = 2)            # create descriptor instance for Zagreb index 1\n",
    "\n",
    "result_Z1 = zagreb_index1(pentane)                              # calculate Z1 descriptor value for n-pentane\n",
    "result_Z2 = zagreb_index2(pentane)                              # calculate Z2 descriptor value for n-pentane\n",
    "print(\"The Zagreb index 1 for n-pentane is:\", result_Z1)\n",
    "print(\"The Zagreb index 2 for n-pentane is:\", result_Z2)\n",
    "\n",
    "result_Z1 = zagreb_index1(methyl_pentane)                       # and for 2-methylpentane as well\n",
    "result_Z2 = zagreb_index2(methyl_pentane)                      \n",
    "print(\"The Zagreb index 1 for 2-methylpentane is:\", result_Z1)\n",
    "print(\"The Zagreb index 2 for 2-methylpentane is:\", result_Z2)"
   ]
  },
  {
   "cell_type": "markdown",
   "metadata": {},
   "source": [
    "As you can see from the code above, each index will have different code that\n",
    "needs to be followed for programming. Each descriptor and the resulting code\n",
    "syntax can be found here\n",
    "[http://mordred-descriptor.github.io/documentation/master/api/modules.html](http://mordred-descriptor.github.io/documentation/master/api/modules.html)\n",
    "\n"
   ]
  },
  {
   "cell_type": "markdown",
   "metadata": {},
   "source": [
    "### Looping through a list of molecules\n",
    "\n"
   ]
  },
  {
   "cell_type": "markdown",
   "metadata": {},
   "source": [
    "Now that we have an understanding on how rdkit and mordred work to get our\n",
    "descriptors, let&rsquo;s simplify the code using a looping structure:\n",
    "\n"
   ]
  },
  {
   "cell_type": "code",
   "execution_count": 49,
   "metadata": {},
   "outputs": [
    {
     "name": "stdout",
     "output_type": "stream",
     "text": [
      "The Zagreb index 1 for CCC is: 6.0\n",
      "The Zagreb index 2 for CCC is: 4.0\n",
      "\n",
      "The Zagreb index 1 for CCCC is: 10.0\n",
      "The Zagreb index 2 for CCCC is: 8.0\n",
      "\n",
      "The Zagreb index 1 for CCCCC is: 14.0\n",
      "The Zagreb index 2 for CCCCC is: 12.0\n",
      "\n",
      "The Zagreb index 1 for CCCC(C)C is: 20.0\n",
      "The Zagreb index 2 for CCCC(C)C is: 18.0\n",
      "\n",
      "The Zagreb index 1 for CC(C)C(C)C is: 22.0\n",
      "The Zagreb index 2 for CC(C)C(C)C is: 21.0\n",
      "\n"
     ]
    }
   ],
   "source": [
    "smiles = [\"CCC\", \"CCCC\", \"CCCCC\", \"CCCC(C)C\",\"CC(C)C(C)C\"]         #store smiles strings in a list\n",
    "\n",
    "for smile in smiles:\n",
    "    mol = Chem.MolFromSmiles(smile)                      # convert smiles string to mol file\n",
    "    result_Z1 = zagreb_index1(mol)                       # calculate Z1 descriptor value\n",
    "    result_Z2 = zagreb_index2(mol)                       # calculate Z2 descriptor value\n",
    "    print(\"The Zagreb index 1 for\", smile, \"is:\", result_Z1)\n",
    "    print(\"The Zagreb index 2 for\", smile, \"is:\", result_Z2)\n",
    "    print()"
   ]
  },
  {
   "cell_type": "markdown",
   "metadata": {},
   "source": [
    "## Using descriptors to predict molecular properties\n",
    "\n"
   ]
  },
  {
   "cell_type": "markdown",
   "metadata": {},
   "source": [
    "For this exercise we will take a series of alkanes and create an equation that\n",
    "will allow us to predict boiling points. We will start with a 30 molecule alkane\n",
    "training set. We will obtain various descriptors and see how they can predict\n",
    "the physical property boiling point.\n",
    "\n",
    "For this exercise we will be using the [pandas](https://pandas.pydata.org/) (Python Data Analysis) library to\n",
    "help us read, write and manage data. We will also use matplotlib to generate\n",
    "graphs.\n",
    "\n"
   ]
  },
  {
   "cell_type": "markdown",
   "metadata": {},
   "source": [
    "### Boiling Point data\n",
    "\n"
   ]
  },
  {
   "cell_type": "markdown",
   "metadata": {},
   "source": [
    "Let&rsquo;s start by reading and graphing a set of boiling point data. First we read\n",
    "our csv file into a pandas &ldquo;dataframe&rdquo;. Notice that we can generate a nicely\n",
    "formatted table from our dataframe by just entering the name of the dataframe on\n",
    "the last line.\n",
    "\n"
   ]
  },
  {
   "cell_type": "code",
   "execution_count": 50,
   "metadata": {},
   "outputs": [
    {
     "data": {
      "text/html": [
       "<div>\n",
       "<style scoped>\n",
       "    .dataframe tbody tr th:only-of-type {\n",
       "        vertical-align: middle;\n",
       "    }\n",
       "\n",
       "    .dataframe tbody tr th {\n",
       "        vertical-align: top;\n",
       "    }\n",
       "\n",
       "    .dataframe thead th {\n",
       "        text-align: right;\n",
       "    }\n",
       "</style>\n",
       "<table border=\"1\" class=\"dataframe\">\n",
       "  <thead>\n",
       "    <tr style=\"text-align: right;\">\n",
       "      <th></th>\n",
       "      <th>compound</th>\n",
       "      <th>name</th>\n",
       "      <th>BP_C</th>\n",
       "      <th>BP_K</th>\n",
       "      <th>SMILES</th>\n",
       "      <th>MW</th>\n",
       "    </tr>\n",
       "  </thead>\n",
       "  <tbody>\n",
       "    <tr>\n",
       "      <th>0</th>\n",
       "      <td>1</td>\n",
       "      <td>Methane</td>\n",
       "      <td>-162.2</td>\n",
       "      <td>110.95</td>\n",
       "      <td>C</td>\n",
       "      <td>16.043</td>\n",
       "    </tr>\n",
       "    <tr>\n",
       "      <th>1</th>\n",
       "      <td>2</td>\n",
       "      <td>Ethane</td>\n",
       "      <td>-88.6</td>\n",
       "      <td>184.55</td>\n",
       "      <td>CC</td>\n",
       "      <td>30.070</td>\n",
       "    </tr>\n",
       "    <tr>\n",
       "      <th>2</th>\n",
       "      <td>3</td>\n",
       "      <td>propane</td>\n",
       "      <td>-42.2</td>\n",
       "      <td>230.95</td>\n",
       "      <td>CCC</td>\n",
       "      <td>44.100</td>\n",
       "    </tr>\n",
       "    <tr>\n",
       "      <th>3</th>\n",
       "      <td>4</td>\n",
       "      <td>butane</td>\n",
       "      <td>-0.1</td>\n",
       "      <td>273.05</td>\n",
       "      <td>CCCC</td>\n",
       "      <td>58.120</td>\n",
       "    </tr>\n",
       "    <tr>\n",
       "      <th>4</th>\n",
       "      <td>5</td>\n",
       "      <td>2-methylpropane</td>\n",
       "      <td>-11.2</td>\n",
       "      <td>261.95</td>\n",
       "      <td>CC(C)C</td>\n",
       "      <td>58.120</td>\n",
       "    </tr>\n",
       "    <tr>\n",
       "      <th>5</th>\n",
       "      <td>6</td>\n",
       "      <td>pentane</td>\n",
       "      <td>36.1</td>\n",
       "      <td>309.25</td>\n",
       "      <td>CCCCC</td>\n",
       "      <td>72.150</td>\n",
       "    </tr>\n",
       "    <tr>\n",
       "      <th>6</th>\n",
       "      <td>7</td>\n",
       "      <td>2-methylbutane</td>\n",
       "      <td>27.0</td>\n",
       "      <td>300.15</td>\n",
       "      <td>CC(C)CC</td>\n",
       "      <td>72.150</td>\n",
       "    </tr>\n",
       "    <tr>\n",
       "      <th>7</th>\n",
       "      <td>8</td>\n",
       "      <td>2,2-dimethylpropane</td>\n",
       "      <td>9.5</td>\n",
       "      <td>282.65</td>\n",
       "      <td>CC(C)(C)C</td>\n",
       "      <td>72.150</td>\n",
       "    </tr>\n",
       "    <tr>\n",
       "      <th>8</th>\n",
       "      <td>9</td>\n",
       "      <td>hexane</td>\n",
       "      <td>68.8</td>\n",
       "      <td>341.95</td>\n",
       "      <td>CCCCCC</td>\n",
       "      <td>86.180</td>\n",
       "    </tr>\n",
       "    <tr>\n",
       "      <th>9</th>\n",
       "      <td>10</td>\n",
       "      <td>2-methylpentane</td>\n",
       "      <td>60.9</td>\n",
       "      <td>334.05</td>\n",
       "      <td>CC(C)CCC</td>\n",
       "      <td>86.180</td>\n",
       "    </tr>\n",
       "    <tr>\n",
       "      <th>10</th>\n",
       "      <td>11</td>\n",
       "      <td>3-methylpentane</td>\n",
       "      <td>63.3</td>\n",
       "      <td>336.45</td>\n",
       "      <td>CC(CC)CC</td>\n",
       "      <td>86.180</td>\n",
       "    </tr>\n",
       "    <tr>\n",
       "      <th>11</th>\n",
       "      <td>12</td>\n",
       "      <td>2,2-dimethylbutane</td>\n",
       "      <td>49.8</td>\n",
       "      <td>322.95</td>\n",
       "      <td>CC(C)(CC)C</td>\n",
       "      <td>86.180</td>\n",
       "    </tr>\n",
       "    <tr>\n",
       "      <th>12</th>\n",
       "      <td>13</td>\n",
       "      <td>2,3-dimethylbutane</td>\n",
       "      <td>58.1</td>\n",
       "      <td>331.25</td>\n",
       "      <td>CC(C)C(C)C</td>\n",
       "      <td>86.180</td>\n",
       "    </tr>\n",
       "    <tr>\n",
       "      <th>13</th>\n",
       "      <td>14</td>\n",
       "      <td>heptane</td>\n",
       "      <td>98.5</td>\n",
       "      <td>371.65</td>\n",
       "      <td>CCCCCCC</td>\n",
       "      <td>100.200</td>\n",
       "    </tr>\n",
       "    <tr>\n",
       "      <th>14</th>\n",
       "      <td>15</td>\n",
       "      <td>3-ethylpentane</td>\n",
       "      <td>93.5</td>\n",
       "      <td>366.65</td>\n",
       "      <td>C(C)C(CC)CC</td>\n",
       "      <td>100.200</td>\n",
       "    </tr>\n",
       "    <tr>\n",
       "      <th>15</th>\n",
       "      <td>16</td>\n",
       "      <td>2,2-dimethylpentane</td>\n",
       "      <td>79.2</td>\n",
       "      <td>352.35</td>\n",
       "      <td>CC(C)(CCC)C</td>\n",
       "      <td>100.200</td>\n",
       "    </tr>\n",
       "    <tr>\n",
       "      <th>16</th>\n",
       "      <td>17</td>\n",
       "      <td>2,3-dimethylpentane</td>\n",
       "      <td>89.8</td>\n",
       "      <td>362.95</td>\n",
       "      <td>CC(C)C(CC)C</td>\n",
       "      <td>100.200</td>\n",
       "    </tr>\n",
       "    <tr>\n",
       "      <th>17</th>\n",
       "      <td>18</td>\n",
       "      <td>2,4-dimethylpentane</td>\n",
       "      <td>80.6</td>\n",
       "      <td>353.75</td>\n",
       "      <td>CC(C)CC(C)C</td>\n",
       "      <td>100.200</td>\n",
       "    </tr>\n",
       "    <tr>\n",
       "      <th>18</th>\n",
       "      <td>19</td>\n",
       "      <td>2-methylhexane</td>\n",
       "      <td>90.1</td>\n",
       "      <td>363.25</td>\n",
       "      <td>CC(C)CCCC</td>\n",
       "      <td>100.205</td>\n",
       "    </tr>\n",
       "    <tr>\n",
       "      <th>19</th>\n",
       "      <td>20</td>\n",
       "      <td>3-methylhexane</td>\n",
       "      <td>91.8</td>\n",
       "      <td>364.95</td>\n",
       "      <td>CC(CC)CCC</td>\n",
       "      <td>100.200</td>\n",
       "    </tr>\n",
       "    <tr>\n",
       "      <th>20</th>\n",
       "      <td>21</td>\n",
       "      <td>octane</td>\n",
       "      <td>125.6</td>\n",
       "      <td>398.75</td>\n",
       "      <td>CCCCCCCC</td>\n",
       "      <td>114.230</td>\n",
       "    </tr>\n",
       "    <tr>\n",
       "      <th>21</th>\n",
       "      <td>22</td>\n",
       "      <td>3-methylheptane</td>\n",
       "      <td>118.9</td>\n",
       "      <td>392.05</td>\n",
       "      <td>CC(CC)CCCC</td>\n",
       "      <td>114.232</td>\n",
       "    </tr>\n",
       "    <tr>\n",
       "      <th>22</th>\n",
       "      <td>23</td>\n",
       "      <td>2,2,3,3-tetramethylbutane</td>\n",
       "      <td>106.5</td>\n",
       "      <td>379.65</td>\n",
       "      <td>CC(C)(C(C)(C)C)C</td>\n",
       "      <td>114.230</td>\n",
       "    </tr>\n",
       "    <tr>\n",
       "      <th>23</th>\n",
       "      <td>24</td>\n",
       "      <td>2,3,3-trimethylpentane</td>\n",
       "      <td>114.7</td>\n",
       "      <td>387.85</td>\n",
       "      <td>CC(C)C(CC)(C)C</td>\n",
       "      <td>114.230</td>\n",
       "    </tr>\n",
       "    <tr>\n",
       "      <th>24</th>\n",
       "      <td>25</td>\n",
       "      <td>2,3,4-trimethylpentane</td>\n",
       "      <td>113.7</td>\n",
       "      <td>386.85</td>\n",
       "      <td>CC(C)C(C(C)C)C</td>\n",
       "      <td>114.230</td>\n",
       "    </tr>\n",
       "    <tr>\n",
       "      <th>25</th>\n",
       "      <td>26</td>\n",
       "      <td>2,2,4-trimethylpentane</td>\n",
       "      <td>99.3</td>\n",
       "      <td>372.45</td>\n",
       "      <td>CC(C)(CC(C)C)C</td>\n",
       "      <td>114.230</td>\n",
       "    </tr>\n",
       "    <tr>\n",
       "      <th>26</th>\n",
       "      <td>27</td>\n",
       "      <td>nonane</td>\n",
       "      <td>150.7</td>\n",
       "      <td>423.85</td>\n",
       "      <td>CCCCCCCCC</td>\n",
       "      <td>128.250</td>\n",
       "    </tr>\n",
       "    <tr>\n",
       "      <th>27</th>\n",
       "      <td>28</td>\n",
       "      <td>2-methyloctane</td>\n",
       "      <td>143.0</td>\n",
       "      <td>416.15</td>\n",
       "      <td>CC(C)CCCCCC</td>\n",
       "      <td>128.259</td>\n",
       "    </tr>\n",
       "    <tr>\n",
       "      <th>28</th>\n",
       "      <td>29</td>\n",
       "      <td>decane</td>\n",
       "      <td>174.2</td>\n",
       "      <td>447.35</td>\n",
       "      <td>CCCCCCCCCC</td>\n",
       "      <td>142.280</td>\n",
       "    </tr>\n",
       "    <tr>\n",
       "      <th>29</th>\n",
       "      <td>30</td>\n",
       "      <td>2-methylnonane</td>\n",
       "      <td>166.9</td>\n",
       "      <td>440.05</td>\n",
       "      <td>CC(C)CCCCCCC</td>\n",
       "      <td>142.280</td>\n",
       "    </tr>\n",
       "  </tbody>\n",
       "</table>\n",
       "</div>"
      ],
      "text/plain": [
       "    compound                       name   BP_C    BP_K            SMILES  \\\n",
       "0          1                    Methane -162.2  110.95                 C   \n",
       "1          2                     Ethane  -88.6  184.55                CC   \n",
       "2          3                    propane  -42.2  230.95               CCC   \n",
       "3          4                     butane   -0.1  273.05              CCCC   \n",
       "4          5            2-methylpropane  -11.2  261.95            CC(C)C   \n",
       "5          6                    pentane   36.1  309.25             CCCCC   \n",
       "6          7             2-methylbutane   27.0  300.15           CC(C)CC   \n",
       "7          8        2,2-dimethylpropane    9.5  282.65         CC(C)(C)C   \n",
       "8          9                     hexane   68.8  341.95            CCCCCC   \n",
       "9         10            2-methylpentane   60.9  334.05          CC(C)CCC   \n",
       "10        11            3-methylpentane   63.3  336.45          CC(CC)CC   \n",
       "11        12         2,2-dimethylbutane   49.8  322.95        CC(C)(CC)C   \n",
       "12        13         2,3-dimethylbutane   58.1  331.25        CC(C)C(C)C   \n",
       "13        14                    heptane   98.5  371.65           CCCCCCC   \n",
       "14        15             3-ethylpentane   93.5  366.65       C(C)C(CC)CC   \n",
       "15        16        2,2-dimethylpentane   79.2  352.35       CC(C)(CCC)C   \n",
       "16        17        2,3-dimethylpentane   89.8  362.95       CC(C)C(CC)C   \n",
       "17        18        2,4-dimethylpentane   80.6  353.75       CC(C)CC(C)C   \n",
       "18        19             2-methylhexane   90.1  363.25         CC(C)CCCC   \n",
       "19        20             3-methylhexane   91.8  364.95         CC(CC)CCC   \n",
       "20        21                     octane  125.6  398.75          CCCCCCCC   \n",
       "21        22            3-methylheptane  118.9  392.05        CC(CC)CCCC   \n",
       "22        23  2,2,3,3-tetramethylbutane  106.5  379.65  CC(C)(C(C)(C)C)C   \n",
       "23        24     2,3,3-trimethylpentane  114.7  387.85    CC(C)C(CC)(C)C   \n",
       "24        25     2,3,4-trimethylpentane  113.7  386.85    CC(C)C(C(C)C)C   \n",
       "25        26     2,2,4-trimethylpentane   99.3  372.45    CC(C)(CC(C)C)C   \n",
       "26        27                     nonane  150.7  423.85         CCCCCCCCC   \n",
       "27        28             2-methyloctane  143.0  416.15       CC(C)CCCCCC   \n",
       "28        29                     decane  174.2  447.35        CCCCCCCCCC   \n",
       "29        30             2-methylnonane  166.9  440.05      CC(C)CCCCCCC   \n",
       "\n",
       "         MW  \n",
       "0    16.043  \n",
       "1    30.070  \n",
       "2    44.100  \n",
       "3    58.120  \n",
       "4    58.120  \n",
       "5    72.150  \n",
       "6    72.150  \n",
       "7    72.150  \n",
       "8    86.180  \n",
       "9    86.180  \n",
       "10   86.180  \n",
       "11   86.180  \n",
       "12   86.180  \n",
       "13  100.200  \n",
       "14  100.200  \n",
       "15  100.200  \n",
       "16  100.200  \n",
       "17  100.200  \n",
       "18  100.205  \n",
       "19  100.200  \n",
       "20  114.230  \n",
       "21  114.232  \n",
       "22  114.230  \n",
       "23  114.230  \n",
       "24  114.230  \n",
       "25  114.230  \n",
       "26  128.250  \n",
       "27  128.259  \n",
       "28  142.280  \n",
       "29  142.280  "
      ]
     },
     "execution_count": 50,
     "metadata": {},
     "output_type": "execute_result"
    }
   ],
   "source": [
    "import pandas as pd        # import the Python Data Analysis Library with the shortened name pd\n",
    "df_bp = pd.read_csv(\"BP.csv\") # read in the file into a pandas dataframe\n",
    "df = df_bp\n",
    "df                         # print the dataframe (also try df.head() and df.describe())"
   ]
  },
  {
   "cell_type": "markdown",
   "metadata": {},
   "source": [
    "### Graphing the data\n",
    "\n"
   ]
  },
  {
   "cell_type": "markdown",
   "metadata": {},
   "source": [
    "Now we can graph the data using matplotlib.\n",
    "\n"
   ]
  },
  {
   "cell_type": "code",
   "execution_count": 51,
   "metadata": {},
   "outputs": [
    {
     "data": {
      "image/png": "[encoded data removed]",
      "text/plain": [
       "<Figure size 432x288 with 1 Axes>"
      ]
     },
     "metadata": {
      "needs_background": "light"
     },
     "output_type": "display_data"
    }
   ],
   "source": [
    "import matplotlib.pyplot as plt\n",
    "\n",
    "plt.scatter(df.MW, df.BP_K)     # plot of boiling point (in K) vs molecular weight\n",
    "plt.xlabel('Molecular Weight')\n",
    "plt.ylabel('Boiling Point in Kelvin')\n",
    "plt.show()"
   ]
  },
  {
   "cell_type": "markdown",
   "metadata": {},
   "source": [
    "Clearly from the data we can see that we have multiple molecules with the same\n",
    "molecular weight, but different boiling points. Molecular weight is therefore\n",
    "not the best predictor of boiling point. We can see if there are other\n",
    "descriptors that we can use such as Weiner or Zagreb. Let&rsquo;s add various\n",
    "descriptors to the dataframe.\n",
    "\n"
   ]
  },
  {
   "cell_type": "markdown",
   "metadata": {},
   "source": [
    "### Adding descriptors to the dataset\n",
    "\n"
   ]
  },
  {
   "cell_type": "markdown",
   "metadata": {},
   "source": [
    "We can now calculate the Wiener and Zagreb indices for each of our\n",
    "hydrocarbons and add them to the dataframe.\n",
    "\n"
   ]
  },
  {
   "cell_type": "code",
   "execution_count": 52,
   "metadata": {},
   "outputs": [
    {
     "data": {
      "text/html": [
       "<div>\n",
       "<style scoped>\n",
       "    .dataframe tbody tr th:only-of-type {\n",
       "        vertical-align: middle;\n",
       "    }\n",
       "\n",
       "    .dataframe tbody tr th {\n",
       "        vertical-align: top;\n",
       "    }\n",
       "\n",
       "    .dataframe thead th {\n",
       "        text-align: right;\n",
       "    }\n",
       "</style>\n",
       "<table border=\"1\" class=\"dataframe\">\n",
       "  <thead>\n",
       "    <tr style=\"text-align: right;\">\n",
       "      <th></th>\n",
       "      <th>compound</th>\n",
       "      <th>name</th>\n",
       "      <th>BP_C</th>\n",
       "      <th>BP_K</th>\n",
       "      <th>SMILES</th>\n",
       "      <th>MW</th>\n",
       "      <th>Wiener</th>\n",
       "      <th>Z1</th>\n",
       "      <th>Z2</th>\n",
       "    </tr>\n",
       "  </thead>\n",
       "  <tbody>\n",
       "    <tr>\n",
       "      <th>0</th>\n",
       "      <td>1</td>\n",
       "      <td>Methane</td>\n",
       "      <td>-162.2</td>\n",
       "      <td>110.95</td>\n",
       "      <td>C</td>\n",
       "      <td>16.043</td>\n",
       "      <td>0</td>\n",
       "      <td>0.0</td>\n",
       "      <td>0.0</td>\n",
       "    </tr>\n",
       "    <tr>\n",
       "      <th>1</th>\n",
       "      <td>2</td>\n",
       "      <td>Ethane</td>\n",
       "      <td>-88.6</td>\n",
       "      <td>184.55</td>\n",
       "      <td>CC</td>\n",
       "      <td>30.070</td>\n",
       "      <td>1</td>\n",
       "      <td>2.0</td>\n",
       "      <td>1.0</td>\n",
       "    </tr>\n",
       "    <tr>\n",
       "      <th>2</th>\n",
       "      <td>3</td>\n",
       "      <td>propane</td>\n",
       "      <td>-42.2</td>\n",
       "      <td>230.95</td>\n",
       "      <td>CCC</td>\n",
       "      <td>44.100</td>\n",
       "      <td>4</td>\n",
       "      <td>6.0</td>\n",
       "      <td>4.0</td>\n",
       "    </tr>\n",
       "    <tr>\n",
       "      <th>3</th>\n",
       "      <td>4</td>\n",
       "      <td>butane</td>\n",
       "      <td>-0.1</td>\n",
       "      <td>273.05</td>\n",
       "      <td>CCCC</td>\n",
       "      <td>58.120</td>\n",
       "      <td>10</td>\n",
       "      <td>10.0</td>\n",
       "      <td>8.0</td>\n",
       "    </tr>\n",
       "    <tr>\n",
       "      <th>4</th>\n",
       "      <td>5</td>\n",
       "      <td>2-methylpropane</td>\n",
       "      <td>-11.2</td>\n",
       "      <td>261.95</td>\n",
       "      <td>CC(C)C</td>\n",
       "      <td>58.120</td>\n",
       "      <td>9</td>\n",
       "      <td>12.0</td>\n",
       "      <td>9.0</td>\n",
       "    </tr>\n",
       "    <tr>\n",
       "      <th>5</th>\n",
       "      <td>6</td>\n",
       "      <td>pentane</td>\n",
       "      <td>36.1</td>\n",
       "      <td>309.25</td>\n",
       "      <td>CCCCC</td>\n",
       "      <td>72.150</td>\n",
       "      <td>20</td>\n",
       "      <td>14.0</td>\n",
       "      <td>12.0</td>\n",
       "    </tr>\n",
       "    <tr>\n",
       "      <th>6</th>\n",
       "      <td>7</td>\n",
       "      <td>2-methylbutane</td>\n",
       "      <td>27.0</td>\n",
       "      <td>300.15</td>\n",
       "      <td>CC(C)CC</td>\n",
       "      <td>72.150</td>\n",
       "      <td>18</td>\n",
       "      <td>16.0</td>\n",
       "      <td>14.0</td>\n",
       "    </tr>\n",
       "    <tr>\n",
       "      <th>7</th>\n",
       "      <td>8</td>\n",
       "      <td>2,2-dimethylpropane</td>\n",
       "      <td>9.5</td>\n",
       "      <td>282.65</td>\n",
       "      <td>CC(C)(C)C</td>\n",
       "      <td>72.150</td>\n",
       "      <td>16</td>\n",
       "      <td>20.0</td>\n",
       "      <td>16.0</td>\n",
       "    </tr>\n",
       "    <tr>\n",
       "      <th>8</th>\n",
       "      <td>9</td>\n",
       "      <td>hexane</td>\n",
       "      <td>68.8</td>\n",
       "      <td>341.95</td>\n",
       "      <td>CCCCCC</td>\n",
       "      <td>86.180</td>\n",
       "      <td>35</td>\n",
       "      <td>18.0</td>\n",
       "      <td>16.0</td>\n",
       "    </tr>\n",
       "    <tr>\n",
       "      <th>9</th>\n",
       "      <td>10</td>\n",
       "      <td>2-methylpentane</td>\n",
       "      <td>60.9</td>\n",
       "      <td>334.05</td>\n",
       "      <td>CC(C)CCC</td>\n",
       "      <td>86.180</td>\n",
       "      <td>32</td>\n",
       "      <td>20.0</td>\n",
       "      <td>18.0</td>\n",
       "    </tr>\n",
       "    <tr>\n",
       "      <th>10</th>\n",
       "      <td>11</td>\n",
       "      <td>3-methylpentane</td>\n",
       "      <td>63.3</td>\n",
       "      <td>336.45</td>\n",
       "      <td>CC(CC)CC</td>\n",
       "      <td>86.180</td>\n",
       "      <td>31</td>\n",
       "      <td>20.0</td>\n",
       "      <td>19.0</td>\n",
       "    </tr>\n",
       "    <tr>\n",
       "      <th>11</th>\n",
       "      <td>12</td>\n",
       "      <td>2,2-dimethylbutane</td>\n",
       "      <td>49.8</td>\n",
       "      <td>322.95</td>\n",
       "      <td>CC(C)(CC)C</td>\n",
       "      <td>86.180</td>\n",
       "      <td>28</td>\n",
       "      <td>24.0</td>\n",
       "      <td>22.0</td>\n",
       "    </tr>\n",
       "    <tr>\n",
       "      <th>12</th>\n",
       "      <td>13</td>\n",
       "      <td>2,3-dimethylbutane</td>\n",
       "      <td>58.1</td>\n",
       "      <td>331.25</td>\n",
       "      <td>CC(C)C(C)C</td>\n",
       "      <td>86.180</td>\n",
       "      <td>29</td>\n",
       "      <td>22.0</td>\n",
       "      <td>21.0</td>\n",
       "    </tr>\n",
       "    <tr>\n",
       "      <th>13</th>\n",
       "      <td>14</td>\n",
       "      <td>heptane</td>\n",
       "      <td>98.5</td>\n",
       "      <td>371.65</td>\n",
       "      <td>CCCCCCC</td>\n",
       "      <td>100.200</td>\n",
       "      <td>56</td>\n",
       "      <td>22.0</td>\n",
       "      <td>20.0</td>\n",
       "    </tr>\n",
       "    <tr>\n",
       "      <th>14</th>\n",
       "      <td>15</td>\n",
       "      <td>3-ethylpentane</td>\n",
       "      <td>93.5</td>\n",
       "      <td>366.65</td>\n",
       "      <td>C(C)C(CC)CC</td>\n",
       "      <td>100.200</td>\n",
       "      <td>48</td>\n",
       "      <td>24.0</td>\n",
       "      <td>24.0</td>\n",
       "    </tr>\n",
       "    <tr>\n",
       "      <th>15</th>\n",
       "      <td>16</td>\n",
       "      <td>2,2-dimethylpentane</td>\n",
       "      <td>79.2</td>\n",
       "      <td>352.35</td>\n",
       "      <td>CC(C)(CCC)C</td>\n",
       "      <td>100.200</td>\n",
       "      <td>46</td>\n",
       "      <td>28.0</td>\n",
       "      <td>26.0</td>\n",
       "    </tr>\n",
       "    <tr>\n",
       "      <th>16</th>\n",
       "      <td>17</td>\n",
       "      <td>2,3-dimethylpentane</td>\n",
       "      <td>89.8</td>\n",
       "      <td>362.95</td>\n",
       "      <td>CC(C)C(CC)C</td>\n",
       "      <td>100.200</td>\n",
       "      <td>46</td>\n",
       "      <td>26.0</td>\n",
       "      <td>26.0</td>\n",
       "    </tr>\n",
       "    <tr>\n",
       "      <th>17</th>\n",
       "      <td>18</td>\n",
       "      <td>2,4-dimethylpentane</td>\n",
       "      <td>80.6</td>\n",
       "      <td>353.75</td>\n",
       "      <td>CC(C)CC(C)C</td>\n",
       "      <td>100.200</td>\n",
       "      <td>48</td>\n",
       "      <td>26.0</td>\n",
       "      <td>24.0</td>\n",
       "    </tr>\n",
       "    <tr>\n",
       "      <th>18</th>\n",
       "      <td>19</td>\n",
       "      <td>2-methylhexane</td>\n",
       "      <td>90.1</td>\n",
       "      <td>363.25</td>\n",
       "      <td>CC(C)CCCC</td>\n",
       "      <td>100.205</td>\n",
       "      <td>52</td>\n",
       "      <td>24.0</td>\n",
       "      <td>22.0</td>\n",
       "    </tr>\n",
       "    <tr>\n",
       "      <th>19</th>\n",
       "      <td>20</td>\n",
       "      <td>3-methylhexane</td>\n",
       "      <td>91.8</td>\n",
       "      <td>364.95</td>\n",
       "      <td>CC(CC)CCC</td>\n",
       "      <td>100.200</td>\n",
       "      <td>50</td>\n",
       "      <td>24.0</td>\n",
       "      <td>23.0</td>\n",
       "    </tr>\n",
       "    <tr>\n",
       "      <th>20</th>\n",
       "      <td>21</td>\n",
       "      <td>octane</td>\n",
       "      <td>125.6</td>\n",
       "      <td>398.75</td>\n",
       "      <td>CCCCCCCC</td>\n",
       "      <td>114.230</td>\n",
       "      <td>84</td>\n",
       "      <td>26.0</td>\n",
       "      <td>24.0</td>\n",
       "    </tr>\n",
       "    <tr>\n",
       "      <th>21</th>\n",
       "      <td>22</td>\n",
       "      <td>3-methylheptane</td>\n",
       "      <td>118.9</td>\n",
       "      <td>392.05</td>\n",
       "      <td>CC(CC)CCCC</td>\n",
       "      <td>114.232</td>\n",
       "      <td>76</td>\n",
       "      <td>28.0</td>\n",
       "      <td>27.0</td>\n",
       "    </tr>\n",
       "    <tr>\n",
       "      <th>22</th>\n",
       "      <td>23</td>\n",
       "      <td>2,2,3,3-tetramethylbutane</td>\n",
       "      <td>106.5</td>\n",
       "      <td>379.65</td>\n",
       "      <td>CC(C)(C(C)(C)C)C</td>\n",
       "      <td>114.230</td>\n",
       "      <td>58</td>\n",
       "      <td>38.0</td>\n",
       "      <td>40.0</td>\n",
       "    </tr>\n",
       "    <tr>\n",
       "      <th>23</th>\n",
       "      <td>24</td>\n",
       "      <td>2,3,3-trimethylpentane</td>\n",
       "      <td>114.7</td>\n",
       "      <td>387.85</td>\n",
       "      <td>CC(C)C(CC)(C)C</td>\n",
       "      <td>114.230</td>\n",
       "      <td>62</td>\n",
       "      <td>34.0</td>\n",
       "      <td>36.0</td>\n",
       "    </tr>\n",
       "    <tr>\n",
       "      <th>24</th>\n",
       "      <td>25</td>\n",
       "      <td>2,3,4-trimethylpentane</td>\n",
       "      <td>113.7</td>\n",
       "      <td>386.85</td>\n",
       "      <td>CC(C)C(C(C)C)C</td>\n",
       "      <td>114.230</td>\n",
       "      <td>65</td>\n",
       "      <td>32.0</td>\n",
       "      <td>33.0</td>\n",
       "    </tr>\n",
       "    <tr>\n",
       "      <th>25</th>\n",
       "      <td>26</td>\n",
       "      <td>2,2,4-trimethylpentane</td>\n",
       "      <td>99.3</td>\n",
       "      <td>372.45</td>\n",
       "      <td>CC(C)(CC(C)C)C</td>\n",
       "      <td>114.230</td>\n",
       "      <td>66</td>\n",
       "      <td>34.0</td>\n",
       "      <td>32.0</td>\n",
       "    </tr>\n",
       "    <tr>\n",
       "      <th>26</th>\n",
       "      <td>27</td>\n",
       "      <td>nonane</td>\n",
       "      <td>150.7</td>\n",
       "      <td>423.85</td>\n",
       "      <td>CCCCCCCCC</td>\n",
       "      <td>128.250</td>\n",
       "      <td>120</td>\n",
       "      <td>30.0</td>\n",
       "      <td>28.0</td>\n",
       "    </tr>\n",
       "    <tr>\n",
       "      <th>27</th>\n",
       "      <td>28</td>\n",
       "      <td>2-methyloctane</td>\n",
       "      <td>143.0</td>\n",
       "      <td>416.15</td>\n",
       "      <td>CC(C)CCCCCC</td>\n",
       "      <td>128.259</td>\n",
       "      <td>114</td>\n",
       "      <td>32.0</td>\n",
       "      <td>30.0</td>\n",
       "    </tr>\n",
       "    <tr>\n",
       "      <th>28</th>\n",
       "      <td>29</td>\n",
       "      <td>decane</td>\n",
       "      <td>174.2</td>\n",
       "      <td>447.35</td>\n",
       "      <td>CCCCCCCCCC</td>\n",
       "      <td>142.280</td>\n",
       "      <td>165</td>\n",
       "      <td>34.0</td>\n",
       "      <td>32.0</td>\n",
       "    </tr>\n",
       "    <tr>\n",
       "      <th>29</th>\n",
       "      <td>30</td>\n",
       "      <td>2-methylnonane</td>\n",
       "      <td>166.9</td>\n",
       "      <td>440.05</td>\n",
       "      <td>CC(C)CCCCCCC</td>\n",
       "      <td>142.280</td>\n",
       "      <td>158</td>\n",
       "      <td>36.0</td>\n",
       "      <td>34.0</td>\n",
       "    </tr>\n",
       "  </tbody>\n",
       "</table>\n",
       "</div>"
      ],
      "text/plain": [
       "    compound                       name   BP_C    BP_K            SMILES  \\\n",
       "0          1                    Methane -162.2  110.95                 C   \n",
       "1          2                     Ethane  -88.6  184.55                CC   \n",
       "2          3                    propane  -42.2  230.95               CCC   \n",
       "3          4                     butane   -0.1  273.05              CCCC   \n",
       "4          5            2-methylpropane  -11.2  261.95            CC(C)C   \n",
       "5          6                    pentane   36.1  309.25             CCCCC   \n",
       "6          7             2-methylbutane   27.0  300.15           CC(C)CC   \n",
       "7          8        2,2-dimethylpropane    9.5  282.65         CC(C)(C)C   \n",
       "8          9                     hexane   68.8  341.95            CCCCCC   \n",
       "9         10            2-methylpentane   60.9  334.05          CC(C)CCC   \n",
       "10        11            3-methylpentane   63.3  336.45          CC(CC)CC   \n",
       "11        12         2,2-dimethylbutane   49.8  322.95        CC(C)(CC)C   \n",
       "12        13         2,3-dimethylbutane   58.1  331.25        CC(C)C(C)C   \n",
       "13        14                    heptane   98.5  371.65           CCCCCCC   \n",
       "14        15             3-ethylpentane   93.5  366.65       C(C)C(CC)CC   \n",
       "15        16        2,2-dimethylpentane   79.2  352.35       CC(C)(CCC)C   \n",
       "16        17        2,3-dimethylpentane   89.8  362.95       CC(C)C(CC)C   \n",
       "17        18        2,4-dimethylpentane   80.6  353.75       CC(C)CC(C)C   \n",
       "18        19             2-methylhexane   90.1  363.25         CC(C)CCCC   \n",
       "19        20             3-methylhexane   91.8  364.95         CC(CC)CCC   \n",
       "20        21                     octane  125.6  398.75          CCCCCCCC   \n",
       "21        22            3-methylheptane  118.9  392.05        CC(CC)CCCC   \n",
       "22        23  2,2,3,3-tetramethylbutane  106.5  379.65  CC(C)(C(C)(C)C)C   \n",
       "23        24     2,3,3-trimethylpentane  114.7  387.85    CC(C)C(CC)(C)C   \n",
       "24        25     2,3,4-trimethylpentane  113.7  386.85    CC(C)C(C(C)C)C   \n",
       "25        26     2,2,4-trimethylpentane   99.3  372.45    CC(C)(CC(C)C)C   \n",
       "26        27                     nonane  150.7  423.85         CCCCCCCCC   \n",
       "27        28             2-methyloctane  143.0  416.15       CC(C)CCCCCC   \n",
       "28        29                     decane  174.2  447.35        CCCCCCCCCC   \n",
       "29        30             2-methylnonane  166.9  440.05      CC(C)CCCCCCC   \n",
       "\n",
       "         MW  Wiener    Z1    Z2  \n",
       "0    16.043       0   0.0   0.0  \n",
       "1    30.070       1   2.0   1.0  \n",
       "2    44.100       4   6.0   4.0  \n",
       "3    58.120      10  10.0   8.0  \n",
       "4    58.120       9  12.0   9.0  \n",
       "5    72.150      20  14.0  12.0  \n",
       "6    72.150      18  16.0  14.0  \n",
       "7    72.150      16  20.0  16.0  \n",
       "8    86.180      35  18.0  16.0  \n",
       "9    86.180      32  20.0  18.0  \n",
       "10   86.180      31  20.0  19.0  \n",
       "11   86.180      28  24.0  22.0  \n",
       "12   86.180      29  22.0  21.0  \n",
       "13  100.200      56  22.0  20.0  \n",
       "14  100.200      48  24.0  24.0  \n",
       "15  100.200      46  28.0  26.0  \n",
       "16  100.200      46  26.0  26.0  \n",
       "17  100.200      48  26.0  24.0  \n",
       "18  100.205      52  24.0  22.0  \n",
       "19  100.200      50  24.0  23.0  \n",
       "20  114.230      84  26.0  24.0  \n",
       "21  114.232      76  28.0  27.0  \n",
       "22  114.230      58  38.0  40.0  \n",
       "23  114.230      62  34.0  36.0  \n",
       "24  114.230      65  32.0  33.0  \n",
       "25  114.230      66  34.0  32.0  \n",
       "26  128.250     120  30.0  28.0  \n",
       "27  128.259     114  32.0  30.0  \n",
       "28  142.280     165  34.0  32.0  \n",
       "29  142.280     158  36.0  34.0  "
      ]
     },
     "execution_count": 52,
     "metadata": {},
     "output_type": "execute_result"
    }
   ],
   "source": [
    "# create new lists to store results we calculate\n",
    "result_Wiener= []\n",
    "result_Z1= []\n",
    "result_Z2= []\n",
    "\n",
    "for index, row in df.iterrows():                # iterate through each row of the CSV data\n",
    "    SMILE = row['SMILES']                       # get SMILES string from row\n",
    "    mol = Chem.MolFromSmiles(SMILE)             # convert smiles string to mol file\n",
    "    result_Wiener.append(wiener_index(mol))     # calculate Wiener index descripter value\n",
    "    result_Z1.append(zagreb_index1(mol))        # calculate zagreb (Z1) descriptor value\n",
    "    result_Z2.append(zagreb_index2(mol))        # calculate zagreb (Z2) descriptor value\n",
    "\n",
    "df['Wiener'] = result_Wiener           # add the results for WienerIndex to dataframe\n",
    "df['Z1'] = result_Z1                   # add the results for Zagreb 1 to dataframe\n",
    "df['Z2'] = result_Z2                   # add the results for Zagreb 2 to dataframe\n",
    "df                                     # print the updated dataframe"
   ]
  },
  {
   "cell_type": "markdown",
   "metadata": {},
   "source": [
    "Now we can see how each of these descriptors are related to the boiling points\n",
    "of their respective compounds.\n",
    "\n"
   ]
  },
  {
   "cell_type": "code",
   "execution_count": 53,
   "metadata": {},
   "outputs": [
    {
     "data": {
      "image/png": "[encoded data removed]",
      "text/plain": [
       "<Figure size 432x288 with 1 Axes>"
      ]
     },
     "metadata": {
      "needs_background": "light"
     },
     "output_type": "display_data"
    }
   ],
   "source": [
    "plt.scatter(df.Wiener, df.BP_K) # plot of BP versus Wiener index\n",
    "plt.xlabel('Wiener Index')\n",
    "plt.ylabel('Boiling Point in Kelvin')\n",
    "plt.show()"
   ]
  },
  {
   "cell_type": "code",
   "execution_count": 54,
   "metadata": {},
   "outputs": [
    {
     "data": {
      "image/png": "[encoded data removed]",
      "text/plain": [
       "<Figure size 432x288 with 1 Axes>"
      ]
     },
     "metadata": {
      "needs_background": "light"
     },
     "output_type": "display_data"
    }
   ],
   "source": [
    "plt.scatter(df.Z1, df.BP_K) # plot of BP versus Zagreb M1\n",
    "plt.xlabel('Zagreb M1')\n",
    "plt.ylabel('Boiling Point in Kelvin')\n",
    "plt.show()"
   ]
  },
  {
   "cell_type": "code",
   "execution_count": 55,
   "metadata": {},
   "outputs": [
    {
     "data": {
      "image/png": "[encoded data removed]",
      "text/plain": [
       "<Figure size 432x288 with 1 Axes>"
      ]
     },
     "metadata": {
      "needs_background": "light"
     },
     "output_type": "display_data"
    }
   ],
   "source": [
    "plt.scatter(df.Z2, df.BP_K) # plot of BP versus Zagreb M2\n",
    "plt.xlabel('Zagreb M2')\n",
    "plt.ylabel('Boiling Point in Kelvin')\n",
    "plt.show()"
   ]
  },
  {
   "cell_type": "markdown",
   "metadata": {},
   "source": [
    "exercise 1: try writing a block that plots the Z1 value vs the Z2 value"
   ]
  },
  {
   "cell_type": "code",
   "execution_count": 56,
   "metadata": {},
   "outputs": [],
   "source": [
    "# exercise 1:"
   ]
  },
  {
   "cell_type": "markdown",
   "metadata": {},
   "source": [
    "Clearly molecular weight was somewhat predictive, but problematic. It looks like\n",
    "using the other indicators we have have some other ways to predict boiling\n",
    "point.\n",
    "\n",
    "One option is write this data to a new CSV file and work in Microsoft Excel to\n",
    "perform a regression analysis. Exporting the data is straightforward and your\n",
    "instructor may provide instructions on how to analyze the data using Excel.\n",
    "\n"
   ]
  },
  {
   "cell_type": "code",
   "execution_count": 57,
   "metadata": {},
   "outputs": [],
   "source": [
    "df.to_csv('bp_descriptor_data.csv', encoding='utf-8', index=False)"
   ]
  },
  {
   "cell_type": "markdown",
   "metadata": {},
   "source": [
    "Download the original QSPR.ipynb from Canvas and pip install statsmodel to explore\n",
    "Mulitple regression analysis\n",
    "\n"
   ]
  },
  {
   "cell_type": "markdown",
   "metadata": {},
   "source": [
    "# To explore creating a database, and creating an API start with:\n",
    "pip install Flask\n",
    "\n",
    "pip install sqlalchemy\n",
    "\n",
    "And if you don't have sqlite installed (it comes with recent python installs):\n",
    "\n",
    "pip install db-sqlite3\n",
    "\n",
    "more info: \n",
    "\n",
    "https://flask.palletsprojects.com/en/2.2.x/quickstart/\n",
    "\n",
    "https://docs.sqlalchemy.org/en/14/intro.html\n"
   ]
  },
  {
   "cell_type": "markdown",
   "metadata": {},
   "source": [
    "First we will use an engine from sqlalchemy to convert our dataframe to a SQL (structured query language) database using sqlite, the SQL language built into python. The name of the database is 'chemical'."
   ]
  },
  {
   "cell_type": "code",
   "execution_count": 58,
   "metadata": {},
   "outputs": [
    {
     "data": {
      "text/plain": [
       "30"
      ]
     },
     "execution_count": 58,
     "metadata": {},
     "output_type": "execute_result"
    }
   ],
   "source": [
    "from sqlalchemy import create_engine\n",
    "engine = create_engine('sqlite://', echo=False)\n",
    "df_bp.to_sql('chemical', con=engine)"
   ]
  },
  {
   "cell_type": "markdown",
   "metadata": {},
   "source": [
    "Once the 'chemical' database is created it can be interrogated with CRUD (create, read, update, and delete) operations using the SQLite langunge sent through the engine. Here we use the engine to execute a SELECT statement. In SQL the * means \"all\" so we are selecting all rows of the database where the column \"name\" has the value \"Methane\". Appending fetchall() to the end returns the result to us."
   ]
  },
  {
   "cell_type": "code",
   "execution_count": 59,
   "metadata": {},
   "outputs": [
    {
     "data": {
      "text/plain": [
       "[(0, 1, 'Methane', -162.2, 110.95, 'C', 16.043, 0, 0.0, 0.0)]"
      ]
     },
     "execution_count": 59,
     "metadata": {},
     "output_type": "execute_result"
    }
   ],
   "source": [
    "engine.execute(\"SELECT * FROM chemical WHERE chemical.name is 'Methane'\").fetchall()"
   ]
  },
  {
   "cell_type": "code",
   "execution_count": 60,
   "metadata": {},
   "outputs": [
    {
     "data": {
      "text/plain": [
       "[(3, 4, 'butane', -0.1, 273.05, 'CCCC', 58.12, 10, 10.0, 8.0)]"
      ]
     },
     "execution_count": 60,
     "metadata": {},
     "output_type": "execute_result"
    }
   ],
   "source": [
    "engine.execute(\"SELECT * FROM chemical WHERE chemical.BP_C is -0.1\").fetchall()"
   ]
  },
  {
   "cell_type": "markdown",
   "metadata": {},
   "source": [
    "exercise 2: try writing a line that returns propoane by MW from your SQL database "
   ]
  },
  {
   "cell_type": "code",
   "execution_count": 61,
   "metadata": {},
   "outputs": [
    {
     "data": {
      "text/plain": [
       "[(44.1,)]"
      ]
     },
     "execution_count": 61,
     "metadata": {},
     "output_type": "execute_result"
    }
   ],
   "source": [
    "# exercise 2\n",
    "engine.execute(\"SELECT mw FROM chemical WHERE chemical.name is 'propane'\").fetchall()\n",
    "\n",
    "# select property  from chemical where chemical name is <name>"
   ]
  },
  {
   "cell_type": "markdown",
   "metadata": {},
   "source": [
    "We can embed this engine in a function that returns the result as a dictionary in JSON (JavaScript Object Notation) format commonly used in http requests."
   ]
  },
  {
   "cell_type": "code",
   "execution_count": 65,
   "metadata": {},
   "outputs": [],
   "source": [
    "import json\n",
    "\n",
    "\n",
    "def get_chemicals(bp_value):\n",
    "    chemicals = {}\n",
    "    df_bp = pd.read_csv(\"BP.csv\")\n",
    "    engine = create_engine('sqlite://', echo=False)\n",
    "    df_bp.to_sql('chemical', con=engine)\n",
    "    #Connecting the element properties within the retreived lists (as show in the examples above)\n",
    "    # to column names, as shown below:\n",
    "    col_names = ['index', 'compound_number', 'name', 'BP_C', 'BP_K', 'SMILES', 'MW']\n",
    "    try:\n",
    "        with engine.connect() as conn:\n",
    "            conn = conn.execution_options(stream_results=True, max_row_buffer=100)\n",
    "            result = conn.execute(text(f\"SELECT * from chemical WHERE chemical.BP_C is {bp_value}\"))\n",
    "\n",
    "            for row in result:\n",
    "                chemicals = {}\n",
    "                for x, y in enumerate(row):\n",
    "                    chemicals[col_names[x]] = y\n",
    "    except:\n",
    "        print('nothing to return')\n",
    "        chemicals = {}\n",
    "\n",
    "    chemicals_out = json.dumps(dict(chemicals), separators=(',', ':'))\n",
    "\n",
    "    return chemicals_out"
   ]
  },
  {
   "cell_type": "markdown",
   "metadata": {},
   "source": [
    "Now check this function out by submitting a bp_value. It must be sent as a string because of how the database was setup. More nuanced methods of creating your SQL schema where you can use integers or floating point numbers are described here: https://levelup.gitconnected.com/full-stack-web-app-with-python-react-and-bootstrap-backend-8592baa6e4eb"
   ]
  },
  {
   "cell_type": "code",
   "execution_count": 66,
   "metadata": {},
   "outputs": [
    {
     "data": {
      "text/plain": [
       "'{\"index\":3,\"compound_number\":4,\"name\":\"butane\",\"BP_C\":-0.1,\"BP_K\":273.05,\"SMILES\":\"CCCC\",\"MW\":58.12}'"
      ]
     },
     "execution_count": 66,
     "metadata": {},
     "output_type": "execute_result"
    }
   ],
   "source": [
    "bp_value = '-0.1'\n",
    "get_chemicals(bp_value)"
   ]
  },
  {
   "cell_type": "markdown",
   "metadata": {},
   "source": [
    "Now we will put it all together into an app using flask and create an API. Follow the directions below carefully. Running this code inside Jupyter casues problems becasue there is no easy way to shutdown your app. This block repeats material from earlier so that it is available to this standalone app."
   ]
  },
  {
   "cell_type": "code",
   "execution_count": 64,
   "metadata": {},
   "outputs": [
    {
     "ename": "ModuleNotFoundError",
     "evalue": "No module named 'flask_cors'",
     "output_type": "error",
     "traceback": [
      "\u001b[0;31m---------------------------------------------------------------------------\u001b[0m",
      "\u001b[0;31mModuleNotFoundError\u001b[0m                       Traceback (most recent call last)",
      "Input \u001b[0;32mIn [64]\u001b[0m, in \u001b[0;36m<cell line: 10>\u001b[0;34m()\u001b[0m\n\u001b[1;32m      8\u001b[0m \u001b[38;5;28;01mfrom\u001b[39;00m \u001b[38;5;21;01msqlalchemy\u001b[39;00m \u001b[38;5;28;01mimport\u001b[39;00m create_engine, text\n\u001b[1;32m      9\u001b[0m \u001b[38;5;28;01mfrom\u001b[39;00m \u001b[38;5;21;01mflask\u001b[39;00m \u001b[38;5;28;01mimport\u001b[39;00m Flask, request, jsonify \u001b[38;5;66;03m#added to top of file\u001b[39;00m\n\u001b[0;32m---> 10\u001b[0m \u001b[38;5;28;01mfrom\u001b[39;00m \u001b[38;5;21;01mflask_cors\u001b[39;00m \u001b[38;5;28;01mimport\u001b[39;00m CORS \u001b[38;5;66;03m#added to top of file\u001b[39;00m\n\u001b[1;32m     11\u001b[0m \u001b[38;5;28;01mimport\u001b[39;00m \u001b[38;5;21;01mjson\u001b[39;00m\n\u001b[1;32m     13\u001b[0m \u001b[38;5;28;01mdef\u001b[39;00m \u001b[38;5;21mget_chemicals\u001b[39m(bp_value):\n",
      "\u001b[0;31mModuleNotFoundError\u001b[0m: No module named 'flask_cors'"
     ]
    }
   ],
   "source": [
    "# don't run the \"app.run()\" line in Jupyter. \n",
    "# Instead, copy the text of  this block and save as \"first_app.py\" after uncommenting the last 2 lines and \n",
    "# run it from a terminal or prompt with this command: \"python3 first_app.py\"\n",
    "# The BP.csv file must be in the same folder\n",
    "\n",
    "\n",
    "import pandas as pd\n",
    "from sqlalchemy import create_engine, text\n",
    "from flask import Flask, request, jsonify #added to top of file\n",
    "from flask_cors import CORS #added to top of file\n",
    "import json\n",
    "\n",
    "def get_chemicals(bp_value):\n",
    "    chemicals = {}\n",
    "    df_bp = pd.read_csv(\"BP.csv\")\n",
    "    engine = create_engine('sqlite://', echo=False)\n",
    "    df_bp.to_sql('chemical', con=engine)\n",
    "    col_names = ['index', 'compound_number', 'name', 'BP_C', 'BP_K', 'SMILES', 'MW']\n",
    "    try:\n",
    "        with engine.connect() as conn:\n",
    "            conn = conn.execution_options(stream_results=True, max_row_buffer=100)\n",
    "            result = conn.execute(text(f\"SELECT * from chemical WHERE chemical.BP_C is {bp_value}\"))\n",
    "\n",
    "            for row in result:\n",
    "                chemicals = {}\n",
    "                for x, y in enumerate(row):\n",
    "                    chemicals[col_names[x]] = y\n",
    "    except:\n",
    "        print('nothing to return')\n",
    "        chemicals = {}\n",
    "    chemicals_out = json.dumps(dict(chemicals), separators=(',', ':'))\n",
    "\n",
    "    return chemicals_out\n",
    "\n",
    "app = Flask(__name__)\n",
    "CORS(app, resources={r\"/*\": {\"origins\": \"*\"}})\n",
    "\n",
    "@app.route('/api/chemical', methods=['POST'])\n",
    "\n",
    "def api_get_users():\n",
    "    return jsonify(get_chemicals('-0.1'))\n",
    "\n",
    "# if __name__ == ('__main__'):\n",
    "#     app.run()"
   ]
  },
  {
   "cell_type": "code",
   "execution_count": 73,
   "metadata": {},
   "outputs": [
    {
     "name": "stdout",
     "output_type": "stream",
     "text": [
      "\"{\\\"index\\\":3,\\\"compound_number\\\":4,\\\"name\\\":\\\"butane\\\",\\\"BP_C\\\":-0.1,\\\"BP_K\\\":273.05,\\\"SMILES\\\":\\\"CCCC\\\",\\\"MW\\\":58.12}\"\n",
      "\n"
     ]
    }
   ],
   "source": [
    "import requests\n",
    "smiles= 'CC(C)(C(C)(C)C)C'\n",
    "url = 'http://127.0.0.1:5000/api/chemical'\n",
    "req = requests.post(url, data=smiles)\n",
    "print(req.text)"
   ]
  },
  {
   "cell_type": "markdown",
   "metadata": {},
   "source": [
    "Assignment, option 1:\n",
    "\n",
    "Improve upon this API to allow the user to POST specific data and receive a specific result (e.g. inputing a BP and/or Z1 value)\n",
    "\n",
    "Assignment, option 2:\n",
    "\n",
    "pip install statsmodel to explore mulitple regression analysis and complete the original notebook QSPR.ipynb from Canvas inlcluding the assignment at the bottom \n"
   ]
  },
  {
   "cell_type": "markdown",
   "metadata": {},
   "source": []
  },
  {
   "cell_type": "markdown",
   "metadata": {},
   "source": [
    "**Assignment Option 1:**"
   ]
  },
  {
   "cell_type": "code",
   "execution_count": 75,
   "metadata": {},
   "outputs": [
    {
     "name": "stdout",
     "output_type": "stream",
     "text": [
      "<!DOCTYPE HTML PUBLIC \"-//W3C//DTD HTML 3.2 Final//EN\">\n",
      "<title>404 Not Found</title>\n",
      "<h1>Not Found</h1>\n",
      "<p>The requested URL was not found on the server. If you entered the URL manually please check your spelling and try again.</p>\n",
      "\n"
     ]
    }
   ],
   "source": [
    "import requests\n",
    "smiles= 'CC(C)(C(C)(C)C)C'\n",
    "url = 'http://127.0.0.1:5000/post/'\n",
    "req = requests.post(url, data=smiles)\n",
    "print(req.text)"
   ]
  },
  {
   "cell_type": "code",
   "execution_count": null,
   "metadata": {},
   "outputs": [],
   "source": []
  }
 ],
 "metadata": {
  "kernelspec": {
   "display_name": "Python 3 (ipykernel)",
   "language": "python",
   "name": "python3"
  },
  "language_info": {
   "codemirror_mode": {
    "name": "ipython",
    "version": 3
   },
   "file_extension": ".py",
   "mimetype": "text/x-python",
   "name": "python",
   "nbconvert_exporter": "python",
   "pygments_lexer": "ipython3",
   "version": "3.9.12"
  },
  "org": null,
  "vscode": {
   "interpreter": {
    "hash": "74b0eeecb9694be932ad336503137f0c047c9eb8ec8a4a235079c04fe56ee89e"
   }
  }
 },
 "nbformat": 4,
 "nbformat_minor": 4
}
