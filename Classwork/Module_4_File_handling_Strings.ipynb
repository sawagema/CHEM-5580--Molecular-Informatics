{
 "cells": [
  {
   "cell_type": "markdown",
   "metadata": {},
   "source": [
    "ver. 02022020\n",
    "# Module 4 - Strings and things\n",
    "\n",
    "We have reached a stage where you have started doing things with python that would take too long to do by hand or by using excel. Today we will learn the final few functions to enable you to write code that can process large datasets. At the end of this module, you will be able to read a data file and plot the results, all within jupyter.\n",
    "\n",
    "Today's topics:\n",
    " - Strings\n",
    " - File Handling\n",
    " - Importing packages\n",
    " - Basic plotting\n",
    " \n"
   ]
  },
  {
   "cell_type": "markdown",
   "metadata": {},
   "source": [
    "### Strings\n",
    "\n",
    "In typical code where you read information from a file, you are going to read each line of a file as a string. So knowing python's powerful options for string manipulation will help you write code that reads files like human eyes.\n",
    "\n",
    "Refreshing our memories, string is just a set of characters enclosed by quotation marks. We can manipulate strings in many ways with python that is powerful and very useful in a variety of contexts. \n",
    "\n",
    "Refresher: Each character in a string has an index. Consider the string \"A Test String\":<br>\n",
    "\n",
    "Character&emsp;Index<br>\n",
    "\"A\"&emsp;&emsp;0<br>\n",
    "\" \"&emsp;&emsp;1<br>\n",
    "\"T\"&emsp;&emsp;2<br>\n",
    "\"E\"&emsp;&emsp;3<br>\n",
    "\"S\"&emsp;&emsp;4<br>\n",
    "\"T\"&emsp;&emsp;5<br>\n",
    "\" \"&emsp;&emsp;6<br>\n",
    "\"S\"&emsp;&emsp;7<br>\n",
    "\"t\"&emsp;&emsp;8<br>\n",
    "\"r\"&emsp;&emsp;&ensp;9<br>\n",
    "\"i\"&emsp;&emsp;10<br>\n",
    "\"n\"&emsp;&emsp;11<br>\n",
    "\"g\"&emsp;&emsp;12<br>\n",
    "\n",
    "### Let us do some string manipulation!\n",
    "\n",
    "Let's some biological problems to illustrate string manipulation in python:\n",
    "\n",
    " - How do I calculate the percentage of positively charged residues in a protein sequence?\n",
    " - How do I get the reverse complement of a DNA sequence?\n",
    " - How do I calculate the GC% in my **raw** sequencing reads?\n",
    " \n",
    "#### In the course of these examples, we will learn how to: <br>\n",
    " - Count the occurance of a substring\n",
    " - Length of a string\n",
    " - Split a string\n",
    " - Replace characters in a string\n",
    " - Find characters in a string\n",
    " - Remove specific characters from a stirng\n",
    " - Ask if the string has alphabets or numbers\n",
    " - Open a file and read it inside jupyter\n",
    " - Use loops and datastructures to process files\n"
   ]
  },
  {
   "cell_type": "markdown",
   "metadata": {},
   "source": [
    "### How do I calculate the percentage of positively charged residues in a protein sequence?\n",
    "\n",
    "Let us take my favorite protein sequence and write code to find percentage of positively charged residues. Protein/DNA sequence files usually are in Fasta format:<br>\n",
    "\"A sequence in FASTA format begins with a single-line description, followed by lines of sequence data. The description line (defline) is distinguished from the sequence data by a greater-than (\">\") symbol at the beginning.\" ([From NCBI](https://blast.ncbi.nlm.nih.gov/Blast.cgi?CMD=Web&PAGE_TYPE=BlastDocs&DOC_TYPE=BlastHelp))<br><br>\n",
    "In reality, you would write code to process a fasta file. We will learn later today how to open and read a file, but for now, we will just initialize a string as a shortcut:"
   ]
  },
  {
   "cell_type": "code",
   "execution_count": 1,
   "metadata": {},
   "outputs": [
    {
     "name": "stdout",
     "output_type": "stream",
     "text": [
      ">histone_H3\n",
      "MARTKQTARKSTGGKAPRKQLATKAARKSAPATGGVKKPHRYRPGTVALREIRRYQKSTELLIRKLPFQRLVREIAQDFKTDLRFQSSAVMALQEACEAYLVGLFEDTNLCAIHAKRVTIMPKDIQLARRIRGERA\n"
     ]
    }
   ],
   "source": [
    "fasta_file=\">histone_H3\\nMARTKQTARKSTGGKAPRKQLATKAARKSAPATGGVKKPHRYRPGTVALREIRRYQKSTE\\\n",
    "LLIRKLPFQRLVREIAQDFKTDLRFQSSAVMALQEACEAYLVGLFEDTNLCAIHAKRVTIMPKDIQLARRIRGERA\"\n",
    "print(fasta_file)"
   ]
  },
  {
   "cell_type": "markdown",
   "metadata": {},
   "source": [
    "### String parsing\n",
    "\n",
    "String parsing can be a powerful way to process **large** or **many** files in batch mode to extract information relevant to us, avoiding manual curation. \n",
    "\n",
    "In the example of `fasta_file`, there are two lines:\n",
    "\n",
    "- First line is the sequence name, which starts with \">\"\n",
    "- Second line is the sequence itself\n",
    "\n",
    "How do we extract information from this fasta entry? We will use `string.split(separator)`. Here, `fasta_file` is the string, and `\\n` is the separator (split by lines).\n"
   ]
  },
  {
   "cell_type": "code",
   "execution_count": 2,
   "metadata": {},
   "outputs": [],
   "source": [
    "#Two lines in the fasta file, let us separate the lines\n",
    "fasta_lines = fasta_file.split('\\n')"
   ]
  },
  {
   "cell_type": "markdown",
   "metadata": {},
   "source": [
    "Quick refresher: What kind of data type is `fasta_lines`?"
   ]
  },
  {
   "cell_type": "code",
   "execution_count": 3,
   "metadata": {},
   "outputs": [
    {
     "data": {
      "text/plain": [
       "list"
      ]
     },
     "execution_count": 3,
     "metadata": {},
     "output_type": "execute_result"
    }
   ],
   "source": [
    "type(fasta_lines)"
   ]
  },
  {
   "cell_type": "code",
   "execution_count": 4,
   "metadata": {},
   "outputs": [
    {
     "name": "stdout",
     "output_type": "stream",
     "text": [
      "['>histone_H3', 'MARTKQTARKSTGGKAPRKQLATKAARKSAPATGGVKKPHRYRPGTVALREIRRYQKSTELLIRKLPFQRLVREIAQDFKTDLRFQSSAVMALQEACEAYLVGLFEDTNLCAIHAKRVTIMPKDIQLARRIRGERA']\n"
     ]
    }
   ],
   "source": [
    "print(fasta_lines)"
   ]
  },
  {
   "cell_type": "markdown",
   "metadata": {},
   "source": [
    "There were two lines, each of which are an element in the list `fasta_lines`. <br>Now, which of the elements is the header and which of them is the sequence? \n",
    "<br><br><br>\n",
    "How do I separate the header and the sequence?<br><br>\n",
    "It is always useful to write out or think out the pseudocode, so you can solve the problem in your head first, before writing any code.<br><br>\n",
    "Pseudocode:\n",
    "- The header in a fasta starts with `>`. We can check for that with `startswith()`. \n",
    "- We will go through each element of the list `fasta_lines` and check for the `>` sign. \n",
    "- If the `>` sign is absent, that element is the sequence."
   ]
  },
  {
   "cell_type": "code",
   "execution_count": 5,
   "metadata": {},
   "outputs": [
    {
     "name": "stdout",
     "output_type": "stream",
     "text": [
      "Seq name:\t>histone_H3\n",
      "Seq:\t\tMARTKQTARKSTGGKAPRKQLATKAARKSAPATGGVKKPHRYRPGTVALREIRRYQKSTELLIRKLPFQRLVREIAQDFKTDLRFQSSAVMALQEACEAYLVGLFEDTNLCAIHAKRVTIMPKDIQLARRIRGERA \n",
      " {'>histone_H3': 'MARTKQTARKSTGGKAPRKQLATKAARKSAPATGGVKKPHRYRPGTVALREIRRYQKSTELLIRKLPFQRLVREIAQDFKTDLRFQSSAVMALQEACEAYLVGLFEDTNLCAIHAKRVTIMPKDIQLARRIRGERA'}\n"
     ]
    },
    {
     "data": {
      "text/plain": [
       "dict_values(['MARTKQTARKSTGGKAPRKQLATKAARKSAPATGGVKKPHRYRPGTVALREIRRYQKSTELLIRKLPFQRLVREIAQDFKTDLRFQSSAVMALQEACEAYLVGLFEDTNLCAIHAKRVTIMPKDIQLARRIRGERA'])"
      ]
     },
     "execution_count": 5,
     "metadata": {},
     "output_type": "execute_result"
    }
   ],
   "source": [
    "for i in fasta_lines: #for each line\n",
    "    if i.startswith('>'): #Does the line start with the \">\" symbol?\n",
    "        seq_name = i\n",
    "    else:\n",
    "        seq = i\n",
    "fasta_dict = {seq_name : seq}\n",
    "print(\"Seq name:\\t\"+seq_name+\"\\nSeq:\\t\\t\"+seq, '\\n', fasta_dict)\n",
    "fasta_dict.values()"
   ]
  },
  {
   "cell_type": "markdown",
   "metadata": {},
   "source": [
    "Ok, we have taught python to recognize the sequence now! What did we want to do again? Right, find the percentage of positive residues in the sequence.\n",
    "\n",
    "Lysine (K), Arginine (R), and Histidine (H) are the positive residues. We use `string.count(pattern)` to count occurences of these residues. Here, `seq` is the `string` and `H`, `K`, and `R` form the `pattern`."
   ]
  },
  {
   "cell_type": "code",
   "execution_count": 6,
   "metadata": {},
   "outputs": [
    {
     "name": "stdout",
     "output_type": "stream",
     "text": [
      "Seq name:\t>histone_H3\n",
      "Seq:\t\tMARTKQTARKSTGGKAPRKQLATKAARKSAPATGGVKKPHRYRPGTVALREIRRYQKSTELLIRKLPFQRLVREIAQDFKTDLRFQSSAVMALQEACEAYLVGLFEDTNLCAIHAKRVTIMPKDIQLARRIRGERA\n",
      "Count of Positive Residues:33\n"
     ]
    }
   ],
   "source": [
    "for i in fasta_lines: #for each line\n",
    "    if i.startswith('>'): #Does the line start with the \">\" symbol?\n",
    "        seq_name = i\n",
    "    else:\n",
    "        seq = i\n",
    "        #Count the positive residues when we get to a sequence line\n",
    "        count = seq.count('K') + seq.count('R') + seq.count('H')\n",
    "        #print the results inside the loop\n",
    "        print(\"Seq name:\\t\"+seq_name+\"\\nSeq:\\t\\t\"+seq+\"\\nCount of Positive Residues:\"+str(count))"
   ]
  },
  {
   "cell_type": "markdown",
   "metadata": {},
   "source": [
    "Wait, this \"count\" doesn't take into account the protein length. We can't compare any two proteins on this metric. This brings us to the important concept of **normalization** which we will do a lot with any data we deal with to enable comparisons. How will you **normalize** the *positivity* of a protein??\n",
    "<br><br><br>\n",
    "We can **normalize** to total protein length. We use `len(string)` to find length of strings.\n",
    "(Can you think of other ways to normalize positive residues of a protein to enable comparisons?)"
   ]
  },
  {
   "cell_type": "code",
   "execution_count": 7,
   "metadata": {},
   "outputs": [
    {
     "name": "stdout",
     "output_type": "stream",
     "text": [
      "Seq name:\t>histone_H3\n",
      "Seq:\t\tMARTKQTARKSTGGKAPRKQLATKAARKSAPATGGVKKPHRYRPGTVALREIRRYQKSTELLIRKLPFQRLVREIAQDFKTDLRFQSSAVMALQEACEAYLVGLFEDTNLCAIHAKRVTIMPKDIQLARRIRGERA\n",
      "% of Positive Residues:24.3\n"
     ]
    }
   ],
   "source": [
    "for i in fasta_lines: #for each line\n",
    "    if i.startswith('>'): #Does the line start with the \">\" symbol?\n",
    "        seq_name = i\n",
    "    else:\n",
    "        seq = i\n",
    "        #Count the positive residues when we get to a sequence line\n",
    "        count = seq.count('K') + seq.count('R') + seq.count('H')\n",
    "        percent_positive = count*100/len(seq)\n",
    "        #print the results inside the loop\n",
    "        #Use round to limit number of decimals\n",
    "        print(\"Seq name:\\t\"+seq_name+\"\\nSeq:\\t\\t\"+seq+\"\\n% of Positive Residues:\"+str(round(percent_positive,1)))"
   ]
  },
  {
   "cell_type": "markdown",
   "metadata": {},
   "source": [
    "Ok, so is 24 high or low or par for the course? We need to study more proteins! Let us add two \"housekeeping\" proteins: GAPDH and Actin, and an RNA binding protein, HuR. Again, we are using a shortcut for now and assigning the sequences to a `string`"
   ]
  },
  {
   "cell_type": "code",
   "execution_count": 8,
   "metadata": {},
   "outputs": [
    {
     "name": "stdout",
     "output_type": "stream",
     "text": [
      ">histone_H3\n",
      "MARTKQTARKSTGGKAPRKQLATKAARKSAPATGGVKKPHRYRPGTVALREIRRYQKSTELLIRKLPFQRLVREIAQDFKTDLRFQSSAVMALQEACEAYLVGLFEDTNLCAIHAKRVTIMPKDIQLARRIRGERA\n",
      ">Actin\n",
      "MDDDIAALVVDNGSGMCKAGFAGDDAPRAVFPSIVGRPRHQGVMVGMGQKDSYVGDEAQSKRGILTLKYPIEHGIVTNWDDMEKIWHHTFYNELRVAPEEHPVLLTEAPLNPKANREKMTQIMFETFNTPAMYVAIQAVLSLYASGRTTGIVMDSGDGVTHTVPIYEGYALPHAILRLDLAGRDLTDYLMKILTERGYSFTTTAEREIVRDIKEKLCYVALDFEQEMATAASSSSLEKSYELPDGQVITIGNERFRCPEALFQPSFLGMESCGIHETTFNSIMKCDVDIRKDLYANTVLSGGTTMYPGIADRMQKEITALAPSTMKIKIIAPPERKYSVWIGGSILASLSTFQQMWISKQEYDESGPSIVHRKCF\n",
      ">Gapdh\n",
      "MGKVKVGVNGFGRIGRLVTRAAFNSGKVDIVAINDPFIDLNYMVYMFQYDSTHGKFHGTVKAENGKLVINGNPITIFQERDPSKIKWGDAGAEYVVESTGVFTTMEKAGAHLQGGAKRVIISAPSADAPMFVMGVNHEKYDNSLKIISNASCTTNCLAPLAKVIHDNFGIVEGLMTTVHAITATQKTVDGPSGKLWRDGRGALQNIIPASTGAAKAVGKVIPELNGKLTGMAFRVPTANVSVVDLTCRLEKPAKYDDIKKVVKQASEGPLKGILGYTEHQVVSSDFNSDTHSSTFDAGAGIALNDHFVKLISWYDNEFGYSNRVVDLMAHMASKE\n",
      ">HuR\n",
      "MSNGYEDHMAEDCRGDIGRTNLIVNYLPQNMTQDELRSLFSSIGEVESAKLIRDKVAGHSLGYGFVNYVTAKDAERAINTLNGLRLQSKTIKVSYARPSSEVIKDANLYISGLPRTMTQKDVEDMFSRFGRIINSRVLVDQTTGLSRGVAFIRFDKRSEAEEAITSFNGHKPPGSSEPITVKFAANPNQNKNVALLSQLYHSPARRFGGPVHHQAQRFRFSPMGVDHMSGLSGVNVPGNASSGWCIFIYNLGQDADEGILWQMFGPFGAVTNVKVIRDFNTNKCKGFGFVTMTNYEEAAMAIASLNGYRLGDKILQVSFKTNKSHK\n"
     ]
    }
   ],
   "source": [
    "fasta_file=\">histone_H3\\nMARTKQTARKSTGGKAPRKQLATKAARKSAPATGGVKKPHRYRPGTVALREIRRYQKSTELLIRKLPFQRLVREIAQDFKTDLR\\\n",
    "FQSSAVMALQEACEAYLVGLFEDTNLCAIHAKRVTIMPKDIQLARRIRGERA\\n>Actin\\nMDDDIAALVVDNGSGMCKAGFAGDDAPRAVFPSIVGRPRHQGVMVGMG\\\n",
    "QKDSYVGDEAQSKRGILTLKYPIEHGIVTNWDDMEKIWHHTFYNELRVAPEEHPVLLTEAPLNPKANREKMTQIMFETFNTPAMYVAIQAVLSLYASGRTTGIVMDSGDG\\\n",
    "VTHTVPIYEGYALPHAILRLDLAGRDLTDYLMKILTERGYSFTTTAEREIVRDIKEKLCYVALDFEQEMATAASSSSLEKSYELPDGQVITIGNERFRCPEALFQPSFLG\\\n",
    "MESCGIHETTFNSIMKCDVDIRKDLYANTVLSGGTTMYPGIADRMQKEITALAPSTMKIKIIAPPERKYSVWIGGSILASLSTFQQMWISKQEYDESGPSIVHRKCF\\n>\\\n",
    "Gapdh\\nMGKVKVGVNGFGRIGRLVTRAAFNSGKVDIVAINDPFIDLNYMVYMFQYDSTHGKFHGTVKAENGKLVINGNPITIFQERDPSKIKWGDAGAEYVVESTGVFT\\\n",
    "TMEKAGAHLQGGAKRVIISAPSADAPMFVMGVNHEKYDNSLKIISNASCTTNCLAPLAKVIHDNFGIVEGLMTTVHAITATQKTVDGPSGKLWRDGRGALQNIIPASTGA\\\n",
    "AKAVGKVIPELNGKLTGMAFRVPTANVSVVDLTCRLEKPAKYDDIKKVVKQASEGPLKGILGYTEHQVVSSDFNSDTHSSTFDAGAGIALNDHFVKLISWYDNEFGYSNRV\\\n",
    "VDLMAHMASKE\\n>HuR\\nMSNGYEDHMAEDCRGDIGRTNLIVNYLPQNMTQDELRSLFSSIGEVESAKLIRDKVAGHSLGYGFVNYVTAKDAERAINTLNGLRLQSKTIK\\\n",
    "VSYARPSSEVIKDANLYISGLPRTMTQKDVEDMFSRFGRIINSRVLVDQTTGLSRGVAFIRFDKRSEAEEAITSFNGHKPPGSSEPITVKFAANPNQNKNVALLSQLYHSP\\\n",
    "ARRFGGPVHHQAQRFRFSPMGVDHMSGLSGVNVPGNASSGWCIFIYNLGQDADEGILWQMFGPFGAVTNVKVIRDFNTNKCKGFGFVTMTNYEEAAMAIASLNGYRLGDKI\\\n",
    "LQVSFKTNKSHK\"\n",
    "print(fasta_file)"
   ]
  },
  {
   "cell_type": "markdown",
   "metadata": {},
   "source": [
    "Here is the great thing about our code: If we were counting by hand, **we** have to do three times the work. But , we can use the exact same code that we wrote before - no extra effort!"
   ]
  },
  {
   "cell_type": "code",
   "execution_count": 9,
   "metadata": {},
   "outputs": [
    {
     "name": "stdout",
     "output_type": "stream",
     "text": [
      "Seq name:\t>histone_H3\n",
      "Seq:\t\tMARTKQTARKSTGGKAPRKQLATKAARKSAPATGGVKKPHRYRPGTVALREIRRYQKSTELLIRKLPFQRLVREIAQDFKTDLRFQSSAVMALQEACEAYLVGLFEDTNLCAIHAKRVTIMPKDIQLARRIRGERA\n",
      "% of Positive Residues:24.3\n",
      "Seq name:\t>Actin\n",
      "Seq:\t\tMDDDIAALVVDNGSGMCKAGFAGDDAPRAVFPSIVGRPRHQGVMVGMGQKDSYVGDEAQSKRGILTLKYPIEHGIVTNWDDMEKIWHHTFYNELRVAPEEHPVLLTEAPLNPKANREKMTQIMFETFNTPAMYVAIQAVLSLYASGRTTGIVMDSGDGVTHTVPIYEGYALPHAILRLDLAGRDLTDYLMKILTERGYSFTTTAEREIVRDIKEKLCYVALDFEQEMATAASSSSLEKSYELPDGQVITIGNERFRCPEALFQPSFLGMESCGIHETTFNSIMKCDVDIRKDLYANTVLSGGTTMYPGIADRMQKEITALAPSTMKIKIIAPPERKYSVWIGGSILASLSTFQQMWISKQEYDESGPSIVHRKCF\n",
      "% of Positive Residues:12.3\n",
      "Seq name:\t>Gapdh\n",
      "Seq:\t\tMGKVKVGVNGFGRIGRLVTRAAFNSGKVDIVAINDPFIDLNYMVYMFQYDSTHGKFHGTVKAENGKLVINGNPITIFQERDPSKIKWGDAGAEYVVESTGVFTTMEKAGAHLQGGAKRVIISAPSADAPMFVMGVNHEKYDNSLKIISNASCTTNCLAPLAKVIHDNFGIVEGLMTTVHAITATQKTVDGPSGKLWRDGRGALQNIIPASTGAAKAVGKVIPELNGKLTGMAFRVPTANVSVVDLTCRLEKPAKYDDIKKVVKQASEGPLKGILGYTEHQVVSSDFNSDTHSSTFDAGAGIALNDHFVKLISWYDNEFGYSNRVVDLMAHMASKE\n",
      "% of Positive Residues:13.7\n",
      "Seq name:\t>HuR\n",
      "Seq:\t\tMSNGYEDHMAEDCRGDIGRTNLIVNYLPQNMTQDELRSLFSSIGEVESAKLIRDKVAGHSLGYGFVNYVTAKDAERAINTLNGLRLQSKTIKVSYARPSSEVIKDANLYISGLPRTMTQKDVEDMFSRFGRIINSRVLVDQTTGLSRGVAFIRFDKRSEAEEAITSFNGHKPPGSSEPITVKFAANPNQNKNVALLSQLYHSPARRFGGPVHHQAQRFRFSPMGVDHMSGLSGVNVPGNASSGWCIFIYNLGQDADEGILWQMFGPFGAVTNVKVIRDFNTNKCKGFGFVTMTNYEEAAMAIASLNGYRLGDKILQVSFKTNKSHK\n",
      "% of Positive Residues:14.1\n"
     ]
    }
   ],
   "source": [
    "#First create a list of lines\n",
    "fasta_lines = fasta_file.split('\\n')\n",
    "#Now run the exact same loop!\n",
    "for i in fasta_lines: #for each line\n",
    "    if i.startswith('>'): #Does the line start with the \">\" symbol?\n",
    "        seq_name = i\n",
    "    else:\n",
    "        seq = i\n",
    "        #Count the positive residues when we get to a sequence line\n",
    "        count = seq.count('K') + seq.count('R') + seq.count('H')\n",
    "        percent_positive = count*100/len(seq)\n",
    "        #print the results inside the loop\n",
    "        print(\"Seq name:\\t\"+seq_name+\"\\nSeq:\\t\\t\"+seq+\"\\n% of Positive Residues:\"+str(round(percent_positive,1)))"
   ]
  },
  {
   "cell_type": "markdown",
   "metadata": {},
   "source": [
    "What other questions could we ask with `count()` and `len()` commands in biological sequences?"
   ]
  },
  {
   "cell_type": "markdown",
   "metadata": {},
   "source": [
    "### Replace\n",
    "We don't want the `>` sign as part of the sequence name. How do we get rid of it? <br>\n",
    "\n",
    "- `replace()` is like search & replace in text editing programs\n",
    "- str.replace(character to be replaced, replacement, count)\n",
    "- if count not specified, all instances replaced"
   ]
  },
  {
   "cell_type": "code",
   "execution_count": 10,
   "metadata": {},
   "outputs": [
    {
     "name": "stdout",
     "output_type": "stream",
     "text": [
      "HuR\n"
     ]
    }
   ],
   "source": [
    "seq_name = seq_name.replace(\">\",'')\n",
    "print(seq_name)"
   ]
  },
  {
   "cell_type": "markdown",
   "metadata": {},
   "source": [
    "### Find motifs??\n",
    "\n",
    "So, HuR binds the motif `AUUUUUA`. How do we ask if an RNA sequence has this motif?\n",
    "\n",
    "- `find()` method finds the first occurence of the specified value.\n",
    "- `str.find ( prefix [ , start [ , end ] ] )`"
   ]
  },
  {
   "cell_type": "code",
   "execution_count": 11,
   "metadata": {},
   "outputs": [
    {
     "data": {
      "text/plain": [
       "34"
      ]
     },
     "execution_count": 11,
     "metadata": {},
     "output_type": "execute_result"
    }
   ],
   "source": [
    "seq = 'AUGCAUGCAGCUAGCUAAACCCGGGUUAUAUAGAAUUUUUAAAGUAGUAGGGCCGAGUAGAUUUUUAAGAGAGAUAUUUUUAGAGAGAUAGAUGAGAGG'\n",
    "seq.find('AUUUUUA')"
   ]
  },
  {
   "cell_type": "markdown",
   "metadata": {},
   "source": [
    "What if there are more motifs? How to find all of the motifs in a sequence?\n",
    "(Googled it, and found the [answer](https://www.google.com/search?q=find+multiple+instances+python+string))"
   ]
  },
  {
   "cell_type": "code",
   "execution_count": 12,
   "metadata": {},
   "outputs": [
    {
     "name": "stdout",
     "output_type": "stream",
     "text": [
      "Motif found at 34\n",
      "Motif found at 60\n",
      "Motif found at 75\n"
     ]
    }
   ],
   "source": [
    "index=0\n",
    "while index < len(seq):\n",
    "    index = seq.find('AUUUUUA', index)\n",
    "    if index == -1:\n",
    "        break\n",
    "    print('Motif found at', index)\n",
    "    index += len('AUUUUUA')"
   ]
  },
  {
   "cell_type": "markdown",
   "metadata": {},
   "source": [
    "### An everyday example of string manipulation\n",
    "\n",
    "How to find the reverse complement of a *DNA* sequence?"
   ]
  },
  {
   "cell_type": "code",
   "execution_count": 13,
   "metadata": {},
   "outputs": [],
   "source": [
    "seq = \"AUGCCAUGUUGTC\""
   ]
  },
  {
   "cell_type": "markdown",
   "metadata": {},
   "source": [
    "If, ahem, someone enters an *RNA* sequence, let us clean it up first:"
   ]
  },
  {
   "cell_type": "code",
   "execution_count": 14,
   "metadata": {},
   "outputs": [],
   "source": [
    "if \"U\" in seq: #if it is RNA, let us change it to DNA before it gets degraded\n",
    "    better_seq = seq.replace('U','T')"
   ]
  },
  {
   "cell_type": "markdown",
   "metadata": {},
   "source": [
    "Now let us find the complement. We will take advantage of the fact that a string is iterable."
   ]
  },
  {
   "cell_type": "code",
   "execution_count": 15,
   "metadata": {},
   "outputs": [
    {
     "name": "stdout",
     "output_type": "stream",
     "text": [
      "ATGCCATGTTGTC\n",
      "In the process\t ['T']\n",
      "In the process\t ['T', 'A']\n",
      "In the process\t ['T', 'A', 'C']\n",
      "In the process\t ['T', 'A', 'C', 'G']\n",
      "In the process\t ['T', 'A', 'C', 'G', 'G']\n",
      "In the process\t ['T', 'A', 'C', 'G', 'G', 'T']\n",
      "In the process\t ['T', 'A', 'C', 'G', 'G', 'T', 'A']\n",
      "In the process\t ['T', 'A', 'C', 'G', 'G', 'T', 'A', 'C']\n",
      "In the process\t ['T', 'A', 'C', 'G', 'G', 'T', 'A', 'C', 'A']\n",
      "In the process\t ['T', 'A', 'C', 'G', 'G', 'T', 'A', 'C', 'A', 'A']\n",
      "In the process\t ['T', 'A', 'C', 'G', 'G', 'T', 'A', 'C', 'A', 'A', 'C']\n",
      "In the process\t ['T', 'A', 'C', 'G', 'G', 'T', 'A', 'C', 'A', 'A', 'C', 'A']\n",
      "In the process\t ['T', 'A', 'C', 'G', 'G', 'T', 'A', 'C', 'A', 'A', 'C', 'A', 'G']\n",
      "\n",
      "\n",
      "Here is a sequence and its complement:\n",
      "\n",
      "5' ATGCCATGTTGTC \t3'\n",
      "3' TACGGTACAACAG \t5'\n"
     ]
    }
   ],
   "source": [
    "print(better_seq)\n",
    "\n",
    "#First, let us define a list that will contain the complementary sequence\n",
    "complement_seq=[]\n",
    "\n",
    "#Iterate through the sequence (better_seq): this will go base by base\n",
    "#and then add the complementary base to complement_seq\n",
    "\n",
    "for i in range(0,len(better_seq)):\n",
    "    if(better_seq[i] == 'A'):\n",
    "        complement_seq.append('T')\n",
    "    elif(better_seq[i] == 'T'):\n",
    "        complement_seq.append('A')\n",
    "    elif(better_seq[i] == 'G'):\n",
    "        complement_seq.append('C')\n",
    "    elif(better_seq[i] == 'C'):\n",
    "        complement_seq.append('G')\n",
    "    #OK, is the code working as expected??\n",
    "    print(\"In the process\\t\",complement_seq)\n",
    "\n",
    "print(\"\\n\\nHere is a sequence and its complement:\\n\")\n",
    "print(\"5'\",better_seq,\"\\t3'\")\n",
    "complement_better_seq = ''.join(complement_seq)\n",
    "print(\"3'\",complement_better_seq,\"\\t5'\")"
   ]
  },
  {
   "cell_type": "code",
   "execution_count": 16,
   "metadata": {},
   "outputs": [
    {
     "name": "stdout",
     "output_type": "stream",
     "text": [
      "Ori_Seq\t\t\t5'\t AUGCCAUGUUGTC \t3'\n",
      "DNA Seq\t\t\t5'\t ATGCCATGTTGTC \t3'\n",
      "Complement\t\t5'\t TACGGTACAACAG \t3'\n",
      "\n",
      "\n",
      "DNA Seq\t\t\t5'\t ATGCCATGTTGTC \t3'\n",
      "Reverse Complement\t5'\t GACAACATGGCAT \t3'\n"
     ]
    }
   ],
   "source": [
    "print(\"Ori_Seq\\t\\t\\t5'\\t\",seq,\"\\t3'\")\n",
    "print(\"DNA Seq\\t\\t\\t5'\\t\",better_seq,\"\\t3'\")\n",
    "print(\"Complement\\t\\t5'\\t\",complement_better_seq,\"\\t3'\\n\\n\")\n",
    "\n",
    "#Now reverse complement:\n",
    "rev_better_seq = complement_better_seq[::-1]\n",
    "#rev_better_seq = \"\".join(list(reversed(complement_better_seq)))\n",
    "print(\"DNA Seq\\t\\t\\t5'\\t\",better_seq,\"\\t3'\")\n",
    "print(\"Reverse Complement\\t5'\\t\",rev_better_seq,\"\\t3'\")"
   ]
  },
  {
   "cell_type": "markdown",
   "metadata": {},
   "source": [
    "### What kind of characters does my string have?\n",
    " - isalpha() - are all the characters alphabets?\n",
    " - isnumeric() - are all characters numeric?"
   ]
  },
  {
   "cell_type": "code",
   "execution_count": 17,
   "metadata": {},
   "outputs": [
    {
     "data": {
      "text/plain": [
       "True"
      ]
     },
     "execution_count": 17,
     "metadata": {},
     "output_type": "execute_result"
    }
   ],
   "source": [
    "seq = \"ATGCATCGA\"\n",
    "seq.isalpha()"
   ]
  },
  {
   "cell_type": "code",
   "execution_count": 18,
   "metadata": {},
   "outputs": [
    {
     "data": {
      "text/plain": [
       "False"
      ]
     },
     "execution_count": 18,
     "metadata": {},
     "output_type": "execute_result"
    }
   ],
   "source": [
    "seq.isnumeric()"
   ]
  },
  {
   "cell_type": "markdown",
   "metadata": {},
   "source": [
    "### One way to check it is only a DNA sequence\n",
    "\n",
    "Remove \"A\", \"T\", \"G\", and \"C\". Does anything remain?"
   ]
  },
  {
   "cell_type": "code",
   "execution_count": 19,
   "metadata": {},
   "outputs": [
    {
     "name": "stdout",
     "output_type": "stream",
     "text": [
      "UUU\n",
      "Non DNA alphabets detected\n"
     ]
    }
   ],
   "source": [
    "input_seq = \"ATAGAGCUUU\"\n",
    "#input_seq = \"ATAGAGC\"\n",
    "tmp_seq = input_seq\n",
    "tmp_seq = tmp_seq.replace(\"A\",\"\").replace(\"T\",\"\").replace(\"G\",\"\").replace(\"C\",\"\")\n",
    "print(tmp_seq)\n",
    "if(len(tmp_seq)>0):\n",
    "    print(\"Non DNA alphabets detected\")\n",
    "else:\n",
    "    print(\"Sequence seems like DNA\")"
   ]
  },
  {
   "cell_type": "markdown",
   "metadata": {},
   "source": [
    "## Reading fasta files\n",
    "\n",
    "In the example where we calculated percentage positive residues, we put in the sequences by hand. This will hardly happen day-to-day: usually, you get a file that you need to process with your code. Let us see how we will do the same operations we did before, but when we are given a file of protein sequences (with all its quirks).<br><br>\n",
    "To read a file in python, we use the command `open()`\n",
    "\n",
    "\n",
    "### open() command\n",
    " - Two inputs - filename, mode\n",
    " - Mode can be \n",
    "     - 'r' for read\n",
    "     - 'w' for write (overwrites existing file)\n",
    "     - 'a' for append (adds to existing file)"
   ]
  },
  {
   "cell_type": "code",
   "execution_count": 20,
   "metadata": {},
   "outputs": [
    {
     "name": "stdout",
     "output_type": "stream",
     "text": [
      "<class '_io.TextIOWrapper'>\n"
     ]
    }
   ],
   "source": [
    "a_file = open('protein_sequences.fasta', 'r' )\n",
    "# \"a_file\" is an object in which the whole file is stored\n",
    "\n",
    "#What datatype is \"a_file\"?\n",
    "print(type(a_file))\n",
    "\n",
    "#A good habit is to close the file after opening it. Always have the close command written out\n",
    "#and add code between the open and close commands\n",
    "a_file.close()"
   ]
  },
  {
   "cell_type": "markdown",
   "metadata": {},
   "source": [
    "In most scenarios, we will read the file line by line. Here is how we do that:"
   ]
  },
  {
   "cell_type": "code",
   "execution_count": 21,
   "metadata": {},
   "outputs": [
    {
     "name": "stdout",
     "output_type": "stream",
     "text": [
      ">HuR\n",
      "\n",
      "MSNGYEDHMAEDCRGDIGRTNLIVNYLPQNMTQDELRSLFSSIGEVESAKLIRDKVAGHS \n",
      "\n",
      "LGYGFVNYVTAKDAERAINTLNGLRLQSKTIKVSYARPSSEVIKDANLYISGLPRTMTQK \n",
      "\n",
      "DVEDMFSRFGRIINSRVLVDQTTGLSRGVAFIRFDKRSEAEEAITSFNGHKPPGSSEPIT \n",
      "\n",
      "VKFAANPNQNKNVALLSQLYHSPARRFGGPVHHQAQRFRFSPMGVDHMSGLSGVNVPGNA\n",
      "\n",
      "SSGWCIFIYNLGQDADEGILWQMFGPFGAVTNVKVIRDFNTNKCKGFGFVTMTNYEEAAM \n",
      "\n",
      "AIASLNGYRLGDKILQVSFKTNKSHK \n",
      "\n",
      ">Histone_H3\n",
      "\n",
      "MARTKQTARKSTGGKAPRKQLATKAARKSAPATGGVKKPHRYRPGTVALREIRRYQKSTE\n",
      "\n",
      "LLIRKLPFQRLVREIAQDFKTDLRFQSSAVMALQEACEAYLVGLFEDTNLCAIHAKRVTI\n",
      "\n",
      "MPKDIQLARRIRGERA\n",
      "\n",
      ">Gapdh\n",
      "\n",
      "MGKVKVGVNGFGRIGRLVTRAAFNSGKVDIVAINDPFIDLNYMVYMFQYDSTHGKFHGTV\n",
      "\n",
      "KAENGKLVINGNPITIFQERDPSKIKWGDAGAEYVVESTGVFTTMEKAGAHLQGGAKRVI\n",
      "\n",
      "ISAPSADAPMFVMGVNHEKYDNSLKIISNASCTTNCLAPLAKVIHDNFGIVEGLMTTVHA\n",
      "\n",
      "ITATQKTVDGPSGKLWRDGRGALQNIIPASTGAAKAVGKVIPELNGKLTGMAFRVPTANV\n",
      "\n",
      "SVVDLTCRLEKPAKYDDIKKVVKQASEGPLKGILGYTEHQVVSSDFNSDTHSSTFDAGAG\n",
      "\n",
      "IALNDHFVKLISWYDNEFGYSNRVVDLMAHMASKE\n",
      "\n",
      ">Actin\n",
      "\n",
      "MCEEETTALVCDNGSGLCKAGFAGDDAPRAVFPSIVGRPRHQGVMVGMGQKDSYVGDEAQ\n",
      "\n",
      "SKRGILTLKYPIEHGIITNWDDMEKIWHHSFYNELRVAPEEHPTLLTEAPLNPKANREKM\n",
      "\n",
      "TQIMFETFNVPAMYVAIQAVLSLYASGRTTGIVLDSGDGVTHNVPIYEGYALPHAIMRLD\n",
      "\n",
      "LAGRDLTDYLMKILTERGYSFVTTAEREIVRDIKEKLCYVALDFENEMATAASSSSLEKS\n",
      "\n",
      "YELPDGQVITIGNERFRCPETLFQPSFIGMESAGIHETTYNSIMKCDIDIRKDLYANNVL\n",
      "\n",
      "SGGTTMYPGIADRMQKEITALAPSTMKIKIIAPPERKYSVWIGGSILASLSTFQQMWISK\n",
      "\n",
      "PEYDEAGPSIVHRKCF\n",
      "\n",
      " ",
      "\n",
      "\n"
     ]
    }
   ],
   "source": [
    "#print every line\n",
    "a_file = open('protein_sequences.fasta', 'r' )\n",
    "for line in a_file:\n",
    "    print(line)\n",
    "a_file.close()"
   ]
  },
  {
   "cell_type": "markdown",
   "metadata": {},
   "source": [
    "Wow, we can iterate over `a_file` just like the list `fasta_lines`! Can we then use the same code with a few edits??"
   ]
  },
  {
   "cell_type": "code",
   "execution_count": 22,
   "metadata": {},
   "outputs": [
    {
     "name": "stdout",
     "output_type": "stream",
     "text": [
      "Seq name:\t>HuR\n",
      "\n",
      "Seq:\t\tMSNGYEDHMAEDCRGDIGRTNLIVNYLPQNMTQDELRSLFSSIGEVESAKLIRDKVAGHS \n",
      "\n",
      "% of Positive Residues:12.9\n",
      "Seq name:\t>HuR\n",
      "\n",
      "Seq:\t\tLGYGFVNYVTAKDAERAINTLNGLRLQSKTIKVSYARPSSEVIKDANLYISGLPRTMTQK \n",
      "\n",
      "% of Positive Residues:14.5\n",
      "Seq name:\t>HuR\n",
      "\n",
      "Seq:\t\tDVEDMFSRFGRIINSRVLVDQTTGLSRGVAFIRFDKRSEAEEAITSFNGHKPPGSSEPIT \n",
      "\n",
      "% of Positive Residues:14.5\n",
      "Seq name:\t>HuR\n",
      "\n",
      "Seq:\t\tVKFAANPNQNKNVALLSQLYHSPARRFGGPVHHQAQRFRFSPMGVDHMSGLSGVNVPGNA\n",
      "\n",
      "% of Positive Residues:16.4\n",
      "Seq name:\t>HuR\n",
      "\n",
      "Seq:\t\tSSGWCIFIYNLGQDADEGILWQMFGPFGAVTNVKVIRDFNTNKCKGFGFVTMTNYEEAAM \n",
      "\n",
      "% of Positive Residues:6.5\n",
      "Seq name:\t>HuR\n",
      "\n",
      "Seq:\t\tAIASLNGYRLGDKILQVSFKTNKSHK \n",
      "\n",
      "% of Positive Residues:21.4\n",
      "Seq name:\t>Histone_H3\n",
      "\n",
      "Seq:\t\tMARTKQTARKSTGGKAPRKQLATKAARKSAPATGGVKKPHRYRPGTVALREIRRYQKSTE\n",
      "\n",
      "% of Positive Residues:31.1\n",
      "Seq name:\t>Histone_H3\n",
      "\n",
      "Seq:\t\tLLIRKLPFQRLVREIAQDFKTDLRFQSSAVMALQEACEAYLVGLFEDTNLCAIHAKRVTI\n",
      "\n",
      "% of Positive Residues:14.8\n",
      "Seq name:\t>Histone_H3\n",
      "\n",
      "Seq:\t\tMPKDIQLARRIRGERA\n",
      "\n",
      "% of Positive Residues:29.4\n",
      "Seq name:\t>Gapdh\n",
      "\n",
      "Seq:\t\tMGKVKVGVNGFGRIGRLVTRAAFNSGKVDIVAINDPFIDLNYMVYMFQYDSTHGKFHGTV\n",
      "\n",
      "% of Positive Residues:14.8\n",
      "Seq name:\t>Gapdh\n",
      "\n",
      "Seq:\t\tKAENGKLVINGNPITIFQERDPSKIKWGDAGAEYVVESTGVFTTMEKAGAHLQGGAKRVI\n",
      "\n",
      "% of Positive Residues:14.8\n",
      "Seq name:\t>Gapdh\n",
      "\n",
      "Seq:\t\tISAPSADAPMFVMGVNHEKYDNSLKIISNASCTTNCLAPLAKVIHDNFGIVEGLMTTVHA\n",
      "\n",
      "% of Positive Residues:9.8\n",
      "Seq name:\t>Gapdh\n",
      "\n",
      "Seq:\t\tITATQKTVDGPSGKLWRDGRGALQNIIPASTGAAKAVGKVIPELNGKLTGMAFRVPTANV\n",
      "\n",
      "% of Positive Residues:13.1\n",
      "Seq name:\t>Gapdh\n",
      "\n",
      "Seq:\t\tSVVDLTCRLEKPAKYDDIKKVVKQASEGPLKGILGYTEHQVVSSDFNSDTHSSTFDAGAG\n",
      "\n",
      "% of Positive Residues:14.8\n",
      "Seq name:\t>Gapdh\n",
      "\n",
      "Seq:\t\tIALNDHFVKLISWYDNEFGYSNRVVDLMAHMASKE\n",
      "\n",
      "% of Positive Residues:13.9\n",
      "Seq name:\t>Actin\n",
      "\n",
      "Seq:\t\tMCEEETTALVCDNGSGLCKAGFAGDDAPRAVFPSIVGRPRHQGVMVGMGQKDSYVGDEAQ\n",
      "\n",
      "% of Positive Residues:9.8\n",
      "Seq name:\t>Actin\n",
      "\n",
      "Seq:\t\tSKRGILTLKYPIEHGIITNWDDMEKIWHHSFYNELRVAPEEHPTLLTEAPLNPKANREKM\n",
      "\n",
      "% of Positive Residues:19.7\n",
      "Seq name:\t>Actin\n",
      "\n",
      "Seq:\t\tTQIMFETFNVPAMYVAIQAVLSLYASGRTTGIVLDSGDGVTHNVPIYEGYALPHAIMRLD\n",
      "\n",
      "% of Positive Residues:6.6\n",
      "Seq name:\t>Actin\n",
      "\n",
      "Seq:\t\tLAGRDLTDYLMKILTERGYSFVTTAEREIVRDIKEKLCYVALDFENEMATAASSSSLEKS\n",
      "\n",
      "% of Positive Residues:13.1\n",
      "Seq name:\t>Actin\n",
      "\n",
      "Seq:\t\tYELPDGQVITIGNERFRCPETLFQPSFIGMESAGIHETTYNSIMKCDIDIRKDLYANNVL\n",
      "\n",
      "% of Positive Residues:9.8\n",
      "Seq name:\t>Actin\n",
      "\n",
      "Seq:\t\tSGGTTMYPGIADRMQKEITALAPSTMKIKIIAPPERKYSVWIGGSILASLSTFQQMWISK\n",
      "\n",
      "% of Positive Residues:11.5\n",
      "Seq name:\t>Actin\n",
      "\n",
      "Seq:\t\tPEYDEAGPSIVHRKCF\n",
      "\n",
      "% of Positive Residues:17.6\n",
      "Seq name:\t>Actin\n",
      "\n",
      "Seq:\t\t ",
      "\n",
      "\n",
      "% of Positive Residues:0.0\n"
     ]
    }
   ],
   "source": [
    "a_file = open('protein_sequences.fasta', 'r' )\n",
    "for i in a_file: #for each line\n",
    "    if i.startswith('>'): #Does the line start with the \">\" symbol?\n",
    "        seq_name = i\n",
    "    else:\n",
    "        seq = i\n",
    "        #Count the positive residues when we get to a sequence line\n",
    "        count = seq.count('K') + seq.count('R') + seq.count('H')\n",
    "        percent_positive = count*100/len(seq)\n",
    "        #print the results inside the loop\n",
    "        print(\"Seq name:\\t\"+seq_name+\"\\nSeq:\\t\\t\"+seq+\"\\n% of Positive Residues:\"+str(round(percent_positive,1)))\n",
    "        #Put \"ST\" and \"EN\" to denote start and end of string that we read in:\n",
    "        # print(\"Seq name:\\t\"+seq_name+\"\\nSeq:\\t\\tST##\"+seq+\"##EN\\n% of Positive Residues:\"+str(round(percent_positive,1)))\n",
    "a_file.close()"
   ]
  },
  {
   "cell_type": "markdown",
   "metadata": {},
   "source": [
    "### \"We're not in Kansas anymore\"\n",
    "\n",
    "Till now, we were dealing with nice examples. But, real data are messy and most of the time is spent cleaning up the data to make them usable. What are the problems here?\n",
    "\n",
    "- Sequences are not in a single line\n",
    "- There are blank spaces and new lines at end of each line\n",
    "\n",
    "How do we clean up the data and read it into the variables we have? We will use two tricks:\n",
    "\n",
    "- String manipulation for cleanup\n",
    "- Make loops and conditionals to read the file like a human"
   ]
  },
  {
   "cell_type": "markdown",
   "metadata": {},
   "source": [
    "### strip, rstrip and lstrip\n",
    "\n",
    "- Default - remove whitespace from beginning, end, or both sides \n",
    "- For rstrip, lstrip - all combinations of characters in the chars argument are removed from the right/left of the string until first mismatch."
   ]
  },
  {
   "cell_type": "code",
   "execution_count": 23,
   "metadata": {},
   "outputs": [
    {
     "name": "stdout",
     "output_type": "stream",
     "text": [
      "Seq name:\tHuR\n",
      "Seq:\t\tST##MSNGYEDHMAEDCRGDIGRTNLIVNYLPQNMTQDELRSLFSSIGEVESAKLIRDKVAGHS##EN\n",
      "Seq name:\tHuR\n",
      "Seq:\t\tST##LGYGFVNYVTAKDAERAINTLNGLRLQSKTIKVSYARPSSEVIKDANLYISGLPRTMTQK##EN\n",
      "Seq name:\tHuR\n",
      "Seq:\t\tST##DVEDMFSRFGRIINSRVLVDQTTGLSRGVAFIRFDKRSEAEEAITSFNGHKPPGSSEPIT##EN\n",
      "Seq name:\tHuR\n",
      "Seq:\t\tST##VKFAANPNQNKNVALLSQLYHSPARRFGGPVHHQAQRFRFSPMGVDHMSGLSGVNVPGNA##EN\n",
      "Seq name:\tHuR\n",
      "Seq:\t\tST##SSGWCIFIYNLGQDADEGILWQMFGPFGAVTNVKVIRDFNTNKCKGFGFVTMTNYEEAAM##EN\n",
      "Seq name:\tHuR\n",
      "Seq:\t\tST##AIASLNGYRLGDKILQVSFKTNKSHK##EN\n",
      "Seq name:\tHistone_H3\n",
      "Seq:\t\tST##MARTKQTARKSTGGKAPRKQLATKAARKSAPATGGVKKPHRYRPGTVALREIRRYQKSTE##EN\n",
      "Seq name:\tHistone_H3\n",
      "Seq:\t\tST##LLIRKLPFQRLVREIAQDFKTDLRFQSSAVMALQEACEAYLVGLFEDTNLCAIHAKRVTI##EN\n",
      "Seq name:\tHistone_H3\n",
      "Seq:\t\tST##MPKDIQLARRIRGERA##EN\n",
      "Seq name:\tGapdh\n",
      "Seq:\t\tST##MGKVKVGVNGFGRIGRLVTRAAFNSGKVDIVAINDPFIDLNYMVYMFQYDSTHGKFHGTV##EN\n",
      "Seq name:\tGapdh\n",
      "Seq:\t\tST##KAENGKLVINGNPITIFQERDPSKIKWGDAGAEYVVESTGVFTTMEKAGAHLQGGAKRVI##EN\n",
      "Seq name:\tGapdh\n",
      "Seq:\t\tST##ISAPSADAPMFVMGVNHEKYDNSLKIISNASCTTNCLAPLAKVIHDNFGIVEGLMTTVHA##EN\n",
      "Seq name:\tGapdh\n",
      "Seq:\t\tST##ITATQKTVDGPSGKLWRDGRGALQNIIPASTGAAKAVGKVIPELNGKLTGMAFRVPTANV##EN\n",
      "Seq name:\tGapdh\n",
      "Seq:\t\tST##SVVDLTCRLEKPAKYDDIKKVVKQASEGPLKGILGYTEHQVVSSDFNSDTHSSTFDAGAG##EN\n",
      "Seq name:\tGapdh\n",
      "Seq:\t\tST##IALNDHFVKLISWYDNEFGYSNRVVDLMAHMASKE##EN\n",
      "Seq name:\tActin\n",
      "Seq:\t\tST##MCEEETTALVCDNGSGLCKAGFAGDDAPRAVFPSIVGRPRHQGVMVGMGQKDSYVGDEAQ##EN\n",
      "Seq name:\tActin\n",
      "Seq:\t\tST##SKRGILTLKYPIEHGIITNWDDMEKIWHHSFYNELRVAPEEHPTLLTEAPLNPKANREKM##EN\n",
      "Seq name:\tActin\n",
      "Seq:\t\tST##TQIMFETFNVPAMYVAIQAVLSLYASGRTTGIVLDSGDGVTHNVPIYEGYALPHAIMRLD##EN\n",
      "Seq name:\tActin\n",
      "Seq:\t\tST##LAGRDLTDYLMKILTERGYSFVTTAEREIVRDIKEKLCYVALDFENEMATAASSSSLEKS##EN\n",
      "Seq name:\tActin\n",
      "Seq:\t\tST##YELPDGQVITIGNERFRCPETLFQPSFIGMESAGIHETTYNSIMKCDIDIRKDLYANNVL##EN\n",
      "Seq name:\tActin\n",
      "Seq:\t\tST##SGGTTMYPGIADRMQKEITALAPSTMKIKIIAPPERKYSVWIGGSILASLSTFQQMWISK##EN\n",
      "Seq name:\tActin\n",
      "Seq:\t\tST##PEYDEAGPSIVHRKCF##EN\n",
      "Seq name:\tActin\n",
      "Seq:\t\tST####EN\n"
     ]
    }
   ],
   "source": [
    "a_file = open('protein_sequences.fasta', 'r' )\n",
    "for i in a_file: #for each line\n",
    "    if i.startswith('>'): #Does the line start with the \">\" symbol?\n",
    "        #Adding rstrip and lstrip\n",
    "        seq_name = i.rstrip().lstrip('>')\n",
    "    else:\n",
    "        #Adding rstrip\n",
    "        seq = i.rstrip()\n",
    "        #print the results inside the loop\n",
    "        print(\"Seq name:\\t\"+seq_name+\"\\nSeq:\\t\\tST##\"+seq+\"##EN\")\n",
    "a_file.close()"
   ]
  },
  {
   "cell_type": "markdown",
   "metadata": {},
   "source": [
    "Okay, now the pesky newlines and spaces have been removed. What about the fact that sequences are on multiple lines? Here is where we make the code read the file like a human. If we were reading the file manually, here is how we would do it:\n",
    "\n",
    "- Is there a \">\" sign? That is a sequence name. The next line(s) will have the sequence.\n",
    "- No \">\" sign, so the previous sequence name still applies, let us keep appending the lines till we see a \">\" sign\n",
    "- We saw a \">\" sign again! The previous sequence is complete! Let us do the analysis on that previous sequence\n",
    "\n",
    "Here is how we an write the code for it:"
   ]
  },
  {
   "cell_type": "code",
   "execution_count": 24,
   "metadata": {},
   "outputs": [
    {
     "name": "stdout",
     "output_type": "stream",
     "text": [
      "Seq name:\tHuR\n",
      "Seq:\t\tMSNGYEDHMAEDCRGDIGRTNLIVNYLPQNMTQDELRSLFSSIGEVESAKLIRDKVAGHSLGYGFVNYVTAKDAERAINTLNGLRLQSKTIKVSYARPSSEVIKDANLYISGLPRTMTQKDVEDMFSRFGRIINSRVLVDQTTGLSRGVAFIRFDKRSEAEEAITSFNGHKPPGSSEPITVKFAANPNQNKNVALLSQLYHSPARRFGGPVHHQAQRFRFSPMGVDHMSGLSGVNVPGNASSGWCIFIYNLGQDADEGILWQMFGPFGAVTNVKVIRDFNTNKCKGFGFVTMTNYEEAAMAIASLNGYRLGDKILQVSFKTNKSHK\n",
      "% of Positive Residues:14.1\n",
      "Seq name:\tHistone_H3\n",
      "Seq:\t\tMARTKQTARKSTGGKAPRKQLATKAARKSAPATGGVKKPHRYRPGTVALREIRRYQKSTELLIRKLPFQRLVREIAQDFKTDLRFQSSAVMALQEACEAYLVGLFEDTNLCAIHAKRVTIMPKDIQLARRIRGERA\n",
      "% of Positive Residues:24.3\n",
      "Seq name:\tGapdh\n",
      "Seq:\t\tMGKVKVGVNGFGRIGRLVTRAAFNSGKVDIVAINDPFIDLNYMVYMFQYDSTHGKFHGTVKAENGKLVINGNPITIFQERDPSKIKWGDAGAEYVVESTGVFTTMEKAGAHLQGGAKRVIISAPSADAPMFVMGVNHEKYDNSLKIISNASCTTNCLAPLAKVIHDNFGIVEGLMTTVHAITATQKTVDGPSGKLWRDGRGALQNIIPASTGAAKAVGKVIPELNGKLTGMAFRVPTANVSVVDLTCRLEKPAKYDDIKKVVKQASEGPLKGILGYTEHQVVSSDFNSDTHSSTFDAGAGIALNDHFVKLISWYDNEFGYSNRVVDLMAHMASKE\n",
      "% of Positive Residues:13.7\n"
     ]
    }
   ],
   "source": [
    "ln=0 #We need to keep track of the line number\n",
    "seq=''\n",
    "a_file = open('protein_sequences.fasta', 'r' )\n",
    "for i in a_file: #for each line\n",
    "    ln+=1\n",
    "    if i.startswith('>'): #Does the line start with the \">\" symbol?\n",
    "        #Check if this is the first line:\n",
    "        if ln == 1:\n",
    "            pass\n",
    "        else:\n",
    "            #The previous sequence is complete, count the positive residues when we get to a sequence line\n",
    "            count = seq.count('K') + seq.count('R') + seq.count('H')\n",
    "            percent_positive = count*100/len(seq)\n",
    "            #print the results inside the loop\n",
    "            print(\"Seq name:\\t\"+seq_name+\"\\nSeq:\\t\\t\"+seq+\"\\n% of Positive Residues:\"+str(round(percent_positive,1)))\n",
    "            seq=''\n",
    "        \n",
    "        #Now process the new sequence name:\n",
    "        seq_name = i.rstrip().lstrip('>')\n",
    "        \n",
    "    else:\n",
    "        #print(seq_name,seq)\n",
    "        seq = seq + i.rstrip()\n",
    "\n",
    "a_file.close()\n",
    "#Does everything look good?"
   ]
  },
  {
   "cell_type": "markdown",
   "metadata": {},
   "source": [
    "## A real life problem\n",
    "\n",
    "Sequencing reads from Illumina platform are stored as fastq files. Each sequencing \"read\" gets four lines. Here is an example:\n",
    "\n",
    "`@SRR036139.1 11_26_8:5:1:749:1421 length=36\n",
    "GCTGGCTGCGTCTGTGGTGGGTTTCATGTTAAGGTC\n",
    "+SRR036139.1 11_26_8:5:1:749:1421 length=36\n",
    "IIIIIIIIIIIIIIIIIIIIIIIIIIIIIIIIIIII`\n",
    "\n",
    "Description from FASTQ wiki page:\n",
    " - Line 1 begins with a '@' character and is followed by a sequence identifier and an optional description (like a FASTA title line).\n",
    " - Line 2 is the raw sequence letters.\n",
    " - Line 3 begins with a '+' character and is optionally followed by the same sequence identifier (and any description) again.\n",
    " - Line 4 encodes the quality values for the sequence in Line 2, and must contain the same number of symbols as letters in the sequence.\n",
    " \n",
    "### We want to determine the GC content of the reads in any FASTQ file. \n",
    "GC content could tell you about any bias in the library or if you are sequencing a new species for example, it tells you the properties of the species' genome. So, if you have a fastq file, how would you determine the GC content of the reads?\n",
    "\n",
    "- Somehow get the sequences from the file into a data structure you learned\n",
    "- Examine the sequence to get GC content\n",
    "- Present the data"
   ]
  },
  {
   "cell_type": "markdown",
   "metadata": {},
   "source": [
    "#### To get GC content of the sequences in a fastq file:\n",
    " - Find the line with sequence : Count every 4th line starting from 2\n",
    " - Get the GC content : (number of G + number of C)/(total number of nucleotides) \n",
    "\n",
    "#### Before we begin, a couple of important points:\n",
    "\n",
    "#### Toy Models are Important\n",
    "When you write new code, don't apply it to actual data in the beginning - the data may be complicated enough for you to not be able to judge if your code is running properly. Instead, start with a toy model - something that will give you a trivial result. For example, here is a toy fastq file that has only two sequences with GC content of 100% and 50%:<br>\n",
    "`@TEST1\n",
    "GCGCGCGCGCGC\n",
    "+TEST1\n",
    "IIIIIIIIII\n",
    "@TEST2\n",
    "ATGCATGCATGC\n",
    "+TEST2\n",
    "IIIIIIIIIIII`\n",
    "\n",
    "#### Also important to spell out the architecture of the data structures you will create\n",
    "\n",
    "Some of the data structures we will use:\n",
    "\n",
    "- `seqs` - a dictionary, where the key will be the sequence number, value will be the sequence\n",
    "- `gc_content` - a dictionary, where the key will be the sequence number, value will be the GC content\n",
    "- `fastq_file` - a file wrapper for reading the fastq file "
   ]
  },
  {
   "cell_type": "code",
   "execution_count": 25,
   "metadata": {},
   "outputs": [
    {
     "name": "stdout",
     "output_type": "stream",
     "text": [
      "1 3\n",
      "2 0\n",
      "3 1\n",
      "4 2\n",
      "5 3\n",
      "6 0\n",
      "7 1\n",
      "8 2\n",
      "9 3\n",
      "10 0\n",
      "11 1\n",
      "12 2\n",
      "13 3\n",
      "14 0\n",
      "15 1\n",
      "16 2\n",
      "17 3\n",
      "18 0\n",
      "19 1\n"
     ]
    }
   ],
   "source": [
    "#How do we get check for 2, 6, 10, 14th lines??\n",
    "#If we subtract 2 from them: 0, 4, 8, 12, ... should be divisible by 4. Let us check:\n",
    "for i in range(1,20,1):\n",
    "    print(i,(i-2)%4)"
   ]
  },
  {
   "cell_type": "code",
   "execution_count": 26,
   "metadata": {},
   "outputs": [
    {
     "name": "stdout",
     "output_type": "stream",
     "text": [
      "2 is the sequence line\n",
      "6 is the sequence line\n",
      "10 is the sequence line\n",
      "14 is the sequence line\n",
      "18 is the sequence line\n"
     ]
    }
   ],
   "source": [
    "#Can we now pick the line numbers with the sequence?\n",
    "for i in range(1,20,1):\n",
    "    if ((i-2)%4 == 0):\n",
    "        print(i,\"is the sequence line\")"
   ]
  },
  {
   "cell_type": "code",
   "execution_count": 27,
   "metadata": {},
   "outputs": [
    {
     "name": "stdout",
     "output_type": "stream",
     "text": [
      "line 2 contains the sequence for read # 1\n",
      "line 6 contains the sequence for read # 2\n",
      "line 10 contains the sequence for read # 3\n",
      "line 14 contains the sequence for read # 4\n",
      "line 18 contains the sequence for read # 5\n"
     ]
    }
   ],
   "source": [
    "#Ok, line 2 is the sequence line for the 1st sequence, 6 for second sequence, and so forth.\n",
    "#Can we assign this explicitly?\n",
    "for i in range(2,20,4):\n",
    "    key = int((i-2)/4)+1 # Convert the line_no to a sequence ID\n",
    "    print(\"line\",i,\"contains the sequence for read #\",key)"
   ]
  },
  {
   "cell_type": "markdown",
   "metadata": {},
   "source": [
    "Okay, let us put all of this together"
   ]
  },
  {
   "cell_type": "code",
   "execution_count": 28,
   "metadata": {},
   "outputs": [
    {
     "name": "stdout",
     "output_type": "stream",
     "text": [
      "2 GCGCGCGCGCGC 100.0\n",
      "3 ATGCATGCATGC 50.0\n"
     ]
    }
   ],
   "source": [
    "seqs={} # A dictionary to store sequences if needed later\n",
    "\n",
    "gc_content={} # A dictionary to store GC content if needed later\n",
    "\n",
    "line_no = 0 # Variable to count lines\n",
    "\n",
    "fastq_file = open('toy.fastq', 'r' ) #Open the fastq file\n",
    "\n",
    "for line in fastq_file: # Iterate through the fastq file\n",
    "    line_no+=1 #counting line numbers\n",
    "      \n",
    "    if (line_no-2)%4 == 0: # Does the line number belong to the series 2, 6, 10, 14, etc. ?\n",
    "        key = int((line_no-2)/4)+1 # Convert the line_no to a sequence ID\n",
    "        line=line.rstrip()\n",
    "        seqs[key] = line #Populate seqs dictionary\n",
    "        gc = line.count('G') + line.count('C')\n",
    "        gc=round(gc*100/len(line),2) #make it percentage, make it look pretty with round()\n",
    "        gc_content[key] = gc\n",
    "        print(key+1,line,gc) #print the results"
   ]
  },
  {
   "cell_type": "markdown",
   "metadata": {},
   "source": [
    "Let us try the real data now. (First 250 sequences from the SRA file: SRR036139"
   ]
  },
  {
   "cell_type": "code",
   "execution_count": 29,
   "metadata": {},
   "outputs": [],
   "source": [
    "seqs={} # A dictionary to store sequences if needed later\n",
    "\n",
    "gc_content={} # A dictionary to store GC content if needed later\n",
    "\n",
    "line_no = 0 # Variable to count lines\n",
    "\n",
    "fastq_file = open('example.fastq', 'r' ) #Open the fastq file\n",
    "\n",
    "#Let us write sequence details in a file called \"seq_details.txt\"\n",
    "fh = open(\"seq_details.txt\",\"w\")\n",
    "\n",
    "for line in fastq_file: # Iterate through the fastq file\n",
    "    line_no+=1 #counting line numbers\n",
    "      \n",
    "    if (line_no-2)%4 == 0: # Does the line number belong to the series 2, 6, 10, 14, etc. ?\n",
    "        key = int((line_no-2)/4)+1 # Convert the line_no to a sequence ID\n",
    "        line=line.rstrip()\n",
    "        seqs[key] = line #Populate seqs dictionary\n",
    "        gc = line.count('G') + line.count('C')\n",
    "        gc_p=round(gc*100/len(line),2) #make it percentage, make it look pretty with round()\n",
    "        gc_content[key] = gc_p\n",
    "        #print the results to a string\n",
    "        write_str = \"Seq #\"+ str(key) + \" Seq: \" + line + \" Number of GC: \" + str(gc) +\" Sequence Length: \"+ str(len(line)) \\\n",
    "        + \" GC Content: \" + str(gc_p) + \"\\n\"\n",
    "        #print the string to a file\n",
    "        fh.write(write_str)\n",
    "\n",
    "fastq_file.close()\n"
   ]
  },
  {
   "cell_type": "markdown",
   "metadata": {},
   "source": [
    "Check the \"seq_details.txt\" file - we just calculated the GC content of 250 sequences.\n",
    "\n",
    "However, this is not really useful yet because there are 250 numbers and we don't have a sense of what the data is telling us. A histogram may be more useful. There is a direct histogram function we will discuss later, but here will do it from scratch. This is an example of how powerful coding can be - writing code to (insert your favorite analysis) from scratch!\n",
    "\n",
    "### How to make a histogram? \n",
    "\n",
    "Wikipedia says: \"To construct a histogram, the first step is to \"bin\" (or \"bucket\") the range of values—that is, divide the entire range of values into a series of intervals—and then count how many values fall into each interval. The bins are usually specified as consecutive, non-overlapping intervals of a variable. The bins (intervals) must be adjacent, and are often (but not required to be) of equal size.\"\n",
    "\n",
    "#### How to bin data?  \n",
    "\n",
    "The idea is to put an interval of numbers into the midpoint like this:\n",
    "\n",
    "1 2 3 4 5 6 7 8 9 10,11,12...\n",
    "\n",
    "If we group these numbers by 4:\n",
    "\n",
    "(1,2,3,4) (5,6,7,8) (9,10,11,12)\n",
    "\n",
    "The midpoints are:\n",
    "\n",
    "2.5, 6.5, 10.5\n",
    "\n",
    "If we group the same numbers by 5:\n",
    "\n",
    "(1,2,3,4,5) (6,7,8,9,10) (11,12,13,14,15)\n",
    "\n",
    "The midpoints are:\n",
    "3, 8, 13\n",
    "\n",
    "#### How do we generalize this in our code? \n",
    "By combining `int()` and `round()`. I came up with the formula below by trial and error. I am sure you can come up with your own and even do better."
   ]
  },
  {
   "cell_type": "code",
   "execution_count": 30,
   "metadata": {},
   "outputs": [
    {
     "name": "stdout",
     "output_type": "stream",
     "text": [
      "i bin\n",
      "1 3.0\n",
      "2 3.0\n",
      "3 3.0\n",
      "4 3.0\n",
      "5 3.0\n",
      "6 8.0\n",
      "7 8.0\n",
      "8 8.0\n",
      "9 8.0\n",
      "10 8.0\n",
      "11 13.0\n",
      "12 13.0\n",
      "13 13.0\n",
      "14 13.0\n",
      "15 13.0\n",
      "16 18.0\n",
      "17 18.0\n",
      "18 18.0\n",
      "19 18.0\n",
      "20 18.0\n"
     ]
    }
   ],
   "source": [
    "bin_size = 5\n",
    "fact = (bin_size/2)-0.5\n",
    "print(\"i bin\")\n",
    "for i in range(1,21,1):\n",
    "    #bin1 = int( round( ((i-0.5)/bin_size + 0.5),0))*bin_size\n",
    "    #bin1 = int( round((i/bin_size),0))*bin_size\n",
    "    bin1 = int( round(( (i-0.5)/bin_size + 0.5),0))*bin_size - fact\n",
    "    print(i,bin1)"
   ]
  },
  {
   "cell_type": "markdown",
   "metadata": {},
   "source": [
    "Ok, we can assign a \"bin\" to any number. Now we need to count the numbers in each bin. We will put these counts in a dictionary called `hist`, where the keys are the bins and values are the counts."
   ]
  },
  {
   "cell_type": "code",
   "execution_count": 31,
   "metadata": {},
   "outputs": [
    {
     "name": "stdout",
     "output_type": "stream",
     "text": [
      "3.0 5\n",
      "8.0 5\n",
      "13.0 5\n",
      "18.0 5\n"
     ]
    }
   ],
   "source": [
    "hist = {}\n",
    "\n",
    "bin_size = 5\n",
    "fact = (bin_size/2)-0.5\n",
    "\n",
    "for i in range(1,21,1):\n",
    "    bin1 = int( round(( (i-0.5)/bin_size + 0.5),0))*bin_size - fact\n",
    "    #if the bin exists, add to it\n",
    "    if bin1 in hist:\n",
    "        hist[bin1] += 1\n",
    "    #if bin doesn't exist, add to it\n",
    "    else:\n",
    "        hist[bin1] = 1\n",
    "\n",
    "#let us now print the histogram\n",
    "for i in sorted(hist):\n",
    "    print(i,hist[i])"
   ]
  },
  {
   "cell_type": "markdown",
   "metadata": {},
   "source": [
    "Ok, let us do the same with our `gc_content` dictionary. The keys of `gc_content` are sequence numbers and the values are the corresponding GC content in percentage"
   ]
  },
  {
   "cell_type": "code",
   "execution_count": 32,
   "metadata": {},
   "outputs": [
    {
     "name": "stdout",
     "output_type": "stream",
     "text": [
      "55.5\n",
      "39.5\n",
      "53.5\n",
      "49.5\n",
      "41.5\n",
      "63.5\n",
      "31.5\n",
      "39.5\n",
      "53.5\n",
      "31.5\n",
      "43.5\n",
      "43.5\n",
      "53.5\n",
      "49.5\n",
      "53.5\n",
      "53.5\n",
      "35.5\n",
      "33.5\n",
      "35.5\n",
      "39.5\n",
      "61.5\n",
      "39.5\n",
      "41.5\n",
      "53.5\n",
      "39.5\n",
      "39.5\n",
      "57.5\n",
      "53.5\n",
      "43.5\n",
      "55.5\n",
      "53.5\n",
      "43.5\n",
      "47.5\n",
      "47.5\n",
      "43.5\n",
      "41.5\n",
      "39.5\n",
      "53.5\n",
      "49.5\n",
      "33.5\n",
      "53.5\n",
      "31.5\n",
      "35.5\n",
      "47.5\n",
      "55.5\n",
      "35.5\n",
      "41.5\n",
      "31.5\n",
      "53.5\n",
      "39.5\n",
      "31.5\n",
      "35.5\n",
      "35.5\n",
      "43.5\n",
      "47.5\n",
      "35.5\n",
      "55.5\n",
      "41.5\n",
      "41.5\n",
      "49.5\n",
      "35.5\n",
      "53.5\n",
      "49.5\n",
      "47.5\n",
      "39.5\n",
      "39.5\n",
      "33.5\n",
      "27.5\n",
      "41.5\n",
      "43.5\n",
      "49.5\n",
      "55.5\n",
      "53.5\n",
      "35.5\n",
      "35.5\n",
      "43.5\n",
      "47.5\n",
      "43.5\n",
      "55.5\n",
      "47.5\n",
      "53.5\n",
      "49.5\n",
      "55.5\n",
      "47.5\n",
      "21.5\n",
      "53.5\n",
      "49.5\n",
      "27.5\n",
      "49.5\n",
      "55.5\n",
      "55.5\n",
      "41.5\n",
      "47.5\n",
      "49.5\n",
      "33.5\n",
      "33.5\n",
      "47.5\n",
      "43.5\n",
      "41.5\n",
      "19.5\n",
      "47.5\n",
      "43.5\n",
      "49.5\n",
      "49.5\n",
      "43.5\n",
      "35.5\n",
      "63.5\n",
      "53.5\n",
      "53.5\n",
      "27.5\n",
      "43.5\n",
      "31.5\n",
      "49.5\n",
      "43.5\n",
      "33.5\n",
      "31.5\n",
      "53.5\n",
      "53.5\n",
      "53.5\n",
      "53.5\n",
      "49.5\n",
      "39.5\n",
      "49.5\n",
      "57.5\n",
      "49.5\n",
      "49.5\n",
      "47.5\n",
      "49.5\n",
      "49.5\n",
      "43.5\n",
      "33.5\n",
      "41.5\n",
      "41.5\n",
      "31.5\n",
      "33.5\n",
      "41.5\n",
      "33.5\n",
      "53.5\n",
      "19.5\n",
      "49.5\n",
      "35.5\n",
      "43.5\n",
      "49.5\n",
      "49.5\n",
      "49.5\n",
      "43.5\n",
      "55.5\n",
      "43.5\n",
      "53.5\n",
      "39.5\n",
      "49.5\n",
      "39.5\n",
      "53.5\n",
      "43.5\n",
      "43.5\n",
      "49.5\n",
      "43.5\n",
      "41.5\n",
      "53.5\n",
      "39.5\n",
      "39.5\n",
      "53.5\n",
      "55.5\n",
      "47.5\n",
      "47.5\n",
      "53.5\n",
      "49.5\n",
      "49.5\n",
      "49.5\n",
      "49.5\n",
      "31.5\n",
      "53.5\n",
      "49.5\n",
      "39.5\n",
      "47.5\n",
      "41.5\n",
      "31.5\n",
      "53.5\n",
      "35.5\n",
      "47.5\n",
      "39.5\n",
      "53.5\n",
      "41.5\n",
      "53.5\n",
      "43.5\n",
      "49.5\n",
      "27.5\n",
      "31.5\n",
      "41.5\n",
      "47.5\n",
      "43.5\n",
      "47.5\n",
      "49.5\n",
      "53.5\n",
      "49.5\n",
      "33.5\n",
      "43.5\n",
      "47.5\n",
      "41.5\n",
      "27.5\n",
      "47.5\n",
      "49.5\n",
      "27.5\n",
      "33.5\n",
      "49.5\n",
      "47.5\n",
      "47.5\n",
      "43.5\n",
      "41.5\n",
      "53.5\n",
      "39.5\n",
      "33.5\n",
      "39.5\n",
      "53.5\n",
      "49.5\n",
      "31.5\n",
      "53.5\n",
      "53.5\n",
      "47.5\n",
      "53.5\n",
      "31.5\n",
      "43.5\n",
      "49.5\n",
      "41.5\n",
      "49.5\n",
      "53.5\n",
      "41.5\n",
      "43.5\n",
      "33.5\n",
      "49.5\n",
      "35.5\n",
      "55.5\n",
      "35.5\n",
      "41.5\n",
      "63.5\n",
      "53.5\n",
      "53.5\n",
      "35.5\n",
      "61.5\n",
      "49.5\n",
      "53.5\n",
      "41.5\n",
      "55.5\n",
      "49.5\n",
      "47.5\n",
      "49.5\n",
      "49.5\n",
      "49.5\n",
      "49.5\n",
      "35.5\n",
      "{55.5: 13, 39.5: 19, 53.5: 41, 49.5: 45, 41.5: 22, 63.5: 3, 31.5: 13, 43.5: 27, 35.5: 17, 33.5: 13, 61.5: 2, 57.5: 2, 47.5: 24, 27.5: 6, 21.5: 1, 19.5: 2}\n",
      "{1: 55.56, 2: 38.89, 3: 52.78, 4: 50.0, 5: 41.67, 6: 63.89, 7: 30.56, 8: 38.89, 9: 52.78, 10: 30.56, 11: 44.44, 12: 44.44, 13: 52.78, 14: 50.0, 15: 52.78, 16: 52.78, 17: 36.11, 18: 33.33, 19: 36.11, 20: 38.89, 21: 61.11, 22: 38.89, 23: 41.67, 24: 52.78, 25: 38.89, 26: 38.89, 27: 58.33, 28: 52.78, 29: 44.44, 30: 55.56, 31: 52.78, 32: 44.44, 33: 47.22, 34: 47.22, 35: 44.44, 36: 41.67, 37: 38.89, 38: 52.78, 39: 50.0, 40: 33.33, 41: 52.78, 42: 30.56, 43: 36.11, 44: 47.22, 45: 55.56, 46: 36.11, 47: 41.67, 48: 30.56, 49: 52.78, 50: 38.89, 51: 30.56, 52: 36.11, 53: 36.11, 54: 44.44, 55: 47.22, 56: 36.11, 57: 55.56, 58: 41.67, 59: 41.67, 60: 50.0, 61: 36.11, 62: 52.78, 63: 50.0, 64: 47.22, 65: 38.89, 66: 38.89, 67: 33.33, 68: 27.78, 69: 41.67, 70: 44.44, 71: 50.0, 72: 55.56, 73: 52.78, 74: 36.11, 75: 36.11, 76: 44.44, 77: 47.22, 78: 44.44, 79: 55.56, 80: 47.22, 81: 52.78, 82: 50.0, 83: 55.56, 84: 47.22, 85: 22.22, 86: 52.78, 87: 50.0, 88: 27.78, 89: 50.0, 90: 55.56, 91: 55.56, 92: 41.67, 93: 47.22, 94: 50.0, 95: 33.33, 96: 33.33, 97: 47.22, 98: 44.44, 99: 41.67, 100: 19.44, 101: 47.22, 102: 44.44, 103: 50.0, 104: 50.0, 105: 44.44, 106: 36.11, 107: 63.89, 108: 52.78, 109: 52.78, 110: 27.78, 111: 44.44, 112: 30.56, 113: 50.0, 114: 44.44, 115: 33.33, 116: 30.56, 117: 52.78, 118: 52.78, 119: 52.78, 120: 52.78, 121: 50.0, 122: 38.89, 123: 50.0, 124: 58.33, 125: 50.0, 126: 50.0, 127: 47.22, 128: 50.0, 129: 50.0, 130: 44.44, 131: 33.33, 132: 41.67, 133: 41.67, 134: 30.56, 135: 33.33, 136: 41.67, 137: 33.33, 138: 52.78, 139: 19.44, 140: 50.0, 141: 36.11, 142: 44.44, 143: 50.0, 144: 50.0, 145: 50.0, 146: 44.44, 147: 55.56, 148: 44.44, 149: 52.78, 150: 38.89, 151: 50.0, 152: 38.89, 153: 52.78, 154: 44.44, 155: 44.44, 156: 50.0, 157: 44.44, 158: 41.67, 159: 52.78, 160: 38.89, 161: 38.89, 162: 52.78, 163: 55.56, 164: 47.22, 165: 47.22, 166: 52.78, 167: 50.0, 168: 50.0, 169: 50.0, 170: 50.0, 171: 30.56, 172: 52.78, 173: 50.0, 174: 38.89, 175: 47.22, 176: 41.67, 177: 30.56, 178: 52.78, 179: 36.11, 180: 47.22, 181: 38.89, 182: 52.78, 183: 41.67, 184: 52.78, 185: 44.44, 186: 50.0, 187: 27.78, 188: 30.56, 189: 41.67, 190: 47.22, 191: 44.44, 192: 47.22, 193: 50.0, 194: 52.78, 195: 50.0, 196: 33.33, 197: 44.44, 198: 47.22, 199: 41.67, 200: 27.78, 201: 47.22, 202: 50.0, 203: 27.78, 204: 33.33, 205: 50.0, 206: 47.22, 207: 47.22, 208: 44.44, 209: 41.67, 210: 52.78, 211: 38.89, 212: 33.33, 213: 38.89, 214: 52.78, 215: 50.0, 216: 30.56, 217: 52.78, 218: 52.78, 219: 47.22, 220: 52.78, 221: 30.56, 222: 44.44, 223: 50.0, 224: 41.67, 225: 50.0, 226: 52.78, 227: 41.67, 228: 44.44, 229: 33.33, 230: 50.0, 231: 36.11, 232: 55.56, 233: 36.11, 234: 41.67, 235: 63.89, 236: 52.78, 237: 52.78, 238: 36.11, 239: 61.11, 240: 50.0, 241: 52.78, 242: 41.67, 243: 55.56, 244: 50.0, 245: 47.22, 246: 50.0, 247: 50.0, 248: 50.0, 249: 50.0, 250: 36.11}\n",
      "{55.5: 5.2, 39.5: 7.6, 53.5: 16.4, 49.5: 18.0, 41.5: 8.8, 63.5: 1.2, 31.5: 5.2, 43.5: 10.8, 35.5: 6.8, 33.5: 5.2, 61.5: 0.8, 57.5: 0.8, 47.5: 9.6, 27.5: 2.4, 21.5: 0.4, 19.5: 0.8}\n"
     ]
    }
   ],
   "source": [
    "#let us assume bin size of 5 percent\n",
    "bin_size = 2\n",
    "fact = (bin_size/2)-0.5\n",
    "\n",
    "#let us write the histogram into a file called \"GC_hist.txt\"\n",
    "fh = open(\"GC_hist.txt\",\"w\")\n",
    "\n",
    "hist = {} #declare the histogram\n",
    "#print(gc_content)\n",
    "for i in gc_content:\n",
    "    \n",
    "    bin1 = int( round(( (gc_content[i]-0.5)/bin_size + 0.5),0))*bin_size - fact\n",
    "    print(bin1)\n",
    "    if bin1 in hist:\n",
    "        hist[bin1] += 1\n",
    "        \n",
    "    else:\n",
    "        hist[bin1] = 1\n",
    "print(hist)\n",
    "for i in sorted(hist):\n",
    "    hist[i]=hist[i]*100/len(gc_content)\n",
    "    write_str =str(i) + \" \" + str(hist[i]) + \"\\n\"\n",
    "    fh.write(write_str)\n",
    "fh.close()\n",
    "print(gc_content)\n",
    "print(hist)"
   ]
  },
  {
   "cell_type": "markdown",
   "metadata": {},
   "source": [
    "Would be nice if we could see a plot. I don't know how to make a simple plot in Jupyter, so I just googled and found this link: https://matplotlib.org/gallery/lines_bars_and_markers/simple_plot.html"
   ]
  },
  {
   "cell_type": "code",
   "execution_count": 33,
   "metadata": {},
   "outputs": [
    {
     "data": {
      "image/png": "[encoded data removed]",
      "text/plain": [
       "<Figure size 432x288 with 1 Axes>"
      ]
     },
     "metadata": {
      "needs_background": "light"
     },
     "output_type": "display_data"
    }
   ],
   "source": [
    "import matplotlib\n",
    "import matplotlib.pyplot as plt\n",
    "import numpy as np\n",
    "\n",
    "yt = []\n",
    "\n",
    "x = np.asarray(sorted(hist))\n",
    "for i in sorted(hist):\n",
    "    yt.append(hist[i])\n",
    "y = np.asarray(yt)\n",
    "\n",
    "fig, ax = plt.subplots()\n",
    "ax.plot(x, y)\n",
    "\n",
    "ax.set(xlabel='GC%', ylabel='% of sequences')\n",
    "\n",
    "plt.show()\n",
    "\n",
    "fig.savefig(\"test.png\")"
   ]
  },
  {
   "cell_type": "markdown",
   "metadata": {},
   "source": [
    "## Excercise 1: \n",
    "Use the pyplot histogram tool to plot a distribution and cumulative distribution as subplots of one plot."
   ]
  },
  {
   "cell_type": "code",
   "execution_count": 34,
   "metadata": {},
   "outputs": [
    {
     "name": "stdout",
     "output_type": "stream",
     "text": [
      "{55.5: 5.2, 39.5: 7.6, 53.5: 16.4, 49.5: 18.0, 41.5: 8.8, 63.5: 1.2, 31.5: 5.2, 43.5: 10.8, 35.5: 6.8, 33.5: 5.2, 61.5: 0.8, 57.5: 0.8, 47.5: 9.6, 27.5: 2.4, 21.5: 0.4, 19.5: 0.8}\n",
      "19.5 0.8\n",
      "21.5 0.4\n",
      "27.5 2.4\n",
      "31.5 5.2\n",
      "33.5 5.2\n",
      "35.5 6.8\n",
      "39.5 7.6\n",
      "41.5 8.8\n",
      "43.5 10.8\n",
      "47.5 9.6\n",
      "49.5 18.0\n",
      "53.5 16.4\n",
      "55.5 5.2\n",
      "57.5 0.8\n",
      "61.5 0.8\n",
      "63.5 1.2\n",
      "\n"
     ]
    },
    {
     "data": {
      "image/png": "[encoded data removed]",
      "text/plain": [
       "<Figure size 2400x1200 with 2 Axes>"
      ]
     },
     "metadata": {
      "needs_background": "light"
     },
     "output_type": "display_data"
    }
   ],
   "source": [
    "print(hist)\n",
    "fh = open(\"GC_hist.txt\",\"r\")\n",
    "print(fh.read())\n",
    "mybins = [ x * 0.01 for x in range(101)]\n",
    "\n",
    "fig = plt.figure(figsize=(8,4), dpi=300)\n",
    "\n",
    "plt.subplot(1, 2, 1)\n",
    "plt.title(\"Distribution\")\n",
    "plt.hist(y, bins=mybins)\n",
    "\n",
    "plt.subplot(1, 2, 2)\n",
    "plt.title(\"Cumulative Distribution\")\n",
    "plt.hist(y, bins=mybins, density=True, cumulative=1)\n",
    "plt.plot([0,1],[0.95,0.95]);"
   ]
  },
  {
   "cell_type": "markdown",
   "metadata": {},
   "source": [
    "## Excercise 2\n",
    "Use the EMBL EBI Proteins EBI to download their sequence for Actin and find the longest overlapping sequence with the one provided above. The accession number for actin is A0A015J624 and the base url is:\n",
    "https://www.ebi.ac.uk/proteins/api/proteins\n"
   ]
  },
  {
   "cell_type": "code",
   "execution_count": 101,
   "metadata": {},
   "outputs": [],
   "source": [
    "import requests\n",
    "url = \" https://www.ebi.ac.uk/proteins/api/proteins/A0A015J624/\"\n",
    "res = requests.get(url)\n",
    "ls = res.text.split(',')"
   ]
  },
  {
   "cell_type": "code",
   "execution_count": 102,
   "metadata": {},
   "outputs": [
    {
     "name": "stdout",
     "output_type": "stream",
     "text": [
      "{\"accession\":\"A0A015J624\"\n",
      "\"id\":\"A0A015J624_RHIIW\"\n",
      "\"proteinExistence\":\"Inferred from homology\"\n",
      "\"info\":{\"type\":\"TrEMBL\"\n",
      "\"created\":\"2014-06-11\"\n",
      "\"modified\":\"2022-01-19\"\n",
      "\"version\":27}\n",
      "\"organism\":{\"taxonomy\":1432141\n",
      "\"names\":[{\"type\":\"scientific\"\n",
      "\"value\":\"Rhizophagus irregularis (strain DAOM 197198w)\"}\n",
      "{\"type\":\"common\"\n",
      "\"value\":\"Glomus intraradices\"}]\n",
      "\"lineage\":[\"Eukaryota\"\n",
      "\"Fungi\"\n",
      "\"Fungi incertae sedis\"\n",
      "\"Mucoromycota\"\n",
      "\"Glomeromycotina\"\n",
      "\"Glomeromycetes\"\n",
      "\"Glomerales\"\n",
      "\"Glomeraceae\"\n",
      "\"Rhizophagus\"]}\n",
      "\"protein\":{\"submittedName\":[{\"fullName\":{\"value\":\"Actin\"\n",
      "\"evidences\":[{\"code\":\"ECO:0000313\"\n",
      "\"source\":{\"name\":\"EMBL\"\n",
      "\"id\":\"EXX64987.1\"\n",
      "\"url\":\"https://www.ebi.ac.uk/ena/browser/view/EXX64987.1\"}}]}}]}\n",
      "\"gene\":[{\"orfNames\":[{\"value\":\"RirG_137620\"\n",
      "\"evidences\":[{\"code\":\"ECO:0000313\"\n",
      "\"source\":{\"name\":\"EMBL\"\n",
      "\"id\":\"EXX64987.1\"\n",
      "\"url\":\"https://www.ebi.ac.uk/ena/browser/view/EXX64987.1\"}}]}]}]\n",
      "\"comments\":[{\"type\":\"FUNCTION\"\n",
      "\"text\":[{\"value\":\"Actins are highly conserved proteins that are involved in various types of cell motility and are ubiquitously expressed in all eukaryotic cells\"\n",
      "\"evidences\":[{\"code\":\"ECO:0000256\"\n",
      "\"source\":{\"name\":\"ARBA\"\n",
      "\"id\":\"ARBA00003520\"\n",
      "\"url\":\"\"}}]}]}\n",
      "{\"type\":\"SIMILARITY\"\n",
      "\"text\":[{\"value\":\"Belongs to the actin family\"\n",
      "\"evidences\":[{\"code\":\"ECO:0000256\"\n",
      "\"source\":{\"name\":\"RuleBase\"\n",
      "\"id\":\"RU000487\"\n",
      "\"url\":\"https://www.uniprot.org/unirule/RU000487\"}}]}]}\n",
      "{\"type\":\"CAUTION\"\n",
      "\"text\":[{\"value\":\"The sequence shown here is derived from an EMBL/GenBank/DDBJ whole genome shotgun (WGS) entry which is preliminary data\"\n",
      "\"evidences\":[{\"code\":\"ECO:0000313\"\n",
      "\"source\":{\"name\":\"EMBL\"\n",
      "\"id\":\"EXX64987.1\"\n",
      "\"url\":\"https://www.ebi.ac.uk/ena/browser/view/EXX64987.1\"}}]}]}]\n",
      "\"dbReferences\":[{\"type\":\"EMBL\"\n",
      "\"id\":\"JEMT01022630\"\n",
      "\"properties\":{\"molecule type\":\"Genomic_DNA\"\n",
      "\"protein sequence ID\":\"EXX64987.1\"}}\n",
      "{\"type\":\"STRING\"\n",
      "\"id\":\"1432141.A0A015J624\"}\n",
      "{\"type\":\"EnsemblFungi\"\n",
      "\"id\":\"EXX64987\"\n",
      "\"properties\":{\"gene ID\":\"RirG_137620\"\n",
      "\"protein sequence ID\":\"EXX64987\"}}\n",
      "{\"type\":\"HOGENOM\"\n",
      "\"id\":\"CLU_027965_0_2_1\"}\n",
      "{\"type\":\"OMA\"\n",
      "\"id\":\"FHTTAER\"}\n",
      "{\"type\":\"Proteomes\"\n",
      "\"id\":\"UP000022910\"\n",
      "\"properties\":{\"component\":\"Unassembled WGS sequence\"}}\n",
      "{\"type\":\"InterPro\"\n",
      "\"id\":\"IPR004000\"\n",
      "\"properties\":{\"entry name\":\"Actin\"}}\n",
      "{\"type\":\"InterPro\"\n",
      "\"id\":\"IPR020902\"\n",
      "\"properties\":{\"entry name\":\"Actin/actin-like_CS\"}}\n",
      "{\"type\":\"InterPro\"\n",
      "\"id\":\"IPR004001\"\n",
      "\"properties\":{\"entry name\":\"Actin_CS\"}}\n",
      "{\"type\":\"InterPro\"\n",
      "\"id\":\"IPR043129\"\n",
      "\"properties\":{\"entry name\":\"ATPase_NBD\"}}\n",
      "{\"type\":\"PANTHER\"\n",
      "\"id\":\"PTHR11937\"\n",
      "\"properties\":{\"match status\":\"1\"\n",
      "\"entry name\":\"PTHR11937\"}}\n",
      "{\"type\":\"Pfam\"\n",
      "\"id\":\"PF00022\"\n",
      "\"properties\":{\"match status\":\"1\"\n",
      "\"entry name\":\"Actin\"}}\n",
      "{\"type\":\"PRINTS\"\n",
      "\"id\":\"PR00190\"\n",
      "\"properties\":{\"entry name\":\"ACTIN\"}}\n",
      "{\"type\":\"SMART\"\n",
      "\"id\":\"SM00268\"\n",
      "\"properties\":{\"match status\":\"1\"\n",
      "\"entry name\":\"ACTIN\"}}\n",
      "{\"type\":\"SUPFAM\"\n",
      "\"id\":\"SSF53067\"\n",
      "\"properties\":{\"match status\":\"2\"\n",
      "\"entry name\":\"SSF53067\"}}\n",
      "{\"type\":\"PROSITE\"\n",
      "\"id\":\"PS00406\"\n",
      "\"properties\":{\"match status\":\"1\"\n",
      "\"entry name\":\"ACTINS_1\"}}\n",
      "{\"type\":\"PROSITE\"\n",
      "\"id\":\"PS00432\"\n",
      "\"properties\":{\"match status\":\"1\"\n",
      "\"entry name\":\"ACTINS_2\"}}\n",
      "{\"type\":\"PROSITE\"\n",
      "\"id\":\"PS01132\"\n",
      "\"properties\":{\"match status\":\"1\"\n",
      "\"entry name\":\"ACTINS_ACT_LIKE\"}}]\n",
      "\"keywords\":[{\"value\":\"Reference proteome\"\n",
      "\"evidences\":[{\"code\":\"ECO:0000313\"\n",
      "\"source\":{\"name\":\"Proteomes\"\n",
      "\"id\":\"UP000022910\"\n",
      "\"url\":\"https://www.uniprot.org/proteomes/UP000022910\"}}]}]\n",
      "\"references\":[{\"citation\":{\"type\":\"submission\"\n",
      "\"publicationDate\":\"FEB-2014\"\n",
      "\"title\":\"Single nucleus genome sequencing reveals high similarity among nuclei of an endomycorrhizal fungus.\"\n",
      "\"authors\":[\"Lin K.\"\n",
      "\"Geurts R.\"\n",
      "\"Zhang Z.\"\n",
      "\"Limpens E.\"\n",
      "\"Saunders D.G.\"\n",
      "\"Mu D.\"\n",
      "\"Pang E.\"\n",
      "\"Cao H.\"\n",
      "\"Cha H.\"\n",
      "\"Lin T.\"\n",
      "\"Zhou Q.\"\n",
      "\"Shang Y.\"\n",
      "\"Li Y.\"\n",
      "\"Ivanov S.\"\n",
      "\"Sharma T.\"\n",
      "\"Velzen R.V.\"\n",
      "\"Ruijter N.D.\"\n",
      "\"Aanen D.K.\"\n",
      "\"Win J.\"\n",
      "\"Kamoun S.\"\n",
      "\"Bisseling T.\"\n",
      "\"Huang S.\"]\n",
      "\"publication\":{\"submissionDatabase\":\"EMBL/GenBank/DDBJ databases\"}}\n",
      "\"source\":{\"strain\":[{\"value\":\"DAOM197198w\"\n",
      "\"evidences\":[{\"code\":\"ECO:0000313\"\n",
      "\"source\":{\"name\":\"Proteomes\"\n",
      "\"id\":\"UP000022910\"\n",
      "\"url\":\"https://www.uniprot.org/proteomes/UP000022910\"}}]}]}\n",
      "\"scope\":[\"NUCLEOTIDE SEQUENCE [LARGE SCALE GENOMIC DNA]\"]\n",
      "\"evidences\":[{\"code\":\"ECO:0000313\"\n",
      "\"source\":{\"name\":\"EMBL\"\n",
      "\"id\":\"EXX64987.1\"\n",
      "\"url\":\"https://www.ebi.ac.uk/ena/browser/view/EXX64987.1\"}}\n",
      "{\"code\":\"ECO:0000313\"\n",
      "\"source\":{\"name\":\"Proteomes\"\n",
      "\"id\":\"UP000022910\"\n",
      "\"url\":\"https://www.uniprot.org/proteomes/UP000022910\"}}]}]\n",
      "\"sequence\":{\"version\":1\n",
      "\"sequence\":{\"version\":1\n",
      "\"length\":375\n",
      "\"mass\":41720\n",
      "\"modified\":\"2014-06-11\"\n",
      "\"sequence\":\"MEDEVAALVIDNGSGMCKAGFAGDDAPRAVFPSIVGRPRHQGVMVGMGQKDSYVGDEAQSKRGILTLKYPIEHGIVTNWDDMEKIWHHTFYNELRVAPEEHPVLLTEAPLNPKSNREKMTQIMFETFNAPAFYVAIQAVLSLYASGRTTGIVLDSGDGVTHTVPIYEGYALPHAILRLDLAGRDLTNYLMVILMERGYSFQTTAEREIVRDIKEKLCYVALDFEQEMQTAAQSSALEKSYELPDGQVITIGNERFRAPEALFQPSFLGLEAAGIHETTYNSIMKCDVDIRKDLYGNIVLSGGTTMYAGIADRMQKEITALAPSSMKIKIVAPPERKYSVWIGGSILASLSTFQQMWISKQEYDESGPSIVHRKCF\"}}\n",
      "\"sequence\":\"MEDEVAALVIDNGSGMCKAGFAGDDAPRAVFPSIVGRPRHQGVMVGMGQKDSYVGDEAQSKRGILTLKYPIEHGIVTNWDDMEKIWHHTFYNELRVAPEEHPVLLTEAPLNPKSNREKMTQIMFETFNAPAFYVAIQAVLSLYASGRTTGIVLDSGDGVTHTVPIYEGYALPHAILRLDLAGRDLTNYLMVILMERGYSFQTTAEREIVRDIKEKLCYVALDFEQEMQTAAQSSALEKSYELPDGQVITIGNERFRAPEALFQPSFLGLEAAGIHETTYNSIMKCDVDIRKDLYGNIVLSGGTTMYAGIADRMQKEITALAPSSMKIKIVAPPERKYSVWIGGSILASLSTFQQMWISKQEYDESGPSIVHRKCF\"}}\n",
      "\"sequence\":{\"version\":1\"sequence\":\"MEDEVAALVIDNGSGMCKAGFAGDDAPRAVFPSIVGRPRHQGVMVGMGQKDSYVGDEAQSKRGILTLKYPIEHGIVTNWDDMEKIWHHTFYNELRVAPEEHPVLLTEAPLNPKSNREKMTQIMFETFNAPAFYVAIQAVLSLYASGRTTGIVLDSGDGVTHTVPIYEGYALPHAILRLDLAGRDLTNYLMVILMERGYSFQTTAEREIVRDIKEKLCYVALDFEQEMQTAAQSSALEKSYELPDGQVITIGNERFRAPEALFQPSFLGLEAAGIHETTYNSIMKCDVDIRKDLYGNIVLSGGTTMYAGIADRMQKEITALAPSSMKIKIVAPPERKYSVWIGGSILASLSTFQQMWISKQEYDESGPSIVHRKCF\"}}\n"
     ]
    }
   ],
   "source": [
    "with open ('actin_fasta.txt' , 'w') as actin:\n",
    "    for i in ls:\n",
    "        print(i)\n",
    "        if i[1:9] == 'sequence':\n",
    "            #i+=1\n",
    "            print(i)\n",
    "            actin.write(i)\n",
    "actin.close()\n",
    "with open('actin_fasta.txt', 'r') as actin:\n",
    "    ls = {}\n",
    "    for line in actin:\n",
    "        print(line)\n",
    "        line.rstrip()\n"
   ]
  },
  {
   "cell_type": "code",
   "execution_count": null,
   "metadata": {},
   "outputs": [],
   "source": []
  }
 ],
 "metadata": {
  "anaconda-cloud": {},
  "kernelspec": {
   "display_name": "Python 3 (ipykernel)",
   "language": "python",
   "name": "python3"
  },
  "language_info": {
   "codemirror_mode": {
    "name": "ipython",
    "version": 3
   },
   "file_extension": ".py",
   "mimetype": "text/x-python",
   "name": "python",
   "nbconvert_exporter": "python",
   "pygments_lexer": "ipython3",
   "version": "3.9.12"
  },
  "vscode": {
   "interpreter": {
    "hash": "74b0eeecb9694be932ad336503137f0c047c9eb8ec8a4a235079c04fe56ee89e"
   }
  }
 },
 "nbformat": 4,
 "nbformat_minor": 1
}
