{
 "cells": [
  {
   "cell_type": "code",
   "execution_count": 5,
   "id": "1e6b52fb",
   "metadata": {},
   "outputs": [
    {
     "name": "stderr",
     "output_type": "stream",
     "text": [
      "Setting default log level to \"WARN\".\n",
      "To adjust logging level use sc.setLogLevel(newLevel). For SparkR, use setLogLevel(newLevel).\n"
     ]
    },
    {
     "name": "stdout",
     "output_type": "stream",
     "text": [
      "22/10/22 21:13:16 WARN NativeCodeLoader: Unable to load native-hadoop library for your platform... using builtin-java classes where applicable\n"
     ]
    },
    {
     "ename": "AnalysisException",
     "evalue": "Path does not exist: file:/Users/matthewsawaged/Desktop/School and Shit/Fall 2022/CHEM 5580- Molecular Informatics/Untitled Folder 1/local directory path - e.g. /User/downloads/sourceId=eva",
     "output_type": "error",
     "traceback": [
      "\u001b[0;31m---------------------------------------------------------------------------\u001b[0m",
      "\u001b[0;31mAnalysisException\u001b[0m                         Traceback (most recent call last)",
      "Input \u001b[0;32mIn [5]\u001b[0m, in \u001b[0;36m<cell line: 17>\u001b[0;34m()\u001b[0m\n\u001b[1;32m     10\u001b[0m spark \u001b[38;5;241m=\u001b[39m (\n\u001b[1;32m     11\u001b[0m     SparkSession\u001b[38;5;241m.\u001b[39mbuilder\n\u001b[1;32m     12\u001b[0m     \u001b[38;5;241m.\u001b[39mmaster(\u001b[38;5;124m'\u001b[39m\u001b[38;5;124mlocal[*]\u001b[39m\u001b[38;5;124m'\u001b[39m)\n\u001b[1;32m     13\u001b[0m     \u001b[38;5;241m.\u001b[39mgetOrCreate()\n\u001b[1;32m     14\u001b[0m )\n\u001b[1;32m     16\u001b[0m \u001b[38;5;66;03m# read evidence dataset\u001b[39;00m\n\u001b[0;32m---> 17\u001b[0m evd \u001b[38;5;241m=\u001b[39m \u001b[43mspark\u001b[49m\u001b[38;5;241;43m.\u001b[39;49m\u001b[43mread\u001b[49m\u001b[38;5;241;43m.\u001b[39;49m\u001b[43mparquet\u001b[49m\u001b[43m(\u001b[49m\u001b[43mevidencePath\u001b[49m\u001b[43m)\u001b[49m\n\u001b[1;32m     19\u001b[0m \u001b[38;5;66;03m# Browse the evidence schema\u001b[39;00m\n\u001b[1;32m     20\u001b[0m evd\u001b[38;5;241m.\u001b[39mprintSchema()\n",
      "File \u001b[0;32m~/opt/anaconda3/lib/python3.9/site-packages/pyspark/sql/readwriter.py:364\u001b[0m, in \u001b[0;36mDataFrameReader.parquet\u001b[0;34m(self, *paths, **options)\u001b[0m\n\u001b[1;32m    353\u001b[0m int96RebaseMode \u001b[38;5;241m=\u001b[39m options\u001b[38;5;241m.\u001b[39mget(\u001b[38;5;124m\"\u001b[39m\u001b[38;5;124mint96RebaseMode\u001b[39m\u001b[38;5;124m\"\u001b[39m, \u001b[38;5;28;01mNone\u001b[39;00m)\n\u001b[1;32m    354\u001b[0m \u001b[38;5;28mself\u001b[39m\u001b[38;5;241m.\u001b[39m_set_opts(\n\u001b[1;32m    355\u001b[0m     mergeSchema\u001b[38;5;241m=\u001b[39mmergeSchema,\n\u001b[1;32m    356\u001b[0m     pathGlobFilter\u001b[38;5;241m=\u001b[39mpathGlobFilter,\n\u001b[0;32m   (...)\u001b[0m\n\u001b[1;32m    361\u001b[0m     int96RebaseMode\u001b[38;5;241m=\u001b[39mint96RebaseMode,\n\u001b[1;32m    362\u001b[0m )\n\u001b[0;32m--> 364\u001b[0m \u001b[38;5;28;01mreturn\u001b[39;00m \u001b[38;5;28mself\u001b[39m\u001b[38;5;241m.\u001b[39m_df(\u001b[38;5;28;43mself\u001b[39;49m\u001b[38;5;241;43m.\u001b[39;49m\u001b[43m_jreader\u001b[49m\u001b[38;5;241;43m.\u001b[39;49m\u001b[43mparquet\u001b[49m\u001b[43m(\u001b[49m\u001b[43m_to_seq\u001b[49m\u001b[43m(\u001b[49m\u001b[38;5;28;43mself\u001b[39;49m\u001b[38;5;241;43m.\u001b[39;49m\u001b[43m_spark\u001b[49m\u001b[38;5;241;43m.\u001b[39;49m\u001b[43m_sc\u001b[49m\u001b[43m,\u001b[49m\u001b[43m \u001b[49m\u001b[43mpaths\u001b[49m\u001b[43m)\u001b[49m\u001b[43m)\u001b[49m)\n",
      "File \u001b[0;32m~/opt/anaconda3/lib/python3.9/site-packages/py4j/java_gateway.py:1321\u001b[0m, in \u001b[0;36mJavaMember.__call__\u001b[0;34m(self, *args)\u001b[0m\n\u001b[1;32m   1315\u001b[0m command \u001b[38;5;241m=\u001b[39m proto\u001b[38;5;241m.\u001b[39mCALL_COMMAND_NAME \u001b[38;5;241m+\u001b[39m\\\n\u001b[1;32m   1316\u001b[0m     \u001b[38;5;28mself\u001b[39m\u001b[38;5;241m.\u001b[39mcommand_header \u001b[38;5;241m+\u001b[39m\\\n\u001b[1;32m   1317\u001b[0m     args_command \u001b[38;5;241m+\u001b[39m\\\n\u001b[1;32m   1318\u001b[0m     proto\u001b[38;5;241m.\u001b[39mEND_COMMAND_PART\n\u001b[1;32m   1320\u001b[0m answer \u001b[38;5;241m=\u001b[39m \u001b[38;5;28mself\u001b[39m\u001b[38;5;241m.\u001b[39mgateway_client\u001b[38;5;241m.\u001b[39msend_command(command)\n\u001b[0;32m-> 1321\u001b[0m return_value \u001b[38;5;241m=\u001b[39m \u001b[43mget_return_value\u001b[49m\u001b[43m(\u001b[49m\n\u001b[1;32m   1322\u001b[0m \u001b[43m    \u001b[49m\u001b[43manswer\u001b[49m\u001b[43m,\u001b[49m\u001b[43m \u001b[49m\u001b[38;5;28;43mself\u001b[39;49m\u001b[38;5;241;43m.\u001b[39;49m\u001b[43mgateway_client\u001b[49m\u001b[43m,\u001b[49m\u001b[43m \u001b[49m\u001b[38;5;28;43mself\u001b[39;49m\u001b[38;5;241;43m.\u001b[39;49m\u001b[43mtarget_id\u001b[49m\u001b[43m,\u001b[49m\u001b[43m \u001b[49m\u001b[38;5;28;43mself\u001b[39;49m\u001b[38;5;241;43m.\u001b[39;49m\u001b[43mname\u001b[49m\u001b[43m)\u001b[49m\n\u001b[1;32m   1324\u001b[0m \u001b[38;5;28;01mfor\u001b[39;00m temp_arg \u001b[38;5;129;01min\u001b[39;00m temp_args:\n\u001b[1;32m   1325\u001b[0m     temp_arg\u001b[38;5;241m.\u001b[39m_detach()\n",
      "File \u001b[0;32m~/opt/anaconda3/lib/python3.9/site-packages/pyspark/sql/utils.py:196\u001b[0m, in \u001b[0;36mcapture_sql_exception.<locals>.deco\u001b[0;34m(*a, **kw)\u001b[0m\n\u001b[1;32m    192\u001b[0m converted \u001b[38;5;241m=\u001b[39m convert_exception(e\u001b[38;5;241m.\u001b[39mjava_exception)\n\u001b[1;32m    193\u001b[0m \u001b[38;5;28;01mif\u001b[39;00m \u001b[38;5;129;01mnot\u001b[39;00m \u001b[38;5;28misinstance\u001b[39m(converted, UnknownException):\n\u001b[1;32m    194\u001b[0m     \u001b[38;5;66;03m# Hide where the exception came from that shows a non-Pythonic\u001b[39;00m\n\u001b[1;32m    195\u001b[0m     \u001b[38;5;66;03m# JVM exception message.\u001b[39;00m\n\u001b[0;32m--> 196\u001b[0m     \u001b[38;5;28;01mraise\u001b[39;00m converted \u001b[38;5;28;01mfrom\u001b[39;00m \u001b[38;5;28mNone\u001b[39m\n\u001b[1;32m    197\u001b[0m \u001b[38;5;28;01melse\u001b[39;00m:\n\u001b[1;32m    198\u001b[0m     \u001b[38;5;28;01mraise\u001b[39;00m\n",
      "\u001b[0;31mAnalysisException\u001b[0m: Path does not exist: file:/Users/matthewsawaged/Desktop/School and Shit/Fall 2022/CHEM 5580- Molecular Informatics/Untitled Folder 1/local directory path - e.g. /User/downloads/sourceId=eva"
     ]
    }
   ],
   "source": [
    "from pyspark import SparkConf\n",
    "from pyspark.sql import SparkSession\n",
    "import pyspark.sql.functions as F\n",
    "\n",
    "# path to ClinVar (EVA) evidence dataset \n",
    "# directory stored on your local machine\n",
    "evidencePath = \"local directory path - e.g. /User/downloads/sourceId=eva\"\n",
    "\n",
    "# establish spark connection\n",
    "spark = (\n",
    "    SparkSession.builder\n",
    "    .master('local[*]')\n",
    "    .getOrCreate()\n",
    ")\n",
    "\n",
    "# read evidence dataset\n",
    "evd = spark.read.parquet(evidencePath)\n",
    "\n",
    "# Browse the evidence schema\n",
    "evd.printSchema()\n",
    "\n",
    "# select fields of interest\n",
    "evdSelect = (evd\n",
    " .select(\"targetId\",\n",
    "         \"diseaseId\",\n",
    "         \"variantRsId\",\n",
    "         \"studyId\",\n",
    "         F.explode(\"clinicalSignificances\").alias(\"cs\"),\n",
    "         \"confidence\")\n",
    " )\n",
    "evdSelect.show()\n",
    "\n",
    "# +---------------+--------------+-----------+------------+--------------------+--------------------+\n",
    "# |       targetId|     diseaseId|variantRsId|     studyId|                  cs|          confidence|\n",
    "# +---------------+--------------+-----------+------------+--------------------+--------------------+\n",
    "# |ENSG00000153201|Orphanet_88619|rs773278648|RCV001042548|uncertain signifi...|criteria provided...|\n",
    "# |ENSG00000115718|  Orphanet_745|       null|RCV001134697|uncertain signifi...|criteria provided...|\n",
    "# |ENSG00000107147|    HP_0001250|rs539139475|RCV000720408|       likely benign|criteria provided...|\n",
    "# |ENSG00000175426|Orphanet_71528|rs142567487|RCV000292648|uncertain signifi...|criteria provided...|\n",
    "# |ENSG00000169174|   EFO_0004911|rs563024336|RCV000375546|uncertain signifi...|criteria provided...|\n",
    "# |ENSG00000140521|  Orphanet_298|rs376306906|RCV000763992|uncertain signifi...|criteria provided...|\n",
    "# |ENSG00000134982|   EFO_0005842| rs74627407|RCV000073743|               other|no assertion crit...|\n",
    "# |ENSG00000187498| MONDO_0008289|rs146288748|RCV001111533|uncertain signifi...|criteria provided...|\n",
    "# |ENSG00000116688|Orphanet_64749|rs119103265|RCV000857104|uncertain signifi...|no assertion crit...|\n",
    "# |ENSG00000133812|Orphanet_99956|rs562275980|RCV000367609|uncertain signifi...|criteria provided...|\n",
    "# +---------------+--------------+-----------+------------+--------------------+--------------------+\n",
    "# only showing top 10 rows\n",
    "\n",
    "# Convert to a Pandas Dataframe\n",
    "evdSelect.toPandas()"
   ]
  },
  {
   "cell_type": "code",
   "execution_count": 10,
   "id": "2caf83e4",
   "metadata": {},
   "outputs": [
    {
     "data": {
      "text/plain": [
       "{'atoms': [{'aid': 1, 'number': 8, 'element': 'O', 'y': 0, 'x': 2.5369},\n",
       "  {'aid': 2, 'number': 8, 'element': 'O', 'y': -1.5, 'x': 3.403},\n",
       "  {'aid': 3, 'number': 7, 'element': 'N', 'y': -0.5, 'x': 5.135},\n",
       "  {'aid': 4, 'number': 6, 'element': 'C', 'y': 1.5, 'x': 5.135},\n",
       "  {'aid': 5, 'number': 6, 'element': 'C', 'y': 1, 'x': 6.001},\n",
       "  {'aid': 6, 'number': 6, 'element': 'C', 'y': 1, 'x': 4.269},\n",
       "  {'aid': 7, 'number': 6, 'element': 'C', 'y': 0, 'x': 6.001},\n",
       "  {'aid': 8, 'number': 6, 'element': 'C', 'y': 0, 'x': 4.269},\n",
       "  {'aid': 9, 'number': 6, 'element': 'C', 'y': -0.5, 'x': 3.403},\n",
       "  {'aid': 10, 'number': 1, 'element': 'H', 'y': 1.975, 'x': 5.5335},\n",
       "  {'aid': 11, 'number': 1, 'element': 'H', 'y': 1.975, 'x': 4.7365},\n",
       "  {'aid': 12, 'number': 1, 'element': 'H', 'y': 0.8923, 'x': 6.6116},\n",
       "  {'aid': 13, 'number': 1, 'element': 'H', 'y': 1.5826, 'x': 6.2131},\n",
       "  {'aid': 14, 'number': 1, 'element': 'H', 'y': 1.5826, 'x': 4.0569},\n",
       "  {'aid': 15, 'number': 1, 'element': 'H', 'y': 0.8923, 'x': 3.6584},\n",
       "  {'aid': 16, 'number': 1, 'element': 'H', 'y': -0.5826, 'x': 6.2131},\n",
       "  {'aid': 17, 'number': 1, 'element': 'H', 'y': 0.1077, 'x': 6.6116},\n",
       "  {'aid': 18, 'number': 1, 'element': 'H', 'y': -0.31, 'x': 2}],\n",
       " 'bonds': [{'aid1': 1, 'aid2': 9, 'order': 1},\n",
       "  {'aid1': 1, 'aid2': 18, 'order': 1},\n",
       "  {'aid1': 2, 'aid2': 9, 'order': 2},\n",
       "  {'aid1': 3, 'aid2': 7, 'order': 1},\n",
       "  {'aid1': 3, 'aid2': 8, 'order': 2},\n",
       "  {'aid1': 4, 'aid2': 5, 'order': 1},\n",
       "  {'aid1': 4, 'aid2': 6, 'order': 1},\n",
       "  {'aid1': 4, 'aid2': 10, 'order': 1},\n",
       "  {'aid1': 4, 'aid2': 11, 'order': 1},\n",
       "  {'aid1': 5, 'aid2': 7, 'order': 1},\n",
       "  {'aid1': 5, 'aid2': 12, 'order': 1},\n",
       "  {'aid1': 5, 'aid2': 13, 'order': 1},\n",
       "  {'aid1': 6, 'aid2': 8, 'order': 1},\n",
       "  {'aid1': 6, 'aid2': 14, 'order': 1},\n",
       "  {'aid1': 6, 'aid2': 15, 'order': 1},\n",
       "  {'aid1': 7, 'aid2': 16, 'order': 1},\n",
       "  {'aid1': 7, 'aid2': 17, 'order': 1},\n",
       "  {'aid1': 8, 'aid2': 9, 'order': 1}],\n",
       " 'inchi': 'InChI=1S/C6H9NO2/c8-6(9)5-3-1-2-4-7-5/h1-4H2,(H,8,9)'}"
      ]
     },
     "execution_count": 10,
     "metadata": {},
     "output_type": "execute_result"
    }
   ],
   "source": [
    "import pubchempy as pcp\n",
    "c = pcp.Compound.from_cid(1194)\n",
    "c.to_dict(properties=['atoms', 'bonds', 'inchi'])"
   ]
  },
  {
   "cell_type": "code",
   "execution_count": null,
   "id": "063586a3",
   "metadata": {},
   "outputs": [],
   "source": []
  }
 ],
 "metadata": {
  "kernelspec": {
   "display_name": "Python [conda env:root] *",
   "language": "python",
   "name": "conda-root-py"
  },
  "language_info": {
   "codemirror_mode": {
    "name": "ipython",
    "version": 3
   },
   "file_extension": ".py",
   "mimetype": "text/x-python",
   "name": "python",
   "nbconvert_exporter": "python",
   "pygments_lexer": "ipython3",
   "version": "3.9.12"
  }
 },
 "nbformat": 4,
 "nbformat_minor": 5
}
