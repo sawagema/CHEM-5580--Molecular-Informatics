{
 "cells": [
  {
   "cell_type": "markdown",
   "metadata": {},
   "source": [
    "This notebook contains a couple of small solutions to questions which were brought up by users."
   ]
  },
  {
   "cell_type": "code",
   "execution_count": 1,
   "metadata": {},
   "outputs": [],
   "source": [
    "# a little bit of initialization, for the display of structure images\n",
    "from IPython.display import SVG"
   ]
  },
  {
   "cell_type": "markdown",
   "metadata": {},
   "source": [
    "# Problem 1:\n",
    "\n",
    "What is the R/S stereochemistry of the compound with CID 350086 in PubChem?"
   ]
  },
  {
   "cell_type": "code",
   "execution_count": 2,
   "metadata": {},
   "outputs": [
    {
     "data": {
      "image/svg+xml": [
       "<svg xmlns=\"http://www.w3.org/2000/svg\" xmlns:xlink=\"http://www.w3.org/1999/xlink\" width=\"180\" height=\"180\" version=\"1.1\" zoomAndPan=\"magnify\" preserveAspectRatio=\"xMidYMid\" contentScriptType=\"application/ecmascript\" id=\"5c81e79a-bf11-11eb-a09e-00d861d0b82f\">\n",
       "<g>\n",
       "\t<title>NSC350086</title>\n",
       "\t<desc content=\"structured text\">NSC350086</desc>\n",
       "\t<!-- NSC350086 -->\n",
       "\t<rect x=\"0.5\" y=\"0.5\" width=\"179\" height=\"179\" stroke=\"#000000\" stroke-width=\"1\" fill=\"none\"/>\n",
       "\t<text x=\"77.0416\" y=\"170.45\" fill=\"#000000\" font-family=\"Helvetica\" font-size=\"7.7pt\" text-anchor=\"middle\" font-weight=\"bold\">H</text>\n",
       "\t<text x=\"102.011\" y=\"14.45\" fill=\"#000000\" font-family=\"Helvetica\" font-size=\"7.7pt\" text-anchor=\"middle\" font-weight=\"bold\">H</text>\n",
       "\t<text x=\"83.9526\" y=\"166.46\" fill=\"#000000\" font-family=\"Helvetica\" font-size=\"7.7pt\" text-anchor=\"middle\" font-weight=\"bold\">O</text>\n",
       "\t<text x=\"95.0995\" y=\"18.4401\" fill=\"#000000\" font-family=\"Helvetica\" font-size=\"7.7pt\" text-anchor=\"middle\" font-weight=\"bold\">O</text>\n",
       "\t<text x=\"106.246\" y=\"89.2322\" fill=\"#000000\" font-family=\"Helvetica\" font-size=\"7.7pt\" text-anchor=\"middle\" font-weight=\"bold\">O</text>\n",
       "\t<line x1=\"106.246\" y1=\"73.9109\" x2=\"106.246\" y2=\"80.4488\" stroke=\"#000000\" stroke-width=\"0.974933\" stroke-linecap=\"round\"/>\n",
       "\t<line x1=\"83.9526\" y1=\"86.7822\" x2=\"83.9526\" y2=\"73.9109\" stroke=\"#000000\" stroke-width=\"0.974933\" stroke-linecap=\"round\"/>\n",
       "\t<line x1=\"95.0995\" y1=\"106.089\" x2=\"95.0995\" y2=\"93.2178\" stroke=\"#000000\" stroke-width=\"0.974933\" stroke-linecap=\"round\"/>\n",
       "\t<line x1=\"83.9526\" y1=\"86.7822\" x2=\"95.0995\" y2=\"93.2178\" stroke=\"#000000\" stroke-width=\"0.974933\" stroke-linecap=\"round\"/>\n",
       "\t<line x1=\"106.246\" y1=\"48.1683\" x2=\"95.0995\" y2=\"54.604\" stroke=\"#000000\" stroke-width=\"0.974933\" stroke-linecap=\"round\"/>\n",
       "\t<line x1=\"83.9526\" y1=\"73.9109\" x2=\"95.0995\" y2=\"67.4752\" stroke=\"#000000\" stroke-width=\"0.974933\" stroke-linecap=\"round\"/>\n",
       "\t<line x1=\"95.0995\" y1=\"54.604\" x2=\"95.0995\" y2=\"67.4752\" stroke=\"#000000\" stroke-width=\"0.974933\" stroke-linecap=\"round\"/>\n",
       "\t<line x1=\"106.246\" y1=\"73.9109\" x2=\"95.0995\" y2=\"67.4752\" stroke=\"#000000\" stroke-width=\"0.974933\" stroke-linecap=\"round\"/>\n",
       "\t<line x1=\"106.246\" y1=\"48.1683\" x2=\"106.246\" y2=\"35.297\" stroke=\"#000000\" stroke-width=\"0.974933\" stroke-linecap=\"round\"/>\n",
       "\t<line x1=\"104.316\" y1=\"46.2376\" x2=\"104.316\" y2=\"37.2277\" stroke=\"#000000\" stroke-width=\"0.974933\" stroke-linecap=\"round\"/>\n",
       "\t<line x1=\"95.0995\" y1=\"93.2178\" x2=\"101.376\" y2=\"89.594\" stroke=\"#000000\" stroke-width=\"0.974933\" stroke-linecap=\"round\"/>\n",
       "\t<line x1=\"83.9526\" y1=\"48.1683\" x2=\"95.0995\" y2=\"54.604\" stroke=\"#000000\" stroke-width=\"0.974933\" stroke-linecap=\"round\"/>\n",
       "\t<line x1=\"86.5899\" y1=\"47.4617\" x2=\"94.3927\" y2=\"51.9667\" stroke=\"#000000\" stroke-width=\"0.974933\" stroke-linecap=\"round\"/>\n",
       "\t<line x1=\"83.9526\" y1=\"112.525\" x2=\"83.9526\" y2=\"125.396\" stroke=\"#000000\" stroke-width=\"0.974933\" stroke-linecap=\"round\"/>\n",
       "\t<line x1=\"106.246\" y1=\"35.297\" x2=\"95.0995\" y2=\"28.8614\" stroke=\"#000000\" stroke-width=\"0.974933\" stroke-linecap=\"round\"/>\n",
       "\t<line x1=\"83.9526\" y1=\"48.1683\" x2=\"83.9526\" y2=\"35.297\" stroke=\"#000000\" stroke-width=\"0.974933\" stroke-linecap=\"round\"/>\n",
       "\t<line x1=\"83.9526\" y1=\"112.525\" x2=\"95.0995\" y2=\"106.089\" stroke=\"#000000\" stroke-width=\"0.974933\" stroke-linecap=\"round\"/>\n",
       "\t<line x1=\"95.0995\" y1=\"28.8614\" x2=\"95.0995\" y2=\"20.379\" stroke=\"#000000\" stroke-width=\"0.974933\" stroke-linecap=\"round\"/>\n",
       "\t<line x1=\"83.9526\" y1=\"35.297\" x2=\"95.0995\" y2=\"28.8614\" stroke=\"#000000\" stroke-width=\"0.974933\" stroke-linecap=\"round\"/>\n",
       "\t<line x1=\"86.5899\" y1=\"36.0036\" x2=\"94.3927\" y2=\"31.4986\" stroke=\"#000000\" stroke-width=\"0.974933\" stroke-linecap=\"round\"/>\n",
       "\t<line x1=\"72.8058\" y1=\"131.832\" x2=\"83.9526\" y2=\"125.396\" stroke=\"#000000\" stroke-width=\"0.974933\" stroke-linecap=\"round\"/>\n",
       "\t<line x1=\"75.4431\" y1=\"132.538\" x2=\"83.2459\" y2=\"128.033\" stroke=\"#000000\" stroke-width=\"0.974933\" stroke-linecap=\"round\"/>\n",
       "\t<line x1=\"95.0995\" y1=\"131.832\" x2=\"83.9526\" y2=\"125.396\" stroke=\"#000000\" stroke-width=\"0.974933\" stroke-linecap=\"round\"/>\n",
       "\t<line x1=\"72.8058\" y1=\"144.703\" x2=\"72.8058\" y2=\"131.832\" stroke=\"#000000\" stroke-width=\"0.974933\" stroke-linecap=\"round\"/>\n",
       "\t<line x1=\"95.0995\" y1=\"144.703\" x2=\"95.0995\" y2=\"131.832\" stroke=\"#000000\" stroke-width=\"0.974933\" stroke-linecap=\"round\"/>\n",
       "\t<line x1=\"93.1689\" y1=\"142.772\" x2=\"93.1689\" y2=\"133.762\" stroke=\"#000000\" stroke-width=\"0.974933\" stroke-linecap=\"round\"/>\n",
       "\t<line x1=\"95.0995\" y1=\"144.703\" x2=\"83.9526\" y2=\"151.139\" stroke=\"#000000\" stroke-width=\"0.974933\" stroke-linecap=\"round\"/>\n",
       "\t<line x1=\"83.9526\" y1=\"151.139\" x2=\"83.9526\" y2=\"157.677\" stroke=\"#000000\" stroke-width=\"0.974933\" stroke-linecap=\"round\"/>\n",
       "\t<line x1=\"72.8058\" y1=\"144.703\" x2=\"83.9526\" y2=\"151.139\" stroke=\"#000000\" stroke-width=\"0.974933\" stroke-linecap=\"round\"/>\n",
       "\t<line x1=\"75.4431\" y1=\"143.996\" x2=\"83.2459\" y2=\"148.501\" stroke=\"#000000\" stroke-width=\"0.974933\" stroke-linecap=\"round\"/>\n",
       "</g>\n",
       "</svg>"
      ],
      "text/plain": [
       "<IPython.core.display.SVG object>"
      ]
     },
     "metadata": {},
     "output_type": "display_data"
    },
    {
     "data": {
      "image/svg+xml": [
       "<svg xmlns=\"http://www.w3.org/2000/svg\" xmlns:xlink=\"http://www.w3.org/1999/xlink\" width=\"180\" height=\"180\" version=\"1.1\" zoomAndPan=\"magnify\" preserveAspectRatio=\"xMidYMid\" contentScriptType=\"application/ecmascript\" id=\"5c81e79a-bf11-11eb-a09e-00d861d0b82f\">\n",
       "<g>\n",
       "\t<title>NSC350086</title>\n",
       "\t<desc content=\"structured text\">NSC350086</desc>\n",
       "\t<!-- NSC350086 -->\n",
       "\t<rect x=\"0.5\" y=\"0.5\" width=\"179\" height=\"179\" stroke=\"#000000\" stroke-width=\"1\" fill=\"none\"/>\n",
       "\t<text x=\"95.0995\" y=\"147.153\" fill=\"#000000\" font-family=\"Helvetica\" font-size=\"7.7pt\" text-anchor=\"middle\" font-weight=\"bold\">1</text>\n",
       "\t<text x=\"72.8058\" y=\"147.153\" fill=\"#000000\" font-family=\"Helvetica\" font-size=\"7.7pt\" text-anchor=\"middle\" font-weight=\"bold\">2</text>\n",
       "\t<text x=\"95.0995\" y=\"134.282\" fill=\"#000000\" font-family=\"Helvetica\" font-size=\"7.7pt\" text-anchor=\"middle\" font-weight=\"bold\">3</text>\n",
       "\t<text x=\"72.8058\" y=\"134.282\" fill=\"#000000\" font-family=\"Helvetica\" font-size=\"7.7pt\" text-anchor=\"middle\" font-weight=\"bold\">4</text>\n",
       "\t<text x=\"106.246\" y=\"50.6183\" fill=\"#000000\" font-family=\"Helvetica\" font-size=\"7.7pt\" text-anchor=\"middle\" font-weight=\"bold\">5</text>\n",
       "\t<text x=\"83.9526\" y=\"50.6183\" fill=\"#000000\" font-family=\"Helvetica\" font-size=\"7.7pt\" text-anchor=\"middle\" font-weight=\"bold\">6</text>\n",
       "\t<text x=\"106.246\" y=\"37.747\" fill=\"#000000\" font-family=\"Helvetica\" font-size=\"7.7pt\" text-anchor=\"middle\" font-weight=\"bold\">7</text>\n",
       "\t<text x=\"83.9526\" y=\"37.747\" fill=\"#000000\" font-family=\"Helvetica\" font-size=\"7.7pt\" text-anchor=\"middle\" font-weight=\"bold\">8</text>\n",
       "\t<text x=\"83.9526\" y=\"114.975\" fill=\"#000000\" font-family=\"Helvetica\" font-size=\"7.7pt\" text-anchor=\"middle\" font-weight=\"bold\">9</text>\n",
       "\t<text x=\"95.0995\" y=\"108.539\" fill=\"#000000\" font-family=\"Helvetica\" font-size=\"7.7pt\" text-anchor=\"middle\" font-weight=\"bold\">10</text>\n",
       "\t<text x=\"77.0416\" y=\"170.45\" fill=\"#000000\" font-family=\"Helvetica\" font-size=\"7.7pt\" text-anchor=\"middle\" font-weight=\"bold\">11</text>\n",
       "\t<text x=\"102.011\" y=\"14.45\" fill=\"#000000\" font-family=\"Helvetica\" font-size=\"7.7pt\" text-anchor=\"middle\" font-weight=\"bold\">12</text>\n",
       "\t<text x=\"83.9526\" y=\"153.589\" fill=\"#000000\" font-family=\"Helvetica\" font-size=\"7.7pt\" text-anchor=\"middle\" font-weight=\"bold\">13</text>\n",
       "\t<text x=\"83.9526\" y=\"127.846\" fill=\"#000000\" font-family=\"Helvetica\" font-size=\"7.7pt\" text-anchor=\"middle\" font-weight=\"bold\">14</text>\n",
       "\t<text x=\"95.0995\" y=\"57.054\" fill=\"#000000\" font-family=\"Helvetica\" font-size=\"7.7pt\" text-anchor=\"middle\" font-weight=\"bold\">15</text>\n",
       "\t<text x=\"95.0995\" y=\"31.3114\" fill=\"#000000\" font-family=\"Helvetica\" font-size=\"7.7pt\" text-anchor=\"middle\" font-weight=\"bold\">16</text>\n",
       "\t<text x=\"83.9526\" y=\"89.2322\" fill=\"#000000\" font-family=\"Helvetica\" font-size=\"7.7pt\" text-anchor=\"middle\" font-weight=\"bold\">17</text>\n",
       "\t<text x=\"83.9526\" y=\"76.3609\" fill=\"#000000\" font-family=\"Helvetica\" font-size=\"7.7pt\" text-anchor=\"middle\" font-weight=\"bold\">18</text>\n",
       "\t<text x=\"106.246\" y=\"76.3609\" fill=\"#000000\" font-family=\"Helvetica\" font-size=\"7.7pt\" text-anchor=\"middle\" font-weight=\"bold\">19</text>\n",
       "\t<text x=\"83.9526\" y=\"166.46\" fill=\"#000000\" font-family=\"Helvetica\" font-size=\"7.7pt\" text-anchor=\"middle\" font-weight=\"bold\">20</text>\n",
       "\t<text x=\"95.0995\" y=\"18.4401\" fill=\"#000000\" font-family=\"Helvetica\" font-size=\"7.7pt\" text-anchor=\"middle\" font-weight=\"bold\">21</text>\n",
       "\t<text x=\"95.0995\" y=\"95.6678\" fill=\"#000000\" font-family=\"Helvetica\" font-size=\"7.7pt\" text-anchor=\"middle\" font-weight=\"bold\">22</text>\n",
       "\t<text x=\"95.0995\" y=\"69.9252\" fill=\"#000000\" font-family=\"Helvetica\" font-size=\"7.7pt\" text-anchor=\"middle\" font-weight=\"bold\">23</text>\n",
       "\t<text x=\"106.246\" y=\"89.2322\" fill=\"#000000\" font-family=\"Helvetica\" font-size=\"7.7pt\" text-anchor=\"middle\" font-weight=\"bold\">24</text>\n",
       "\t<line x1=\"106.246\" y1=\"78.2998\" x2=\"106.246\" y2=\"80.4488\" stroke=\"#000000\" stroke-width=\"0.974933\" stroke-linecap=\"round\"/>\n",
       "\t<line x1=\"83.9526\" y1=\"80.4488\" x2=\"83.9526\" y2=\"78.2998\" stroke=\"#000000\" stroke-width=\"0.974933\" stroke-linecap=\"round\"/>\n",
       "\t<line x1=\"95.0995\" y1=\"99.7558\" x2=\"95.0995\" y2=\"97.6067\" stroke=\"#000000\" stroke-width=\"0.974933\" stroke-linecap=\"round\"/>\n",
       "\t<line x1=\"102.666\" y1=\"50.2356\" x2=\"100.615\" y2=\"51.4194\" stroke=\"#000000\" stroke-width=\"0.974933\" stroke-linecap=\"round\"/>\n",
       "\t<line x1=\"95.0995\" y1=\"58.9928\" x2=\"95.0995\" y2=\"61.1419\" stroke=\"#000000\" stroke-width=\"0.974933\" stroke-linecap=\"round\"/>\n",
       "\t<line x1=\"106.246\" y1=\"41.835\" x2=\"106.246\" y2=\"39.6859\" stroke=\"#000000\" stroke-width=\"0.974933\" stroke-linecap=\"round\"/>\n",
       "\t<line x1=\"104.316\" y1=\"41.835\" x2=\"104.316\" y2=\"39.6859\" stroke=\"#000000\" stroke-width=\"0.974933\" stroke-linecap=\"round\"/>\n",
       "\t<line x1=\"87.5691\" y1=\"50.2563\" x2=\"89.5836\" y2=\"51.4194\" stroke=\"#000000\" stroke-width=\"0.974933\" stroke-linecap=\"round\"/>\n",
       "\t<line x1=\"87.5691\" y1=\"48.0271\" x2=\"89.5836\" y2=\"49.1902\" stroke=\"#000000\" stroke-width=\"0.974933\" stroke-linecap=\"round\"/>\n",
       "\t<line x1=\"83.9526\" y1=\"116.914\" x2=\"83.9526\" y2=\"119.063\" stroke=\"#000000\" stroke-width=\"0.974933\" stroke-linecap=\"round\"/>\n",
       "\t<line x1=\"102.522\" y1=\"33.1466\" x2=\"100.651\" y2=\"32.0667\" stroke=\"#000000\" stroke-width=\"0.974933\" stroke-linecap=\"round\"/>\n",
       "\t<line x1=\"83.9526\" y1=\"41.835\" x2=\"83.9526\" y2=\"39.6859\" stroke=\"#000000\" stroke-width=\"0.974933\" stroke-linecap=\"round\"/>\n",
       "\t<line x1=\"87.6156\" y1=\"110.41\" x2=\"89.5842\" y2=\"109.273\" stroke=\"#000000\" stroke-width=\"0.974933\" stroke-linecap=\"round\"/>\n",
       "\t<line x1=\"95.0995\" y1=\"22.5281\" x2=\"95.0995\" y2=\"20.379\" stroke=\"#000000\" stroke-width=\"0.974933\" stroke-linecap=\"round\"/>\n",
       "\t<line x1=\"87.5325\" y1=\"33.2302\" x2=\"89.5477\" y2=\"32.0667\" stroke=\"#000000\" stroke-width=\"0.974933\" stroke-linecap=\"round\"/>\n",
       "\t<line x1=\"87.5325\" y1=\"35.4594\" x2=\"91.3588\" y2=\"33.2503\" stroke=\"#000000\" stroke-width=\"0.974933\" stroke-linecap=\"round\"/>\n",
       "\t<line x1=\"76.4995\" y1=\"129.699\" x2=\"78.3237\" y2=\"128.646\" stroke=\"#000000\" stroke-width=\"0.974933\" stroke-linecap=\"round\"/>\n",
       "\t<line x1=\"76.4995\" y1=\"131.928\" x2=\"80.212\" y2=\"129.785\" stroke=\"#000000\" stroke-width=\"0.974933\" stroke-linecap=\"round\"/>\n",
       "\t<line x1=\"91.5195\" y1=\"129.765\" x2=\"89.5816\" y2=\"128.646\" stroke=\"#000000\" stroke-width=\"0.974933\" stroke-linecap=\"round\"/>\n",
       "\t<line x1=\"72.8058\" y1=\"138.37\" x2=\"72.8058\" y2=\"136.221\" stroke=\"#000000\" stroke-width=\"0.974933\" stroke-linecap=\"round\"/>\n",
       "\t<line x1=\"95.0995\" y1=\"138.37\" x2=\"95.0995\" y2=\"136.221\" stroke=\"#000000\" stroke-width=\"0.974933\" stroke-linecap=\"round\"/>\n",
       "\t<line x1=\"93.1689\" y1=\"138.37\" x2=\"93.1689\" y2=\"136.221\" stroke=\"#000000\" stroke-width=\"0.974933\" stroke-linecap=\"round\"/>\n",
       "\t<line x1=\"92.1642\" y1=\"146.398\" x2=\"89.4678\" y2=\"147.954\" stroke=\"#000000\" stroke-width=\"0.974933\" stroke-linecap=\"round\"/>\n",
       "\t<line x1=\"83.9526\" y1=\"155.528\" x2=\"83.9526\" y2=\"157.677\" stroke=\"#000000\" stroke-width=\"0.974933\" stroke-linecap=\"round\"/>\n",
       "\t<line x1=\"76.3861\" y1=\"146.77\" x2=\"78.4374\" y2=\"147.954\" stroke=\"#000000\" stroke-width=\"0.974933\" stroke-linecap=\"round\"/>\n",
       "\t<line x1=\"76.3861\" y1=\"144.541\" x2=\"78.4374\" y2=\"145.725\" stroke=\"#000000\" stroke-width=\"0.974933\" stroke-linecap=\"round\"/>\n",
       "</g>\n",
       "</svg>"
      ],
      "text/plain": [
       "<IPython.core.display.SVG object>"
      ]
     },
     "metadata": {},
     "output_type": "display_data"
    }
   ],
   "source": [
    "# The toolkit supports creation of structure (ensemble) objects directly from various identifiers,\n",
    "# including lookup via the chemical identifier resolver\n",
    "e=Ens('NSC350086')\n",
    "display(SVG(e.E_SVG_IMAGE))\n",
    "display(SVG(e.get('E_SVG_IMAGE',parameters={'asymbol':'label'})))"
   ]
  },
  {
   "cell_type": "markdown",
   "metadata": {},
   "source": [
    "Obviously, this compound contains two potential stereocenters. On the other hand, the bonds on these do not use wedges. This means, the stereochemistry on these centers is undefined. We can check that:"
   ]
  },
  {
   "cell_type": "code",
   "execution_count": 3,
   "metadata": {},
   "outputs": [
    {
     "name": "stdout",
     "output_type": "stream",
     "text": [
      "[22, 23]\n",
      "['yes', 'yes']\n",
      "['undef', 'undef']\n"
     ]
    }
   ],
   "source": [
    "# the labels of the atoms which are stereogenic \n",
    "print(e.atoms(filters='astereogenic'))\n",
    "# just for confirmation, the result of the steregenicity property\n",
    "print(e.get('A_STEREOGENIC',filters='astereogenic'))\n",
    "# the CIP atomic stereo descriptors - undefined because of explicit undefinedness\n",
    "# the toolkit can compute stereo descriptors from various sources - bond display flags,\n",
    "# atomic 3D coordinates, other stereo descriptors. But it refrains from it when it\n",
    "# finds data which excplicitly indicates the absence of stereochemistry, such as wavy single\n",
    "# bonds or crossed double bonds.\n",
    "print(e.get('A_CIP_STEREO',filters='astereogenic'))\n"
   ]
  },
  {
   "cell_type": "markdown",
   "metadata": {},
   "source": [
    "# Problem 2\n",
    "\n",
    "An attendee at an online confererence on reaction information complained that it was not possible with a single SMIRKS transform to create alternative reagent molecules (using different halogen substituents) in a popular cheminformatics toolkit. This is not really a bug - SMIRKS transforms cannot contain query expressions on the right side, at least not in an implementation which only implements the basic standard.\n",
    "\n",
    "In Cactvs, this is however possible with minimum effort. It is possible to attach reagent atoms on the right side which are not simple atoms and then to expand these."
   ]
  },
  {
   "cell_type": "code",
   "execution_count": 4,
   "metadata": {},
   "outputs": [
    {
     "name": "stdout",
     "output_type": "stream",
     "text": [
      "(ens3,)\n"
     ]
    },
    {
     "data": {
      "image/svg+xml": [
       "<svg xmlns=\"http://www.w3.org/2000/svg\" xmlns:xlink=\"http://www.w3.org/1999/xlink\" width=\"180\" height=\"180\" version=\"1.1\" zoomAndPan=\"magnify\" preserveAspectRatio=\"xMidYMid\" contentScriptType=\"application/ecmascript\" id=\"5e2c6e30-bf11-11eb-9b5b-00d861d0b82f\">\n",
       "<g>\n",
       "\t<!-- C4H11O -->\n",
       "\t<rect x=\"0.5\" y=\"0.5\" width=\"179\" height=\"179\" stroke=\"#000000\" stroke-width=\"1\" fill=\"none\"/>\n",
       "\t<text x=\"73.1125\" y=\"123.12\" fill=\"#000000\" font-family=\"Helvetica\" font-size=\"8.8pt\" text-anchor=\"middle\" font-weight=\"bold\">O</text>\n",
       "\t<text x=\"62.6423\" y=\"129.165\" fill=\"#000000\" font-family=\"Helvetica\" font-size=\"8.8pt\" text-anchor=\"middle\" font-weight=\"bold\">H</text>\n",
       "\t<text x=\"84.3233\" y=\"55.3385\" fill=\"#000000\" font-family=\"Helvetica\" font-size=\"8.8pt\" text-anchor=\"middle\" font-weight=\"bold\">[Cl,Br,I]</text>\n",
       "\t<line x1=\"106.887\" y1=\"119.97\" x2=\"90\" y2=\"129.72\" stroke=\"#000000\" stroke-width=\"1.2\" stroke-linecap=\"round\"/>\n",
       "\t<line x1=\"90\" y1=\"129.72\" x2=\"78.6279\" y2=\"123.155\" stroke=\"#000000\" stroke-width=\"1.2\" stroke-linecap=\"round\"/>\n",
       "\t<line x1=\"84.7649\" y1=\"61.2385\" x2=\"101.652\" y2=\"51.4885\" stroke=\"#000000\" stroke-width=\"1.2\" stroke-linecap=\"round\"/>\n",
       "\t<line x1=\"67.5971\" y1=\"123.155\" x2=\"67.5129\" y2=\"123.203\" stroke=\"#000000\" stroke-width=\"1.2\" stroke-linecap=\"round\"/>\n",
       "\t<line x1=\"84.7649\" y1=\"61.2385\" x2=\"79.3282\" y2=\"58.0996\" stroke=\"#000000\" stroke-width=\"1.2\" stroke-linecap=\"round\"/>\n",
       "</g>\n",
       "</svg>"
      ],
      "text/plain": [
       "<IPython.core.display.SVG object>"
      ]
     },
     "metadata": {},
     "output_type": "display_data"
    }
   ],
   "source": [
    "# ethyl ether\n",
    "e=Ens('CCOCC')\n",
    "# straightforward SMIRKS transform\n",
    "rg=e.transform('[C:1][O:2][C:3]>>[C:1][O:2][#1].[Cl,Br,I][C:3]',direction='forward',reactionmode='singlestep')\n",
    "print(rg)\n",
    "# the result is a reagent tuple, regardless how many result structures are produced, so we use index zero even if there is only \n",
    "# a single reagent\n",
    "display(SVG(rg[0].E_SVG_IMAGE))"
   ]
  },
  {
   "cell_type": "markdown",
   "metadata": {},
   "source": [
    "The result contains an atom list. We can expand this specification into a set of normal structures.\n",
    "There is a predefined property for this. The result is a dataset of all distinct possible\n",
    "expansions."
   ]
  },
  {
   "cell_type": "code",
   "execution_count": 5,
   "metadata": {},
   "outputs": [
    {
     "data": {
      "image/svg+xml": [
       "<svg xmlns=\"http://www.w3.org/2000/svg\" xmlns:xlink=\"http://www.w3.org/1999/xlink\" width=\"610\" height=\"204\" version=\"1.1\" zoomAndPan=\"magnify\" preserveAspectRatio=\"xMidYMid\" contentScriptType=\"application/ecmascript\" id=\"60536812-bf11-11eb-854d-00d861d0b82f\">\n",
       "<g>\n",
       "\t<rect x=\"0\" y=\"0\" width=\"611\" height=\"205\" stroke=\"none\" fill=\"#FFFFFF\"/>\n",
       "\t<line x1=\"0\" y1=\"0\" x2=\"609\" y2=\"0\" stroke=\"#000000\" stroke-width=\"1\"/>\n",
       "\t<line x1=\"0\" y1=\"203\" x2=\"609\" y2=\"203\" stroke=\"#000000\" stroke-width=\"1\"/>\n",
       "\t<line x1=\"0\" y1=\"0\" x2=\"0\" y2=\"203\" stroke=\"#000000\" stroke-width=\"1\"/>\n",
       "\t<line x1=\"203\" y1=\"0\" x2=\"203\" y2=\"203\" stroke=\"#000000\" stroke-width=\"1\"/>\n",
       "\t<line x1=\"406\" y1=\"0\" x2=\"406\" y2=\"203\" stroke=\"#000000\" stroke-width=\"1\"/>\n",
       "\t<line x1=\"609\" y1=\"0\" x2=\"609\" y2=\"203\" stroke=\"#000000\" stroke-width=\"1\"/>\n",
       "\t<svg xmlns=\"http://www.w3.org/2000/svg\" xmlns:xlink=\"http://www.w3.org/1999/xlink\" x=\"2\" y=\"2\" width=\"200\" height=\"200\" version=\"1.1\" zoomAndPan=\"magnify\" preserveAspectRatio=\"xMidYMid\" contentScriptType=\"application/ecmascript\" id=\"6052cc04-bf11-11eb-b6b9-00d861d0b82f\">\n",
       "<g>\n",
       "\t<!-- C4H11ClO -->\n",
       "\t<rect x=\"0.5\" y=\"0.5\" width=\"199\" height=\"199\" stroke=\"#000000\" stroke-width=\"1\" fill=\"none\"/>\n",
       "\t<text x=\"80.9474\" y=\"136.963\" fill=\"#000000\" font-family=\"Helvetica\" font-size=\"8.8pt\" text-anchor=\"middle\" font-weight=\"bold\">O</text>\n",
       "\t<text x=\"69.1349\" y=\"143.783\" fill=\"#000000\" font-family=\"Helvetica\" font-size=\"8.8pt\" text-anchor=\"middle\" font-weight=\"bold\">H</text>\n",
       "\t<text x=\"75.0411\" y=\"59.7012\" fill=\"#000000\" font-family=\"Helvetica\" font-size=\"8.8pt\" text-anchor=\"middle\" font-weight=\"bold\">Cl</text>\n",
       "\t<line x1=\"119.053\" y1=\"133.813\" x2=\"100\" y2=\"144.813\" stroke=\"#000000\" stroke-width=\"1.2\" stroke-linecap=\"round\"/>\n",
       "\t<line x1=\"100\" y1=\"144.813\" x2=\"86.4628\" y2=\"136.997\" stroke=\"#000000\" stroke-width=\"1.2\" stroke-linecap=\"round\"/>\n",
       "\t<line x1=\"94.0937\" y1=\"67.5512\" x2=\"113.146\" y2=\"56.5512\" stroke=\"#000000\" stroke-width=\"1.2\" stroke-linecap=\"round\"/>\n",
       "\t<line x1=\"75.432\" y1=\"136.997\" x2=\"74.0055\" y2=\"137.821\" stroke=\"#000000\" stroke-width=\"1.2\" stroke-linecap=\"round\"/>\n",
       "\t<line x1=\"94.0937\" y1=\"67.5512\" x2=\"81.3081\" y2=\"60.1694\" stroke=\"#000000\" stroke-width=\"1.2\" stroke-linecap=\"round\"/>\n",
       "</g>\n",
       "</svg>\n",
       "\t<svg xmlns=\"http://www.w3.org/2000/svg\" xmlns:xlink=\"http://www.w3.org/1999/xlink\" x=\"205\" y=\"2\" width=\"200\" height=\"200\" version=\"1.1\" zoomAndPan=\"magnify\" preserveAspectRatio=\"xMidYMid\" contentScriptType=\"application/ecmascript\" id=\"60530c78-bf11-11eb-b9a2-00d861d0b82f\">\n",
       "<g>\n",
       "\t<!-- C4H11BrO -->\n",
       "\t<rect x=\"0.5\" y=\"0.5\" width=\"199\" height=\"199\" stroke=\"#000000\" stroke-width=\"1\" fill=\"none\"/>\n",
       "\t<text x=\"80.9474\" y=\"136.963\" fill=\"#000000\" font-family=\"Helvetica\" font-size=\"8.8pt\" text-anchor=\"middle\" font-weight=\"bold\">O</text>\n",
       "\t<text x=\"69.1349\" y=\"143.783\" fill=\"#000000\" font-family=\"Helvetica\" font-size=\"8.8pt\" text-anchor=\"middle\" font-weight=\"bold\">H</text>\n",
       "\t<text x=\"75.0411\" y=\"59.7012\" fill=\"#000000\" font-family=\"Helvetica\" font-size=\"8.8pt\" text-anchor=\"middle\" font-weight=\"bold\">Br</text>\n",
       "\t<line x1=\"119.053\" y1=\"133.813\" x2=\"100\" y2=\"144.813\" stroke=\"#000000\" stroke-width=\"1.2\" stroke-linecap=\"round\"/>\n",
       "\t<line x1=\"100\" y1=\"144.813\" x2=\"86.4628\" y2=\"136.997\" stroke=\"#000000\" stroke-width=\"1.2\" stroke-linecap=\"round\"/>\n",
       "\t<line x1=\"94.0937\" y1=\"67.5512\" x2=\"113.146\" y2=\"56.5512\" stroke=\"#000000\" stroke-width=\"1.2\" stroke-linecap=\"round\"/>\n",
       "\t<line x1=\"75.432\" y1=\"136.997\" x2=\"74.0055\" y2=\"137.821\" stroke=\"#000000\" stroke-width=\"1.2\" stroke-linecap=\"round\"/>\n",
       "\t<line x1=\"94.0937\" y1=\"67.5512\" x2=\"82.0596\" y2=\"60.6033\" stroke=\"#000000\" stroke-width=\"1.2\" stroke-linecap=\"round\"/>\n",
       "</g>\n",
       "</svg>\n",
       "\t<svg xmlns=\"http://www.w3.org/2000/svg\" xmlns:xlink=\"http://www.w3.org/1999/xlink\" x=\"408\" y=\"2\" width=\"200\" height=\"200\" version=\"1.1\" zoomAndPan=\"magnify\" preserveAspectRatio=\"xMidYMid\" contentScriptType=\"application/ecmascript\" id=\"60533a18-bf11-11eb-9118-00d861d0b82f\">\n",
       "<g>\n",
       "\t<!-- C4H11IO -->\n",
       "\t<rect x=\"0.5\" y=\"0.5\" width=\"199\" height=\"199\" stroke=\"#000000\" stroke-width=\"1\" fill=\"none\"/>\n",
       "\t<text x=\"80.9474\" y=\"136.963\" fill=\"#000000\" font-family=\"Helvetica\" font-size=\"8.8pt\" text-anchor=\"middle\" font-weight=\"bold\">O</text>\n",
       "\t<text x=\"69.1349\" y=\"143.783\" fill=\"#000000\" font-family=\"Helvetica\" font-size=\"8.8pt\" text-anchor=\"middle\" font-weight=\"bold\">H</text>\n",
       "\t<text x=\"75.0411\" y=\"59.7012\" fill=\"#000000\" font-family=\"Helvetica\" font-size=\"8.8pt\" text-anchor=\"middle\" font-weight=\"bold\">I</text>\n",
       "\t<line x1=\"119.053\" y1=\"133.813\" x2=\"100\" y2=\"144.813\" stroke=\"#000000\" stroke-width=\"1.2\" stroke-linecap=\"round\"/>\n",
       "\t<line x1=\"100\" y1=\"144.813\" x2=\"86.4628\" y2=\"136.997\" stroke=\"#000000\" stroke-width=\"1.2\" stroke-linecap=\"round\"/>\n",
       "\t<line x1=\"94.0937\" y1=\"67.5512\" x2=\"113.146\" y2=\"56.5512\" stroke=\"#000000\" stroke-width=\"1.2\" stroke-linecap=\"round\"/>\n",
       "\t<line x1=\"75.432\" y1=\"136.997\" x2=\"74.0055\" y2=\"137.821\" stroke=\"#000000\" stroke-width=\"1.2\" stroke-linecap=\"round\"/>\n",
       "\t<line x1=\"94.0937\" y1=\"67.5512\" x2=\"77.3313\" y2=\"57.8734\" stroke=\"#000000\" stroke-width=\"1.2\" stroke-linecap=\"round\"/>\n",
       "</g>\n",
       "</svg>\n",
       "</g>\n",
       "</svg>"
      ],
      "text/plain": [
       "<IPython.core.display.SVG object>"
      ]
     },
     "metadata": {},
     "output_type": "display_data"
    }
   ],
   "source": [
    "\n",
    "display(SVG(rg[0].E_EXPANDED_QUERY_STRUCTURES.get('D_SVG_IMAGE',parameters={\"nrows\":1})))"
   ]
  },
  {
   "cell_type": "markdown",
   "metadata": {},
   "source": [
    "This type of expansion also works with first-level Recursive SMARTS structures:"
   ]
  },
  {
   "cell_type": "code",
   "execution_count": 11,
   "metadata": {},
   "outputs": [
    {
     "data": {
      "image/svg+xml": [
       "<svg xmlns=\"http://www.w3.org/2000/svg\" xmlns:xlink=\"http://www.w3.org/1999/xlink\" width=\"610\" height=\"204\" version=\"1.1\" zoomAndPan=\"magnify\" preserveAspectRatio=\"xMidYMid\" contentScriptType=\"application/ecmascript\" id=\"5630a236-bf12-11eb-852e-00d861d0b82f\">\n",
       "<g>\n",
       "\t<rect x=\"0\" y=\"0\" width=\"611\" height=\"205\" stroke=\"none\" fill=\"#FFFFFF\"/>\n",
       "\t<line x1=\"0\" y1=\"0\" x2=\"609\" y2=\"0\" stroke=\"#000000\" stroke-width=\"1\"/>\n",
       "\t<line x1=\"0\" y1=\"203\" x2=\"609\" y2=\"203\" stroke=\"#000000\" stroke-width=\"1\"/>\n",
       "\t<line x1=\"0\" y1=\"0\" x2=\"0\" y2=\"203\" stroke=\"#000000\" stroke-width=\"1\"/>\n",
       "\t<line x1=\"203\" y1=\"0\" x2=\"203\" y2=\"203\" stroke=\"#000000\" stroke-width=\"1\"/>\n",
       "\t<line x1=\"406\" y1=\"0\" x2=\"406\" y2=\"203\" stroke=\"#000000\" stroke-width=\"1\"/>\n",
       "\t<line x1=\"609\" y1=\"0\" x2=\"609\" y2=\"203\" stroke=\"#000000\" stroke-width=\"1\"/>\n",
       "\t<svg xmlns=\"http://www.w3.org/2000/svg\" xmlns:xlink=\"http://www.w3.org/1999/xlink\" x=\"2\" y=\"2\" width=\"200\" height=\"200\" version=\"1.1\" zoomAndPan=\"magnify\" preserveAspectRatio=\"xMidYMid\" contentScriptType=\"application/ecmascript\" id=\"5630600a-bf12-11eb-96cd-00d861d0b82f\">\n",
       "<g>\n",
       "\t<!-- CH3NO2 -->\n",
       "\t<rect x=\"0.5\" y=\"0.5\" width=\"199\" height=\"199\" stroke=\"#000000\" stroke-width=\"1\" fill=\"none\"/>\n",
       "\t<text x=\"105.906\" y=\"103.556\" fill=\"#000000\" font-family=\"Helvetica\" font-size=\"8.8pt\" text-anchor=\"middle\" font-weight=\"bold\">N</text>\n",
       "\t<text x=\"124.959\" y=\"92.5563\" fill=\"#000000\" font-family=\"Helvetica\" font-size=\"8.8pt\" text-anchor=\"middle\" font-weight=\"bold\">O</text>\n",
       "\t<text x=\"105.906\" y=\"125.556\" fill=\"#000000\" font-family=\"Helvetica\" font-size=\"8.8pt\" text-anchor=\"middle\" font-weight=\"bold\">O</text>\n",
       "\t<line x1=\"110.777\" y1=\"99.6727\" x2=\"119.443\" y2=\"94.6691\" stroke=\"#000000\" stroke-width=\"1.2\" stroke-linecap=\"round\"/>\n",
       "\t<line x1=\"110.777\" y1=\"95.5158\" x2=\"119.443\" y2=\"90.5121\" stroke=\"#000000\" stroke-width=\"1.2\" stroke-linecap=\"round\"/>\n",
       "\t<line x1=\"104.106\" y1=\"105.906\" x2=\"104.106\" y2=\"114.406\" stroke=\"#000000\" stroke-width=\"1.2\" stroke-linecap=\"round\"/>\n",
       "\t<line x1=\"107.706\" y1=\"105.906\" x2=\"107.706\" y2=\"114.406\" stroke=\"#000000\" stroke-width=\"1.2\" stroke-linecap=\"round\"/>\n",
       "\t<line x1=\"86.8537\" y1=\"89.4063\" x2=\"101.036\" y2=\"97.5942\" stroke=\"#000000\" stroke-width=\"1.2\" stroke-linecap=\"round\"/>\n",
       "</g>\n",
       "</svg>\n",
       "\t<svg xmlns=\"http://www.w3.org/2000/svg\" xmlns:xlink=\"http://www.w3.org/1999/xlink\" x=\"205\" y=\"2\" width=\"200\" height=\"200\" version=\"1.1\" zoomAndPan=\"magnify\" preserveAspectRatio=\"xMidYMid\" contentScriptType=\"application/ecmascript\" id=\"5630836e-bf12-11eb-8226-00d861d0b82f\">\n",
       "<g>\n",
       "\t<!-- C2H4O2 -->\n",
       "\t<rect x=\"0.5\" y=\"0.5\" width=\"199\" height=\"199\" stroke=\"#000000\" stroke-width=\"1\" fill=\"none\"/>\n",
       "\t<text x=\"124.959\" y=\"79.83\" fill=\"#000000\" font-family=\"Helvetica\" font-size=\"8.8pt\" text-anchor=\"middle\" font-weight=\"bold\">O</text>\n",
       "\t<text x=\"86.8537\" y=\"79.83\" fill=\"#000000\" font-family=\"Helvetica\" font-size=\"8.8pt\" text-anchor=\"middle\" font-weight=\"bold\">O</text>\n",
       "\t<text x=\"75.0411\" y=\"86.65\" fill=\"#000000\" font-family=\"Helvetica\" font-size=\"8.8pt\" text-anchor=\"middle\" font-weight=\"bold\">H</text>\n",
       "\t<line x1=\"106.806\" y1=\"89.2388\" x2=\"119.443\" y2=\"81.9428\" stroke=\"#000000\" stroke-width=\"1.2\" stroke-linecap=\"round\"/>\n",
       "\t<line x1=\"105.006\" y1=\"86.1212\" x2=\"119.443\" y2=\"77.7859\" stroke=\"#000000\" stroke-width=\"1.2\" stroke-linecap=\"round\"/>\n",
       "\t<line x1=\"105.906\" y1=\"87.68\" x2=\"92.3691\" y2=\"79.8643\" stroke=\"#000000\" stroke-width=\"1.2\" stroke-linecap=\"round\"/>\n",
       "\t<line x1=\"105.906\" y1=\"109.68\" x2=\"105.906\" y2=\"87.68\" stroke=\"#000000\" stroke-width=\"1.2\" stroke-linecap=\"round\"/>\n",
       "\t<line x1=\"81.3383\" y1=\"79.8643\" x2=\"79.9118\" y2=\"80.6879\" stroke=\"#000000\" stroke-width=\"1.2\" stroke-linecap=\"round\"/>\n",
       "</g>\n",
       "</svg>\n",
       "</g>\n",
       "</svg>"
      ],
      "text/plain": [
       "<IPython.core.display.SVG object>"
      ]
     },
     "metadata": {},
     "output_type": "display_data"
    }
   ],
   "source": [
    "e=Ens('C[$(N(=O)=O),$(C(=O)O)]','smarts')\n",
    "display(SVG(e.E_EXPANDED_QUERY_STRUCTURES.get('D_SVG_IMAGE',parameters={\"nrows\":1})))"
   ]
  },
  {
   "cell_type": "markdown",
   "metadata": {},
   "source": [
    "And of course with any combination of these:"
   ]
  },
  {
   "cell_type": "code",
   "execution_count": 12,
   "metadata": {},
   "outputs": [
    {
     "data": {
      "image/svg+xml": [
       "<svg xmlns=\"http://www.w3.org/2000/svg\" xmlns:xlink=\"http://www.w3.org/1999/xlink\" width=\"610\" height=\"407\" version=\"1.1\" zoomAndPan=\"magnify\" preserveAspectRatio=\"xMidYMid\" contentScriptType=\"application/ecmascript\" id=\"82dacef6-bf12-11eb-8617-00d861d0b82f\">\n",
       "<g>\n",
       "\t<rect x=\"0\" y=\"0\" width=\"611\" height=\"408\" stroke=\"none\" fill=\"#FFFFFF\"/>\n",
       "\t<line x1=\"0\" y1=\"0\" x2=\"609\" y2=\"0\" stroke=\"#000000\" stroke-width=\"1\"/>\n",
       "\t<line x1=\"0\" y1=\"203\" x2=\"609\" y2=\"203\" stroke=\"#000000\" stroke-width=\"1\"/>\n",
       "\t<line x1=\"0\" y1=\"406\" x2=\"609\" y2=\"406\" stroke=\"#000000\" stroke-width=\"1\"/>\n",
       "\t<line x1=\"0\" y1=\"0\" x2=\"0\" y2=\"406\" stroke=\"#000000\" stroke-width=\"1\"/>\n",
       "\t<line x1=\"203\" y1=\"0\" x2=\"203\" y2=\"406\" stroke=\"#000000\" stroke-width=\"1\"/>\n",
       "\t<line x1=\"406\" y1=\"0\" x2=\"406\" y2=\"406\" stroke=\"#000000\" stroke-width=\"1\"/>\n",
       "\t<line x1=\"609\" y1=\"0\" x2=\"609\" y2=\"406\" stroke=\"#000000\" stroke-width=\"1\"/>\n",
       "\t<svg xmlns=\"http://www.w3.org/2000/svg\" xmlns:xlink=\"http://www.w3.org/1999/xlink\" x=\"2\" y=\"2\" width=\"200\" height=\"200\" version=\"1.1\" zoomAndPan=\"magnify\" preserveAspectRatio=\"xMidYMid\" contentScriptType=\"application/ecmascript\" id=\"82d970ce-bf12-11eb-a10c-00d861d0b82f\">\n",
       "<g>\n",
       "\t<!-- C2H4Cl2 -->\n",
       "\t<rect x=\"0.5\" y=\"0.5\" width=\"199\" height=\"199\" stroke=\"#000000\" stroke-width=\"1\" fill=\"none\"/>\n",
       "\t<text x=\"71.4212\" y=\"97.65\" fill=\"#000000\" font-family=\"Helvetica\" font-size=\"8.8pt\" text-anchor=\"middle\" font-weight=\"bold\">Cl</text>\n",
       "\t<text x=\"128.579\" y=\"108.65\" fill=\"#000000\" font-family=\"Helvetica\" font-size=\"8.8pt\" text-anchor=\"middle\" font-weight=\"bold\">Cl</text>\n",
       "\t<line x1=\"90.4737\" y1=\"105.5\" x2=\"109.526\" y2=\"94.5\" stroke=\"#000000\" stroke-width=\"1.2\" stroke-linecap=\"round\"/>\n",
       "\t<line x1=\"77.6881\" y1=\"98.1182\" x2=\"90.4737\" y2=\"105.5\" stroke=\"#000000\" stroke-width=\"1.2\" stroke-linecap=\"round\"/>\n",
       "\t<line x1=\"109.526\" y1=\"94.5\" x2=\"122.312\" y2=\"101.882\" stroke=\"#000000\" stroke-width=\"1.2\" stroke-linecap=\"round\"/>\n",
       "</g>\n",
       "</svg>\n",
       "\t<svg xmlns=\"http://www.w3.org/2000/svg\" xmlns:xlink=\"http://www.w3.org/1999/xlink\" x=\"205\" y=\"2\" width=\"200\" height=\"200\" version=\"1.1\" zoomAndPan=\"magnify\" preserveAspectRatio=\"xMidYMid\" contentScriptType=\"application/ecmascript\" id=\"82d9a6c0-bf12-11eb-bac4-00d861d0b82f\">\n",
       "<g>\n",
       "\t<!-- C2H4BrCl -->\n",
       "\t<rect x=\"0.5\" y=\"0.5\" width=\"199\" height=\"199\" stroke=\"#000000\" stroke-width=\"1\" fill=\"none\"/>\n",
       "\t<text x=\"71.4212\" y=\"97.65\" fill=\"#000000\" font-family=\"Helvetica\" font-size=\"8.8pt\" text-anchor=\"middle\" font-weight=\"bold\">Br</text>\n",
       "\t<text x=\"128.579\" y=\"108.65\" fill=\"#000000\" font-family=\"Helvetica\" font-size=\"8.8pt\" text-anchor=\"middle\" font-weight=\"bold\">Cl</text>\n",
       "\t<line x1=\"90.4737\" y1=\"105.5\" x2=\"109.526\" y2=\"94.5\" stroke=\"#000000\" stroke-width=\"1.2\" stroke-linecap=\"round\"/>\n",
       "\t<line x1=\"78.4396\" y1=\"98.5521\" x2=\"90.4737\" y2=\"105.5\" stroke=\"#000000\" stroke-width=\"1.2\" stroke-linecap=\"round\"/>\n",
       "\t<line x1=\"109.526\" y1=\"94.5\" x2=\"122.312\" y2=\"101.882\" stroke=\"#000000\" stroke-width=\"1.2\" stroke-linecap=\"round\"/>\n",
       "</g>\n",
       "</svg>\n",
       "\t<svg xmlns=\"http://www.w3.org/2000/svg\" xmlns:xlink=\"http://www.w3.org/1999/xlink\" x=\"408\" y=\"2\" width=\"200\" height=\"200\" version=\"1.1\" zoomAndPan=\"magnify\" preserveAspectRatio=\"xMidYMid\" contentScriptType=\"application/ecmascript\" id=\"82d9db54-bf12-11eb-a6a3-00d861d0b82f\">\n",
       "<g>\n",
       "\t<!-- C2H6ClN -->\n",
       "\t<rect x=\"0.5\" y=\"0.5\" width=\"199\" height=\"199\" stroke=\"#000000\" stroke-width=\"1\" fill=\"none\"/>\n",
       "\t<text x=\"65.5149\" y=\"96.0544\" fill=\"#000000\" font-family=\"Helvetica\" font-size=\"8.8pt\" text-anchor=\"middle\" font-weight=\"bold\">Cl</text>\n",
       "\t<text x=\"122.673\" y=\"107.054\" fill=\"#000000\" font-family=\"Helvetica\" font-size=\"8.8pt\" text-anchor=\"middle\" font-weight=\"bold\">N</text>\n",
       "\t<text x=\"134.485\" y=\"100.234\" fill=\"#000000\" font-family=\"Helvetica\" font-size=\"8.8pt\" text-anchor=\"middle\" font-weight=\"bold\">H</text>\n",
       "\t<text x=\"122.673\" y=\"120.694\" fill=\"#000000\" font-family=\"Helvetica\" font-size=\"8.8pt\" text-anchor=\"middle\" font-weight=\"bold\">H</text>\n",
       "\t<line x1=\"84.5674\" y1=\"103.904\" x2=\"103.62\" y2=\"92.9044\" stroke=\"#000000\" stroke-width=\"1.2\" stroke-linecap=\"round\"/>\n",
       "\t<line x1=\"71.7818\" y1=\"96.5226\" x2=\"84.5674\" y2=\"103.904\" stroke=\"#000000\" stroke-width=\"1.2\" stroke-linecap=\"round\"/>\n",
       "\t<line x1=\"103.62\" y1=\"92.9044\" x2=\"117.802\" y2=\"101.092\" stroke=\"#000000\" stroke-width=\"1.2\" stroke-linecap=\"round\"/>\n",
       "\t<line x1=\"127.543\" y1=\"101.092\" x2=\"129.615\" y2=\"99.8965\" stroke=\"#000000\" stroke-width=\"1.2\" stroke-linecap=\"round\"/>\n",
       "\t<line x1=\"122.673\" y1=\"109.404\" x2=\"122.673\" y2=\"109.544\" stroke=\"#000000\" stroke-width=\"1.2\" stroke-linecap=\"round\"/>\n",
       "</g>\n",
       "</svg>\n",
       "\t<svg xmlns=\"http://www.w3.org/2000/svg\" xmlns:xlink=\"http://www.w3.org/1999/xlink\" x=\"2\" y=\"205\" width=\"200\" height=\"200\" version=\"1.1\" zoomAndPan=\"magnify\" preserveAspectRatio=\"xMidYMid\" contentScriptType=\"application/ecmascript\" id=\"82da1114-bf12-11eb-b1ac-00d861d0b82f\">\n",
       "<g>\n",
       "\t<!-- C2H6BrN -->\n",
       "\t<rect x=\"0.5\" y=\"0.5\" width=\"199\" height=\"199\" stroke=\"#000000\" stroke-width=\"1\" fill=\"none\"/>\n",
       "\t<text x=\"65.5149\" y=\"96.0544\" fill=\"#000000\" font-family=\"Helvetica\" font-size=\"8.8pt\" text-anchor=\"middle\" font-weight=\"bold\">Br</text>\n",
       "\t<text x=\"122.673\" y=\"107.054\" fill=\"#000000\" font-family=\"Helvetica\" font-size=\"8.8pt\" text-anchor=\"middle\" font-weight=\"bold\">N</text>\n",
       "\t<text x=\"134.485\" y=\"100.234\" fill=\"#000000\" font-family=\"Helvetica\" font-size=\"8.8pt\" text-anchor=\"middle\" font-weight=\"bold\">H</text>\n",
       "\t<text x=\"122.673\" y=\"120.694\" fill=\"#000000\" font-family=\"Helvetica\" font-size=\"8.8pt\" text-anchor=\"middle\" font-weight=\"bold\">H</text>\n",
       "\t<line x1=\"84.5674\" y1=\"103.904\" x2=\"103.62\" y2=\"92.9044\" stroke=\"#000000\" stroke-width=\"1.2\" stroke-linecap=\"round\"/>\n",
       "\t<line x1=\"72.5333\" y1=\"96.9565\" x2=\"84.5674\" y2=\"103.904\" stroke=\"#000000\" stroke-width=\"1.2\" stroke-linecap=\"round\"/>\n",
       "\t<line x1=\"103.62\" y1=\"92.9044\" x2=\"117.802\" y2=\"101.092\" stroke=\"#000000\" stroke-width=\"1.2\" stroke-linecap=\"round\"/>\n",
       "\t<line x1=\"127.543\" y1=\"101.092\" x2=\"129.615\" y2=\"99.8965\" stroke=\"#000000\" stroke-width=\"1.2\" stroke-linecap=\"round\"/>\n",
       "\t<line x1=\"122.673\" y1=\"109.404\" x2=\"122.673\" y2=\"109.544\" stroke=\"#000000\" stroke-width=\"1.2\" stroke-linecap=\"round\"/>\n",
       "</g>\n",
       "</svg>\n",
       "\t<svg xmlns=\"http://www.w3.org/2000/svg\" xmlns:xlink=\"http://www.w3.org/1999/xlink\" x=\"205\" y=\"205\" width=\"200\" height=\"200\" version=\"1.1\" zoomAndPan=\"magnify\" preserveAspectRatio=\"xMidYMid\" contentScriptType=\"application/ecmascript\" id=\"82da467a-bf12-11eb-9ead-00d861d0b82f\">\n",
       "<g>\n",
       "\t<!-- C3H5ClO2 -->\n",
       "\t<rect x=\"0.5\" y=\"0.5\" width=\"199\" height=\"199\" stroke=\"#000000\" stroke-width=\"1\" fill=\"none\"/>\n",
       "\t<text x=\"144.011\" y=\"91.8744\" fill=\"#000000\" font-family=\"Helvetica\" font-size=\"8.8pt\" text-anchor=\"middle\" font-weight=\"bold\">Cl</text>\n",
       "\t<text x=\"86.8537\" y=\"124.874\" fill=\"#000000\" font-family=\"Helvetica\" font-size=\"8.8pt\" text-anchor=\"middle\" font-weight=\"bold\">O</text>\n",
       "\t<text x=\"67.8012\" y=\"91.8744\" fill=\"#000000\" font-family=\"Helvetica\" font-size=\"8.8pt\" text-anchor=\"middle\" font-weight=\"bold\">O</text>\n",
       "\t<text x=\"55.9886\" y=\"98.6944\" fill=\"#000000\" font-family=\"Helvetica\" font-size=\"8.8pt\" text-anchor=\"middle\" font-weight=\"bold\">H</text>\n",
       "\t<line x1=\"124.959\" y1=\"99.7244\" x2=\"105.906\" y2=\"88.7244\" stroke=\"#000000\" stroke-width=\"1.2\" stroke-linecap=\"round\"/>\n",
       "\t<line x1=\"137.744\" y1=\"92.3426\" x2=\"124.959\" y2=\"99.7244\" stroke=\"#000000\" stroke-width=\"1.2\" stroke-linecap=\"round\"/>\n",
       "\t<line x1=\"85.0537\" y1=\"99.7244\" x2=\"85.0537\" y2=\"113.724\" stroke=\"#000000\" stroke-width=\"1.2\" stroke-linecap=\"round\"/>\n",
       "\t<line x1=\"88.6537\" y1=\"99.7244\" x2=\"88.6537\" y2=\"113.724\" stroke=\"#000000\" stroke-width=\"1.2\" stroke-linecap=\"round\"/>\n",
       "\t<line x1=\"86.8537\" y1=\"99.7244\" x2=\"73.3166\" y2=\"91.9087\" stroke=\"#000000\" stroke-width=\"1.2\" stroke-linecap=\"round\"/>\n",
       "\t<line x1=\"105.906\" y1=\"88.7244\" x2=\"86.8537\" y2=\"99.7244\" stroke=\"#000000\" stroke-width=\"1.2\" stroke-linecap=\"round\"/>\n",
       "\t<line x1=\"62.2858\" y1=\"91.9087\" x2=\"60.8592\" y2=\"92.7324\" stroke=\"#000000\" stroke-width=\"1.2\" stroke-linecap=\"round\"/>\n",
       "</g>\n",
       "</svg>\n",
       "\t<svg xmlns=\"http://www.w3.org/2000/svg\" xmlns:xlink=\"http://www.w3.org/1999/xlink\" x=\"408\" y=\"205\" width=\"200\" height=\"200\" version=\"1.1\" zoomAndPan=\"magnify\" preserveAspectRatio=\"xMidYMid\" contentScriptType=\"application/ecmascript\" id=\"82da896e-bf12-11eb-9ab2-00d861d0b82f\">\n",
       "<g>\n",
       "\t<!-- C3H5BrO2 -->\n",
       "\t<rect x=\"0.5\" y=\"0.5\" width=\"199\" height=\"199\" stroke=\"#000000\" stroke-width=\"1\" fill=\"none\"/>\n",
       "\t<text x=\"144.011\" y=\"91.8744\" fill=\"#000000\" font-family=\"Helvetica\" font-size=\"8.8pt\" text-anchor=\"middle\" font-weight=\"bold\">Br</text>\n",
       "\t<text x=\"86.8537\" y=\"124.874\" fill=\"#000000\" font-family=\"Helvetica\" font-size=\"8.8pt\" text-anchor=\"middle\" font-weight=\"bold\">O</text>\n",
       "\t<text x=\"67.8012\" y=\"91.8744\" fill=\"#000000\" font-family=\"Helvetica\" font-size=\"8.8pt\" text-anchor=\"middle\" font-weight=\"bold\">O</text>\n",
       "\t<text x=\"55.9886\" y=\"98.6944\" fill=\"#000000\" font-family=\"Helvetica\" font-size=\"8.8pt\" text-anchor=\"middle\" font-weight=\"bold\">H</text>\n",
       "\t<line x1=\"124.959\" y1=\"99.7244\" x2=\"105.906\" y2=\"88.7244\" stroke=\"#000000\" stroke-width=\"1.2\" stroke-linecap=\"round\"/>\n",
       "\t<line x1=\"136.993\" y1=\"92.7765\" x2=\"124.959\" y2=\"99.7244\" stroke=\"#000000\" stroke-width=\"1.2\" stroke-linecap=\"round\"/>\n",
       "\t<line x1=\"85.0537\" y1=\"99.7244\" x2=\"85.0537\" y2=\"113.724\" stroke=\"#000000\" stroke-width=\"1.2\" stroke-linecap=\"round\"/>\n",
       "\t<line x1=\"88.6537\" y1=\"99.7244\" x2=\"88.6537\" y2=\"113.724\" stroke=\"#000000\" stroke-width=\"1.2\" stroke-linecap=\"round\"/>\n",
       "\t<line x1=\"86.8537\" y1=\"99.7244\" x2=\"73.3166\" y2=\"91.9087\" stroke=\"#000000\" stroke-width=\"1.2\" stroke-linecap=\"round\"/>\n",
       "\t<line x1=\"105.906\" y1=\"88.7244\" x2=\"86.8537\" y2=\"99.7244\" stroke=\"#000000\" stroke-width=\"1.2\" stroke-linecap=\"round\"/>\n",
       "\t<line x1=\"62.2858\" y1=\"91.9087\" x2=\"60.8592\" y2=\"92.7324\" stroke=\"#000000\" stroke-width=\"1.2\" stroke-linecap=\"round\"/>\n",
       "</g>\n",
       "</svg>\n",
       "</g>\n",
       "</svg>"
      ],
      "text/plain": [
       "<IPython.core.display.SVG object>"
      ]
     },
     "metadata": {},
     "output_type": "display_data"
    }
   ],
   "source": [
    "e=Ens('[Cl,Br]CC[Cl,N,$(C(=O)O)]')\n",
    "display(SVG(e.E_EXPANDED_QUERY_STRUCTURES.get('D_SVG_IMAGE',parameters={\"nrows\":2})))"
   ]
  },
  {
   "cell_type": "code",
   "execution_count": null,
   "metadata": {},
   "outputs": [],
   "source": []
  }
 ],
 "metadata": {
  "kernelspec": {
   "display_name": "Python 3",
   "language": "python",
   "name": "python3"
  },
  "language_info": {
   "codemirror_mode": {
    "name": "ipython",
    "version": 3
   },
   "file_extension": ".py",
   "mimetype": "text/x-python",
   "name": "python",
   "nbconvert_exporter": "python",
   "pygments_lexer": "ipython3",
   "version": "3.8.3"
  }
 },
 "nbformat": 4,
 "nbformat_minor": 4
}
