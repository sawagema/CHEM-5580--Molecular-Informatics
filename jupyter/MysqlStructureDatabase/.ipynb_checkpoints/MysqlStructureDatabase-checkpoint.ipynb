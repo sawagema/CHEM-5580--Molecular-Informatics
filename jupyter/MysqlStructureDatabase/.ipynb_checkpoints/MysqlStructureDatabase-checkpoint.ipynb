{
 "cells": [
  {
   "cell_type": "markdown",
   "metadata": {},
   "source": [
    "OK, you are no longer satisfied with holding your structure data in huge SD files, or optimized query files (see tutorial), but want to go full database?\n",
    "\n",
    "Let's build a structure database on Mysql from the Emolecules sample set, and make it searchable by the Cactvs cartridge.\n",
    "\n",
    "Typical structure databases contain at the center a table with a standard structure representation and additional information. The structure source column is then used to build fast query tables around it. We will follow this generic approch and create a core table with an SDF record and the SDF fields first.\n",
    "\n",
    "This tutorial assumes you have a Mysql database server running, with the Cactvs cartridge installed (see _sql_ subdirectory of normal distributions) and the rights to create a database and tables. We are not using explicit database user IDs and passwords here, but this can be easily added (see documentation on the _dbase_ command).\n",
    "\n",
    "Create the database:"
   ]
  },
  {
   "cell_type": "code",
   "execution_count": 48,
   "metadata": {},
   "outputs": [],
   "source": [
    "# Whatever your database uses to connect. IP connections are also possible.\n",
    "socket='/var/lib/mysql/mysql.sock'\n",
    "db=Dbase('dbtype','mysql','socket',socket)"
   ]
  },
  {
   "cell_type": "markdown",
   "metadata": {},
   "source": [
    "Remove old database, create new one"
   ]
  },
  {
   "cell_type": "code",
   "execution_count": 9,
   "metadata": {},
   "outputs": [
    {
     "data": {
      "text/plain": [
       "True"
      ]
     },
     "execution_count": 9,
     "metadata": {},
     "output_type": "execute_result"
    }
   ],
   "source": [
    "db.exec('DROP DATABASE IF EXISTS emolecules')\n",
    "db.exec('CREATE DATABASE emolecules')"
   ]
  },
  {
   "cell_type": "markdown",
   "metadata": {},
   "source": [
    "Create a table with the SD record, and the SD fields. We are not directly loading the\n",
    "Mysql database row by row, but capture 10K rows in a toolkit table which is then loaded\n",
    "as batch in a block transaction. Our script table is automatically used as template for\n",
    "the creation of a corresponding database table."
   ]
  },
  {
   "cell_type": "code",
   "execution_count": 10,
   "metadata": {},
   "outputs": [
    {
     "name": "stdout",
     "output_type": "stream",
     "text": [
      "(E_*EMOL_VERSION_ID*, E_*EMOL_PARENT_ID*, E_*EMOL_LINK*)\n",
      "('SDrecord', 'EMOL_VERSION_ID', 'EMOL_PARENT_ID', 'EMOL_LINK')\n"
     ]
    },
    {
     "data": {
      "text/plain": [
       "table5"
      ]
     },
     "execution_count": 10,
     "metadata": {},
     "output_type": "execute_result"
    }
   ],
   "source": [
    "mf=Molfile('../CommonData/emolecules_sample_100000.sdf.gz')\n",
    "# Peek at the SD field set\n",
    "mf.peek()\n",
    "print(mf.fields)\n",
    "# Optimize data types - we know these are ints\n",
    "Prop.Set('E_*EMOL_VERSION_ID*','datatype','int')\n",
    "Prop.Set('E_*EMOL_PARENT_ID*','datatype','int')\n",
    "Prop.Set('E_*EMOL_LINK*','datatype','url')\n",
    "t=Table()\n",
    "# for convenience, use the standard SD record property. We could also use a simple string field\n",
    "t.addcol('E_SDF_STRING','SDrecord')\n",
    "# Add the SD data fields as additional columns\n",
    "for f in mf.fields:\n",
    "    t.addcol(f,f.originalname)\n",
    "print(t.colnames)\n",
    "# Prevent automatic computation of SQL column field length, since we write in blocks, the size\n",
    "# automatically determined from the first block may be too small\n",
    "t.setcol('EMOL_LINK','fieldlength',255)\n",
    "# We know this is a unique value\n",
    "t.setcol('EMOL_VERSION_ID','dbflags','primarykey')"
   ]
  },
  {
   "cell_type": "markdown",
   "metadata": {},
   "source": [
    "OK, we have the table. Now lets fill it block by block, and upload."
   ]
  },
  {
   "cell_type": "code",
   "execution_count": 11,
   "metadata": {},
   "outputs": [
    {
     "name": "stdout",
     "output_type": "stream",
     "text": [
      "wrote 100000 data rows\n",
      "execution time 214 secs\n"
     ]
    },
    {
     "data": {
      "text/plain": [
       "1"
      ]
     },
     "execution_count": 11,
     "metadata": {},
     "output_type": "execute_result"
    }
   ],
   "source": [
    "# This will run for about 3 or 4 minutes\n",
    "import time\n",
    "firstblock=True\n",
    "blocksize=10000\n",
    "nrows=0\n",
    "tstart = time.time()\n",
    "while True:\n",
    "    try:\n",
    "        # We want the SD record without any interpretation, so we just copy it out block by block\n",
    "        sdfblob=mf.copy()\n",
    "        # Create a structure object by string decoding. This an easy way to get the field data\n",
    "        e=Ens(sdfblob)\n",
    "        t.addrow(celldata=(sdfblob,e.EMOL_VERSION_ID,e.EMOL_PARENT_ID,e.EMOL_LINK))\n",
    "        e.delete()\n",
    "        nrows+=1\n",
    "        if t.nrows>=blocksize:\n",
    "            if firstblock:\n",
    "                # Store table in database table 'coredata', with automatic definition\n",
    "                t.write('mysql://localhost/emolecules/coredata?socket='+socket)\n",
    "                firstblock=False\n",
    "            else:\n",
    "                # Append to existing database table\n",
    "                t.write('mysql://localhost/emolecules/coredata?socket='+socket,None,'mode','a')\n",
    "            t.delrows('all')\n",
    "    except:\n",
    "        # The copy function fails at EOF. For now, forego more detailed error analysis\n",
    "        break\n",
    "if t.nrows>0:\n",
    "    if firstblock:\n",
    "        t.write('mysql://localhost/emolecules/coredata?socket='+socket)\n",
    "    else:\n",
    "        t.write('mysql://localhost/emolecules/coredata?socket='+socket,None,'mode','a')\n",
    "tstop = time.time()\n",
    "print('wrote %d data rows'%nrows)\n",
    "print('execution time %d secs'%(tstop-tstart))\n",
    "mf.close()\n",
    "t.delete()"
   ]
  },
  {
   "cell_type": "markdown",
   "metadata": {},
   "source": [
    "Now for the definition of the parallel structure query table. There is a standard set of columns. The only item which needs customization is the reference to the main table. The table definition is close to the sample definition for making a ChEMBL database searchable found in the sql/ directory of standard toolkit installations."
   ]
  },
  {
   "cell_type": "code",
   "execution_count": 12,
   "metadata": {},
   "outputs": [
    {
     "data": {
      "text/plain": [
       "True"
      ]
     },
     "execution_count": 12,
     "metadata": {},
     "output_type": "execute_result"
    }
   ],
   "source": [
    "db.database='emolecules'\n",
    "db.exec('DROP TABLE IF EXISTS compound_query')\n",
    "db.exec('''\n",
    "create table compound_query (\n",
    "    screen binary(252) not null\n",
    "        comment 'filled with binary property E_QUERY_SCREEN, 244 bytes screen bits plus 4 bytes header plus 4 bytes set bit count',\n",
    "    molecule blob not null comment 'filled with binary property E_MINIMOL',\n",
    "    superscreen binary(252) not null\n",
    "        comment 'filled with binary property E_NO_HYDROGEN_QUERY_SCREEN, 244 bytes screen bits plus 4 bytes header plus 4 bytes set bit count',\n",
    "    simscreen binary(120) not null\n",
    "        comment 'filled with binary property E_SCREEN, 112 bytes screen bits plus 4 bytes header plus 4 bytes set bit count',\n",
    "    EMOL_VERSION_ID int not null primary key,\n",
    "    atoms int not null comment 'atom count',\n",
    "    heavyatoms int not null comment 'heavy atom count',\n",
    "    weight float not null comment 'molecular weight',\n",
    "    simplehash char(16) not null comment 'filled with string property E_HASHY',\n",
    "    stereohash char(16) not null comment 'filled with string property E_HASHSY',\n",
    "    isotopehash char(16) not null comment 'filled with string property E_HASHIY',\n",
    "    isotopestereohash char(16) not null comment 'filled with string property E_HASHISY',\n",
    "    formula varbinary(238) not null comment 'filled with binary property E_ELEMENT_COUNT, max length 2*(oganesson118+1)',\n",
    "    index (simplehash),\n",
    "    index (stereohash),\n",
    "    index (isotopehash),\n",
    "    index (isotopestereohash),\n",
    "    constraint foreign key (EMOL_VERSION_ID) references coredata(EMOL_VERSION_ID) on delete cascade on update cascade\n",
    ");\n",
    "''')"
   ]
  },
  {
   "cell_type": "markdown",
   "metadata": {},
   "source": [
    "The new table can be filled from within the database with the Cactvs cartridge functionality."
   ]
  },
  {
   "cell_type": "code",
   "execution_count": 13,
   "metadata": {},
   "outputs": [
    {
     "name": "stdout",
     "output_type": "stream",
     "text": [
      "execution time 1506 secs\n"
     ]
    }
   ],
   "source": [
    "# This runs for 25 mins or so\n",
    "tstart = time.time()\n",
    "db.exec('''\n",
    "insert into compound_query(screen,molecule,superscreen,simscreen,EMOL_VERSION_ID,atoms,heavyatoms,weight,\n",
    "    simplehash,stereohash,isotopehash,isotopestereohash,formula)\n",
    "    select\n",
    "        ens_blob_property(SDrecord,'E_QUERY_SCREEN'),\n",
    "        ens_blob_property(SDrecord,'E_MINIMOL'),\n",
    "        ens_blob_property(SDrecord,'E_NO_HYDROGEN_QUERY_SCREEN'),\n",
    "        ens_blob_property(SDrecord,'E_SCREEN'),\n",
    "        EMOL_VERSION_ID,\n",
    "        ens_long_property(SDrecord,'E_NATOMS'),\n",
    "        ens_long_property(SDrecord,'E_HEAVY_ATOM_COUNT'),\n",
    "        ens_double_property(SDrecord,'E_WEIGHT'),\n",
    "        ens_string_property(SDrecord,'E_HASHY'),\n",
    "        ens_string_property(SDrecord,'E_HASHSY'),\n",
    "        ens_string_property(SDrecord,'E_HASHIY'),\n",
    "        ens_string_property(SDrecord,'E_HASHISY'),\n",
    "        ens_blob_property(SDrecord,'E_ELEMENT_COUNT')\n",
    "        from coredata;\n",
    "\n",
    "''')\n",
    "tstop = time.time()\n",
    "print('execution time %d secs'%(tstop-tstart))"
   ]
  },
  {
   "cell_type": "markdown",
   "metadata": {},
   "source": [
    "Now we can issue queries using cartridge functionality."
   ]
  },
  {
   "cell_type": "code",
   "execution_count": 18,
   "metadata": {},
   "outputs": [
    {
     "name": "stdout",
     "output_type": "stream",
     "text": [
      "(27345, 165205, 165803, 165811, 165933, 167347, 167353, 170317, 170395, 173923, 176787, 208823, 210519, 213625, 215515, 223365, 253803, 253811, 253815, 253817, 253835, 253839, 253841, 253851, 256763, 270881, 287054, 287056, 287058, 293206, 294164, 294974, 295066, 295200, 295330, 295474, 299722, 301048, 301050, 301550, 301552, 380988, 387228)\n"
     ]
    }
   ],
   "source": [
    "# No, we do not need to set the database name anew for each statement. This is just to allow\n",
    "# us to continue if we lost the database connection and want to resume execution after re-establishing the\n",
    "# connection via the very first code block above\n",
    "db.database='emolecules'\n",
    "print(db.colquery('''\n",
    "select EMOL_VERSION_ID from compound_query where \n",
    "    match_substructure(screen,molecule,\"c(C)1nccnc1C!\")>0 \n",
    "    order by EMOL_VERSION_ID\n",
    "'''))"
   ]
  },
  {
   "cell_type": "markdown",
   "metadata": {},
   "source": [
    "And we can process the results into different display formats. Get a full result table to play with:"
   ]
  },
  {
   "cell_type": "code",
   "execution_count": 73,
   "metadata": {},
   "outputs": [
    {
     "name": "stdout",
     "output_type": "stream",
     "text": [
      "10\n",
      "('ID', 'Link', 'SDrecord')\n"
     ]
    }
   ],
   "source": [
    "db.database='emolecules'\n",
    "t=db.tablequery('''\n",
    "select coredata.EMOL_VERSION_ID as ID,EMOL_LINK as Link,SDrecord from coredata,compound_query where\n",
    "   coredata.EMOL_VERSION_ID = compound_query.EMOL_VERSION_ID and\n",
    "   match_substructure(screen,molecule,\"c(C)1nccnc1C!\")>0\n",
    "   order by coredata.EMOL_VERSION_ID limit 10\n",
    "''')\n",
    "print(t.nrows)\n",
    "print(t.colnames)"
   ]
  },
  {
   "cell_type": "markdown",
   "metadata": {},
   "source": [
    "Let's massage this table into something human-readable:"
   ]
  },
  {
   "cell_type": "code",
   "execution_count": 74,
   "metadata": {},
   "outputs": [
    {
     "name": "stdout",
     "output_type": "stream",
     "text": [
      "3\n",
      "4\n",
      "4\n",
      "4\n",
      "4\n"
     ]
    },
    {
     "ename": "RuntimeError",
     "evalue": "illegal column range index \"'ID'\"",
     "output_type": "error",
     "traceback": [
      "\u001b[0;31m---------------------------------------------------------------------------\u001b[0m",
      "\u001b[0;31mRuntimeError\u001b[0m                              Traceback (most recent call last)",
      "\u001b[0;32m<ipython-input-74-f7d7ebfe8023>\u001b[0m in \u001b[0;36m<module>\u001b[0;34m\u001b[0m\n\u001b[1;32m     32\u001b[0m \u001b[0;31m# Same for the SD record - this now exists as image\u001b[0m\u001b[0;34m\u001b[0m\u001b[0;34m\u001b[0m\u001b[0;34m\u001b[0m\u001b[0m\n\u001b[1;32m     33\u001b[0m \u001b[0mt\u001b[0m\u001b[0;34m.\u001b[0m\u001b[0mwrite\u001b[0m\u001b[0;34m(\u001b[0m\u001b[0;34m'z.tbin'\u001b[0m\u001b[0;34m)\u001b[0m\u001b[0;34m\u001b[0m\u001b[0;34m\u001b[0m\u001b[0m\n\u001b[0;32m---> 34\u001b[0;31m \u001b[0mt\u001b[0m\u001b[0;34m.\u001b[0m\u001b[0mdelcols\u001b[0m\u001b[0;34m(\u001b[0m\u001b[0;34m'ID'\u001b[0m\u001b[0;34m,\u001b[0m\u001b[0;34m'SDrecord'\u001b[0m\u001b[0;34m)\u001b[0m\u001b[0;34m\u001b[0m\u001b[0;34m\u001b[0m\u001b[0m\n\u001b[0m\u001b[1;32m     35\u001b[0m \u001b[0;31m# Write as HTML table to the temporary directory (the None filename resolves to a temp file name)\u001b[0m\u001b[0;34m\u001b[0m\u001b[0;34m\u001b[0m\u001b[0;34m\u001b[0m\u001b[0m\n\u001b[1;32m     36\u001b[0m \u001b[0mfilename\u001b[0m \u001b[0;34m=\u001b[0m \u001b[0mt\u001b[0m\u001b[0;34m.\u001b[0m\u001b[0mwrite\u001b[0m\u001b[0;34m(\u001b[0m\u001b[0;32mNone\u001b[0m\u001b[0;34m,\u001b[0m\u001b[0;34m'html'\u001b[0m\u001b[0;34m,\u001b[0m\u001b[0;34m{\u001b[0m\u001b[0;34m\"colblocksize\"\u001b[0m\u001b[0;34m:\u001b[0m\u001b[0;36m3\u001b[0m\u001b[0;34m}\u001b[0m\u001b[0;34m)\u001b[0m\u001b[0;34m\u001b[0m\u001b[0;34m\u001b[0m\u001b[0m\n",
      "\u001b[0;31mRuntimeError\u001b[0m: illegal column range index \"'ID'\""
     ]
    }
   ],
   "source": [
    "# Change the column datatype from type string for HTML output\n",
    "t.colset('Link','datatype','url','headerformat','+center')\n",
    "# Add an image column\n",
    "t.addcol('E_SVG_IMAGE',name='Structure')\n",
    "t.colset('Structure','headerformat','+center')\n",
    "# Links open in new tab\n",
    "t.linktarget = '_blank'\n",
    "# Global image generation parameter adjustment\n",
    "Prop.Setparam('E_SVG_IMAGE',{'frame':False,'asymbol':'compact'})\n",
    "\n",
    "# Define a table row processing function\n",
    "def edittable(t,row,rowtuple,objtuple):\n",
    "    # Copy ID text as link text to Link column\n",
    "    t.setcell(row,'Link','linktext',rowtuple['ID'])\n",
    "    # Decode structure for image generation\n",
    "    e=Ens(rowtuple['SDrecord'])\n",
    "    # Fill in image\n",
    "    t.setcell(row,'Structure',e.E_SVG_IMAGE)\n",
    "    # We do not need the structure object any longer\n",
    "    e.delete()\n",
    "\n",
    "# Loop over the table, calling a function for every row. Row data is passed as a dictionary.\n",
    "# In the function, we copy the version ID data as link text for the retrieval URL, and \n",
    "# create an SVG image from the structure data, which we decode from the SD record data.\n",
    "t.dictloop(edittable)\n",
    "# The version information was saved as link text in the Link column, we do not need this column any longer\n",
    "# Same for the SD record - this now exists as image\n",
    "t.delcols('ID','SDrecord')\n",
    "# Write as HTML table to the temporary directory (the None filename resolves to a temp file name)\n",
    "filename = t.write(None,'html',{\"colblocksize\":3})"
   ]
  },
  {
   "cell_type": "markdown",
   "metadata": {},
   "source": [
    "Show the HTML block as part of the Jupyter notebook"
   ]
  },
  {
   "cell_type": "code",
   "execution_count": 54,
   "metadata": {},
   "outputs": [
    {
     "data": {
      "text/html": [
       "<TABLE ID=\"0083da70-870d-11eb-9a0c-00d861d0b82f\">\n",
       "<TR>\n",
       "<TH ALIGN=\"center\" VALIGN=\"center\">Link</TH>\n",
       "<TH ALIGN=\"center\" VALIGN=\"center\">Structure</TH>\n",
       "<TH ALIGN=\"center\" VALIGN=\"center\">Link</TH>\n",
       "<TH ALIGN=\"center\" VALIGN=\"center\">Structure</TH>\n",
       "<TH ALIGN=\"center\" VALIGN=\"center\">Link</TH>\n",
       "<TH ALIGN=\"center\" VALIGN=\"center\">Structure</TH>\n",
       "</TR>\n",
       "<TR ID=\"0083da70-870d-11eb-9a0c-00d861d0b82fR1\">\n",
       "<TD ID=\"0083da70-870d-11eb-9a0c-00d861d0b82fR1C1\" ALIGN=\"right\"><A HREF=\"https://www.emolecules.com/search/#?query=27345&amp;querytype=emoleculesid\" target=\"_blank\">27345</A></TD>\n",
       "<TD ID=\"0083da70-870d-11eb-9a0c-00d861d0b82fR1C2\" ALIGN=\"right\"><IMG ID=\"I_0083da70-870d-11eb-9a0c-00d861d0b82fR1C2\" WIDTH=\"180\" HEIGHT=\"180\" SRC=\"data:image/svg+xml;base64,PD94bWwgdmVyc2lvbj0iMS4wIiBzdGFuZGFsb25lPSJ5ZXMiPz4KPCFET0NUWVBFIHN2ZyBQVUJMSUMgIi0vL1czQy8vRFREIFNWRyAxLjEvL0VOIiAiaHR0cDovL3d3dy53My5vcmcvR3JhcGhpY3MvU1ZHLzEuMS9EVEQvc3ZnMTEuZHRkIj4KPHN2ZyB3aWR0aD0iMTgwIiBoZWlnaHQ9IjE4MCIgeG1sbnM9Imh0dHA6Ly93d3cudzMub3JnLzIwMDAvc3ZnIiB4bWxuczp4bGluaz0iaHR0cDovL3d3dy53My5vcmcvMTk5OS94bGluayIgdmVyc2lvbj0iMS4xIiB6b29tQW5kUGFuPSJtYWduaWZ5IiBwcmVzZXJ2ZUFzcGVjdFJhdGlvPSJ4TWlkWU1pZCIgY29udGVudFNjcmlwdFR5cGU9ImFwcGxpY2F0aW9uL2VjbWFzY3JpcHQiIGlkPSIwMjIwYzcwOC04NzBkLTExZWItYjA1MS0wMGQ4NjFkMGI4MmYiPgo8Zz4KCTwhLS0gQzdINk4yTzQgLS0+Cgk8dGV4dCB4PSI2MS40NjAzIiB5PSI4Mi4yMzAxIiBmaWxsPSIjMDAwMDAwIiBmb250LWZhbWlseT0iSGVsdmV0aWNhIiBmb250LXNpemU9IjguOHB0IiB0ZXh0LWFuY2hvcj0ibWlkZGxlIiBmb250LXdlaWdodD0iYm9sZCI+TjwvdGV4dD4KCTx0ZXh0IHg9Ijk1LjIzNjMiIHk9IjEwMS43MyIgZmlsbD0iIzAwMDAwMCIgZm9udC1mYW1pbHk9IkhlbHZldGljYSIgZm9udC1zaXplPSI4LjhwdCIgdGV4dC1hbmNob3I9Im1pZGRsZSIgZm9udC13ZWlnaHQ9ImJvbGQiPk48L3RleHQ+Cgk8dGV4dCB4PSI2MS40NjAzIiB5PSI0My4yMzA1IiBmaWxsPSIjMDAwMDAwIiBmb250LWZhbWlseT0iSGVsdmV0aWNhIiBmb250LXNpemU9IjguOHB0IiB0ZXh0LWFuY2hvcj0ibWlkZGxlIiBmb250LXdlaWdodD0iYm9sZCI+TzwvdGV4dD4KCTx0ZXh0IHg9Ijk5LjEwNjkiIHk9IjQzLjIzMDUiIGZpbGw9IiMwMDAwMDAiIGZvbnQtZmFtaWx5PSJIZWx2ZXRpY2EiIGZvbnQtc2l6ZT0iOC44cHQiIHRleHQtYW5jaG9yPSJtaWRkbGUiIGZvbnQtd2VpZ2h0PSJib2xkIj5PSDwvdGV4dD4KCTx0ZXh0IHg9IjEyOS4wMSIgeT0iODIuMjMwMSIgZmlsbD0iIzAwMDAwMCIgZm9udC1mYW1pbHk9IkhlbHZldGljYSIgZm9udC1zaXplPSI4LjhwdCIgdGV4dC1hbmNob3I9Im1pZGRsZSIgZm9udC13ZWlnaHQ9ImJvbGQiPk88L3RleHQ+Cgk8dGV4dCB4PSIxMTUuOTkzIiB5PSI1Mi45ODA0IiBmaWxsPSIjMDAwMDAwIiBmb250LWZhbWlseT0iSGVsdmV0aWNhIiBmb250LXNpemU9IjguOHB0IiB0ZXh0LWFuY2hvcj0ibWlkZGxlIiBmb250LXdlaWdodD0iYm9sZCI+T0g8L3RleHQ+Cgk8bGluZSB4MT0iNzguMzQ4MyIgeTE9IjY5LjMzMDIiIHgyPSI5NS4yMzYzIiB5Mj0iNzkuMDgwMSIgc3Ryb2tlPSIjMDAwMDAwIiBzdHJva2Utd2lkdGg9IjEuMiIgc3Ryb2tlLWxpbmVjYXA9InJvdW5kIiAvPgoJPGxpbmUgeDE9Ijc5LjA4MTUiIHkxPSI3My45MTA0IiB4Mj0iOTAuOTAzMSIgeTI9IjgwLjczNTMiIHN0cm9rZT0iIzAwMDAwMCIgc3Ryb2tlLXdpZHRoPSIxLjIiIHN0cm9rZS1saW5lY2FwPSJyb3VuZCIgLz4KCTxsaW5lIHgxPSI3OC4zNDgzIiB5MT0iNjkuMzMwMiIgeDI9IjY2LjMzMDkiIHkyPSI3Ni4yNjgxIiBzdHJva2U9IiMwMDAwMDAiIHN0cm9rZS13aWR0aD0iMS4yIiBzdHJva2UtbGluZWNhcD0icm91bmQiIC8+Cgk8bGluZSB4MT0iNzguMzQ4MyIgeTE9IjY5LjMzMDIiIHgyPSI3OC4zNDgzIiB5Mj0iNDkuODMwNCIgc3Ryb2tlPSIjMDAwMDAwIiBzdHJva2Utd2lkdGg9IjEuMiIgc3Ryb2tlLWxpbmVjYXA9InJvdW5kIiAvPgoJPGxpbmUgeDE9Ijk1LjIzNjMiIHkxPSI3OS4wODAxIiB4Mj0iOTUuMjM2MyIgeTI9IjkwLjU3OTgiIHN0cm9rZT0iIzAwMDAwMCIgc3Ryb2tlLXdpZHRoPSIxLjIiIHN0cm9rZS1saW5lY2FwPSJyb3VuZCIgLz4KCTxsaW5lIHgxPSI5NS4yMzYzIiB5MT0iNzkuMDgwMSIgeDI9IjExMi4xMjIiIHkyPSI2OS4zMzAyIiBzdHJva2U9IiMwMDAwMDAiIHN0cm9rZS13aWR0aD0iMS4yIiBzdHJva2UtbGluZWNhcD0icm91bmQiIC8+Cgk8bGluZSB4MT0iNjEuNDYwMyIgeTE9Ijg0LjU4MDEiIHgyPSI2MS40NjAzIiB5Mj0iOTguNTc5OCIgc3Ryb2tlPSIjMDAwMDAwIiBzdHJva2Utd2lkdGg9IjEuMiIgc3Ryb2tlLWxpbmVjYXA9InJvdW5kIiAvPgoJPGxpbmUgeDE9IjY1LjA2MDMiIHkxPSI4NC41ODAxIiB4Mj0iNjUuMDYwMyIgeTI9Ijk1LjY1NDkiIHN0cm9rZT0iIzAwMDAwMCIgc3Ryb2tlLXdpZHRoPSIxLjIiIHN0cm9rZS1saW5lY2FwPSJyb3VuZCIgLz4KCTxsaW5lIHgxPSI5MC4zNjU3IiB5MT0iMTAxLjM5MiIgeDI9Ijc4LjM0ODMiIHkyPSIxMDguMzMiIHN0cm9rZT0iIzAwMDAwMCIgc3Ryb2tlLXdpZHRoPSIxLjIiIHN0cm9rZS1saW5lY2FwPSJyb3VuZCIgLz4KCTxsaW5lIHgxPSI5MC4zNjU3IiB5MT0iOTcuMjM0OSIgeDI9Ijc5LjA4MTUiIHkyPSIxMDMuNzUiIHN0cm9rZT0iIzAwMDAwMCIgc3Ryb2tlLXdpZHRoPSIxLjIiIHN0cm9rZS1saW5lY2FwPSJyb3VuZCIgLz4KCTxsaW5lIHgxPSI3OC4zNDgzIiB5MT0iMTA4LjMzIiB4Mj0iNjEuNDYwMyIgeTI9Ijk4LjU3OTgiIHN0cm9rZT0iIzAwMDAwMCIgc3Ryb2tlLXdpZHRoPSIxLjIiIHN0cm9rZS1saW5lY2FwPSJyb3VuZCIgLz4KCTxsaW5lIHgxPSI3OC4zNDgzIiB5MT0iMTA4LjMzIiB4Mj0iNzguMzQ4MyIgeTI9IjEyNy44MyIgc3Ryb2tlPSIjMDAwMDAwIiBzdHJva2Utd2lkdGg9IjEuMiIgc3Ryb2tlLWxpbmVjYXA9InJvdW5kIiAvPgoJPGxpbmUgeDE9Ijc5LjI0ODMiIHkxPSI0OC4yNzE1IiB4Mj0iNjYuOTc1NyIgeTI9IjQxLjE4NjIiIHN0cm9rZT0iIzAwMDAwMCIgc3Ryb2tlLXdpZHRoPSIxLjIiIHN0cm9rZS1saW5lY2FwPSJyb3VuZCIgLz4KCTxsaW5lIHgxPSI3Ny40NDgzIiB5MT0iNTEuMzg5MiIgeDI9IjY2Ljk3NTciIHkyPSI0NS4zNDMxIiBzdHJva2U9IiMwMDAwMDAiIHN0cm9rZS13aWR0aD0iMS4yIiBzdHJva2UtbGluZWNhcD0icm91bmQiIC8+Cgk8bGluZSB4MT0iNzguMzQ4MyIgeTE9IjQ5LjgzMDQiIHgyPSI4OS43MjA5IiB5Mj0iNDMuMjY0NyIgc3Ryb2tlPSIjMDAwMDAwIiBzdHJva2Utd2lkdGg9IjEuMiIgc3Ryb2tlLWxpbmVjYXA9InJvdW5kIiAvPgoJPGxpbmUgeDE9IjExMS4yMjIiIHkxPSI3MC44ODkiIHgyPSIxMjMuNDk1IiB5Mj0iNzcuOTc0MyIgc3Ryb2tlPSIjMDAwMDAwIiBzdHJva2Utd2lkdGg9IjEuMiIgc3Ryb2tlLWxpbmVjYXA9InJvdW5kIiAvPgoJPGxpbmUgeDE9IjExMy4wMjIiIHkxPSI2Ny43NzEzIiB4Mj0iMTIzLjQ5NSIgeTI9IjczLjgxNzQiIHN0cm9rZT0iIzAwMDAwMCIgc3Ryb2tlLXdpZHRoPSIxLjIiIHN0cm9rZS1saW5lY2FwPSJyb3VuZCIgLz4KCTxsaW5lIHgxPSIxMTIuMTIyIiB5MT0iNjkuMzMwMiIgeDI9IjExMi4xMjIiIHkyPSI1NS4zMzA0IiBzdHJva2U9IiMwMDAwMDAiIHN0cm9rZS13aWR0aD0iMS4yIiBzdHJva2UtbGluZWNhcD0icm91bmQiIC8+CjwvZz4KPC9zdmc+Cg==\" BORDER=\"0\"></TD>\n",
       "<TD ID=\"0083da70-870d-11eb-9a0c-00d861d0b82fR2C1\" ALIGN=\"right\"><A HREF=\"https://www.emolecules.com/search/#?query=165205&amp;querytype=emoleculesid\" target=\"_blank\">165205</A></TD>\n",
       "<TD ID=\"0083da70-870d-11eb-9a0c-00d861d0b82fR2C2\" ALIGN=\"right\"><IMG ID=\"I_0083da70-870d-11eb-9a0c-00d861d0b82fR2C2\" WIDTH=\"180\" HEIGHT=\"180\" SRC=\"data:image/svg+xml;base64,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\" BORDER=\"0\"></TD>\n",
       "<TD ID=\"0083da70-870d-11eb-9a0c-00d861d0b82fR3C1\" ALIGN=\"right\"><A HREF=\"https://www.emolecules.com/search/#?query=165803&amp;querytype=emoleculesid\" target=\"_blank\">165803</A></TD>\n",
       "<TD ID=\"0083da70-870d-11eb-9a0c-00d861d0b82fR3C2\" ALIGN=\"right\"><IMG ID=\"I_0083da70-870d-11eb-9a0c-00d861d0b82fR3C2\" WIDTH=\"180\" HEIGHT=\"180\" SRC=\"data:image/svg+xml;base64,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\" BORDER=\"0\"></TD>\n",
       "</TR>\n",
       "<TR ID=\"0083da70-870d-11eb-9a0c-00d861d0b82fR4\">\n",
       "<TD ID=\"0083da70-870d-11eb-9a0c-00d861d0b82fR4C1\" ALIGN=\"right\"><A HREF=\"https://www.emolecules.com/search/#?query=165811&amp;querytype=emoleculesid\" target=\"_blank\">165811</A></TD>\n",
       "<TD ID=\"0083da70-870d-11eb-9a0c-00d861d0b82fR4C2\" ALIGN=\"right\"><IMG ID=\"I_0083da70-870d-11eb-9a0c-00d861d0b82fR4C2\" WIDTH=\"180\" HEIGHT=\"180\" SRC=\"data:image/svg+xml;base64,PD94bWwgdmVyc2lvbj0iMS4wIiBzdGFuZGFsb25lPSJ5ZXMiPz4KPCFET0NUWVBFIHN2ZyBQVUJMSUMgIi0vL1czQy8vRFREIFNWRyAxLjEvL0VOIiAiaHR0cDovL3d3dy53My5vcmcvR3JhcGhpY3MvU1ZHLzEuMS9EVEQvc3ZnMTEuZHRkIj4KPHN2ZyB3aWR0aD0iMTgwIiBoZWlnaHQ9IjE4MCIgeG1sbnM9Imh0dHA6Ly93d3cudzMub3JnLzIwMDAvc3ZnIiB4bWxuczp4bGluaz0iaHR0cDovL3d3dy53My5vcmcvMTk5OS94bGluayIgdmVyc2lvbj0iMS4xIiB6b29tQW5kUGFuPSJtYWduaWZ5IiBwcmVzZXJ2ZUFzcGVjdFJhdGlvPSJ4TWlkWU1pZCIgY29udGVudFNjcmlwdFR5cGU9ImFwcGxpY2F0aW9uL2VjbWFzY3JpcHQiIGlkPSIwMjIyZjMwMi04NzBkLTExZWItYmQ3Yy0wMGQ4NjFkMGI4MmYiPgo8Zz4KCTwhLS0gQzEySDE3TjNPIC0tPgoJPHRleHQgeD0iNjUuMzg3MiIgeT0iNzIuODQwMyIgZmlsbD0iIzAwMDAwMCIgZm9udC1mYW1pbHk9IkhlbHZldGljYSIgZm9udC1zaXplPSI4LjhwdCIgdGV4dC1hbmNob3I9Im1pZGRsZSIgZm9udC13ZWlnaHQ9ImJvbGQiPk48L3RleHQ+Cgk8dGV4dCB4PSI5OS4xNjMzIiB5PSIxMzEuMzQiIGZpbGw9IiMwMDAwMDAiIGZvbnQtZmFtaWx5PSJIZWx2ZXRpY2EiIGZvbnQtc2l6ZT0iOC44cHQiIHRleHQtYW5jaG9yPSJtaWRkbGUiIGZvbnQtd2VpZ2h0PSJib2xkIj5OPC90ZXh0PgoJPHRleHQgeD0iMTMyLjkzNyIgeT0iMTExLjg0IiBmaWxsPSIjMDAwMDAwIiBmb250LWZhbWlseT0iSGVsdmV0aWNhIiBmb250LXNpemU9IjguOHB0IiB0ZXh0LWFuY2hvcj0ibWlkZGxlIiBmb250LXdlaWdodD0iYm9sZCI+TjwvdGV4dD4KCTx0ZXh0IHg9IjQ4LjQ5OTEiIHk9IjQzLjU5MDUiIGZpbGw9IiMwMDAwMDAiIGZvbnQtZmFtaWx5PSJIZWx2ZXRpY2EiIGZvbnQtc2l6ZT0iOC44cHQiIHRleHQtYW5jaG9yPSJtaWRkbGUiIGZvbnQtd2VpZ2h0PSJib2xkIj5PPC90ZXh0PgoJPGxpbmUgeDE9IjgyLjI3NTIiIHkxPSI5OC45NDAxIiB4Mj0iODIuMjc1MiIgeTI9Ijc5LjQ0MDIiIHN0cm9rZT0iIzAwMDAwMCIgc3Ryb2tlLXdpZHRoPSIxLjIiIHN0cm9rZS1saW5lY2FwPSJyb3VuZCIgLz4KCTxsaW5lIHgxPSI4Mi4yNzUyIiB5MT0iOTguOTQwMSIgeDI9IjY1LjM4NzIiIHkyPSIxMDguNjkiIHN0cm9rZT0iIzAwMDAwMCIgc3Ryb2tlLXdpZHRoPSIxLjIiIHN0cm9rZS1saW5lY2FwPSJyb3VuZCIgLz4KCTxsaW5lIHgxPSI2NS4zODcyIiB5MT0iNjEuNjkwMyIgeDI9IjY1LjM4NzIiIHkyPSI1MC4xOTA1IiBzdHJva2U9IiMwMDAwMDAiIHN0cm9rZS13aWR0aD0iMS4yIiBzdHJva2UtbGluZWNhcD0icm91bmQiIC8+Cgk8bGluZSB4MT0iODIuMjc1MiIgeTE9Ijk4Ljk0MDEiIHgyPSI5OS4xNjMzIiB5Mj0iMTA4LjY5IiBzdHJva2U9IiMwMDAwMDAiIHN0cm9rZS13aWR0aD0iMS4yIiBzdHJva2UtbGluZWNhcD0icm91bmQiIC8+Cgk8bGluZSB4MT0iNzAuMjU3OCIgeTE9IjcyLjUwMjMiIHgyPSI4Mi4yNzUyIiB5Mj0iNzkuNDQwMiIgc3Ryb2tlPSIjMDAwMDAwIiBzdHJva2Utd2lkdGg9IjEuMiIgc3Ryb2tlLWxpbmVjYXA9InJvdW5kIiAvPgoJPGxpbmUgeDE9Ijk5LjE2MzMiIHkxPSIxMDguNjkiIHgyPSI5OS4xNjMzIiB5Mj0iMTIwLjE5IiBzdHJva2U9IiMwMDAwMDAiIHN0cm9rZS13aWR0aD0iMS4yIiBzdHJva2UtbGluZWNhcD0icm91bmQiIC8+Cgk8bGluZSB4MT0iMTAyLjc2MyIgeTE9IjExMS42MTUiIHgyPSIxMDIuNzYzIiB5Mj0iMTIwLjE5IiBzdHJva2U9IiMwMDAwMDAiIHN0cm9rZS13aWR0aD0iMS4yIiBzdHJva2UtbGluZWNhcD0icm91bmQiIC8+Cgk8bGluZSB4MT0iOTkuMTYzMyIgeTE9IjEwOC42OSIgeDI9IjExNi4wNDkiIHkyPSI5OC45NDAxIiBzdHJva2U9IiMwMDAwMDAiIHN0cm9rZS13aWR0aD0iMS4yIiBzdHJva2UtbGluZWNhcD0icm91bmQiIC8+Cgk8bGluZSB4MT0iMTE2LjA0OSIgeTE9Ijk4Ljk0MDEiIHgyPSIxMjguMDY2IiB5Mj0iMTA1Ljg3OCIgc3Ryb2tlPSIjMDAwMDAwIiBzdHJva2Utd2lkdGg9IjEuMiIgc3Ryb2tlLWxpbmVjYXA9InJvdW5kIiAvPgoJPGxpbmUgeDE9IjExNi43ODIiIHkxPSIxMDMuNTIiIHgyPSIxMjguMDY2IiB5Mj0iMTEwLjAzNSIgc3Ryb2tlPSIjMDAwMDAwIiBzdHJva2Utd2lkdGg9IjEuMiIgc3Ryb2tlLWxpbmVjYXA9InJvdW5kIiAvPgoJPGxpbmUgeDE9IjY2LjI4NzEiIHkxPSI0OC42MzE2IiB4Mj0iNTQuMDE0NSIgeTI9IjQxLjU0NjMiIHN0cm9rZT0iIzAwMDAwMCIgc3Ryb2tlLXdpZHRoPSIxLjIiIHN0cm9rZS1saW5lY2FwPSJyb3VuZCIgLz4KCTxsaW5lIHgxPSI2NC40ODcyIiB5MT0iNTEuNzQ5MyIgeDI9IjU0LjAxNDUiIHkyPSI0NS43MDMyIiBzdHJva2U9IiMwMDAwMDAiIHN0cm9rZS13aWR0aD0iMS4yIiBzdHJva2UtbGluZWNhcD0icm91bmQiIC8+Cgk8bGluZSB4MT0iNjAuNTE2NSIgeTE9IjcyLjUwMjMiIHgyPSI0OC40OTkxIiB5Mj0iNzkuNDQwMiIgc3Ryb2tlPSIjMDAwMDAwIiBzdHJva2Utd2lkdGg9IjEuMiIgc3Ryb2tlLWxpbmVjYXA9InJvdW5kIiAvPgoJPGxpbmUgeDE9IjY1LjM4NzIiIHkxPSIxMDguNjkiIHgyPSI0OC40OTkxIiB5Mj0iOTguOTQwMSIgc3Ryb2tlPSIjMDAwMDAwIiBzdHJva2Utd2lkdGg9IjEuMiIgc3Ryb2tlLWxpbmVjYXA9InJvdW5kIiAvPgoJPGxpbmUgeDE9IjY1LjM4NzIiIHkxPSI1MC4xOTA1IiB4Mj0iODIuMjc1MiIgeTI9IjQwLjQ0MDUiIHN0cm9rZT0iIzAwMDAwMCIgc3Ryb2tlLXdpZHRoPSIxLjIiIHN0cm9rZS1saW5lY2FwPSJyb3VuZCIgLz4KCTxsaW5lIHgxPSI0OC40OTkxIiB5MT0iNzkuNDQwMiIgeDI9IjQ4LjQ5OTEiIHkyPSI5OC45NDAxIiBzdHJva2U9IiMwMDAwMDAiIHN0cm9rZS13aWR0aD0iMS4yIiBzdHJva2UtbGluZWNhcD0icm91bmQiIC8+Cgk8bGluZSB4MT0iMTA0LjAzNCIgeTE9IjEzMS4wMDIiIHgyPSIxMTYuMDQ5IiB5Mj0iMTM3Ljk0IiBzdHJva2U9IiMwMDAwMDAiIHN0cm9rZS13aWR0aD0iMS4yIiBzdHJva2UtbGluZWNhcD0icm91bmQiIC8+Cgk8bGluZSB4MT0iMTMyLjkzNyIgeTE9IjExNC4xOSIgeDI9IjEzMi45MzciIHkyPSIxMjguMTkiIHN0cm9rZT0iIzAwMDAwMCIgc3Ryb2tlLXdpZHRoPSIxLjIiIHN0cm9rZS1saW5lY2FwPSJyb3VuZCIgLz4KCTxsaW5lIHgxPSIxMTYuMDQ5IiB5MT0iMTM3Ljk0IiB4Mj0iMTMyLjkzNyIgeTI9IjEyOC4xOSIgc3Ryb2tlPSIjMDAwMDAwIiBzdHJva2Utd2lkdGg9IjEuMiIgc3Ryb2tlLWxpbmVjYXA9InJvdW5kIiAvPgoJPGxpbmUgeDE9IjExNi43ODIiIHkxPSIxMzMuMzYiIHgyPSIxMjguNjA0IiB5Mj0iMTI2LjUzNSIgc3Ryb2tlPSIjMDAwMDAwIiBzdHJva2Utd2lkdGg9IjEuMiIgc3Ryb2tlLWxpbmVjYXA9InJvdW5kIiAvPgoJPGxpbmUgeDE9IjExNi4wNDkiIHkxPSI5OC45NDAxIiB4Mj0iMTE2LjA0OSIgeTI9Ijc5LjQ0MDIiIHN0cm9rZT0iIzAwMDAwMCIgc3Ryb2tlLXdpZHRoPSIxLjIiIHN0cm9rZS1saW5lY2FwPSJyb3VuZCIgLz4KPC9nPgo8L3N2Zz4K\" BORDER=\"0\"></TD>\n",
       "<TD ID=\"0083da70-870d-11eb-9a0c-00d861d0b82fR5C1\" ALIGN=\"right\"><A HREF=\"https://www.emolecules.com/search/#?query=165933&amp;querytype=emoleculesid\" target=\"_blank\">165933</A></TD>\n",
       "<TD ID=\"0083da70-870d-11eb-9a0c-00d861d0b82fR5C2\" ALIGN=\"right\"><IMG ID=\"I_0083da70-870d-11eb-9a0c-00d861d0b82fR5C2\" WIDTH=\"180\" HEIGHT=\"180\" SRC=\"data:image/svg+xml;base64,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\" BORDER=\"0\"></TD>\n",
       "<TD ID=\"0083da70-870d-11eb-9a0c-00d861d0b82fR6C1\" ALIGN=\"right\"><A HREF=\"https://www.emolecules.com/search/#?query=167347&amp;querytype=emoleculesid\" target=\"_blank\">167347</A></TD>\n",
       "<TD ID=\"0083da70-870d-11eb-9a0c-00d861d0b82fR6C2\" ALIGN=\"right\"><IMG ID=\"I_0083da70-870d-11eb-9a0c-00d861d0b82fR6C2\" WIDTH=\"180\" HEIGHT=\"180\" SRC=\"data:image/svg+xml;base64,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\" BORDER=\"0\"></TD>\n",
       "</TR>\n",
       "<TR ID=\"0083da70-870d-11eb-9a0c-00d861d0b82fR7\">\n",
       "<TD ID=\"0083da70-870d-11eb-9a0c-00d861d0b82fR7C1\" ALIGN=\"right\"><A HREF=\"https://www.emolecules.com/search/#?query=167353&amp;querytype=emoleculesid\" target=\"_blank\">167353</A></TD>\n",
       "<TD ID=\"0083da70-870d-11eb-9a0c-00d861d0b82fR7C2\" ALIGN=\"right\"><IMG ID=\"I_0083da70-870d-11eb-9a0c-00d861d0b82fR7C2\" WIDTH=\"180\" HEIGHT=\"180\" SRC=\"data:image/svg+xml;base64,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\" BORDER=\"0\"></TD>\n",
       "<TD ID=\"0083da70-870d-11eb-9a0c-00d861d0b82fR8C1\" ALIGN=\"right\"><A HREF=\"https://www.emolecules.com/search/#?query=170317&amp;querytype=emoleculesid\" target=\"_blank\">170317</A></TD>\n",
       "<TD ID=\"0083da70-870d-11eb-9a0c-00d861d0b82fR8C2\" ALIGN=\"right\"><IMG ID=\"I_0083da70-870d-11eb-9a0c-00d861d0b82fR8C2\" WIDTH=\"180\" HEIGHT=\"180\" SRC=\"data:image/svg+xml;base64,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\" BORDER=\"0\"></TD>\n",
       "<TD ID=\"0083da70-870d-11eb-9a0c-00d861d0b82fR9C1\" ALIGN=\"right\"><A HREF=\"https://www.emolecules.com/search/#?query=170395&amp;querytype=emoleculesid\" target=\"_blank\">170395</A></TD>\n",
       "<TD ID=\"0083da70-870d-11eb-9a0c-00d861d0b82fR9C2\" ALIGN=\"right\"><IMG ID=\"I_0083da70-870d-11eb-9a0c-00d861d0b82fR9C2\" WIDTH=\"180\" HEIGHT=\"180\" SRC=\"data:image/svg+xml;base64,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\" BORDER=\"0\"></TD>\n",
       "</TR>\n",
       "<TR ID=\"0083da70-870d-11eb-9a0c-00d861d0b82fR10\">\n",
       "<TD ID=\"0083da70-870d-11eb-9a0c-00d861d0b82fR10C1\" ALIGN=\"right\"><A HREF=\"https://www.emolecules.com/search/#?query=173923&amp;querytype=emoleculesid\" target=\"_blank\">173923</A></TD>\n",
       "<TD ID=\"0083da70-870d-11eb-9a0c-00d861d0b82fR10C2\" ALIGN=\"right\"><IMG ID=\"I_0083da70-870d-11eb-9a0c-00d861d0b82fR10C2\" WIDTH=\"180\" HEIGHT=\"180\" SRC=\"data:image/svg+xml;base64,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\" BORDER=\"0\"></TD>\n",
       "<TD>&nbsp;</TD><TD>&nbsp;</TD><TD>&nbsp;</TD><TD>&nbsp;</TD></TR>\n",
       "</TABLE>\n"
      ],
      "text/plain": [
       "<IPython.core.display.HTML object>"
      ]
     },
     "execution_count": 54,
     "metadata": {},
     "output_type": "execute_result"
    }
   ],
   "source": [
    "from IPython.core.display import HTML\n",
    "HTML(filename)"
   ]
  },
  {
   "cell_type": "markdown",
   "metadata": {},
   "source": [
    "Cleanup..."
   ]
  },
  {
   "cell_type": "code",
   "execution_count": 46,
   "metadata": {},
   "outputs": [
    {
     "data": {
      "text/plain": [
       "1"
      ]
     },
     "execution_count": 46,
     "metadata": {},
     "output_type": "execute_result"
    }
   ],
   "source": [
    "Molfile.Close('all')\n",
    "Table.Delete('all')\n",
    "Dbase.Close('all')"
   ]
  },
  {
   "cell_type": "code",
   "execution_count": null,
   "metadata": {},
   "outputs": [],
   "source": []
  }
 ],
 "metadata": {
  "kernelspec": {
   "display_name": "Python 3",
   "language": "python",
   "name": "python3"
  },
  "language_info": {
   "codemirror_mode": {
    "name": "ipython",
    "version": 3
   },
   "file_extension": ".py",
   "mimetype": "text/x-python",
   "name": "python",
   "nbconvert_exporter": "python",
   "pygments_lexer": "ipython3",
   "version": "3.8.3"
  }
 },
 "nbformat": 4,
 "nbformat_minor": 4
}
