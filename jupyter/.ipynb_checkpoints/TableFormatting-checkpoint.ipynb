{
 "cells": [
  {
   "cell_type": "markdown",
   "metadata": {},
   "source": [
    "## Cactvs Table Operations\n",
    "\n",
    "The Cactvs toolkit supports I/O of a large number of table file formats. All operate on a common chemistry-aware table object class, which provides a lot of data capture and manipulation functionality. This tutorial explains some operations on tables.\n",
    "\n",
    "One common task is to create a table from one or more structure files, and then write these in a format form human perusal.\n",
    "\n",
    "Creating a table from an SD file is simple:"
   ]
  },
  {
   "cell_type": "code",
   "execution_count": 1,
   "metadata": {},
   "outputs": [
    {
     "ename": "RuntimeError",
     "evalue": "Cannot open file or pipe '/users/wdi/CACTVS_CURRENT/DATA/jupyter/test.sdf' in mode 'read' (error code 'No such file or directory')",
     "output_type": "error",
     "traceback": [
      "\u001b[0;31m---------------------------------------------------------------------------\u001b[0m",
      "\u001b[0;31mRuntimeError\u001b[0m                              Traceback (most recent call last)",
      "\u001b[0;32m<ipython-input-1-e5c7981afc0b>\u001b[0m in \u001b[0;36m<module>\u001b[0;34m\u001b[0m\n\u001b[0;32m----> 1\u001b[0;31m \u001b[0mf\u001b[0m\u001b[0;34m=\u001b[0m\u001b[0mMolfile\u001b[0m\u001b[0;34m(\u001b[0m\u001b[0;34m'test.sdf'\u001b[0m\u001b[0;34m)\u001b[0m\u001b[0;34m\u001b[0m\u001b[0;34m\u001b[0m\u001b[0m\n\u001b[0m\u001b[1;32m      2\u001b[0m \u001b[0;31m# taked a look at the data fields in this file. For the sake of simplicity, we assume\u001b[0m\u001b[0;34m\u001b[0m\u001b[0;34m\u001b[0m\u001b[0;34m\u001b[0m\u001b[0m\n\u001b[1;32m      3\u001b[0m \u001b[0;31m# that all records in the file have the same data. This operation reads a test record,\u001b[0m\u001b[0;34m\u001b[0m\u001b[0;34m\u001b[0m\u001b[0;34m\u001b[0m\u001b[0m\n\u001b[1;32m      4\u001b[0m \u001b[0;31m# and auto-generates properties for the data fields. These can be referenced by either\u001b[0m\u001b[0;34m\u001b[0m\u001b[0;34m\u001b[0m\u001b[0;34m\u001b[0m\u001b[0m\n\u001b[1;32m      5\u001b[0m \u001b[0;31m# their proper CACTVS toolkit name, or by the original field name.\u001b[0m\u001b[0;34m\u001b[0m\u001b[0;34m\u001b[0m\u001b[0;34m\u001b[0m\u001b[0m\n",
      "\u001b[0;31mRuntimeError\u001b[0m: Cannot open file or pipe '/users/wdi/CACTVS_CURRENT/DATA/jupyter/test.sdf' in mode 'read' (error code 'No such file or directory')"
     ]
    }
   ],
   "source": [
    "f=Molfile('test.sdf')\n",
    "# taked a look at the data fields in this file. For the sake of simplicity, we assume\n",
    "# that all records in the file have the same data. This operation reads a test record,\n",
    "# and auto-generates properties for the data fields. These can be referenced by either\n",
    "# their proper CACTVS toolkit name, or by the original field name.\n",
    "f.peek()\n",
    "print(f.fields)"
   ]
  },
  {
   "cell_type": "code",
   "execution_count": null,
   "metadata": {},
   "outputs": [],
   "source": []
  }
 ],
 "metadata": {
  "kernelspec": {
   "display_name": "Python 3",
   "language": "python",
   "name": "python3"
  },
  "language_info": {
   "codemirror_mode": {
    "name": "ipython",
    "version": 3
   },
   "file_extension": ".py",
   "mimetype": "text/x-python",
   "name": "python",
   "nbconvert_exporter": "python",
   "pygments_lexer": "ipython3",
   "version": "3.8.3"
  }
 },
 "nbformat": 4,
 "nbformat_minor": 4
}
