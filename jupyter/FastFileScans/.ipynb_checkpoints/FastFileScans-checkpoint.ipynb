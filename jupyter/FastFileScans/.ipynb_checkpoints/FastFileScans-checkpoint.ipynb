{
 "cells": [
  {
   "cell_type": "markdown",
   "metadata": {},
   "source": [
    "Finding records in a structure data file, such as an SD file, is a common task in cheminformatics. Of course, this is also something which can be done with Cactvs. A very common format is an SD file, and since it is rather verbose, it compresses well, typically down to 10% of the original size. Cactvs can directly work with compressed files in various formats. For simple forward reading, the performance loss is small. Directly jumping to specific records is expensive in compressed files, though."
   ]
  },
  {
   "cell_type": "code",
   "execution_count": 35,
   "metadata": {},
   "outputs": [
    {
     "name": "stdout",
     "output_type": "stream",
     "text": [
      "Record count: 100000\n",
      "File fields: (E_*EMOL_VERSION_ID*, E_*EMOL_PARENT_ID*, E_*EMOL_LINK*)\n"
     ]
    }
   ],
   "source": [
    "# Open file for reading. Compression format and file format are autodected\n",
    "mf=Molfile('../CommonData/emolecules_sample_100000.sdf.gz')\n",
    "# Read a record and discard it. This is just done to get the SD fields\n",
    "# fields can of course change record by record in SDF,\n",
    "# but lets keep things simple\n",
    "mf.peek()\n",
    "# Get some file statistics\n",
    "print(f'Record count: {mf.count()}')\n",
    "print(f'File fields: {mf.fields}')"
   ]
  },
  {
   "cell_type": "markdown",
   "metadata": {},
   "source": [
    "The file fields are displayed as the names of their auto-generated toolkit properties. The asterisk in their name indicates that these\n",
    "properties are synthetic, and the E_ prefix tells us that it is a structure (ensemble) property. The original field names can be queried, though, and the property name and the field name can be used interchangeably in many programming contexts."
   ]
  },
  {
   "cell_type": "code",
   "execution_count": 36,
   "metadata": {},
   "outputs": [
    {
     "name": "stdout",
     "output_type": "stream",
     "text": [
      "EMOL_LINK\n",
      "EMOL_VERSION_ID\n"
     ]
    }
   ],
   "source": [
    "print(Prop.Get('E_*EMOL_LINK*','originalname'))\n",
    "print(Prop.Get('E_*EMOL_VERSION_ID*','originalname'))"
   ]
  },
  {
   "cell_type": "markdown",
   "metadata": {},
   "source": [
    "By the way. the file is still at the first record. Neither the peek operation, nor the count did change the read position. Lets read the first record:"
   ]
  },
  {
   "cell_type": "code",
   "execution_count": 37,
   "metadata": {},
   "outputs": [
    {
     "name": "stdout",
     "output_type": "stream",
     "text": [
      "1\n",
      "https://www.emolecules.com/search/#?query=9986&querytype=emoleculesid\n",
      "https://www.emolecules.com/search/#?query=9986&querytype=emoleculesid\n",
      "https://www.emolecules.com/search/#?query=9986&querytype=emoleculesid\n"
     ]
    }
   ],
   "source": [
    "print(mf.record)\n",
    "e=mf.read()\n",
    "print(e.get('E_*EMOL_LINK*'))\n",
    "print(e.EMOL_LINK)\n",
    "p=Prop.Ref('E_*EMOL_LINK*')\n",
    "print(e.get(p))\n",
    "# The most convenient way to access object properties is as o.propertyname,\n",
    "# but that does not work here with the actual property because the asterisk \n",
    "# in its name interferes with the Python language syntax. \n",
    "# But the field name happens to be compatible."
   ]
  },
  {
   "cell_type": "markdown",
   "metadata": {},
   "source": [
    "How does the structure look like? We can easily generate an SVG image with some custom parameters and display it here. The image is stored in the temp  directory. It remains associated with the structure as a property and is automatically removed when the structure is deleted."
   ]
  },
  {
   "cell_type": "code",
   "execution_count": 38,
   "metadata": {},
   "outputs": [
    {
     "data": {
      "image/svg+xml": [
       "<svg xmlns=\"http://www.w3.org/2000/svg\" xmlns:xlink=\"http://www.w3.org/1999/xlink\" width=\"180\" height=\"180\" version=\"1.1\" zoomAndPan=\"magnify\" preserveAspectRatio=\"xMidYMid\" contentScriptType=\"application/ecmascript\" id=\"73e0b898-8105-11eb-bbce-00d861d0b82f\">\n",
       "<g>\n",
       "\t<!-- C35H60O2 -->\n",
       "\t<text x=\"62.2273\" y=\"102.163\" fill=\"#000000\" font-family=\"Helvetica\" font-size=\"3.95298pt\" text-anchor=\"middle\" font-weight=\"bold\">O</text>\n",
       "\t<text x=\"70.6888\" y=\"116.818\" fill=\"#000000\" font-family=\"Helvetica\" font-size=\"3.95298pt\" text-anchor=\"middle\" font-weight=\"bold\">O</text>\n",
       "\t<line x1=\"62.2273\" y1=\"110.883\" x2=\"53.7669\" y2=\"115.768\" stroke=\"#000000\" stroke-width=\"0.804271\" stroke-linecap=\"round\"/>\n",
       "\t<line x1=\"62.7692\" y1=\"110.883\" x2=\"62.7692\" y2=\"103.28\" stroke=\"#000000\" stroke-width=\"0.804271\" stroke-linecap=\"round\"/>\n",
       "\t<line x1=\"61.6854\" y1=\"110.883\" x2=\"61.6854\" y2=\"103.28\" stroke=\"#000000\" stroke-width=\"0.804271\" stroke-linecap=\"round\"/>\n",
       "\t<line x1=\"62.2273\" y1=\"110.883\" x2=\"67.7539\" y2=\"114.074\" stroke=\"#000000\" stroke-width=\"0.804271\" stroke-linecap=\"round\"/>\n",
       "\t<line x1=\"53.7669\" y1=\"115.768\" x2=\"45.3054\" y2=\"110.883\" stroke=\"#000000\" stroke-width=\"0.804271\" stroke-linecap=\"round\"/>\n",
       "\t<line x1=\"45.3054\" y1=\"110.883\" x2=\"36.8438\" y2=\"115.768\" stroke=\"#000000\" stroke-width=\"0.804271\" stroke-linecap=\"round\"/>\n",
       "\t<line x1=\"36.8438\" y1=\"115.768\" x2=\"28.3835\" y2=\"110.883\" stroke=\"#000000\" stroke-width=\"0.804271\" stroke-linecap=\"round\"/>\n",
       "\t<line x1=\"28.3835\" y1=\"110.883\" x2=\"19.9219\" y2=\"115.768\" stroke=\"#000000\" stroke-width=\"0.804271\" stroke-linecap=\"round\"/>\n",
       "\t<line x1=\"19.9219\" y1=\"115.768\" x2=\"11.4604\" y2=\"110.883\" stroke=\"#000000\" stroke-width=\"0.804271\" stroke-linecap=\"round\"/>\n",
       "\t<line x1=\"11.4604\" y1=\"110.883\" x2=\"3\" y2=\"115.768\" stroke=\"#000000\" stroke-width=\"0.804271\" stroke-linecap=\"round\"/>\n",
       "\t<line x1=\"73.6238\" y1=\"114.074\" x2=\"79.1504\" y2=\"110.883\" stroke=\"#000000\" stroke-width=\"0.804271\" stroke-linecap=\"round\"/>\n",
       "\t<line x1=\"79.1504\" y1=\"110.883\" x2=\"87.6119\" y2=\"115.768\" stroke=\"#000000\" stroke-width=\"0.804271\" stroke-linecap=\"round\"/>\n",
       "\t<line x1=\"79.1504\" y1=\"110.883\" x2=\"79.1504\" y2=\"101.113\" stroke=\"#000000\" stroke-width=\"0.804271\" stroke-linecap=\"round\"/>\n",
       "\t<line x1=\"87.6119\" y1=\"115.768\" x2=\"96.0723\" y2=\"110.883\" stroke=\"#000000\" stroke-width=\"0.804271\" stroke-linecap=\"round\"/>\n",
       "\t<line x1=\"96.0723\" y1=\"110.883\" x2=\"96.0723\" y2=\"101.113\" stroke=\"#000000\" stroke-width=\"0.804271\" stroke-linecap=\"round\"/>\n",
       "\t<line x1=\"79.1504\" y1=\"101.113\" x2=\"87.6119\" y2=\"96.228\" stroke=\"#000000\" stroke-width=\"0.804271\" stroke-linecap=\"round\"/>\n",
       "\t<line x1=\"87.6119\" y1=\"96.228\" x2=\"87.6119\" y2=\"86.4579\" stroke=\"#000000\" stroke-width=\"0.804271\" stroke-linecap=\"round\"/>\n",
       "\t<line x1=\"88.6958\" y1=\"94.7625\" x2=\"88.6958\" y2=\"87.9234\" stroke=\"#000000\" stroke-width=\"0.804271\" stroke-linecap=\"round\"/>\n",
       "\t<line x1=\"87.6119\" y1=\"96.228\" x2=\"96.0723\" y2=\"101.113\" stroke=\"#000000\" stroke-width=\"0.804271\" stroke-linecap=\"round\"/>\n",
       "\t<line x1=\"87.6119\" y1=\"86.4579\" x2=\"96.0723\" y2=\"81.5728\" stroke=\"#000000\" stroke-width=\"0.804271\" stroke-linecap=\"round\"/>\n",
       "\t<line x1=\"96.0723\" y1=\"81.5728\" x2=\"104.534\" y2=\"86.4579\" stroke=\"#000000\" stroke-width=\"0.804271\" stroke-linecap=\"round\"/>\n",
       "\t<line x1=\"104.534\" y1=\"86.4579\" x2=\"112.995\" y2=\"81.5728\" stroke=\"#000000\" stroke-width=\"0.804271\" stroke-linecap=\"round\"/>\n",
       "\t<line x1=\"104.534\" y1=\"86.4579\" x2=\"104.534\" y2=\"96.228\" stroke=\"#000000\" stroke-width=\"0.804271\" stroke-linecap=\"round\"/>\n",
       "\t<line x1=\"112.995\" y1=\"81.5728\" x2=\"115.026\" y2=\"72.0158\" stroke=\"#000000\" stroke-width=\"0.804271\" stroke-linecap=\"round\"/>\n",
       "\t<line x1=\"112.995\" y1=\"81.5728\" x2=\"121.456\" y2=\"86.4579\" stroke=\"#000000\" stroke-width=\"0.804271\" stroke-linecap=\"round\"/>\n",
       "\t<line x1=\"115.026\" y1=\"72.0158\" x2=\"124.743\" y2=\"70.995\" stroke=\"#000000\" stroke-width=\"0.804271\" stroke-linecap=\"round\"/>\n",
       "\t<line x1=\"124.743\" y1=\"70.995\" x2=\"128.716\" y2=\"79.9196\" stroke=\"#000000\" stroke-width=\"0.804271\" stroke-linecap=\"round\"/>\n",
       "\t<line x1=\"128.716\" y1=\"79.9196\" x2=\"138.273\" y2=\"81.9518\" stroke=\"#000000\" stroke-width=\"0.804271\" stroke-linecap=\"round\"/>\n",
       "\t<polygon fill=\"#000000\" stroke=\"none\" points=\" 128.716,79.9196 128.034,80.7844 127.785,80.5077 \"/>\n",
       "\t<polygon fill=\"#000000\" stroke=\"none\" points=\" 127.352,81.6492 126.67,82.514 125.922,81.684 126.854,81.0958 \"/>\n",
       "\t<polygon fill=\"#000000\" stroke=\"none\" points=\" 125.988,83.3789 125.306,84.2437 124.06,82.8602 124.991,82.2721 \"/>\n",
       "\t<polygon fill=\"#000000\" stroke=\"none\" points=\" 124.623,85.1085 123.941,85.9733 122.197,84.0365 123.129,83.4484 \"/>\n",
       "\t<polygon fill=\"#000000\" stroke=\"none\" points=\" 123.259,86.8382 122.577,87.703 120.335,85.2128 121.266,84.6246 \"/>\n",
       "\t<line x1=\"138.273\" y1=\"81.9518\" x2=\"144.811\" y2=\"74.691\" stroke=\"#000000\" stroke-width=\"0.804271\" stroke-linecap=\"round\"/>\n",
       "\t<polygon fill=\"#000000\" stroke=\"none\" points=\" 138.273,81.9518 142.886,90.7258 139.699,91.7612 \"/>\n",
       "\t<line x1=\"144.811\" y1=\"74.691\" x2=\"154.368\" y2=\"76.7221\" stroke=\"#000000\" stroke-width=\"0.804271\" stroke-linecap=\"round\"/>\n",
       "\t<line x1=\"154.368\" y1=\"76.7221\" x2=\"160.905\" y2=\"69.4613\" stroke=\"#000000\" stroke-width=\"0.804271\" stroke-linecap=\"round\"/>\n",
       "\t<line x1=\"160.905\" y1=\"69.4613\" x2=\"170.462\" y2=\"71.4924\" stroke=\"#000000\" stroke-width=\"0.804271\" stroke-linecap=\"round\"/>\n",
       "\t<line x1=\"170.462\" y1=\"71.4924\" x2=\"177\" y2=\"64.2317\" stroke=\"#000000\" stroke-width=\"0.804271\" stroke-linecap=\"round\"/>\n",
       "\t<line x1=\"170.462\" y1=\"71.4924\" x2=\"173.482\" y2=\"80.7853\" stroke=\"#000000\" stroke-width=\"0.804271\" stroke-linecap=\"round\"/>\n",
       "\t<polygon fill=\"#000000\" stroke=\"none\" points=\" 121.456,86.4579 122.523,86.7293 122.372,87.0694 \"/>\n",
       "\t<polygon fill=\"#000000\" stroke=\"none\" points=\" 123.591,87.0006 124.658,87.272 124.204,88.2925 123.288,87.681 \"/>\n",
       "\t<polygon fill=\"#000000\" stroke=\"none\" points=\" 125.726,87.5434 126.793,87.8148 126.036,89.5156 125.12,88.9041 \"/>\n",
       "\t<polygon fill=\"#000000\" stroke=\"none\" points=\" 127.861,88.0862 128.928,88.3576 127.868,90.7387 126.952,90.1272 \"/>\n",
       "\t<polygon fill=\"#000000\" stroke=\"none\" points=\" 129.995,88.6289 131.063,88.9003 129.7,91.9618 128.784,91.3503 \"/>\n",
       "\t<line x1=\"121.456\" y1=\"86.4579\" x2=\"121.456\" y2=\"96.228\" stroke=\"#000000\" stroke-width=\"0.804271\" stroke-linecap=\"round\"/>\n",
       "\t<line x1=\"121.456\" y1=\"96.228\" x2=\"112.995\" y2=\"101.113\" stroke=\"#000000\" stroke-width=\"0.804271\" stroke-linecap=\"round\"/>\n",
       "\t<line x1=\"112.995\" y1=\"101.113\" x2=\"104.534\" y2=\"96.228\" stroke=\"#000000\" stroke-width=\"0.804271\" stroke-linecap=\"round\"/>\n",
       "\t<line x1=\"104.534\" y1=\"96.228\" x2=\"96.0723\" y2=\"101.113\" stroke=\"#000000\" stroke-width=\"0.804271\" stroke-linecap=\"round\"/>\n",
       "\t<polygon fill=\"#000000\" stroke=\"none\" points=\" 96.0723,101.113 97.1056,101.495 96.9194,101.817 \"/>\n",
       "\t<polygon fill=\"#000000\" stroke=\"none\" points=\" 98.1388,101.876 99.1721,102.258 98.6136,103.225 97.7665,102.521 \"/>\n",
       "\t<polygon fill=\"#000000\" stroke=\"none\" points=\" 100.205,102.639 101.239,103.021 100.308,104.633 99.4607,103.929 \"/>\n",
       "\t<polygon fill=\"#000000\" stroke=\"none\" points=\" 102.272,103.402 103.305,103.784 102.002,106.041 101.155,105.337 \"/>\n",
       "\t<polygon fill=\"#000000\" stroke=\"none\" points=\" 104.338,104.166 105.372,104.547 103.696,107.449 102.849,106.745 \"/>\n",
       "</g>\n",
       "</svg>"
      ],
      "text/plain": [
       "<IPython.core.display.SVG object>"
      ]
     },
     "execution_count": 38,
     "metadata": {},
     "output_type": "execute_result"
    }
   ],
   "source": [
    "from IPython.display import SVG\n",
    "imgfile=e.get('E_SVG_IMAGE',parameters={'frame':False,'symbolfontsize':8})\n",
    "SVG(filename=imgfile)"
   ]
  },
  {
   "cell_type": "markdown",
   "metadata": {},
   "source": [
    "The preferred method of object deletion in the toolkit is by invoking\n",
    "the explicit object deletion methods. The Python _del_ operator, and automatic \n",
    "object scope management, only remove the Python wrapper object \n",
    "in standard mode. This is the safe approach, because the structure or other object may still be referenced by other control structures outside the Python language."
   ]
  },
  {
   "cell_type": "code",
   "execution_count": 39,
   "metadata": {},
   "outputs": [
    {
     "data": {
      "text/plain": [
       "1"
      ]
     },
     "execution_count": 39,
     "metadata": {},
     "output_type": "execute_result"
    }
   ],
   "source": [
    "e.delete()"
   ]
  },
  {
   "cell_type": "markdown",
   "metadata": {},
   "source": [
    "Now lets try to find specific structures in the file, for example molecules which have a certain substructure."
   ]
  },
  {
   "cell_type": "code",
   "execution_count": 40,
   "metadata": {},
   "outputs": [
    {
     "name": "stdout",
     "output_type": "stream",
     "text": [
      "[356, 15106, 15248, 15251, 15276, 15742, 15743, 16783, 16805, 17340]\n",
      "runtime 18.3 secs\n"
     ]
    }
   ],
   "source": [
    "import time\n",
    "# Make sure we are at the first record\n",
    "mf.rewind()\n",
    "# Scan the file for a substructure. The scan expression syntax \n",
    "# is expressive but does not use native Python\n",
    "# style (it is based on the alternative scripting language Tcl).\n",
    "# Please refer to the manual\n",
    "tstart=time.time()\n",
    "# The exclamation mark after the SMARTS indicates that we want\n",
    "# to use strict SMARTS, including the enforcement of aliphaticity of \n",
    "# the uppercase C atoms\n",
    "reclist = mf.scan('structure >= \"c(C)1nccnc1C!\"',mode='recordlist',parameters={'maxhits':10})\n",
    "print(reclist)\n",
    "tstop=time.time()\n",
    "print('runtime %.1f secs' % (tstop-tstart))\n",
    "# Note: this will run 20 secs or so before you see the result"
   ]
  },
  {
   "cell_type": "markdown",
   "metadata": {},
   "source": [
    "There are also built-in query stats in the structure file object:"
   ]
  },
  {
   "cell_type": "code",
   "execution_count": 41,
   "metadata": {},
   "outputs": [
    {
     "name": "stdout",
     "output_type": "stream",
     "text": [
      "{'start_time': datetime.datetime(2021, 3, 9, 19, 30, 4), 'stop_time': datetime.datetime(2021, 3, 9, 19, 30, 22), 'scan_time': 18, 'ens_read': 17340, 'miniens_read': 0, 'reactions_read': 0, 'properties_read': 0, 'ens_screened': 0, 'reactions_screened': 0, 'records_examined': 17340, 'records_matched': 10, 'start_record': 1, 'end_record': 17341, 'eof_reached': False, 'max_mmap_used': 0, 'max_mmap_requested': 0, 'records_skipped': 0, 'records_repositioned': 0, 'scores_computed': 0}\n"
     ]
    }
   ],
   "source": [
    "print(mf.scanstats)"
   ]
  },
  {
   "cell_type": "markdown",
   "metadata": {},
   "source": [
    "From the stats we learn that we did not reach the end of the file (we only visited about 10% of the records), and that all examined records were fully read (more about this later).\n",
    "\n",
    "Lets get the hit records and verify that they all contain the substructure. We re-use the scan method with the record list to visit only the matched records, with a match condition which always returns true, and a match mode which returns the structures as objects directly into a dataset.\n",
    "\n",
    "Yes, we could have use the _enslist_ scan mode directly in the initial query. But this is a tutorial."
   ]
  },
  {
   "cell_type": "code",
   "execution_count": 42,
   "metadata": {
    "scrolled": true
   },
   "outputs": [
    {
     "name": "stdout",
     "output_type": "stream",
     "text": [
      "[ens9, ens8, ens7, ens6, ens5, ens4, ens3, ens2, ens1, ens0]\n"
     ]
    }
   ],
   "source": [
    "mf.rewind()\n",
    "d=Dataset()\n",
    "mf.scan('true',mode='enslist',parameters={\"target\":d,\"order\":reclist})\n",
    "print(d.ens())"
   ]
  },
  {
   "cell_type": "code",
   "execution_count": 43,
   "metadata": {
    "scrolled": true
   },
   "outputs": [
    {
     "data": {
      "image/svg+xml": [
       "<svg xmlns=\"http://www.w3.org/2000/svg\" xmlns:xlink=\"http://www.w3.org/1999/xlink\" width=\"766\" height=\"307\" version=\"1.1\" zoomAndPan=\"magnify\" preserveAspectRatio=\"xMidYMid\" contentScriptType=\"application/ecmascript\" id=\"87c39d30-8105-11eb-8d75-00d861d0b82f\">\n",
       "<g>\n",
       "\t<rect x=\"0\" y=\"0\" width=\"767\" height=\"308\" stroke=\"none\" fill=\"#FFFFFF\"/>\n",
       "\t<line x1=\"0\" y1=\"0\" x2=\"765\" y2=\"0\" stroke=\"#000000\" stroke-width=\"1\"/>\n",
       "\t<line x1=\"0\" y1=\"153\" x2=\"765\" y2=\"153\" stroke=\"#000000\" stroke-width=\"1\"/>\n",
       "\t<line x1=\"0\" y1=\"306\" x2=\"765\" y2=\"306\" stroke=\"#000000\" stroke-width=\"1\"/>\n",
       "\t<line x1=\"0\" y1=\"0\" x2=\"0\" y2=\"306\" stroke=\"#000000\" stroke-width=\"1\"/>\n",
       "\t<line x1=\"153\" y1=\"0\" x2=\"153\" y2=\"306\" stroke=\"#000000\" stroke-width=\"1\"/>\n",
       "\t<line x1=\"306\" y1=\"0\" x2=\"306\" y2=\"306\" stroke=\"#000000\" stroke-width=\"1\"/>\n",
       "\t<line x1=\"459\" y1=\"0\" x2=\"459\" y2=\"306\" stroke=\"#000000\" stroke-width=\"1\"/>\n",
       "\t<line x1=\"612\" y1=\"0\" x2=\"612\" y2=\"306\" stroke=\"#000000\" stroke-width=\"1\"/>\n",
       "\t<line x1=\"765\" y1=\"0\" x2=\"765\" y2=\"306\" stroke=\"#000000\" stroke-width=\"1\"/>\n",
       "\t<svg xmlns=\"http://www.w3.org/2000/svg\" xmlns:xlink=\"http://www.w3.org/1999/xlink\" x=\"2\" y=\"2\" width=\"150\" height=\"150\" version=\"1.1\" zoomAndPan=\"magnify\" preserveAspectRatio=\"xMidYMid\" contentScriptType=\"application/ecmascript\" id=\"87c656b0-8105-11eb-b6b7-00d861d0b82f\">\n",
       "<g>\n",
       "\t<!-- C7H6N2O4 -->\n",
       "\t<text x=\"51.9487\" y=\"68.28\" fill=\"#FF0000\" font-family=\"Helvetica\" font-size=\"6.6pt\" text-anchor=\"middle\" font-weight=\"bold\">N</text>\n",
       "\t<text x=\"79.2293\" y=\"84.0299\" fill=\"#FF0000\" font-family=\"Helvetica\" font-size=\"6.6pt\" text-anchor=\"middle\" font-weight=\"bold\">N</text>\n",
       "\t<text x=\"51.9487\" y=\"36.7804\" fill=\"#000000\" font-family=\"Helvetica\" font-size=\"6.6pt\" text-anchor=\"middle\" font-weight=\"bold\">O</text>\n",
       "\t<text x=\"82.4547\" y=\"36.7804\" fill=\"#000000\" font-family=\"Helvetica\" font-size=\"6.6pt\" text-anchor=\"middle\" font-weight=\"bold\">OH</text>\n",
       "\t<text x=\"106.508\" y=\"68.28\" fill=\"#000000\" font-family=\"Helvetica\" font-size=\"6.6pt\" text-anchor=\"middle\" font-weight=\"bold\">O</text>\n",
       "\t<text x=\"96.0931\" y=\"44.6553\" fill=\"#000000\" font-family=\"Helvetica\" font-size=\"6.6pt\" text-anchor=\"middle\" font-weight=\"bold\">OH</text>\n",
       "\t<line x1=\"65.589\" y1=\"58.3051\" x2=\"79.2293\" y2=\"66.18\" stroke=\"#FF0000\" stroke-width=\"1.2\" stroke-linecap=\"round\"/>\n",
       "\t<line x1=\"65.8351\" y1=\"62.6041\" x2=\"75.3833\" y2=\"68.1165\" stroke=\"#FF0000\" stroke-width=\"1.2\" stroke-linecap=\"round\"/>\n",
       "\t<line x1=\"65.589\" y1=\"58.3051\" x2=\"56.1741\" y2=\"63.7406\" stroke=\"#FF0000\" stroke-width=\"1.2\" stroke-linecap=\"round\"/>\n",
       "\t<line x1=\"65.589\" y1=\"58.3051\" x2=\"65.589\" y2=\"42.5553\" stroke=\"#FF0000\" stroke-width=\"1.2\" stroke-linecap=\"round\"/>\n",
       "\t<line x1=\"79.2293\" y1=\"66.18\" x2=\"79.2293\" y2=\"76.4299\" stroke=\"#FF0000\" stroke-width=\"1.2\" stroke-linecap=\"round\"/>\n",
       "\t<line x1=\"79.2293\" y1=\"66.18\" x2=\"92.8677\" y2=\"58.3051\" stroke=\"#FF0000\" stroke-width=\"1.2\" stroke-linecap=\"round\"/>\n",
       "\t<line x1=\"51.9487\" y1=\"70.0134\" x2=\"51.9487\" y2=\"81.9299\" stroke=\"#FF0000\" stroke-width=\"1.2\" stroke-linecap=\"round\"/>\n",
       "\t<line x1=\"55.5487\" y1=\"70.0134\" x2=\"55.5487\" y2=\"79.5674\" stroke=\"#FF0000\" stroke-width=\"1.2\" stroke-linecap=\"round\"/>\n",
       "\t<line x1=\"75.0039\" y1=\"84.3693\" x2=\"65.589\" y2=\"89.8048\" stroke=\"#FF0000\" stroke-width=\"1.2\" stroke-linecap=\"round\"/>\n",
       "\t<line x1=\"75.0039\" y1=\"80.2124\" x2=\"65.8351\" y2=\"85.5058\" stroke=\"#FF0000\" stroke-width=\"1.2\" stroke-linecap=\"round\"/>\n",
       "\t<line x1=\"65.589\" y1=\"89.8048\" x2=\"51.9487\" y2=\"81.9299\" stroke=\"#FF0000\" stroke-width=\"1.2\" stroke-linecap=\"round\"/>\n",
       "\t<line x1=\"65.589\" y1=\"89.8048\" x2=\"65.589\" y2=\"105.555\" stroke=\"#000000\" stroke-width=\"1.2\" stroke-linecap=\"round\"/>\n",
       "\t<line x1=\"66.489\" y1=\"40.9964\" x2=\"56.1736\" y2=\"35.0411\" stroke=\"#000000\" stroke-width=\"1.2\" stroke-linecap=\"round\"/>\n",
       "\t<line x1=\"64.689\" y1=\"44.1142\" x2=\"54.9884\" y2=\"38.5137\" stroke=\"#000000\" stroke-width=\"1.2\" stroke-linecap=\"round\"/>\n",
       "\t<line x1=\"65.589\" y1=\"42.5553\" x2=\"75.0044\" y2=\"37.1195\" stroke=\"#000000\" stroke-width=\"1.2\" stroke-linecap=\"round\"/>\n",
       "\t<line x1=\"91.9677\" y1=\"59.864\" x2=\"102.283\" y2=\"65.8193\" stroke=\"#000000\" stroke-width=\"1.2\" stroke-linecap=\"round\"/>\n",
       "\t<line x1=\"93.7677\" y1=\"56.7463\" x2=\"102.283\" y2=\"61.6624\" stroke=\"#000000\" stroke-width=\"1.2\" stroke-linecap=\"round\"/>\n",
       "\t<line x1=\"92.8677\" y1=\"58.3051\" x2=\"92.8677\" y2=\"46.3886\" stroke=\"#000000\" stroke-width=\"1.2\" stroke-linecap=\"round\"/>\n",
       "\t<rect x=\"64.589\" y=\"57.3051\" width=\"3\" height=\"3\" stroke=\"none\" fill=\"#FF0000\"/>\n",
       "\t<rect x=\"78.2293\" y=\"65.18\" width=\"3\" height=\"3\" stroke=\"none\" fill=\"#FF0000\"/>\n",
       "\t<rect x=\"64.589\" y=\"88.8048\" width=\"3\" height=\"3\" stroke=\"none\" fill=\"#FF0000\"/>\n",
       "\t<rect x=\"50.9487\" y=\"80.9299\" width=\"3\" height=\"3\" stroke=\"none\" fill=\"#FF0000\"/>\n",
       "\t<rect x=\"64.589\" y=\"41.5553\" width=\"3\" height=\"3\" stroke=\"none\" fill=\"#FF0000\"/>\n",
       "\t<rect x=\"91.8677\" y=\"57.3051\" width=\"3\" height=\"3\" stroke=\"none\" fill=\"#FF0000\"/>\n",
       "</g>\n",
       "</svg>\n",
       "\t<svg xmlns=\"http://www.w3.org/2000/svg\" xmlns:xlink=\"http://www.w3.org/1999/xlink\" x=\"155\" y=\"2\" width=\"150\" height=\"150\" version=\"1.1\" zoomAndPan=\"magnify\" preserveAspectRatio=\"xMidYMid\" contentScriptType=\"application/ecmascript\" id=\"881d1e5a-8105-11eb-afe3-00d861d0b82f\">\n",
       "<g>\n",
       "\t<!-- C27H25FN4O -->\n",
       "\t<text x=\"46.3216\" y=\"78.5511\" fill=\"#000000\" font-family=\"Helvetica\" font-size=\"3.66837pt\" text-anchor=\"middle\" font-weight=\"bold\">N</text>\n",
       "\t<text x=\"80.9786\" y=\"78.5511\" fill=\"#000000\" font-family=\"Helvetica\" font-size=\"3.66837pt\" text-anchor=\"middle\" font-weight=\"bold\">N</text>\n",
       "\t<text x=\"89.6419\" y=\"63.5443\" fill=\"#000000\" font-family=\"Helvetica\" font-size=\"3.66837pt\" text-anchor=\"middle\" font-weight=\"bold\">O</text>\n",
       "\t<text x=\"3\" y=\"93.558\" fill=\"#000000\" font-family=\"Helvetica\" font-size=\"3.66837pt\" text-anchor=\"middle\" font-weight=\"bold\">F</text>\n",
       "\t<text x=\"124.299\" y=\"73.5489\" fill=\"#FF0000\" font-family=\"Helvetica\" font-size=\"3.66837pt\" text-anchor=\"middle\" font-weight=\"bold\">N</text>\n",
       "\t<text x=\"124.299\" y=\"93.558\" fill=\"#FF0000\" font-family=\"Helvetica\" font-size=\"3.66837pt\" text-anchor=\"middle\" font-weight=\"bold\">N</text>\n",
       "\t<line x1=\"54.9861\" y1=\"62.4943\" x2=\"54.9861\" y2=\"72.4989\" stroke=\"#000000\" stroke-width=\"0.894635\" stroke-linecap=\"round\"/>\n",
       "\t<line x1=\"53.4944\" y1=\"63.995\" x2=\"53.4944\" y2=\"70.9982\" stroke=\"#000000\" stroke-width=\"0.894635\" stroke-linecap=\"round\"/>\n",
       "\t<line x1=\"54.9861\" y1=\"72.4989\" x2=\"49.2568\" y2=\"75.8066\" stroke=\"#000000\" stroke-width=\"0.894635\" stroke-linecap=\"round\"/>\n",
       "\t<line x1=\"54.9861\" y1=\"72.4989\" x2=\"63.6495\" y2=\"77.5011\" stroke=\"#000000\" stroke-width=\"0.894635\" stroke-linecap=\"round\"/>\n",
       "\t<line x1=\"43.3863\" y1=\"75.8066\" x2=\"37.657\" y2=\"72.4989\" stroke=\"#000000\" stroke-width=\"0.894635\" stroke-linecap=\"round\"/>\n",
       "\t<line x1=\"44.1088\" y1=\"74.5011\" x2=\"39.7026\" y2=\"71.9573\" stroke=\"#000000\" stroke-width=\"0.894635\" stroke-linecap=\"round\"/>\n",
       "\t<line x1=\"37.657\" y1=\"72.4989\" x2=\"37.657\" y2=\"62.4943\" stroke=\"#000000\" stroke-width=\"0.894635\" stroke-linecap=\"round\"/>\n",
       "\t<line x1=\"37.657\" y1=\"72.4989\" x2=\"28.9937\" y2=\"77.5011\" stroke=\"#000000\" stroke-width=\"0.894635\" stroke-linecap=\"round\"/>\n",
       "\t<line x1=\"37.657\" y1=\"62.4943\" x2=\"46.3216\" y2=\"57.492\" stroke=\"#000000\" stroke-width=\"0.894635\" stroke-linecap=\"round\"/>\n",
       "\t<line x1=\"39.7026\" y1=\"63.0359\" x2=\"45.7677\" y2=\"59.5343\" stroke=\"#000000\" stroke-width=\"0.894635\" stroke-linecap=\"round\"/>\n",
       "\t<line x1=\"54.9861\" y1=\"62.4943\" x2=\"46.3216\" y2=\"57.492\" stroke=\"#000000\" stroke-width=\"0.894635\" stroke-linecap=\"round\"/>\n",
       "\t<line x1=\"63.6495\" y1=\"77.5011\" x2=\"72.314\" y2=\"72.4989\" stroke=\"#000000\" stroke-width=\"0.894635\" stroke-linecap=\"round\"/>\n",
       "\t<line x1=\"63.6495\" y1=\"77.5011\" x2=\"63.6495\" y2=\"87.5057\" stroke=\"#000000\" stroke-width=\"0.894635\" stroke-linecap=\"round\"/>\n",
       "\t<line x1=\"28.9937\" y1=\"77.5011\" x2=\"28.9937\" y2=\"87.5057\" stroke=\"#000000\" stroke-width=\"0.894635\" stroke-linecap=\"round\"/>\n",
       "\t<line x1=\"27.5019\" y1=\"79.0018\" x2=\"27.5019\" y2=\"86.005\" stroke=\"#000000\" stroke-width=\"0.894635\" stroke-linecap=\"round\"/>\n",
       "\t<line x1=\"72.314\" y1=\"72.4989\" x2=\"78.0434\" y2=\"75.8066\" stroke=\"#000000\" stroke-width=\"0.894635\" stroke-linecap=\"round\"/>\n",
       "\t<line x1=\"83.9138\" y1=\"75.8063\" x2=\"89.6419\" y2=\"72.4989\" stroke=\"#000000\" stroke-width=\"0.894635\" stroke-linecap=\"round\"/>\n",
       "\t<line x1=\"80.9786\" y1=\"79.6678\" x2=\"80.9786\" y2=\"87.5057\" stroke=\"#000000\" stroke-width=\"0.894635\" stroke-linecap=\"round\"/>\n",
       "\t<line x1=\"80.9786\" y1=\"87.5057\" x2=\"72.314\" y2=\"92.508\" stroke=\"#000000\" stroke-width=\"0.894635\" stroke-linecap=\"round\"/>\n",
       "\t<line x1=\"72.314\" y1=\"92.508\" x2=\"63.6495\" y2=\"87.5057\" stroke=\"#000000\" stroke-width=\"0.894635\" stroke-linecap=\"round\"/>\n",
       "\t<line x1=\"90.3878\" y1=\"72.4989\" x2=\"90.3878\" y2=\"64.661\" stroke=\"#000000\" stroke-width=\"0.894635\" stroke-linecap=\"round\"/>\n",
       "\t<line x1=\"88.8961\" y1=\"72.4989\" x2=\"88.8961\" y2=\"64.661\" stroke=\"#000000\" stroke-width=\"0.894635\" stroke-linecap=\"round\"/>\n",
       "\t<line x1=\"89.6419\" y1=\"72.4989\" x2=\"98.3065\" y2=\"77.5011\" stroke=\"#000000\" stroke-width=\"0.894635\" stroke-linecap=\"round\"/>\n",
       "\t<line x1=\"98.3065\" y1=\"77.5011\" x2=\"106.971\" y2=\"72.4989\" stroke=\"#000000\" stroke-width=\"0.894635\" stroke-linecap=\"round\"/>\n",
       "\t<line x1=\"106.971\" y1=\"72.4989\" x2=\"115.636\" y2=\"77.5011\" stroke=\"#FF0000\" stroke-width=\"0.894635\" stroke-linecap=\"round\"/>\n",
       "\t<line x1=\"107.525\" y1=\"74.5411\" x2=\"113.59\" y2=\"78.0427\" stroke=\"#FF0000\" stroke-width=\"0.894635\" stroke-linecap=\"round\"/>\n",
       "\t<line x1=\"106.971\" y1=\"92.508\" x2=\"98.3065\" y2=\"87.5057\" stroke=\"#000000\" stroke-width=\"0.894635\" stroke-linecap=\"round\"/>\n",
       "\t<line x1=\"98.3065\" y1=\"77.5011\" x2=\"98.3065\" y2=\"87.5057\" stroke=\"#000000\" stroke-width=\"0.894635\" stroke-linecap=\"round\"/>\n",
       "\t<line x1=\"99.7983\" y1=\"79.0018\" x2=\"99.7983\" y2=\"86.005\" stroke=\"#000000\" stroke-width=\"0.894635\" stroke-linecap=\"round\"/>\n",
       "\t<line x1=\"28.9937\" y1=\"87.5057\" x2=\"20.3291\" y2=\"92.508\" stroke=\"#000000\" stroke-width=\"0.894635\" stroke-linecap=\"round\"/>\n",
       "\t<line x1=\"20.3291\" y1=\"92.508\" x2=\"11.6646\" y2=\"87.5057\" stroke=\"#000000\" stroke-width=\"0.894635\" stroke-linecap=\"round\"/>\n",
       "\t<line x1=\"19.7753\" y1=\"90.4657\" x2=\"13.7101\" y2=\"86.9641\" stroke=\"#000000\" stroke-width=\"0.894635\" stroke-linecap=\"round\"/>\n",
       "\t<line x1=\"11.6646\" y1=\"87.5057\" x2=\"11.6646\" y2=\"77.5011\" stroke=\"#000000\" stroke-width=\"0.894635\" stroke-linecap=\"round\"/>\n",
       "\t<line x1=\"11.6646\" y1=\"87.5057\" x2=\"5.51206\" y2=\"91.0577\" stroke=\"#000000\" stroke-width=\"0.894635\" stroke-linecap=\"round\"/>\n",
       "\t<line x1=\"11.6646\" y1=\"77.5011\" x2=\"20.3291\" y2=\"72.4989\" stroke=\"#000000\" stroke-width=\"0.894635\" stroke-linecap=\"round\"/>\n",
       "\t<line x1=\"13.7101\" y1=\"78.0427\" x2=\"19.7753\" y2=\"74.5411\" stroke=\"#000000\" stroke-width=\"0.894635\" stroke-linecap=\"round\"/>\n",
       "\t<line x1=\"28.9937\" y1=\"77.5011\" x2=\"20.3291\" y2=\"72.4989\" stroke=\"#000000\" stroke-width=\"0.894635\" stroke-linecap=\"round\"/>\n",
       "\t<line x1=\"106.971\" y1=\"92.508\" x2=\"115.636\" y2=\"87.5057\" stroke=\"#FF0000\" stroke-width=\"0.894635\" stroke-linecap=\"round\"/>\n",
       "\t<line x1=\"107.525\" y1=\"90.4657\" x2=\"113.59\" y2=\"86.9641\" stroke=\"#FF0000\" stroke-width=\"0.894635\" stroke-linecap=\"round\"/>\n",
       "\t<line x1=\"115.636\" y1=\"87.5057\" x2=\"115.636\" y2=\"77.5011\" stroke=\"#FF0000\" stroke-width=\"0.894635\" stroke-linecap=\"round\"/>\n",
       "\t<line x1=\"115.636\" y1=\"77.5011\" x2=\"121.364\" y2=\"74.1937\" stroke=\"#FF0000\" stroke-width=\"0.894635\" stroke-linecap=\"round\"/>\n",
       "\t<line x1=\"127.234\" y1=\"74.1934\" x2=\"132.964\" y2=\"77.5011\" stroke=\"#FF0000\" stroke-width=\"0.894635\" stroke-linecap=\"round\"/>\n",
       "\t<line x1=\"125.068\" y1=\"74.6655\" x2=\"130.918\" y2=\"78.0427\" stroke=\"#FF0000\" stroke-width=\"0.894635\" stroke-linecap=\"round\"/>\n",
       "\t<line x1=\"132.964\" y1=\"77.5011\" x2=\"132.964\" y2=\"87.5057\" stroke=\"#FF0000\" stroke-width=\"0.894635\" stroke-linecap=\"round\"/>\n",
       "\t<line x1=\"132.964\" y1=\"77.5011\" x2=\"141.628\" y2=\"72.4989\" stroke=\"#000000\" stroke-width=\"0.894635\" stroke-linecap=\"round\"/>\n",
       "\t<line x1=\"132.964\" y1=\"87.5057\" x2=\"127.234\" y2=\"90.8134\" stroke=\"#FF0000\" stroke-width=\"0.894635\" stroke-linecap=\"round\"/>\n",
       "\t<line x1=\"130.918\" y1=\"86.9641\" x2=\"126.512\" y2=\"89.508\" stroke=\"#FF0000\" stroke-width=\"0.894635\" stroke-linecap=\"round\"/>\n",
       "\t<line x1=\"132.964\" y1=\"87.5057\" x2=\"141.628\" y2=\"92.508\" stroke=\"#000000\" stroke-width=\"0.894635\" stroke-linecap=\"round\"/>\n",
       "\t<line x1=\"115.636\" y1=\"87.5057\" x2=\"121.364\" y2=\"90.8132\" stroke=\"#FF0000\" stroke-width=\"0.894635\" stroke-linecap=\"round\"/>\n",
       "\t<rect x=\"105.971\" y=\"71.4989\" width=\"3\" height=\"3\" stroke=\"none\" fill=\"#FF0000\"/>\n",
       "\t<rect x=\"105.971\" y=\"91.508\" width=\"3\" height=\"3\" stroke=\"none\" fill=\"#FF0000\"/>\n",
       "\t<rect x=\"114.636\" y=\"86.5057\" width=\"3\" height=\"3\" stroke=\"none\" fill=\"#FF0000\"/>\n",
       "\t<rect x=\"114.636\" y=\"76.5011\" width=\"3\" height=\"3\" stroke=\"none\" fill=\"#FF0000\"/>\n",
       "\t<rect x=\"131.964\" y=\"76.5011\" width=\"3\" height=\"3\" stroke=\"none\" fill=\"#FF0000\"/>\n",
       "\t<rect x=\"131.964\" y=\"86.5057\" width=\"3\" height=\"3\" stroke=\"none\" fill=\"#FF0000\"/>\n",
       "</g>\n",
       "</svg>\n",
       "\t<svg xmlns=\"http://www.w3.org/2000/svg\" xmlns:xlink=\"http://www.w3.org/1999/xlink\" x=\"308\" y=\"2\" width=\"150\" height=\"150\" version=\"1.1\" zoomAndPan=\"magnify\" preserveAspectRatio=\"xMidYMid\" contentScriptType=\"application/ecmascript\" id=\"881dedb2-8105-11eb-b702-00d861d0b82f\">\n",
       "<g>\n",
       "\t<!-- C12H17N3O -->\n",
       "\t<text x=\"54.5395\" y=\"60.4051\" fill=\"#000000\" font-family=\"Helvetica\" font-size=\"6.6pt\" text-anchor=\"middle\" font-weight=\"bold\">N</text>\n",
       "\t<text x=\"95.4587\" y=\"99.7798\" fill=\"#FF0000\" font-family=\"Helvetica\" font-size=\"6.6pt\" text-anchor=\"middle\" font-weight=\"bold\">N</text>\n",
       "\t<text x=\"122.739\" y=\"84.0299\" fill=\"#FF0000\" font-family=\"Helvetica\" font-size=\"6.6pt\" text-anchor=\"middle\" font-weight=\"bold\">N</text>\n",
       "\t<text x=\"40.9011\" y=\"36.7803\" fill=\"#000000\" font-family=\"Helvetica\" font-size=\"6.6pt\" text-anchor=\"middle\" font-weight=\"bold\">O</text>\n",
       "\t<line x1=\"50.3141\" y1=\"55.8653\" x2=\"40.9011\" y2=\"50.4301\" stroke=\"#000000\" stroke-width=\"1.2\" stroke-linecap=\"round\"/>\n",
       "\t<line x1=\"95.4587\" y1=\"81.9299\" x2=\"81.8202\" y2=\"74.055\" stroke=\"#FF0000\" stroke-width=\"1.2\" stroke-linecap=\"round\"/>\n",
       "\t<line x1=\"95.4587\" y1=\"81.9299\" x2=\"95.4587\" y2=\"92.1798\" stroke=\"#FF0000\" stroke-width=\"1.2\" stroke-linecap=\"round\"/>\n",
       "\t<line x1=\"99.0587\" y1=\"84.2924\" x2=\"99.0587\" y2=\"92.1798\" stroke=\"#FF0000\" stroke-width=\"1.2\" stroke-linecap=\"round\"/>\n",
       "\t<line x1=\"95.4587\" y1=\"81.9299\" x2=\"109.099\" y2=\"74.055\" stroke=\"#FF0000\" stroke-width=\"1.2\" stroke-linecap=\"round\"/>\n",
       "\t<line x1=\"109.099\" y1=\"74.055\" x2=\"118.514\" y2=\"79.4905\" stroke=\"#FF0000\" stroke-width=\"1.2\" stroke-linecap=\"round\"/>\n",
       "\t<line x1=\"109.345\" y1=\"78.3539\" x2=\"118.514\" y2=\"83.6474\" stroke=\"#FF0000\" stroke-width=\"1.2\" stroke-linecap=\"round\"/>\n",
       "\t<line x1=\"54.5395\" y1=\"62.1384\" x2=\"54.5395\" y2=\"74.055\" stroke=\"#000000\" stroke-width=\"1.2\" stroke-linecap=\"round\"/>\n",
       "\t<line x1=\"58.7649\" y1=\"55.8657\" x2=\"68.1799\" y2=\"50.4301\" stroke=\"#000000\" stroke-width=\"1.2\" stroke-linecap=\"round\"/>\n",
       "\t<line x1=\"81.8202\" y1=\"74.055\" x2=\"81.8202\" y2=\"58.3051\" stroke=\"#000000\" stroke-width=\"1.2\" stroke-linecap=\"round\"/>\n",
       "\t<line x1=\"81.8202\" y1=\"74.055\" x2=\"68.1799\" y2=\"81.9299\" stroke=\"#000000\" stroke-width=\"1.2\" stroke-linecap=\"round\"/>\n",
       "\t<line x1=\"42.7011\" y1=\"50.4301\" x2=\"42.7011\" y2=\"38.5136\" stroke=\"#000000\" stroke-width=\"1.2\" stroke-linecap=\"round\"/>\n",
       "\t<line x1=\"39.1011\" y1=\"50.4301\" x2=\"39.1011\" y2=\"38.5136\" stroke=\"#000000\" stroke-width=\"1.2\" stroke-linecap=\"round\"/>\n",
       "\t<line x1=\"68.1799\" y1=\"50.4301\" x2=\"81.8202\" y2=\"58.3051\" stroke=\"#000000\" stroke-width=\"1.2\" stroke-linecap=\"round\"/>\n",
       "\t<line x1=\"54.5395\" y1=\"74.055\" x2=\"68.1799\" y2=\"81.9299\" stroke=\"#000000\" stroke-width=\"1.2\" stroke-linecap=\"round\"/>\n",
       "\t<line x1=\"40.9011\" y1=\"50.4301\" x2=\"27.2607\" y2=\"58.3051\" stroke=\"#000000\" stroke-width=\"1.2\" stroke-linecap=\"round\"/>\n",
       "\t<line x1=\"99.6841\" y1=\"100.119\" x2=\"109.099\" y2=\"105.555\" stroke=\"#FF0000\" stroke-width=\"1.2\" stroke-linecap=\"round\"/>\n",
       "\t<line x1=\"122.739\" y1=\"85.7632\" x2=\"122.739\" y2=\"97.6798\" stroke=\"#FF0000\" stroke-width=\"1.2\" stroke-linecap=\"round\"/>\n",
       "\t<line x1=\"109.099\" y1=\"105.555\" x2=\"122.739\" y2=\"97.6798\" stroke=\"#FF0000\" stroke-width=\"1.2\" stroke-linecap=\"round\"/>\n",
       "\t<line x1=\"109.345\" y1=\"101.256\" x2=\"118.893\" y2=\"95.7433\" stroke=\"#FF0000\" stroke-width=\"1.2\" stroke-linecap=\"round\"/>\n",
       "\t<line x1=\"109.099\" y1=\"74.055\" x2=\"109.099\" y2=\"58.3051\" stroke=\"#FF0000\" stroke-width=\"1.2\" stroke-linecap=\"round\"/>\n",
       "\t<rect x=\"94.4587\" y=\"80.9299\" width=\"3\" height=\"3\" stroke=\"none\" fill=\"#FF0000\"/>\n",
       "\t<rect x=\"108.099\" y=\"73.055\" width=\"3\" height=\"3\" stroke=\"none\" fill=\"#FF0000\"/>\n",
       "\t<rect x=\"80.8202\" y=\"73.055\" width=\"3\" height=\"3\" stroke=\"none\" fill=\"#FF0000\"/>\n",
       "\t<rect x=\"108.099\" y=\"104.555\" width=\"3\" height=\"3\" stroke=\"none\" fill=\"#FF0000\"/>\n",
       "\t<rect x=\"121.739\" y=\"96.6798\" width=\"3\" height=\"3\" stroke=\"none\" fill=\"#FF0000\"/>\n",
       "\t<rect x=\"108.099\" y=\"57.3051\" width=\"3\" height=\"3\" stroke=\"none\" fill=\"#FF0000\"/>\n",
       "</g>\n",
       "</svg>\n",
       "\t<svg xmlns=\"http://www.w3.org/2000/svg\" xmlns:xlink=\"http://www.w3.org/1999/xlink\" x=\"461\" y=\"2\" width=\"150\" height=\"150\" version=\"1.1\" zoomAndPan=\"magnify\" preserveAspectRatio=\"xMidYMid\" contentScriptType=\"application/ecmascript\" id=\"881e0b08-8105-11eb-8471-00d861d0b82f\">\n",
       "<g>\n",
       "\t<!-- C12H17N3O -->\n",
       "\t<text x=\"55.1204\" y=\"60.696\" fill=\"#000000\" font-family=\"Helvetica\" font-size=\"6.6pt\" text-anchor=\"middle\" font-weight=\"bold\">N</text>\n",
       "\t<text x=\"82.4011\" y=\"107.946\" fill=\"#FF0000\" font-family=\"Helvetica\" font-size=\"6.6pt\" text-anchor=\"middle\" font-weight=\"bold\">N</text>\n",
       "\t<text x=\"109.68\" y=\"92.1958\" fill=\"#FF0000\" font-family=\"Helvetica\" font-size=\"6.6pt\" text-anchor=\"middle\" font-weight=\"bold\">N</text>\n",
       "\t<text x=\"41.4801\" y=\"37.0712\" fill=\"#000000\" font-family=\"Helvetica\" font-size=\"6.6pt\" text-anchor=\"middle\" font-weight=\"bold\">O</text>\n",
       "\t<line x1=\"68.7608\" y1=\"82.2209\" x2=\"68.7608\" y2=\"66.471\" stroke=\"#000000\" stroke-width=\"1.2\" stroke-linecap=\"round\"/>\n",
       "\t<line x1=\"68.7608\" y1=\"82.2209\" x2=\"55.1204\" y2=\"90.0958\" stroke=\"#000000\" stroke-width=\"1.2\" stroke-linecap=\"round\"/>\n",
       "\t<line x1=\"55.1204\" y1=\"53.096\" x2=\"55.1204\" y2=\"42.8461\" stroke=\"#000000\" stroke-width=\"1.2\" stroke-linecap=\"round\"/>\n",
       "\t<line x1=\"68.7608\" y1=\"82.2209\" x2=\"82.4011\" y2=\"90.0958\" stroke=\"#FF0000\" stroke-width=\"1.2\" stroke-linecap=\"round\"/>\n",
       "\t<line x1=\"59.3458\" y1=\"61.0355\" x2=\"68.7608\" y2=\"66.471\" stroke=\"#000000\" stroke-width=\"1.2\" stroke-linecap=\"round\"/>\n",
       "\t<line x1=\"82.4011\" y1=\"90.0958\" x2=\"82.4011\" y2=\"100.346\" stroke=\"#FF0000\" stroke-width=\"1.2\" stroke-linecap=\"round\"/>\n",
       "\t<line x1=\"86.0011\" y1=\"92.4583\" x2=\"86.0011\" y2=\"100.346\" stroke=\"#FF0000\" stroke-width=\"1.2\" stroke-linecap=\"round\"/>\n",
       "\t<line x1=\"82.4011\" y1=\"90.0958\" x2=\"96.0395\" y2=\"82.2209\" stroke=\"#FF0000\" stroke-width=\"1.2\" stroke-linecap=\"round\"/>\n",
       "\t<line x1=\"96.0395\" y1=\"82.2209\" x2=\"105.455\" y2=\"87.6564\" stroke=\"#FF0000\" stroke-width=\"1.2\" stroke-linecap=\"round\"/>\n",
       "\t<line x1=\"96.2857\" y1=\"86.5198\" x2=\"105.455\" y2=\"91.8132\" stroke=\"#FF0000\" stroke-width=\"1.2\" stroke-linecap=\"round\"/>\n",
       "\t<line x1=\"56.0204\" y1=\"41.2873\" x2=\"45.705\" y2=\"35.3319\" stroke=\"#000000\" stroke-width=\"1.2\" stroke-linecap=\"round\"/>\n",
       "\t<line x1=\"54.2204\" y1=\"44.405\" x2=\"44.5197\" y2=\"38.8045\" stroke=\"#000000\" stroke-width=\"1.2\" stroke-linecap=\"round\"/>\n",
       "\t<line x1=\"50.895\" y1=\"61.0355\" x2=\"41.4801\" y2=\"66.471\" stroke=\"#000000\" stroke-width=\"1.2\" stroke-linecap=\"round\"/>\n",
       "\t<line x1=\"55.1204\" y1=\"90.0958\" x2=\"41.4801\" y2=\"82.2209\" stroke=\"#000000\" stroke-width=\"1.2\" stroke-linecap=\"round\"/>\n",
       "\t<line x1=\"55.1204\" y1=\"42.8461\" x2=\"68.7608\" y2=\"34.9712\" stroke=\"#000000\" stroke-width=\"1.2\" stroke-linecap=\"round\"/>\n",
       "\t<line x1=\"41.4801\" y1=\"66.471\" x2=\"41.4801\" y2=\"82.2209\" stroke=\"#000000\" stroke-width=\"1.2\" stroke-linecap=\"round\"/>\n",
       "\t<line x1=\"86.6265\" y1=\"108.285\" x2=\"96.0395\" y2=\"113.721\" stroke=\"#FF0000\" stroke-width=\"1.2\" stroke-linecap=\"round\"/>\n",
       "\t<line x1=\"109.68\" y1=\"93.9291\" x2=\"109.68\" y2=\"105.846\" stroke=\"#FF0000\" stroke-width=\"1.2\" stroke-linecap=\"round\"/>\n",
       "\t<line x1=\"96.0395\" y1=\"113.721\" x2=\"109.68\" y2=\"105.846\" stroke=\"#FF0000\" stroke-width=\"1.2\" stroke-linecap=\"round\"/>\n",
       "\t<line x1=\"96.2857\" y1=\"109.422\" x2=\"105.834\" y2=\"103.909\" stroke=\"#FF0000\" stroke-width=\"1.2\" stroke-linecap=\"round\"/>\n",
       "\t<line x1=\"96.0395\" y1=\"82.2209\" x2=\"96.0395\" y2=\"66.471\" stroke=\"#FF0000\" stroke-width=\"1.2\" stroke-linecap=\"round\"/>\n",
       "\t<rect x=\"67.7608\" y=\"81.2209\" width=\"3\" height=\"3\" stroke=\"none\" fill=\"#FF0000\"/>\n",
       "\t<rect x=\"81.4011\" y=\"89.0958\" width=\"3\" height=\"3\" stroke=\"none\" fill=\"#FF0000\"/>\n",
       "\t<rect x=\"95.0395\" y=\"81.2209\" width=\"3\" height=\"3\" stroke=\"none\" fill=\"#FF0000\"/>\n",
       "\t<rect x=\"95.0395\" y=\"112.721\" width=\"3\" height=\"3\" stroke=\"none\" fill=\"#FF0000\"/>\n",
       "\t<rect x=\"108.68\" y=\"104.846\" width=\"3\" height=\"3\" stroke=\"none\" fill=\"#FF0000\"/>\n",
       "\t<rect x=\"95.0395\" y=\"65.471\" width=\"3\" height=\"3\" stroke=\"none\" fill=\"#FF0000\"/>\n",
       "</g>\n",
       "</svg>\n",
       "\t<svg xmlns=\"http://www.w3.org/2000/svg\" xmlns:xlink=\"http://www.w3.org/1999/xlink\" x=\"614\" y=\"2\" width=\"150\" height=\"150\" version=\"1.1\" zoomAndPan=\"magnify\" preserveAspectRatio=\"xMidYMid\" contentScriptType=\"application/ecmascript\" id=\"881e3fce-8105-11eb-9ea6-00d861d0b82f\">\n",
       "<g>\n",
       "\t<!-- C11H17N3O2S -->\n",
       "\t<text x=\"55.121\" y=\"44.6548\" fill=\"#000000\" font-family=\"Helvetica\" font-size=\"6.6pt\" text-anchor=\"middle\" font-weight=\"bold\">S</text>\n",
       "\t<text x=\"55.121\" y=\"60.4049\" fill=\"#000000\" font-family=\"Helvetica\" font-size=\"6.6pt\" text-anchor=\"middle\" font-weight=\"bold\">N</text>\n",
       "\t<text x=\"55.121\" y=\"28.9046\" fill=\"#000000\" font-family=\"Helvetica\" font-size=\"6.6pt\" text-anchor=\"middle\" font-weight=\"bold\">O</text>\n",
       "\t<text x=\"39.3708\" y=\"44.6548\" fill=\"#000000\" font-family=\"Helvetica\" font-size=\"6.6pt\" text-anchor=\"middle\" font-weight=\"bold\">O</text>\n",
       "\t<text x=\"82.4002\" y=\"107.655\" fill=\"#FF0000\" font-family=\"Helvetica\" font-size=\"6.6pt\" text-anchor=\"middle\" font-weight=\"bold\">N</text>\n",
       "\t<text x=\"109.679\" y=\"91.9052\" fill=\"#FF0000\" font-family=\"Helvetica\" font-size=\"6.6pt\" text-anchor=\"middle\" font-weight=\"bold\">N</text>\n",
       "\t<line x1=\"55.121\" y1=\"46.3881\" x2=\"55.121\" y2=\"52.8049\" stroke=\"#000000\" stroke-width=\"1.2\" stroke-linecap=\"round\"/>\n",
       "\t<line x1=\"68.7596\" y1=\"81.9301\" x2=\"68.7596\" y2=\"66.18\" stroke=\"#000000\" stroke-width=\"1.2\" stroke-linecap=\"round\"/>\n",
       "\t<line x1=\"68.7596\" y1=\"81.9301\" x2=\"55.121\" y2=\"89.8052\" stroke=\"#000000\" stroke-width=\"1.2\" stroke-linecap=\"round\"/>\n",
       "\t<line x1=\"59.3464\" y1=\"60.7447\" x2=\"68.7596\" y2=\"66.18\" stroke=\"#000000\" stroke-width=\"1.2\" stroke-linecap=\"round\"/>\n",
       "\t<line x1=\"68.7596\" y1=\"81.9301\" x2=\"82.4002\" y2=\"89.8052\" stroke=\"#FF0000\" stroke-width=\"1.2\" stroke-linecap=\"round\"/>\n",
       "\t<line x1=\"56.921\" y1=\"37.0548\" x2=\"56.921\" y2=\"30.638\" stroke=\"#000000\" stroke-width=\"1.2\" stroke-linecap=\"round\"/>\n",
       "\t<line x1=\"53.321\" y1=\"37.0548\" x2=\"53.321\" y2=\"30.638\" stroke=\"#000000\" stroke-width=\"1.2\" stroke-linecap=\"round\"/>\n",
       "\t<line x1=\"51.541\" y1=\"40.7548\" x2=\"43.5958\" y2=\"40.7548\" stroke=\"#000000\" stroke-width=\"1.2\" stroke-linecap=\"round\"/>\n",
       "\t<line x1=\"51.541\" y1=\"44.3548\" x2=\"43.5958\" y2=\"44.3548\" stroke=\"#000000\" stroke-width=\"1.2\" stroke-linecap=\"round\"/>\n",
       "\t<line x1=\"82.4002\" y1=\"89.8052\" x2=\"82.4002\" y2=\"100.055\" stroke=\"#FF0000\" stroke-width=\"1.2\" stroke-linecap=\"round\"/>\n",
       "\t<line x1=\"86.0002\" y1=\"92.1677\" x2=\"86.0002\" y2=\"100.055\" stroke=\"#FF0000\" stroke-width=\"1.2\" stroke-linecap=\"round\"/>\n",
       "\t<line x1=\"82.4002\" y1=\"89.8052\" x2=\"96.0408\" y2=\"81.9301\" stroke=\"#FF0000\" stroke-width=\"1.2\" stroke-linecap=\"round\"/>\n",
       "\t<line x1=\"96.0408\" y1=\"81.9301\" x2=\"105.454\" y2=\"87.3654\" stroke=\"#FF0000\" stroke-width=\"1.2\" stroke-linecap=\"round\"/>\n",
       "\t<line x1=\"96.2864\" y1=\"86.229\" x2=\"105.454\" y2=\"91.5224\" stroke=\"#FF0000\" stroke-width=\"1.2\" stroke-linecap=\"round\"/>\n",
       "\t<line x1=\"58.701\" y1=\"42.5548\" x2=\"70.8711\" y2=\"42.5548\" stroke=\"#000000\" stroke-width=\"1.2\" stroke-linecap=\"round\"/>\n",
       "\t<line x1=\"50.8956\" y1=\"60.7443\" x2=\"41.4804\" y2=\"66.18\" stroke=\"#000000\" stroke-width=\"1.2\" stroke-linecap=\"round\"/>\n",
       "\t<line x1=\"55.121\" y1=\"89.8052\" x2=\"41.4804\" y2=\"81.9301\" stroke=\"#000000\" stroke-width=\"1.2\" stroke-linecap=\"round\"/>\n",
       "\t<line x1=\"41.4804\" y1=\"66.18\" x2=\"41.4804\" y2=\"81.9301\" stroke=\"#000000\" stroke-width=\"1.2\" stroke-linecap=\"round\"/>\n",
       "\t<line x1=\"86.6256\" y1=\"107.995\" x2=\"96.0408\" y2=\"113.43\" stroke=\"#FF0000\" stroke-width=\"1.2\" stroke-linecap=\"round\"/>\n",
       "\t<line x1=\"109.679\" y1=\"93.6385\" x2=\"109.679\" y2=\"105.555\" stroke=\"#FF0000\" stroke-width=\"1.2\" stroke-linecap=\"round\"/>\n",
       "\t<line x1=\"96.0408\" y1=\"113.43\" x2=\"109.679\" y2=\"105.555\" stroke=\"#FF0000\" stroke-width=\"1.2\" stroke-linecap=\"round\"/>\n",
       "\t<line x1=\"96.2864\" y1=\"109.131\" x2=\"105.833\" y2=\"103.619\" stroke=\"#FF0000\" stroke-width=\"1.2\" stroke-linecap=\"round\"/>\n",
       "\t<line x1=\"96.0408\" y1=\"81.9301\" x2=\"96.0408\" y2=\"66.18\" stroke=\"#FF0000\" stroke-width=\"1.2\" stroke-linecap=\"round\"/>\n",
       "\t<rect x=\"67.7596\" y=\"80.9301\" width=\"3\" height=\"3\" stroke=\"none\" fill=\"#FF0000\"/>\n",
       "\t<rect x=\"81.4002\" y=\"88.8052\" width=\"3\" height=\"3\" stroke=\"none\" fill=\"#FF0000\"/>\n",
       "\t<rect x=\"95.0408\" y=\"80.9301\" width=\"3\" height=\"3\" stroke=\"none\" fill=\"#FF0000\"/>\n",
       "\t<rect x=\"95.0408\" y=\"112.43\" width=\"3\" height=\"3\" stroke=\"none\" fill=\"#FF0000\"/>\n",
       "\t<rect x=\"108.679\" y=\"104.555\" width=\"3\" height=\"3\" stroke=\"none\" fill=\"#FF0000\"/>\n",
       "\t<rect x=\"95.0408\" y=\"65.18\" width=\"3\" height=\"3\" stroke=\"none\" fill=\"#FF0000\"/>\n",
       "</g>\n",
       "</svg>\n",
       "\t<svg xmlns=\"http://www.w3.org/2000/svg\" xmlns:xlink=\"http://www.w3.org/1999/xlink\" x=\"2\" y=\"155\" width=\"150\" height=\"150\" version=\"1.1\" zoomAndPan=\"magnify\" preserveAspectRatio=\"xMidYMid\" contentScriptType=\"application/ecmascript\" id=\"88210362-8105-11eb-ad8e-00d861d0b82f\">\n",
       "<g>\n",
       "\t<!-- C19H23N3O -->\n",
       "\t<text x=\"114.272\" y=\"69.9001\" fill=\"#000000\" font-family=\"Helvetica\" font-size=\"5.74091pt\" text-anchor=\"middle\" font-weight=\"bold\">N</text>\n",
       "\t<text x=\"54.9491\" y=\"90.4498\" fill=\"#FF0000\" font-family=\"Helvetica\" font-size=\"5.74091pt\" text-anchor=\"middle\" font-weight=\"bold\">N</text>\n",
       "\t<text x=\"78.6788\" y=\"104.15\" fill=\"#FF0000\" font-family=\"Helvetica\" font-size=\"5.74091pt\" text-anchor=\"middle\" font-weight=\"bold\">N</text>\n",
       "\t<text x=\"138\" y=\"69.9001\" fill=\"#000000\" font-family=\"Helvetica\" font-size=\"5.74091pt\" text-anchor=\"middle\" font-weight=\"bold\">O</text>\n",
       "\t<line x1=\"66.814\" y1=\"81.8499\" x2=\"78.6788\" y2=\"88.6998\" stroke=\"#FF0000\" stroke-width=\"1.11918\" stroke-linecap=\"round\"/>\n",
       "\t<line x1=\"67.1335\" y1=\"85.4067\" x2=\"75.4389\" y2=\"90.2016\" stroke=\"#FF0000\" stroke-width=\"1.11918\" stroke-linecap=\"round\"/>\n",
       "\t<line x1=\"117.852\" y1=\"66.0831\" x2=\"126.137\" y2=\"61.3002\" stroke=\"#000000\" stroke-width=\"1.11918\" stroke-linecap=\"round\"/>\n",
       "\t<line x1=\"78.6788\" y1=\"88.6998\" x2=\"90.5421\" y2=\"81.8499\" stroke=\"#FF0000\" stroke-width=\"1.11918\" stroke-linecap=\"round\"/>\n",
       "\t<line x1=\"66.814\" y1=\"81.8499\" x2=\"58.5294\" y2=\"86.6328\" stroke=\"#FF0000\" stroke-width=\"1.11918\" stroke-linecap=\"round\"/>\n",
       "\t<line x1=\"54.9491\" y1=\"91.9776\" x2=\"54.9491\" y2=\"102.4\" stroke=\"#FF0000\" stroke-width=\"1.11918\" stroke-linecap=\"round\"/>\n",
       "\t<line x1=\"57.8696\" y1=\"91.9776\" x2=\"57.8696\" y2=\"100.345\" stroke=\"#FF0000\" stroke-width=\"1.11918\" stroke-linecap=\"round\"/>\n",
       "\t<line x1=\"78.6788\" y1=\"88.6998\" x2=\"78.6788\" y2=\"97.733\" stroke=\"#FF0000\" stroke-width=\"1.11918\" stroke-linecap=\"round\"/>\n",
       "\t<line x1=\"110.692\" y1=\"66.0831\" x2=\"102.407\" y2=\"61.3002\" stroke=\"#000000\" stroke-width=\"1.11918\" stroke-linecap=\"round\"/>\n",
       "\t<line x1=\"114.272\" y1=\"71.4279\" x2=\"114.272\" y2=\"81.8499\" stroke=\"#000000\" stroke-width=\"1.11918\" stroke-linecap=\"round\"/>\n",
       "\t<line x1=\"66.814\" y1=\"81.8499\" x2=\"66.814\" y2=\"68.1501\" stroke=\"#FF0000\" stroke-width=\"1.11918\" stroke-linecap=\"round\"/>\n",
       "\t<line x1=\"90.5421\" y1=\"81.8499\" x2=\"102.407\" y2=\"88.6998\" stroke=\"#000000\" stroke-width=\"1.11918\" stroke-linecap=\"round\"/>\n",
       "\t<line x1=\"90.5421\" y1=\"81.8499\" x2=\"90.5421\" y2=\"68.1501\" stroke=\"#000000\" stroke-width=\"1.11918\" stroke-linecap=\"round\"/>\n",
       "\t<line x1=\"125.407\" y1=\"62.5647\" x2=\"133.775\" y2=\"67.3966\" stroke=\"#000000\" stroke-width=\"1.11918\" stroke-linecap=\"round\"/>\n",
       "\t<line x1=\"126.867\" y1=\"60.0356\" x2=\"133.775\" y2=\"64.0242\" stroke=\"#000000\" stroke-width=\"1.11918\" stroke-linecap=\"round\"/>\n",
       "\t<line x1=\"114.272\" y1=\"81.8499\" x2=\"102.407\" y2=\"88.6998\" stroke=\"#000000\" stroke-width=\"1.11918\" stroke-linecap=\"round\"/>\n",
       "\t<line x1=\"102.407\" y1=\"61.3002\" x2=\"90.5421\" y2=\"68.1501\" stroke=\"#000000\" stroke-width=\"1.11918\" stroke-linecap=\"round\"/>\n",
       "\t<line x1=\"66.814\" y1=\"68.1501\" x2=\"54.9491\" y2=\"61.3002\" stroke=\"#000000\" stroke-width=\"1.11918\" stroke-linecap=\"round\"/>\n",
       "\t<line x1=\"31.2209\" y1=\"47.6003\" x2=\"31.2209\" y2=\"61.3002\" stroke=\"#000000\" stroke-width=\"1.11918\" stroke-linecap=\"round\"/>\n",
       "\t<line x1=\"31.2209\" y1=\"47.6003\" x2=\"43.0858\" y2=\"40.7504\" stroke=\"#000000\" stroke-width=\"1.11918\" stroke-linecap=\"round\"/>\n",
       "\t<line x1=\"34.4609\" y1=\"49.1021\" x2=\"42.7663\" y2=\"44.3071\" stroke=\"#000000\" stroke-width=\"1.11918\" stroke-linecap=\"round\"/>\n",
       "\t<line x1=\"54.9491\" y1=\"61.3002\" x2=\"54.9491\" y2=\"47.6003\" stroke=\"#000000\" stroke-width=\"1.11918\" stroke-linecap=\"round\"/>\n",
       "\t<line x1=\"52.0286\" y1=\"59.2452\" x2=\"52.0286\" y2=\"49.6553\" stroke=\"#000000\" stroke-width=\"1.11918\" stroke-linecap=\"round\"/>\n",
       "\t<line x1=\"54.9491\" y1=\"61.3002\" x2=\"43.0858\" y2=\"68.1501\" stroke=\"#000000\" stroke-width=\"1.11918\" stroke-linecap=\"round\"/>\n",
       "\t<line x1=\"54.9491\" y1=\"47.6003\" x2=\"43.0858\" y2=\"40.7504\" stroke=\"#000000\" stroke-width=\"1.11918\" stroke-linecap=\"round\"/>\n",
       "\t<line x1=\"43.0858\" y1=\"68.1501\" x2=\"31.2209\" y2=\"61.3002\" stroke=\"#000000\" stroke-width=\"1.11918\" stroke-linecap=\"round\"/>\n",
       "\t<line x1=\"42.7663\" y1=\"64.5933\" x2=\"34.4609\" y2=\"59.7984\" stroke=\"#000000\" stroke-width=\"1.11918\" stroke-linecap=\"round\"/>\n",
       "\t<line x1=\"126.137\" y1=\"61.3002\" x2=\"126.137\" y2=\"47.6003\" stroke=\"#000000\" stroke-width=\"1.11918\" stroke-linecap=\"round\"/>\n",
       "\t<line x1=\"54.9491\" y1=\"102.4\" x2=\"66.814\" y2=\"109.25\" stroke=\"#FF0000\" stroke-width=\"1.11918\" stroke-linecap=\"round\"/>\n",
       "\t<line x1=\"75.0985\" y1=\"104.467\" x2=\"66.814\" y2=\"109.25\" stroke=\"#FF0000\" stroke-width=\"1.11918\" stroke-linecap=\"round\"/>\n",
       "\t<line x1=\"75.0985\" y1=\"101.094\" x2=\"67.1335\" y2=\"105.693\" stroke=\"#FF0000\" stroke-width=\"1.11918\" stroke-linecap=\"round\"/>\n",
       "\t<line x1=\"31.2209\" y1=\"47.6003\" x2=\"19.356\" y2=\"40.7504\" stroke=\"#000000\" stroke-width=\"1.11918\" stroke-linecap=\"round\"/>\n",
       "\t<rect x=\"65.814\" y=\"80.8499\" width=\"3\" height=\"3\" stroke=\"none\" fill=\"#FF0000\"/>\n",
       "\t<rect x=\"77.6788\" y=\"87.6998\" width=\"3\" height=\"3\" stroke=\"none\" fill=\"#FF0000\"/>\n",
       "\t<rect x=\"65.814\" y=\"67.1501\" width=\"3\" height=\"3\" stroke=\"none\" fill=\"#FF0000\"/>\n",
       "\t<rect x=\"89.5421\" y=\"80.8499\" width=\"3\" height=\"3\" stroke=\"none\" fill=\"#FF0000\"/>\n",
       "\t<rect x=\"53.9491\" y=\"101.4\" width=\"3\" height=\"3\" stroke=\"none\" fill=\"#FF0000\"/>\n",
       "\t<rect x=\"65.814\" y=\"108.25\" width=\"3\" height=\"3\" stroke=\"none\" fill=\"#FF0000\"/>\n",
       "</g>\n",
       "</svg>\n",
       "\t<svg xmlns=\"http://www.w3.org/2000/svg\" xmlns:xlink=\"http://www.w3.org/1999/xlink\" x=\"155\" y=\"155\" width=\"150\" height=\"150\" version=\"1.1\" zoomAndPan=\"magnify\" preserveAspectRatio=\"xMidYMid\" contentScriptType=\"application/ecmascript\" id=\"882126e4-8105-11eb-a667-00d861d0b82f\">\n",
       "<g>\n",
       "\t<!-- C17H18FN3O -->\n",
       "\t<text x=\"47.2707\" y=\"97.892\" fill=\"#000000\" font-family=\"Helvetica\" font-size=\"6.6pt\" text-anchor=\"middle\" font-weight=\"bold\">N</text>\n",
       "\t<text x=\"46.3734\" y=\"65.0078\" fill=\"#FF0000\" font-family=\"Helvetica\" font-size=\"6.6pt\" text-anchor=\"middle\" font-weight=\"bold\">N</text>\n",
       "\t<text x=\"73.6525\" y=\"49.2578\" fill=\"#FF0000\" font-family=\"Helvetica\" font-size=\"6.6pt\" text-anchor=\"middle\" font-weight=\"bold\">N</text>\n",
       "\t<text x=\"29.0178\" y=\"77.6193\" fill=\"#000000\" font-family=\"Helvetica\" font-size=\"6.6pt\" text-anchor=\"middle\" font-weight=\"bold\">O</text>\n",
       "\t<text x=\"114.572\" y=\"88.6329\" fill=\"#000000\" font-family=\"Helvetica\" font-size=\"6.6pt\" text-anchor=\"middle\" font-weight=\"bold\">F</text>\n",
       "\t<line x1=\"60.0139\" y1=\"70.7828\" x2=\"60.0139\" y2=\"86.5329\" stroke=\"#FF0000\" stroke-width=\"1.2\" stroke-linecap=\"round\"/>\n",
       "\t<line x1=\"51.4961\" y1=\"92.7218\" x2=\"60.0139\" y2=\"86.5329\" stroke=\"#000000\" stroke-width=\"1.2\" stroke-linecap=\"round\"/>\n",
       "\t<line x1=\"60.0139\" y1=\"70.7828\" x2=\"73.6525\" y2=\"62.9078\" stroke=\"#FF0000\" stroke-width=\"1.2\" stroke-linecap=\"round\"/>\n",
       "\t<line x1=\"60.2595\" y1=\"66.484\" x2=\"69.8065\" y2=\"60.9714\" stroke=\"#FF0000\" stroke-width=\"1.2\" stroke-linecap=\"round\"/>\n",
       "\t<line x1=\"43.0453\" y1=\"94.4187\" x2=\"32.2919\" y2=\"90.9238\" stroke=\"#000000\" stroke-width=\"1.2\" stroke-linecap=\"round\"/>\n",
       "\t<line x1=\"73.6525\" y1=\"62.9078\" x2=\"87.2929\" y2=\"70.7828\" stroke=\"#FF0000\" stroke-width=\"1.2\" stroke-linecap=\"round\"/>\n",
       "\t<line x1=\"60.0139\" y1=\"70.7828\" x2=\"50.5988\" y2=\"65.3472\" stroke=\"#FF0000\" stroke-width=\"1.2\" stroke-linecap=\"round\"/>\n",
       "\t<line x1=\"87.2929\" y1=\"70.7828\" x2=\"100.933\" y2=\"62.9078\" stroke=\"#000000\" stroke-width=\"1.2\" stroke-linecap=\"round\"/>\n",
       "\t<line x1=\"73.6525\" y1=\"62.9078\" x2=\"73.6525\" y2=\"50.9911\" stroke=\"#FF0000\" stroke-width=\"1.2\" stroke-linecap=\"round\"/>\n",
       "\t<line x1=\"69.4271\" y1=\"44.718\" x2=\"60.0139\" y2=\"39.2827\" stroke=\"#FF0000\" stroke-width=\"1.2\" stroke-linecap=\"round\"/>\n",
       "\t<line x1=\"69.4271\" y1=\"48.875\" x2=\"60.2595\" y2=\"43.5816\" stroke=\"#FF0000\" stroke-width=\"1.2\" stroke-linecap=\"round\"/>\n",
       "\t<line x1=\"34.0526\" y1=\"90.5496\" x2=\"31.6728\" y2=\"79.3526\" stroke=\"#000000\" stroke-width=\"1.2\" stroke-linecap=\"round\"/>\n",
       "\t<line x1=\"30.5312\" y1=\"91.298\" x2=\"27.9923\" y2=\"79.3526\" stroke=\"#000000\" stroke-width=\"1.2\" stroke-linecap=\"round\"/>\n",
       "\t<line x1=\"100.933\" y1=\"62.9078\" x2=\"114.572\" y2=\"70.7828\" stroke=\"#000000\" stroke-width=\"1.2\" stroke-linecap=\"round\"/>\n",
       "\t<line x1=\"104.779\" y1=\"60.9714\" x2=\"114.326\" y2=\"66.484\" stroke=\"#000000\" stroke-width=\"1.2\" stroke-linecap=\"round\"/>\n",
       "\t<line x1=\"48.5165\" y1=\"99.6253\" x2=\"52.1389\" y2=\"110.771\" stroke=\"#000000\" stroke-width=\"1.2\" stroke-linecap=\"round\"/>\n",
       "\t<line x1=\"114.572\" y1=\"70.7828\" x2=\"114.572\" y2=\"81.0329\" stroke=\"#000000\" stroke-width=\"1.2\" stroke-linecap=\"round\"/>\n",
       "\t<line x1=\"60.0139\" y1=\"86.5329\" x2=\"72.7552\" y2=\"95.792\" stroke=\"#000000\" stroke-width=\"1.2\" stroke-linecap=\"round\"/>\n",
       "\t<line x1=\"72.7552\" y1=\"95.792\" x2=\"67.8889\" y2=\"110.771\" stroke=\"#000000\" stroke-width=\"1.2\" stroke-linecap=\"round\"/>\n",
       "\t<line x1=\"32.2919\" y1=\"90.9238\" x2=\"20.5872\" y2=\"101.464\" stroke=\"#000000\" stroke-width=\"1.2\" stroke-linecap=\"round\"/>\n",
       "\t<line x1=\"52.1389\" y1=\"110.771\" x2=\"67.8889\" y2=\"110.771\" stroke=\"#000000\" stroke-width=\"1.2\" stroke-linecap=\"round\"/>\n",
       "\t<line x1=\"46.3734\" y1=\"57.4078\" x2=\"46.3734\" y2=\"47.1578\" stroke=\"#FF0000\" stroke-width=\"1.2\" stroke-linecap=\"round\"/>\n",
       "\t<line x1=\"49.9734\" y1=\"57.4078\" x2=\"49.9734\" y2=\"49.5203\" stroke=\"#FF0000\" stroke-width=\"1.2\" stroke-linecap=\"round\"/>\n",
       "\t<line x1=\"46.3734\" y1=\"47.1578\" x2=\"60.0139\" y2=\"39.2827\" stroke=\"#FF0000\" stroke-width=\"1.2\" stroke-linecap=\"round\"/>\n",
       "\t<line x1=\"100.933\" y1=\"62.9078\" x2=\"100.933\" y2=\"47.1578\" stroke=\"#000000\" stroke-width=\"1.2\" stroke-linecap=\"round\"/>\n",
       "\t<line x1=\"114.572\" y1=\"70.7828\" x2=\"128.213\" y2=\"62.9078\" stroke=\"#000000\" stroke-width=\"1.2\" stroke-linecap=\"round\"/>\n",
       "\t<line x1=\"100.933\" y1=\"47.1578\" x2=\"114.572\" y2=\"39.2827\" stroke=\"#000000\" stroke-width=\"1.2\" stroke-linecap=\"round\"/>\n",
       "\t<line x1=\"104.779\" y1=\"49.0941\" x2=\"114.326\" y2=\"43.5816\" stroke=\"#000000\" stroke-width=\"1.2\" stroke-linecap=\"round\"/>\n",
       "\t<line x1=\"128.213\" y1=\"62.9078\" x2=\"128.213\" y2=\"47.1578\" stroke=\"#000000\" stroke-width=\"1.2\" stroke-linecap=\"round\"/>\n",
       "\t<line x1=\"124.613\" y1=\"60.5453\" x2=\"124.613\" y2=\"49.5203\" stroke=\"#000000\" stroke-width=\"1.2\" stroke-linecap=\"round\"/>\n",
       "\t<line x1=\"114.572\" y1=\"39.2827\" x2=\"128.213\" y2=\"47.1578\" stroke=\"#000000\" stroke-width=\"1.2\" stroke-linecap=\"round\"/>\n",
       "\t<rect x=\"59.0139\" y=\"69.7828\" width=\"3\" height=\"3\" stroke=\"none\" fill=\"#FF0000\"/>\n",
       "\t<rect x=\"59.0139\" y=\"85.5329\" width=\"3\" height=\"3\" stroke=\"none\" fill=\"#FF0000\"/>\n",
       "\t<rect x=\"72.6525\" y=\"61.9078\" width=\"3\" height=\"3\" stroke=\"none\" fill=\"#FF0000\"/>\n",
       "\t<rect x=\"86.2929\" y=\"69.7828\" width=\"3\" height=\"3\" stroke=\"none\" fill=\"#FF0000\"/>\n",
       "\t<rect x=\"45.3734\" y=\"46.1578\" width=\"3\" height=\"3\" stroke=\"none\" fill=\"#FF0000\"/>\n",
       "\t<rect x=\"59.0139\" y=\"38.2827\" width=\"3\" height=\"3\" stroke=\"none\" fill=\"#FF0000\"/>\n",
       "</g>\n",
       "</svg>\n",
       "\t<svg xmlns=\"http://www.w3.org/2000/svg\" xmlns:xlink=\"http://www.w3.org/1999/xlink\" x=\"308\" y=\"155\" width=\"150\" height=\"150\" version=\"1.1\" zoomAndPan=\"magnify\" preserveAspectRatio=\"xMidYMid\" contentScriptType=\"application/ecmascript\" id=\"88274ef2-8105-11eb-b6c0-00d861d0b82f\">\n",
       "<g>\n",
       "\t<!-- C14H21N3O -->\n",
       "\t<text x=\"54.5413\" y=\"68.5709\" fill=\"#000000\" font-family=\"Helvetica\" font-size=\"6.6pt\" text-anchor=\"middle\" font-weight=\"bold\">N</text>\n",
       "\t<text x=\"95.4608\" y=\"107.946\" fill=\"#FF0000\" font-family=\"Helvetica\" font-size=\"6.6pt\" text-anchor=\"middle\" font-weight=\"bold\">N</text>\n",
       "\t<text x=\"122.74\" y=\"92.1959\" fill=\"#FF0000\" font-family=\"Helvetica\" font-size=\"6.6pt\" text-anchor=\"middle\" font-weight=\"bold\">N</text>\n",
       "\t<text x=\"27.2603\" y=\"68.5709\" fill=\"#000000\" font-family=\"Helvetica\" font-size=\"6.6pt\" text-anchor=\"middle\" font-weight=\"bold\">O</text>\n",
       "\t<line x1=\"50.3159\" y1=\"64.0315\" x2=\"40.9008\" y2=\"58.5959\" stroke=\"#000000\" stroke-width=\"1.2\" stroke-linecap=\"round\"/>\n",
       "\t<line x1=\"95.4608\" y1=\"90.0959\" x2=\"81.8203\" y2=\"82.2209\" stroke=\"#FF0000\" stroke-width=\"1.2\" stroke-linecap=\"round\"/>\n",
       "\t<line x1=\"95.4608\" y1=\"90.0959\" x2=\"95.4608\" y2=\"100.346\" stroke=\"#FF0000\" stroke-width=\"1.2\" stroke-linecap=\"round\"/>\n",
       "\t<line x1=\"99.0608\" y1=\"92.4584\" x2=\"99.0608\" y2=\"100.346\" stroke=\"#FF0000\" stroke-width=\"1.2\" stroke-linecap=\"round\"/>\n",
       "\t<line x1=\"95.4608\" y1=\"90.0959\" x2=\"109.099\" y2=\"82.2209\" stroke=\"#FF0000\" stroke-width=\"1.2\" stroke-linecap=\"round\"/>\n",
       "\t<line x1=\"109.099\" y1=\"82.2209\" x2=\"118.514\" y2=\"87.6565\" stroke=\"#FF0000\" stroke-width=\"1.2\" stroke-linecap=\"round\"/>\n",
       "\t<line x1=\"109.345\" y1=\"86.5199\" x2=\"118.514\" y2=\"91.8134\" stroke=\"#FF0000\" stroke-width=\"1.2\" stroke-linecap=\"round\"/>\n",
       "\t<line x1=\"54.5413\" y1=\"70.3042\" x2=\"54.5413\" y2=\"82.2209\" stroke=\"#000000\" stroke-width=\"1.2\" stroke-linecap=\"round\"/>\n",
       "\t<line x1=\"58.7667\" y1=\"64.0311\" x2=\"68.1798\" y2=\"58.5959\" stroke=\"#000000\" stroke-width=\"1.2\" stroke-linecap=\"round\"/>\n",
       "\t<line x1=\"40.0008\" y1=\"57.037\" x2=\"31.4852\" y2=\"61.9533\" stroke=\"#000000\" stroke-width=\"1.2\" stroke-linecap=\"round\"/>\n",
       "\t<line x1=\"41.8008\" y1=\"60.1548\" x2=\"31.4852\" y2=\"66.1102\" stroke=\"#000000\" stroke-width=\"1.2\" stroke-linecap=\"round\"/>\n",
       "\t<line x1=\"81.8203\" y1=\"82.2209\" x2=\"81.8203\" y2=\"66.4709\" stroke=\"#000000\" stroke-width=\"1.2\" stroke-linecap=\"round\"/>\n",
       "\t<line x1=\"68.1798\" y1=\"58.5959\" x2=\"81.8203\" y2=\"66.4709\" stroke=\"#000000\" stroke-width=\"1.2\" stroke-linecap=\"round\"/>\n",
       "\t<line x1=\"54.5413\" y1=\"82.2209\" x2=\"68.1798\" y2=\"90.0959\" stroke=\"#000000\" stroke-width=\"1.2\" stroke-linecap=\"round\"/>\n",
       "\t<line x1=\"81.8203\" y1=\"82.2209\" x2=\"68.1798\" y2=\"90.0959\" stroke=\"#000000\" stroke-width=\"1.2\" stroke-linecap=\"round\"/>\n",
       "\t<line x1=\"40.9008\" y1=\"58.5959\" x2=\"40.9008\" y2=\"42.8459\" stroke=\"#000000\" stroke-width=\"1.2\" stroke-linecap=\"round\"/>\n",
       "\t<line x1=\"99.6862\" y1=\"108.286\" x2=\"109.099\" y2=\"113.721\" stroke=\"#FF0000\" stroke-width=\"1.2\" stroke-linecap=\"round\"/>\n",
       "\t<line x1=\"122.74\" y1=\"93.9293\" x2=\"122.74\" y2=\"105.846\" stroke=\"#FF0000\" stroke-width=\"1.2\" stroke-linecap=\"round\"/>\n",
       "\t<line x1=\"109.099\" y1=\"113.721\" x2=\"122.74\" y2=\"105.846\" stroke=\"#FF0000\" stroke-width=\"1.2\" stroke-linecap=\"round\"/>\n",
       "\t<line x1=\"109.345\" y1=\"109.422\" x2=\"118.894\" y2=\"103.909\" stroke=\"#FF0000\" stroke-width=\"1.2\" stroke-linecap=\"round\"/>\n",
       "\t<line x1=\"109.099\" y1=\"82.2209\" x2=\"109.099\" y2=\"66.4709\" stroke=\"#FF0000\" stroke-width=\"1.2\" stroke-linecap=\"round\"/>\n",
       "\t<line x1=\"40.9008\" y1=\"42.8459\" x2=\"27.2603\" y2=\"34.9709\" stroke=\"#000000\" stroke-width=\"1.2\" stroke-linecap=\"round\"/>\n",
       "\t<line x1=\"40.9008\" y1=\"42.8459\" x2=\"54.5413\" y2=\"34.9709\" stroke=\"#000000\" stroke-width=\"1.2\" stroke-linecap=\"round\"/>\n",
       "\t<rect x=\"94.4608\" y=\"89.0959\" width=\"3\" height=\"3\" stroke=\"none\" fill=\"#FF0000\"/>\n",
       "\t<rect x=\"108.099\" y=\"81.2209\" width=\"3\" height=\"3\" stroke=\"none\" fill=\"#FF0000\"/>\n",
       "\t<rect x=\"80.8203\" y=\"81.2209\" width=\"3\" height=\"3\" stroke=\"none\" fill=\"#FF0000\"/>\n",
       "\t<rect x=\"108.099\" y=\"112.721\" width=\"3\" height=\"3\" stroke=\"none\" fill=\"#FF0000\"/>\n",
       "\t<rect x=\"121.74\" y=\"104.846\" width=\"3\" height=\"3\" stroke=\"none\" fill=\"#FF0000\"/>\n",
       "\t<rect x=\"108.099\" y=\"65.4709\" width=\"3\" height=\"3\" stroke=\"none\" fill=\"#FF0000\"/>\n",
       "</g>\n",
       "</svg>\n",
       "\t<svg xmlns=\"http://www.w3.org/2000/svg\" xmlns:xlink=\"http://www.w3.org/1999/xlink\" x=\"461\" y=\"155\" width=\"150\" height=\"150\" version=\"1.1\" zoomAndPan=\"magnify\" preserveAspectRatio=\"xMidYMid\" contentScriptType=\"application/ecmascript\" id=\"88278174-8105-11eb-9deb-00d861d0b82f\">\n",
       "<g>\n",
       "\t<!-- C12H19N3O2S -->\n",
       "\t<text x=\"55.1204\" y=\"52.821\" fill=\"#000000\" font-family=\"Helvetica\" font-size=\"6.6pt\" text-anchor=\"middle\" font-weight=\"bold\">S</text>\n",
       "\t<text x=\"55.1204\" y=\"68.571\" fill=\"#000000\" font-family=\"Helvetica\" font-size=\"6.6pt\" text-anchor=\"middle\" font-weight=\"bold\">N</text>\n",
       "\t<text x=\"70.8703\" y=\"52.821\" fill=\"#000000\" font-family=\"Helvetica\" font-size=\"6.6pt\" text-anchor=\"middle\" font-weight=\"bold\">O</text>\n",
       "\t<text x=\"39.3704\" y=\"52.821\" fill=\"#000000\" font-family=\"Helvetica\" font-size=\"6.6pt\" text-anchor=\"middle\" font-weight=\"bold\">O</text>\n",
       "\t<text x=\"82.4011\" y=\"115.821\" fill=\"#FF0000\" font-family=\"Helvetica\" font-size=\"6.6pt\" text-anchor=\"middle\" font-weight=\"bold\">N</text>\n",
       "\t<text x=\"109.68\" y=\"100.071\" fill=\"#FF0000\" font-family=\"Helvetica\" font-size=\"6.6pt\" text-anchor=\"middle\" font-weight=\"bold\">N</text>\n",
       "\t<line x1=\"55.1204\" y1=\"54.5544\" x2=\"55.1204\" y2=\"60.971\" stroke=\"#000000\" stroke-width=\"1.2\" stroke-linecap=\"round\"/>\n",
       "\t<line x1=\"68.7607\" y1=\"90.0958\" x2=\"68.7607\" y2=\"74.3459\" stroke=\"#000000\" stroke-width=\"1.2\" stroke-linecap=\"round\"/>\n",
       "\t<line x1=\"59.3457\" y1=\"68.9104\" x2=\"68.7607\" y2=\"74.3459\" stroke=\"#000000\" stroke-width=\"1.2\" stroke-linecap=\"round\"/>\n",
       "\t<line x1=\"68.7607\" y1=\"90.0958\" x2=\"82.4011\" y2=\"97.9708\" stroke=\"#FF0000\" stroke-width=\"1.2\" stroke-linecap=\"round\"/>\n",
       "\t<line x1=\"58.7004\" y1=\"52.521\" x2=\"66.6454\" y2=\"52.521\" stroke=\"#000000\" stroke-width=\"1.2\" stroke-linecap=\"round\"/>\n",
       "\t<line x1=\"58.7004\" y1=\"48.921\" x2=\"66.6454\" y2=\"48.921\" stroke=\"#000000\" stroke-width=\"1.2\" stroke-linecap=\"round\"/>\n",
       "\t<line x1=\"51.5404\" y1=\"48.921\" x2=\"43.5954\" y2=\"48.921\" stroke=\"#000000\" stroke-width=\"1.2\" stroke-linecap=\"round\"/>\n",
       "\t<line x1=\"51.5404\" y1=\"52.521\" x2=\"43.5954\" y2=\"52.521\" stroke=\"#000000\" stroke-width=\"1.2\" stroke-linecap=\"round\"/>\n",
       "\t<line x1=\"82.4011\" y1=\"97.9708\" x2=\"82.4011\" y2=\"108.221\" stroke=\"#FF0000\" stroke-width=\"1.2\" stroke-linecap=\"round\"/>\n",
       "\t<line x1=\"86.0011\" y1=\"100.333\" x2=\"86.0011\" y2=\"108.221\" stroke=\"#FF0000\" stroke-width=\"1.2\" stroke-linecap=\"round\"/>\n",
       "\t<line x1=\"82.4011\" y1=\"97.9708\" x2=\"96.0396\" y2=\"90.0958\" stroke=\"#FF0000\" stroke-width=\"1.2\" stroke-linecap=\"round\"/>\n",
       "\t<line x1=\"96.0396\" y1=\"90.0958\" x2=\"105.455\" y2=\"95.5314\" stroke=\"#FF0000\" stroke-width=\"1.2\" stroke-linecap=\"round\"/>\n",
       "\t<line x1=\"96.2857\" y1=\"94.3948\" x2=\"105.455\" y2=\"99.6882\" stroke=\"#FF0000\" stroke-width=\"1.2\" stroke-linecap=\"round\"/>\n",
       "\t<line x1=\"55.1204\" y1=\"45.221\" x2=\"55.1204\" y2=\"34.9711\" stroke=\"#000000\" stroke-width=\"1.2\" stroke-linecap=\"round\"/>\n",
       "\t<line x1=\"50.895\" y1=\"68.9104\" x2=\"41.48\" y2=\"74.3459\" stroke=\"#000000\" stroke-width=\"1.2\" stroke-linecap=\"round\"/>\n",
       "\t<line x1=\"68.7607\" y1=\"90.0958\" x2=\"55.1204\" y2=\"97.9708\" stroke=\"#000000\" stroke-width=\"1.2\" stroke-linecap=\"round\"/>\n",
       "\t<line x1=\"55.1204\" y1=\"97.9708\" x2=\"41.48\" y2=\"90.0958\" stroke=\"#000000\" stroke-width=\"1.2\" stroke-linecap=\"round\"/>\n",
       "\t<line x1=\"41.48\" y1=\"74.3459\" x2=\"41.48\" y2=\"90.0958\" stroke=\"#000000\" stroke-width=\"1.2\" stroke-linecap=\"round\"/>\n",
       "\t<line x1=\"86.6265\" y1=\"116.16\" x2=\"96.0396\" y2=\"121.596\" stroke=\"#FF0000\" stroke-width=\"1.2\" stroke-linecap=\"round\"/>\n",
       "\t<line x1=\"109.68\" y1=\"101.804\" x2=\"109.68\" y2=\"113.721\" stroke=\"#FF0000\" stroke-width=\"1.2\" stroke-linecap=\"round\"/>\n",
       "\t<line x1=\"96.0396\" y1=\"121.596\" x2=\"109.68\" y2=\"113.721\" stroke=\"#FF0000\" stroke-width=\"1.2\" stroke-linecap=\"round\"/>\n",
       "\t<line x1=\"96.2857\" y1=\"117.297\" x2=\"105.834\" y2=\"111.784\" stroke=\"#FF0000\" stroke-width=\"1.2\" stroke-linecap=\"round\"/>\n",
       "\t<line x1=\"96.0396\" y1=\"90.0958\" x2=\"96.0396\" y2=\"74.3459\" stroke=\"#FF0000\" stroke-width=\"1.2\" stroke-linecap=\"round\"/>\n",
       "\t<line x1=\"55.1204\" y1=\"34.9711\" x2=\"41.48\" y2=\"27.0961\" stroke=\"#000000\" stroke-width=\"1.2\" stroke-linecap=\"round\"/>\n",
       "\t<rect x=\"67.7607\" y=\"89.0958\" width=\"3\" height=\"3\" stroke=\"none\" fill=\"#FF0000\"/>\n",
       "\t<rect x=\"81.4011\" y=\"96.9708\" width=\"3\" height=\"3\" stroke=\"none\" fill=\"#FF0000\"/>\n",
       "\t<rect x=\"95.0396\" y=\"89.0958\" width=\"3\" height=\"3\" stroke=\"none\" fill=\"#FF0000\"/>\n",
       "\t<rect x=\"95.0396\" y=\"120.596\" width=\"3\" height=\"3\" stroke=\"none\" fill=\"#FF0000\"/>\n",
       "\t<rect x=\"108.68\" y=\"112.721\" width=\"3\" height=\"3\" stroke=\"none\" fill=\"#FF0000\"/>\n",
       "\t<rect x=\"95.0396\" y=\"73.3459\" width=\"3\" height=\"3\" stroke=\"none\" fill=\"#FF0000\"/>\n",
       "</g>\n",
       "</svg>\n",
       "\t<svg xmlns=\"http://www.w3.org/2000/svg\" xmlns:xlink=\"http://www.w3.org/1999/xlink\" x=\"614\" y=\"155\" width=\"150\" height=\"150\" version=\"1.1\" zoomAndPan=\"magnify\" preserveAspectRatio=\"xMidYMid\" contentScriptType=\"application/ecmascript\" id=\"882a28e8-8105-11eb-8414-00d861d0b82f\">\n",
       "<g>\n",
       "\t<!-- C13H17N5O2S -->\n",
       "\t<text x=\"88.0479\" y=\"86.2289\" fill=\"#000000\" font-family=\"Helvetica\" font-size=\"6.6pt\" text-anchor=\"middle\" font-weight=\"bold\">S</text>\n",
       "\t<text x=\"78.7889\" y=\"98.97\" fill=\"#000000\" font-family=\"Helvetica\" font-size=\"6.6pt\" text-anchor=\"middle\" font-weight=\"bold\">N</text>\n",
       "\t<text x=\"113.055\" y=\"73.4877\" fill=\"#000000\" font-family=\"Helvetica\" font-size=\"6.6pt\" text-anchor=\"middle\" font-weight=\"bold\">N</text>\n",
       "\t<text x=\"105.18\" y=\"49.2501\" fill=\"#000000\" font-family=\"Helvetica\" font-size=\"6.6pt\" text-anchor=\"middle\" font-weight=\"bold\">N</text>\n",
       "\t<text x=\"75.3048\" y=\"76.9718\" fill=\"#000000\" font-family=\"Helvetica\" font-size=\"6.6pt\" text-anchor=\"middle\" font-weight=\"bold\">O</text>\n",
       "\t<text x=\"100.789\" y=\"95.486\" fill=\"#000000\" font-family=\"Helvetica\" font-size=\"6.6pt\" text-anchor=\"middle\" font-weight=\"bold\">O</text>\n",
       "\t<text x=\"60.1888\" y=\"71.8402\" fill=\"#FF0000\" font-family=\"Helvetica\" font-size=\"6.6pt\" text-anchor=\"middle\" font-weight=\"bold\">N</text>\n",
       "\t<text x=\"28.8609\" y=\"75.1333\" fill=\"#FF0000\" font-family=\"Helvetica\" font-size=\"6.6pt\" text-anchor=\"middle\" font-weight=\"bold\">N</text>\n",
       "\t<line x1=\"91.6279\" y1=\"79.2015\" x2=\"97.305\" y2=\"71.3877\" stroke=\"#000000\" stroke-width=\"1.2\" stroke-linecap=\"round\"/>\n",
       "\t<line x1=\"85.2622\" y1=\"87.9622\" x2=\"82.7857\" y2=\"91.37\" stroke=\"#000000\" stroke-width=\"1.2\" stroke-linecap=\"round\"/>\n",
       "\t<line x1=\"97.305\" y1=\"71.3877\" x2=\"108.829\" y2=\"71.3877\" stroke=\"#000000\" stroke-width=\"1.2\" stroke-linecap=\"round\"/>\n",
       "\t<line x1=\"74.5635\" y1=\"96.87\" x2=\"63.039\" y2=\"96.87\" stroke=\"#000000\" stroke-width=\"1.2\" stroke-linecap=\"round\"/>\n",
       "\t<line x1=\"63.039\" y1=\"96.87\" x2=\"53.7819\" y2=\"84.1289\" stroke=\"#FF0000\" stroke-width=\"1.2\" stroke-linecap=\"round\"/>\n",
       "\t<line x1=\"97.305\" y1=\"71.3877\" x2=\"92.4368\" y2=\"56.4072\" stroke=\"#000000\" stroke-width=\"1.2\" stroke-linecap=\"round\"/>\n",
       "\t<line x1=\"99.9985\" y1=\"68.028\" x2=\"96.5908\" y2=\"57.5417\" stroke=\"#000000\" stroke-width=\"1.2\" stroke-linecap=\"round\"/>\n",
       "\t<line x1=\"114.841\" y1=\"65.8877\" x2=\"117.921\" y2=\"56.4072\" stroke=\"#000000\" stroke-width=\"1.2\" stroke-linecap=\"round\"/>\n",
       "\t<line x1=\"111.056\" y1=\"65.8877\" x2=\"113.767\" y2=\"57.5421\" stroke=\"#000000\" stroke-width=\"1.2\" stroke-linecap=\"round\"/>\n",
       "\t<line x1=\"117.921\" y1=\"56.4072\" x2=\"109.405\" y2=\"50.2201\" stroke=\"#000000\" stroke-width=\"1.2\" stroke-linecap=\"round\"/>\n",
       "\t<line x1=\"92.4368\" y1=\"56.4072\" x2=\"100.955\" y2=\"50.2196\" stroke=\"#000000\" stroke-width=\"1.2\" stroke-linecap=\"round\"/>\n",
       "\t<line x1=\"84.4679\" y1=\"79.3034\" x2=\"79.5297\" y2=\"75.7161\" stroke=\"#000000\" stroke-width=\"1.2\" stroke-linecap=\"round\"/>\n",
       "\t<line x1=\"84.4679\" y1=\"83.753\" x2=\"77.5191\" y2=\"78.7051\" stroke=\"#000000\" stroke-width=\"1.2\" stroke-linecap=\"round\"/>\n",
       "\t<line x1=\"90.2616\" y1=\"87.9622\" x2=\"96.5641\" y2=\"92.5413\" stroke=\"#000000\" stroke-width=\"1.2\" stroke-linecap=\"round\"/>\n",
       "\t<line x1=\"91.6279\" y1=\"84.505\" x2=\"96.5641\" y2=\"88.0914\" stroke=\"#000000\" stroke-width=\"1.2\" stroke-linecap=\"round\"/>\n",
       "\t<line x1=\"53.7819\" y1=\"84.1289\" x2=\"58.4819\" y2=\"73.5735\" stroke=\"#FF0000\" stroke-width=\"1.2\" stroke-linecap=\"round\"/>\n",
       "\t<line x1=\"51.4543\" y1=\"80.5062\" x2=\"55.939\" y2=\"70.4341\" stroke=\"#FF0000\" stroke-width=\"1.2\" stroke-linecap=\"round\"/>\n",
       "\t<line x1=\"53.7819\" y1=\"84.1289\" x2=\"38.118\" y2=\"85.7745\" stroke=\"#FF0000\" stroke-width=\"1.2\" stroke-linecap=\"round\"/>\n",
       "\t<line x1=\"38.118\" y1=\"85.7745\" x2=\"31.646\" y2=\"76.8667\" stroke=\"#FF0000\" stroke-width=\"1.2\" stroke-linecap=\"round\"/>\n",
       "\t<line x1=\"39.6419\" y1=\"81.7473\" x2=\"33.1619\" y2=\"72.8285\" stroke=\"#FF0000\" stroke-width=\"1.2\" stroke-linecap=\"round\"/>\n",
       "\t<line x1=\"80.0346\" y1=\"100.703\" x2=\"83.657\" y2=\"111.851\" stroke=\"#000000\" stroke-width=\"1.2\" stroke-linecap=\"round\"/>\n",
       "\t<line x1=\"63.039\" y1=\"96.87\" x2=\"58.1728\" y2=\"111.851\" stroke=\"#000000\" stroke-width=\"1.2\" stroke-linecap=\"round\"/>\n",
       "\t<line x1=\"105.18\" y1=\"41.6501\" x2=\"105.18\" y2=\"31.4003\" stroke=\"#000000\" stroke-width=\"1.2\" stroke-linecap=\"round\"/>\n",
       "\t<line x1=\"83.657\" y1=\"111.851\" x2=\"70.914\" y2=\"121.108\" stroke=\"#000000\" stroke-width=\"1.2\" stroke-linecap=\"round\"/>\n",
       "\t<line x1=\"58.1728\" y1=\"111.851\" x2=\"70.914\" y2=\"121.108\" stroke=\"#000000\" stroke-width=\"1.2\" stroke-linecap=\"round\"/>\n",
       "\t<line x1=\"56.1919\" y1=\"64.2402\" x2=\"50.9298\" y2=\"56.999\" stroke=\"#FF0000\" stroke-width=\"1.2\" stroke-linecap=\"round\"/>\n",
       "\t<line x1=\"50.9298\" y1=\"56.999\" x2=\"35.2678\" y2=\"58.6447\" stroke=\"#FF0000\" stroke-width=\"1.2\" stroke-linecap=\"round\"/>\n",
       "\t<line x1=\"48.9567\" y1=\"60.8262\" x2=\"37.9933\" y2=\"61.9781\" stroke=\"#FF0000\" stroke-width=\"1.2\" stroke-linecap=\"round\"/>\n",
       "\t<line x1=\"31.3099\" y1=\"67.5333\" x2=\"35.2678\" y2=\"58.6447\" stroke=\"#FF0000\" stroke-width=\"1.2\" stroke-linecap=\"round\"/>\n",
       "\t<line x1=\"38.118\" y1=\"85.7745\" x2=\"31.7131\" y2=\"100.163\" stroke=\"#FF0000\" stroke-width=\"1.2\" stroke-linecap=\"round\"/>\n",
       "\t<rect x=\"62.039\" y=\"95.87\" width=\"3\" height=\"3\" stroke=\"none\" fill=\"#FF0000\"/>\n",
       "\t<rect x=\"52.7819\" y=\"83.1289\" width=\"3\" height=\"3\" stroke=\"none\" fill=\"#FF0000\"/>\n",
       "\t<rect x=\"37.118\" y=\"84.7745\" width=\"3\" height=\"3\" stroke=\"none\" fill=\"#FF0000\"/>\n",
       "\t<rect x=\"49.9298\" y=\"55.999\" width=\"3\" height=\"3\" stroke=\"none\" fill=\"#FF0000\"/>\n",
       "\t<rect x=\"34.2678\" y=\"57.6447\" width=\"3\" height=\"3\" stroke=\"none\" fill=\"#FF0000\"/>\n",
       "\t<rect x=\"30.7131\" y=\"99.1632\" width=\"3\" height=\"3\" stroke=\"none\" fill=\"#FF0000\"/>\n",
       "</g>\n",
       "</svg>\n",
       "</g>\n",
       "</svg>"
      ],
      "text/plain": [
       "<IPython.core.display.SVG object>"
      ]
     },
     "execution_count": 43,
     "metadata": {},
     "output_type": "execute_result"
    }
   ],
   "source": [
    "# Implicit hydrogens are a bad idea. Almost always. Probably the worst\n",
    "# idea in the history of cheminformatics.\n",
    "# Make sure we have a full hydrogen set\n",
    "d.hadd()\n",
    "# Make a substructure object so that we do not need to decode it\n",
    "# every time\n",
    "sse=Ens('c(C)1nccnc1C!','smarts')\n",
    "# Iterate over the dataset contents. Datasets and other objects provide\n",
    "# a built-in default iterator over the \"obvious\" elements, and some have\n",
    "# other named iterator mechanisms for more advanced use cases.\n",
    "for e in d:\n",
    "    match('ss',sse,e,atomhighlight=True,bondhighlight=True)\n",
    "\n",
    "sse.delete()\n",
    "# Get the result in a nice image\n",
    "p=Prop.Ref('E_SVG_IMAGE')\n",
    "p.setparam('symbolfontsize',6,'frame',False,'asymbol','compact')\n",
    "imgfile=d.get('D_SVG_IMAGE',parameters={'nrows':2,'ncols':5,'boxwidth':150,'boxheight':150})\n",
    "SVG(filename=imgfile)\n",
    "    "
   ]
  },
  {
   "cell_type": "markdown",
   "metadata": {},
   "source": [
    "The display coordinates for the molecules above come from the SD file. The toolkit 2D layout coordinate generator would never have drawn the sulfonamide group in the upper right corner in this atrocious fashion :-).\n",
    "\n",
    "Let's see if we can also scan the SD file for contents of its data fields."
   ]
  },
  {
   "cell_type": "code",
   "execution_count": 44,
   "metadata": {},
   "outputs": [
    {
     "name": "stdout",
     "output_type": "stream",
     "text": [
      "15106\n",
      "runtime 15.2 secs\n",
      "[246, 258, 339, 345, 355, 357, 367, 385, 411, 496]\n",
      "runtime 0.4 secs\n"
     ]
    }
   ],
   "source": [
    "mf.rewind()\n",
    "# Access the second structure (0-based indexing) in the result dataset \n",
    "# and use its property value as query target. \n",
    "# The result should be the same record (15106) as in the original\n",
    "# result query set. We use a mode to stop the query\n",
    "# after the first hit since we know this is an unique field.\n",
    "# We can use the property alias name here directly because the\n",
    "# property was auto-defined when we peeked into the file. If accessing\n",
    "# an un-read SD file, it might be necessary to define a custom property\n",
    "# before the query.\n",
    "tstart=time.time()\n",
    "print(mf.scan('EMOL_VERSION_ID = '+d[1].EMOL_VERSION_ID,mode='record'))\n",
    "tstop=time.time()\n",
    "print('runtime %.1f secs' % (tstop-tstart))\n",
    "# This will again need a few seconds\n",
    "mf.rewind()\n",
    "# You can directly query on data values which need to be computed on the fly from the read records\n",
    "tstart=time.time()\n",
    "print(mf.scan('E_COMPLEXITY < 50',mode='recordlist',parameters={'maxhits':10}))\n",
    "tstop=time.time()\n",
    "print('runtime %.1f secs' % (tstop-tstart))"
   ]
  },
  {
   "cell_type": "markdown",
   "metadata": {},
   "source": [
    "OK, this seems to work OK. But it is not exactly fast. What can we do about that?\n",
    "\n",
    "The solution is to convert the SD file into something which can be processed faster, by using binary encoding, indices, and substructure screening.\n",
    "\n",
    "In the toolkit, there are three possibilities for this. In order of both power and complexity of set-up:\n",
    "<ol>\n",
    "<li>Convert it to a Cactvs native query file. There are two of these: CBS and BDB. BDB is the recommended format for current applications. If you are stuck in the 90ies and still need to design a structure query file for quick processing from a CDROM, use CBS.\n",
    "<li>Convert it to a local SQLite database file, and perform queries on with with the Cactvs cartridge for SQLite, with the toolkit or any SQLite-enabled software which can send SQL commands to SQLite.\n",
    "<li>Convert it into a networked database of a supported type, for example a MySQL/MariaDB or PostgreSQL database, and again use the Cactvs cartridge for accessing database via SQL commands with any suitable client.\n",
    "</ol>\n",
    "\n",
    "For the sake of simplicity, we will use the first variant. For many cases, this is sufficient, and scales\n",
    "to serveral million structures."
   ]
  },
  {
   "cell_type": "code",
   "execution_count": 45,
   "metadata": {},
   "outputs": [
    {
     "name": "stdout",
     "output_type": "stream",
     "text": [
      "((E_IDENT, 'nocase trim indexed', 'structure', 'emolecules_sample_100000.bdb'), (E_NAME, 'nocase trim', 'structure', 'emolecules_sample_100000.bdb'), ('structure', 'none', 'structure', 'emolecules_sample_100000.bdb'), (E_SCREEN, 'nocopy norecall indexed', 'structure', 'emolecules_sample_100000.bdb'), (E_NO_HYDROGEN_SCREEN, 'nocopy norecall indexed', 'structure', 'emolecules_sample_100000.bdb'), (E_HASHY, 'nocopy norecall indexed', 'structure', 'emolecules_sample_100000.bdb'), (E_HASHSY, 'nocopy norecall indexed', 'structure', 'emolecules_sample_100000.bdb'), (E_HASHIY, 'nocopy norecall indexed', 'structure', 'emolecules_sample_100000.bdb'), (E_HASHISY, 'nocopy norecall indexed', 'structure', 'emolecules_sample_100000.bdb'), (E_RACEMIC_STEREO_HASH, 'nocopy norecall indexed', 'structure', 'emolecules_sample_100000.bdb'), (E_ELEMENT_COUNT, 'nocopy norecall fieldindexed', 'structure', 'emolecules_sample_100000.bdb'), (M_ELEMENT_COUNT, 'nocopy norecall fieldindexed', 'structure', 'emolecules_sample_100000.bdb'), (E_NATOMS, 'nocopy norecall indexed', 'structure', 'emolecules_sample_100000.bdb'), (E_NMOLECULES, 'nocopy norecall indexed', 'structure', 'emolecules_sample_100000.bdb'), (E_NBONDS, 'nocopy norecall indexed', 'structure', 'emolecules_sample_100000.bdb'), (E_WEIGHT, 'nocopy norecall indexed', 'structure', 'emolecules_sample_100000.bdb'), (E_HEAVY_ATOM_COUNT, 'nocopy norecall indexed', 'structure', 'emolecules_sample_100000.bdb'), (E_MINIMOL, 'nocopy norecall', 'structure', 'emolecules_sample_100000.bdb'))\n"
     ]
    }
   ],
   "source": [
    "df=Molfile('../CommonData/emolecules_sample_100000.bdb','w')\n",
    "print(df.fields)"
   ]
  },
  {
   "cell_type": "markdown",
   "metadata": {},
   "source": [
    "As you can see, an empty BDB file already contains a lot of default fields. These are the standard set for effective structure queries and they are perfect for our project. We just need to add our specific SD fields."
   ]
  },
  {
   "cell_type": "code",
   "execution_count": 46,
   "metadata": {},
   "outputs": [
    {
     "name": "stdout",
     "output_type": "stream",
     "text": [
      "((E_MINIMOL, 'nocopy norecall', 'structure', 'emolecules_sample_100000.bdb'), (E_*EMOL_VERSION_ID*, 'nocopy indexed', 'structure', 'emolecules_sample_100000.bdb'), (E_*EMOL_PARENT_ID*, 'nocopy indexed', 'structure', 'emolecules_sample_100000.bdb'), (E_*EMOL_LINK*, 'nocopy indexed', 'structure', 'emolecules_sample_100000.bdb'))\n"
     ]
    }
   ],
   "source": [
    "# Add the custom fields. Nocopy means they are not duplicated in the\n",
    "# main structure record (they are not needed for structure queries)\n",
    "# and indexed means that a btree index is built, for immediate\n",
    "# lookup of records via simple standard query value comparisons\n",
    "# The syntax of these field additions is a little bit awkward in\n",
    "# Python, it was originally designed for easy processing in Tcl.\n",
    "for f in mf.fields:\n",
    "    df.fields = '+{%s nocopy|indexed}'%f\n",
    "print(df.fields[-4:])"
   ]
  },
  {
   "cell_type": "markdown",
   "metadata": {},
   "source": [
    "As you can see, the fields are added to the rear. The defaults _structure_ (associated with a plain structure record, not a reaction, and not with a specific reaction role) and the original filename (we keep everything in a single file) are what we want. BDB files automatically store the property definitions of the field data they store, so there is no need to define them to be able to read the file later.\n",
    "\n",
    "All we need to do now is to pour the contents of our SD file into the database file."
   ]
  },
  {
   "cell_type": "code",
   "execution_count": 47,
   "metadata": {},
   "outputs": [
    {
     "name": "stdout",
     "output_type": "stream",
     "text": [
      "runtime 2066.7 secs\n",
      "wrote 100000 records\n"
     ]
    },
    {
     "data": {
      "text/plain": [
       "1"
      ]
     },
     "execution_count": 47,
     "metadata": {},
     "output_type": "execute_result"
    }
   ],
   "source": [
    "mf.rewind()\n",
    "# We like structures with a full set of hydrogens, so make sure we get them when we read the SD records\n",
    "mf.hydrogens = 'add'\n",
    "# Copy the SD structures and field data to the database file, and precompute a lot of stuff. \n",
    "# This runs about half an hour. Grab a coffee.\n",
    "# Yes, it can be made faster by parallelization. But this is an introductory tutorial...\n",
    "tstart=time.time()\n",
    "df.write(mf)\n",
    "tstop=time.time()\n",
    "print('runtime %.1f secs' % (tstop-tstart))\n",
    "print('wrote %d records' % df.count())\n",
    "mf.close()\n",
    "df.close()"
   ]
  },
  {
   "cell_type": "markdown",
   "metadata": {},
   "source": [
    "Now, let's redo the queries on the BDB file."
   ]
  },
  {
   "cell_type": "code",
   "execution_count": 48,
   "metadata": {},
   "outputs": [
    {
     "name": "stdout",
     "output_type": "stream",
     "text": [
      "100000\n",
      "runtime 0.0 secs\n",
      "[356, 15106, 15248, 15251, 15276, 15742, 15743, 16783, 16805, 17340]\n",
      "{'start_time': datetime.datetime(2021, 3, 9, 20, 10, 16), 'stop_time': datetime.datetime(2021, 3, 9, 20, 10, 16), 'scan_time': 0, 'ens_read': 0, 'miniens_read': 2042, 'reactions_read': 0, 'properties_read': 19382, 'ens_screened': 17271, 'reactions_screened': 0, 'records_examined': 2042, 'records_matched': 10, 'start_record': 1, 'end_record': 17341, 'eof_reached': False, 'max_mmap_used': 0, 'max_mmap_requested': 0, 'records_skipped': 0, 'records_repositioned': 17350, 'scores_computed': 0}\n",
      "runtime 0.0 secs\n",
      "[ens0, ens1, ens2, ens3, ens4, ens5, ens6, ens7, ens8, ens9]\n",
      "15106\n",
      "runtime 0.0 secs\n",
      "[246, 258, 339, 345, 355, 357, 385, 411, 496, 514]\n",
      "runtime 0.2 secs\n"
     ]
    }
   ],
   "source": [
    "# Remove old structures from our dataset container\n",
    "d.clear()\n",
    "\n",
    "df=Molfile('../CommonData/emolecules_sample_100000.bdb')\n",
    "# This operation does not need to dig through all the records any longer\n",
    "print(df.count())\n",
    "tstart=time.time()\n",
    "# The exclamation mark after the SMARTS indicates that we want\n",
    "# to use strict SMARTS, including the enforcement of aliphaticity of \n",
    "# the uppercase C atoms\n",
    "reclist = df.scan('structure >= \"c(C)1nccnc1C!\"',mode='recordlist',parameters={'maxhits':10})\n",
    "tstop=time.time()\n",
    "print('runtime %.1f secs' % (tstop-tstart))\n",
    "print(reclist)\n",
    "print(df.scanstats)\n",
    "\n",
    "df.rewind()\n",
    "tstart=time.time()\n",
    "df.scan('true',mode='enslist',parameters={\"target\":d,\"order\":reclist})\n",
    "tstop=time.time()\n",
    "print('runtime %.1f secs' % (tstop-tstart))\n",
    "print(d.ens())\n",
    "\n",
    "df.rewind()\n",
    "tstart=time.time()\n",
    "print(df.scan('EMOL_VERSION_ID = '+d[1].EMOL_VERSION_ID,mode='record'))\n",
    "tstop=time.time()\n",
    "print('runtime %.1f secs' % (tstop-tstart))\n",
    "\n",
    "# This still requires on-the-fly computation from the structure records. We could have added it as \n",
    "# another indexed field for blazing performance, but decoding structures from binary format is\n",
    "# already much faster than SD record parsing.\n",
    "df.rewind()\n",
    "tstart=time.time()\n",
    "print(df.scan('E_COMPLEXITY < 50',mode='recordlist',parameters={'maxhits':10}))\n",
    "tstop=time.time()\n",
    "print('runtime %.1f secs' % (tstop-tstart))"
   ]
  },
  {
   "cell_type": "markdown",
   "metadata": {},
   "source": [
    "As you can see, all response times are almost instantaneous, and this scales to millions of compounds. A comparison of the scan statistics is also interesting: The substructure scan did read only a small portion of the structures in the file. Most were already weeded out by prescreening. Those which passed the filter were tested by examining the Minimol records in the file. Minimols are a binary, pre-parsed representation of the structures with precomputed commonly used substructure match attributes and compressed in a fashion that they can quickly be expanded with a single memory allocation. Testing these molecule representation is order of magnitudes faster than SD records.\n",
    "\n",
    "So are there any disadvantages to using BDB files?\n",
    "\n",
    "Well, first of all, they are proprietary and cannot be processed outside the toolkit. And they are bigger than the compressed SD file, by a factor of 20 or so compared to the compressed SD file, and a factor of 2 to the raw SD file:"
   ]
  },
  {
   "cell_type": "code",
   "execution_count": 49,
   "metadata": {},
   "outputs": [
    {
     "name": "stdout",
     "output_type": "stream",
     "text": [
      "27449501\n",
      "625754112\n"
     ]
    }
   ],
   "source": [
    "import os\n",
    "print(os.path.getsize('../CommonData/emolecules_sample_100000.sdf.gz'))\n",
    "print(os.path.getsize('../CommonData/emolecules_sample_100000.bdb'))"
   ]
  },
  {
   "cell_type": "code",
   "execution_count": 50,
   "metadata": {},
   "outputs": [
    {
     "data": {
      "text/plain": [
       "2"
      ]
     },
     "execution_count": 50,
     "metadata": {},
     "output_type": "execute_result"
    }
   ],
   "source": [
    "Molfile.Close('all')\n",
    "Dataset.Delete('all')"
   ]
  },
  {
   "cell_type": "code",
   "execution_count": null,
   "metadata": {},
   "outputs": [],
   "source": []
  }
 ],
 "metadata": {
  "kernelspec": {
   "display_name": "Python 3",
   "language": "python",
   "name": "python3"
  },
  "language_info": {
   "codemirror_mode": {
    "name": "ipython",
    "version": 3
   },
   "file_extension": ".py",
   "mimetype": "text/x-python",
   "name": "python",
   "nbconvert_exporter": "python",
   "pygments_lexer": "ipython3",
   "version": "3.8.3"
  }
 },
 "nbformat": 4,
 "nbformat_minor": 4
}
