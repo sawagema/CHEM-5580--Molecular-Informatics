{
 "cells": [
  {
   "cell_type": "markdown",
   "metadata": {},
   "source": [
    "So you have an old ChemFinder database and no idea how to rescue its contents after you discontinued your license to the ChemDraw suite? Or you want to batch-process its content, without tedious repeated data exports every other day after an update?\n",
    "\n",
    "You can do that with Cactvs, at least for certain versions of ChemFinder databases. While a ChemFinder database consists of a whole bunch of files, the heart is an MDB database file, powered by the Microsoft Jet engine. More recent ChemFinder versions store the structure as a CDX OLE object in a blob column in a single table in the database file, side by side with the other structure-level attributes.\n",
    "\n",
    "Cactvs has an MDB table reader (built with the _mdbtools_ library, thanks guys!), and can process native binary CDX and OLE data. This gives us a starting point. Btw, this works on any supported platform and is not limited to Windows."
   ]
  },
  {
   "cell_type": "code",
   "execution_count": 2,
   "metadata": {},
   "outputs": [
    {
     "data": {
      "text/plain": [
       "mdb"
      ]
     },
     "execution_count": 2,
     "metadata": {},
     "output_type": "execute_result"
    }
   ],
   "source": [
    "# Load the table I/O module for the MDB format\n",
    "# This is actually not required as explicit code - as long as the database file has the standard suffix .mdb. \n",
    "# The module is auto-loaded in that case.\n",
    "Tablex.Load('mdb')"
   ]
  },
  {
   "cell_type": "code",
   "execution_count": 3,
   "metadata": {},
   "outputs": [
    {
     "name": "stdout",
     "output_type": "stream",
     "text": [
      "MolTable\n",
      "('Mol_ID', 'Structure', 'Chemical_Name')\n",
      "('int64', 'structure', 'string')\n"
     ]
    },
    {
     "data": {
      "text/plain": [
       "1"
      ]
     },
     "execution_count": 3,
     "metadata": {},
     "output_type": "execute_result"
    }
   ],
   "source": [
    "# Lets have a look into the table structure\n",
    "t=Table.Read('bsp.mdb',{'headeronly':True})\n",
    "# The ChemFinder databases usually only contain a single table. In more complex cases, we\n",
    "# can use the tablename read parameter to access a specific table instead of the first non-system table.\n",
    "print(t.name)\n",
    "print(t.colnames)\n",
    "print(t.coldatatypes)\n",
    "t.delete()"
   ]
  },
  {
   "cell_type": "markdown",
   "metadata": {},
   "source": [
    "The CDX OLE object column was automatically identified, and we directly obtain a structure object as cell value when we read the table."
   ]
  },
  {
   "cell_type": "code",
   "execution_count": 4,
   "metadata": {},
   "outputs": [
    {
     "name": "stdout",
     "output_type": "stream",
     "text": [
      "(ens0, ens1, ens2)\n",
      "('benzene', 'toluene', 'Testosterone')\n"
     ]
    }
   ],
   "source": [
    "t=Table.Read('bsp.mdb')\n",
    "print(t.colget('Structure'))\n",
    "print(t.colget('Chemical_Name'))"
   ]
  },
  {
   "cell_type": "markdown",
   "metadata": {},
   "source": [
    "Processing these is now straightforward. Let's create a set of images for a Web catalog and name them after the compound name. Since we set a specific name not in the temp directory, these images persist, even if the structures they are property data of are deleted."
   ]
  },
  {
   "cell_type": "code",
   "execution_count": 5,
   "metadata": {},
   "outputs": [
    {
     "data": {
      "text/plain": [
       "1"
      ]
     },
     "execution_count": 5,
     "metadata": {},
     "output_type": "execute_result"
    }
   ],
   "source": [
    "for (e,n) in zip(t.colget('Structure'),t.colget('Chemical_Name')):\n",
    "    e.need('E_SVG_IMAGE',parameters={'framecolor':'transparent','font':'Helvetica','filename':n+'_helv.svg'})\n",
    "t.delete()"
   ]
  },
  {
   "cell_type": "markdown",
   "metadata": {},
   "source": [
    "Let's have a look:"
   ]
  },
  {
   "cell_type": "code",
   "execution_count": 6,
   "metadata": {},
   "outputs": [
    {
     "data": {
      "image/svg+xml": [
       "<svg xmlns=\"http://www.w3.org/2000/svg\" xmlns:xlink=\"http://www.w3.org/1999/xlink\" width=\"180\" height=\"180\" version=\"1.1\" zoomAndPan=\"magnify\" preserveAspectRatio=\"xMidYMid\" contentScriptType=\"application/ecmascript\" id=\"6e353344-8194-11eb-90c1-00d861d0b82f\">\n",
       "<g>\n",
       "\t<title>Untitled Document</title>\n",
       "\t<desc content=\"structured text\">Untitled Document</desc>\n",
       "\t<!-- Untitled Document -->\n",
       "\t<rect x=\"0\" y=\"0\" width=\"180\" height=\"180\" stroke=\"none\" fill=\"none\"/>\n",
       "\t<text x=\"21.1389\" y=\"135.943\" fill=\"#000000\" font-family=\"Helvetica\" font-size=\"8.8pt\" text-anchor=\"middle\" font-weight=\"bold\">O</text>\n",
       "\t<text x=\"88.6889\" y=\"116.443\" fill=\"#000000\" font-family=\"Helvetica\" font-size=\"8.8pt\" text-anchor=\"middle\" font-weight=\"bold\">H</text>\n",
       "\t<text x=\"105.576\" y=\"87.1925\" fill=\"#000000\" font-family=\"Helvetica\" font-size=\"8.8pt\" text-anchor=\"middle\" font-weight=\"bold\">H</text>\n",
       "\t<text x=\"122.464\" y=\"116.443\" fill=\"#000000\" font-family=\"Helvetica\" font-size=\"8.8pt\" text-anchor=\"middle\" font-weight=\"bold\">H</text>\n",
       "\t<text x=\"150.906\" y=\"52.8711\" fill=\"#000000\" font-family=\"Helvetica\" font-size=\"8.8pt\" text-anchor=\"middle\" font-weight=\"bold\">OH</text>\n",
       "\t<line x1=\"38.0264\" y1=\"103.543\" x2=\"38.0264\" y2=\"123.043\" stroke=\"#000000\" stroke-width=\"1.2\" stroke-linecap=\"round\"/>\n",
       "\t<line x1=\"38.0264\" y1=\"123.043\" x2=\"54.9139\" y2=\"132.793\" stroke=\"#000000\" stroke-width=\"1.2\" stroke-linecap=\"round\"/>\n",
       "\t<line x1=\"37.1264\" y1=\"121.484\" x2=\"26.6543\" y2=\"127.53\" stroke=\"#000000\" stroke-width=\"1.2\" stroke-linecap=\"round\"/>\n",
       "\t<line x1=\"38.9264\" y1=\"124.601\" x2=\"26.6543\" y2=\"131.687\" stroke=\"#000000\" stroke-width=\"1.2\" stroke-linecap=\"round\"/>\n",
       "\t<line x1=\"54.9139\" y1=\"132.793\" x2=\"71.8014\" y2=\"123.043\" stroke=\"#000000\" stroke-width=\"1.2\" stroke-linecap=\"round\"/>\n",
       "\t<line x1=\"55.647\" y1=\"128.212\" x2=\"67.4683\" y2=\"121.387\" stroke=\"#000000\" stroke-width=\"1.2\" stroke-linecap=\"round\"/>\n",
       "\t<line x1=\"71.8014\" y1=\"123.043\" x2=\"71.8014\" y2=\"103.543\" stroke=\"#000000\" stroke-width=\"1.2\" stroke-linecap=\"round\"/>\n",
       "\t<line x1=\"71.8014\" y1=\"103.543\" x2=\"54.9139\" y2=\"93.7925\" stroke=\"#000000\" stroke-width=\"1.2\" stroke-linecap=\"round\"/>\n",
       "\t<line x1=\"38.0264\" y1=\"103.543\" x2=\"54.9139\" y2=\"93.7925\" stroke=\"#000000\" stroke-width=\"1.2\" stroke-linecap=\"round\"/>\n",
       "\t<line x1=\"71.8014\" y1=\"123.043\" x2=\"88.6889\" y2=\"132.793\" stroke=\"#000000\" stroke-width=\"1.2\" stroke-linecap=\"round\"/>\n",
       "\t<line x1=\"88.6889\" y1=\"132.793\" x2=\"105.576\" y2=\"123.043\" stroke=\"#000000\" stroke-width=\"1.2\" stroke-linecap=\"round\"/>\n",
       "\t<line x1=\"105.576\" y1=\"123.043\" x2=\"105.576\" y2=\"103.543\" stroke=\"#000000\" stroke-width=\"1.2\" stroke-linecap=\"round\"/>\n",
       "\t<line x1=\"105.576\" y1=\"103.543\" x2=\"88.6889\" y2=\"93.7925\" stroke=\"#000000\" stroke-width=\"1.2\" stroke-linecap=\"round\"/>\n",
       "\t<line x1=\"71.8014\" y1=\"103.543\" x2=\"88.6889\" y2=\"93.7925\" stroke=\"#000000\" stroke-width=\"1.2\" stroke-linecap=\"round\"/>\n",
       "\t<line x1=\"105.576\" y1=\"103.543\" x2=\"122.464\" y2=\"93.7925\" stroke=\"#000000\" stroke-width=\"1.2\" stroke-linecap=\"round\"/>\n",
       "\t<line x1=\"122.464\" y1=\"93.7925\" x2=\"122.464\" y2=\"74.2925\" stroke=\"#000000\" stroke-width=\"1.2\" stroke-linecap=\"round\"/>\n",
       "\t<line x1=\"122.464\" y1=\"74.2925\" x2=\"105.576\" y2=\"64.5425\" stroke=\"#000000\" stroke-width=\"1.2\" stroke-linecap=\"round\"/>\n",
       "\t<line x1=\"105.576\" y1=\"64.5425\" x2=\"88.6889\" y2=\"74.2925\" stroke=\"#000000\" stroke-width=\"1.2\" stroke-linecap=\"round\"/>\n",
       "\t<line x1=\"88.6889\" y1=\"93.7925\" x2=\"88.6889\" y2=\"74.2925\" stroke=\"#000000\" stroke-width=\"1.2\" stroke-linecap=\"round\"/>\n",
       "\t<line x1=\"122.464\" y1=\"93.7925\" x2=\"141.009\" y2=\"99.8184\" stroke=\"#000000\" stroke-width=\"1.2\" stroke-linecap=\"round\"/>\n",
       "\t<line x1=\"141.009\" y1=\"99.8184\" x2=\"152.471\" y2=\"84.0425\" stroke=\"#000000\" stroke-width=\"1.2\" stroke-linecap=\"round\"/>\n",
       "\t<line x1=\"152.471\" y1=\"84.0425\" x2=\"141.009\" y2=\"68.2667\" stroke=\"#000000\" stroke-width=\"1.2\" stroke-linecap=\"round\"/>\n",
       "\t<line x1=\"122.464\" y1=\"74.2925\" x2=\"141.009\" y2=\"68.2667\" stroke=\"#000000\" stroke-width=\"1.2\" stroke-linecap=\"round\"/>\n",
       "\t<polygon fill=\"#000000\" stroke=\"none\" points=\" 71.8014,103.543 69.3014,84.0425 74.3014,84.0425 \"/>\n",
       "\t<polygon fill=\"#000000\" stroke=\"none\" points=\" 88.6889,93.7925 88.9667,95.1259 88.4111,95.1259 \"/>\n",
       "\t<polygon fill=\"#000000\" stroke=\"none\" points=\" 89.2444,96.4592 89.5222,97.7925 87.8555,97.7925 88.1333,96.4592 \"/>\n",
       "\t<polygon fill=\"#000000\" stroke=\"none\" points=\" 89.8,99.1259 90.0778,100.459 87.3,100.459 87.5778,99.1259 \"/>\n",
       "\t<polygon fill=\"#000000\" stroke=\"none\" points=\" 90.3555,101.793 90.6333,103.126 86.7444,103.126 87.0222,101.793 \"/>\n",
       "\t<polygon fill=\"#000000\" stroke=\"none\" points=\" 90.9111,104.459 91.1889,105.793 86.1889,105.793 86.4667,104.459 \"/>\n",
       "\t<polygon fill=\"#000000\" stroke=\"none\" points=\" 105.576,103.543 103.076,89.0425 108.076,89.0425 \"/>\n",
       "\t<polygon fill=\"#000000\" stroke=\"none\" points=\" 122.464,93.7925 122.742,95.1259 122.186,95.1259 \"/>\n",
       "\t<polygon fill=\"#000000\" stroke=\"none\" points=\" 123.019,96.4592 123.297,97.7925 121.631,97.7925 121.908,96.4592 \"/>\n",
       "\t<polygon fill=\"#000000\" stroke=\"none\" points=\" 123.575,99.1259 123.853,100.459 121.075,100.459 121.353,99.1259 \"/>\n",
       "\t<polygon fill=\"#000000\" stroke=\"none\" points=\" 124.131,101.793 124.408,103.126 120.519,103.126 120.797,101.793 \"/>\n",
       "\t<polygon fill=\"#000000\" stroke=\"none\" points=\" 124.686,104.459 124.964,105.793 119.964,105.793 120.242,104.459 \"/>\n",
       "\t<polygon fill=\"#000000\" stroke=\"none\" points=\" 122.464,74.2925 119.964,54.7925 124.964,54.7925 \"/>\n",
       "\t<polygon fill=\"#000000\" stroke=\"none\" points=\" 141.009,68.2667 143.033,53.9486 147.788,55.4937 \"/>\n",
       "\t<text x=\"66.5765\" y=\"110.543\" fill=\"#000000\" font-family=\"Helvetica\" font-size=\"7pt\" text-anchor=\"middle\" font-weight=\"bold\">R</text>\n",
       "\t<text x=\"100.351\" y=\"110.543\" fill=\"#000000\" font-family=\"Helvetica\" font-size=\"7pt\" text-anchor=\"middle\" font-weight=\"bold\">R</text>\n",
       "\t<text x=\"93.9144\" y=\"93.7925\" fill=\"#000000\" font-family=\"Helvetica\" font-size=\"7pt\" text-anchor=\"middle\" font-weight=\"bold\">S</text>\n",
       "\t<text x=\"127.689\" y=\"89.7925\" fill=\"#000000\" font-family=\"Helvetica\" font-size=\"7pt\" text-anchor=\"middle\" font-weight=\"bold\">S</text>\n",
       "\t<text x=\"117.238\" y=\"81.2925\" fill=\"#000000\" font-family=\"Helvetica\" font-size=\"7pt\" text-anchor=\"middle\" font-weight=\"bold\">S</text>\n",
       "\t<text x=\"146.235\" y=\"68.2667\" fill=\"#000000\" font-family=\"Helvetica\" font-size=\"7pt\" text-anchor=\"middle\" font-weight=\"bold\">S</text>\n",
       "</g>\n",
       "</svg>"
      ],
      "text/plain": [
       "<IPython.core.display.SVG object>"
      ]
     },
     "execution_count": 6,
     "metadata": {},
     "output_type": "execute_result"
    }
   ],
   "source": [
    "from IPython.display import SVG\n",
    "SVG(filename='Testosterone_helv.svg')"
   ]
  },
  {
   "cell_type": "markdown",
   "metadata": {},
   "source": [
    "Note that contracted atom symbols (OH) and annotations (stereochemistry) were read from the CDX data and are drawn faithfully in the SVG image.\n",
    "\n",
    "That was easy, with a really small table with only three rows. How do we process larger tables? Well, if you need to (start thinking about this if you have more then 10K rows), you can read the table in blocks. "
   ]
  },
  {
   "cell_type": "code",
   "execution_count": 1,
   "metadata": {},
   "outputs": [
    {
     "name": "stdout",
     "output_type": "stream",
     "text": [
      "2\n",
      "1\n"
     ]
    },
    {
     "data": {
      "text/plain": [
       "1"
      ]
     },
     "execution_count": 1,
     "metadata": {},
     "output_type": "execute_result"
    }
   ],
   "source": [
    "blocksize=2\n",
    "rec=1\n",
    "# We recycle the table in each block read for the sake of efficiency.\n",
    "t=Table()\n",
    "while True:\n",
    "    t=Table.Read('bsp.mdb',{'startrecord':rec,'maxrows':blocksize,'target':t})\n",
    "    print(t.nrows)\n",
    "    if t.nrows<blocksize:\n",
    "        break\n",
    "    rec += blocksize\n",
    "t.delete()"
   ]
  },
  {
   "cell_type": "code",
   "execution_count": null,
   "metadata": {},
   "outputs": [],
   "source": []
  }
 ],
 "metadata": {
  "kernelspec": {
   "display_name": "Python 3",
   "language": "python",
   "name": "python3"
  },
  "language_info": {
   "codemirror_mode": {
    "name": "ipython",
    "version": 3
   },
   "file_extension": ".py",
   "mimetype": "text/x-python",
   "name": "python",
   "nbconvert_exporter": "python",
   "pygments_lexer": "ipython3",
   "version": "3.8.3"
  }
 },
 "nbformat": 4,
 "nbformat_minor": 4
}
