{
 "cells": [
  {
   "cell_type": "markdown",
   "metadata": {},
   "source": [
    "Cleaning up a file with structures is a common task. One of the most popular methods is to simply remove records from a larger file which do not meet specific criteria. The problem is then to perform this task without disrupting the remaining records or general record structure. We additionally like to do this without reading and re-writing records, because something always changes in these in unexpected ways.\n",
    "\n",
    "For this exercise, we want to delete all structures from a test file which\n",
    "<ol>\n",
    "<li>Contain more than one molecular fragment, assuming this indicates a salt, mixture, etc.\n",
    "<li>Do not have an overall formal charge of zero (assuming again that this would indicate a salt)\n",
    "<li>Posses stereogenic centers without defined stereochemistry\n",
    "</ol>\n",
    "\n",
    "First, lets write a test file as SDF and SMILES. The choice of these formats is no accident. Clean record deletion is supported by the toolkit for formats which are either\n",
    "<ol>\n",
    "<li>Simple text files, where records are simply concatenated. SMILES and SDF are examples of this.\n",
    "<li>Files where the format I/O module implements special functions for record deletion. Examples are the BDB and CBS accelerated query file formats (see tutorial on fast file scans).\n",
    "</ol>\n",
    "    \n",
    "If none of these conditions are met, it gets messier. This is also true if a supported format is not stored in its plain form. Compressed SD-files and SMILES files in a ZIP file cannot be handled directly."
   ]
  },
  {
   "cell_type": "code",
   "execution_count": 1,
   "metadata": {},
   "outputs": [
    {
     "data": {
      "text/plain": [
       "1"
      ]
     },
     "execution_count": 1,
     "metadata": {},
     "output_type": "execute_result"
    }
   ],
   "source": [
    "# create a test dataset. Passing molecules are the first (simple pyridine), fourth (E-2-butene) and last (alanine)\n",
    "# Record 2 contains two fragments,  3 an unblanced charge, 5 undefined bond stereochemistry and\n",
    "# 6 undefined atom stereochemistry\n",
    "d=Dataset('c1ncccc1','c1[nH+]cccc1.[Cl-]','c1[nH+]cccc1','C/C=C/C','CC=CC','CC(N)C(=O)O','C[C@H](N)C(=O)O')\n",
    "# Default write of a SMILES file\n",
    "Molfile.Write('test.smi',d)\n",
    "# For the SD file, we complicate things by writing them with an reduced implicit hydrogen set\n",
    "# The 'strip' write mode removes hydrogens which are not usually displayed, \n",
    "# and not significant for stereochemistry, etc.\n",
    "mf=Molfile('test.sdf','w',{'hydrogens':'strip'})\n",
    "mf.write(d)\n",
    "mf.close()"
   ]
  },
  {
   "cell_type": "markdown",
   "metadata": {},
   "source": [
    "How can we test for the conditions?\n",
    "\n",
    "Fragment count and overall charge are simple, these are simple checks of built-in property values:"
   ]
  },
  {
   "cell_type": "code",
   "execution_count": 2,
   "metadata": {
    "scrolled": true
   },
   "outputs": [
    {
     "name": "stdout",
     "output_type": "stream",
     "text": [
      "Frags OK: True Charge OK: True\n",
      "Frags OK: False Charge OK: True\n",
      "Frags OK: True Charge OK: False\n",
      "Frags OK: True Charge OK: True\n",
      "Frags OK: True Charge OK: True\n",
      "Frags OK: True Charge OK: True\n",
      "Frags OK: True Charge OK: True\n"
     ]
    }
   ],
   "source": [
    "for e in d:\n",
    "    print(f'Frags OK: {e.E_NMOLECULES==1} Charge OK: {e.E_CHARGE==0}')"
   ]
  },
  {
   "cell_type": "markdown",
   "metadata": {},
   "source": [
    "For the stereo check, this is a little bit more complicated. Let's first do it manually on the atom and bond levels:"
   ]
  },
  {
   "cell_type": "code",
   "execution_count": 3,
   "metadata": {},
   "outputs": [],
   "source": [
    "def astereocheck(e):\n",
    "    for a in e.atoms():\n",
    "        if a.A_STEREOGENIC=='yes' and a.A_LABEL_STEREO=='undef':\n",
    "            return False\n",
    "    return True\n",
    "\n",
    "def bstereocheck(e):\n",
    "    for b in e.bonds():\n",
    "        if b.B_STEREOGENIC=='yes' and b.B_LABEL_STEREO=='undef':\n",
    "            return False\n",
    "    return True     "
   ]
  },
  {
   "cell_type": "markdown",
   "metadata": {},
   "source": [
    "The stereogenicity and stereo properties have enumerated values and are presented to the Python interface as strings. The possible values can be queried:"
   ]
  },
  {
   "cell_type": "code",
   "execution_count": 4,
   "metadata": {},
   "outputs": [
    {
     "name": "stdout",
     "output_type": "stream",
     "text": [
      "no:maybe:checkno:yes,checkyes:ringct\n",
      "no:maybe:checkno:yes,checkyes:ringct\n",
      "M,-=-1:undef=0:P,+=1:U,C=2:Z,N=3:X=4\n",
      "M,MI,-=-1:undef=0:P,PL,+=1\n"
     ]
    }
   ],
   "source": [
    "print(Prop.Get('A_STEREOGENIC','enum'))\n",
    "print(Prop.Get('B_STEREOGENIC','enum'))\n",
    "print(Prop.Get('A_LABEL_STEREO','enum'))\n",
    "print(Prop.Get('B_LABEL_STEREO','enum'))"
   ]
  },
  {
   "cell_type": "markdown",
   "metadata": {},
   "source": [
    "The values you are likely to see in normal molecules are _no_ and _yes_.\n",
    "\n",
    "With these functions, we can test the structures:"
   ]
  },
  {
   "cell_type": "code",
   "execution_count": 5,
   "metadata": {},
   "outputs": [
    {
     "name": "stdout",
     "output_type": "stream",
     "text": [
      "Atomstereo OK: True Bondstereo OK: True\n",
      "Atomstereo OK: True Bondstereo OK: True\n",
      "Atomstereo OK: True Bondstereo OK: True\n",
      "Atomstereo OK: True Bondstereo OK: True\n",
      "Atomstereo OK: True Bondstereo OK: False\n",
      "Atomstereo OK: False Bondstereo OK: True\n",
      "Atomstereo OK: True Bondstereo OK: True\n"
     ]
    }
   ],
   "source": [
    "for e in d:\n",
    "    print(f'Atomstereo OK: {astereocheck(e)} Bondstereo OK: {bstereocheck(e)}')"
   ]
  },
  {
   "cell_type": "markdown",
   "metadata": {},
   "source": [
    "But there is also a direct property check, though it is a field in a more complex property. Its data type is an integer vector. We access the relevant fields either by index, or use the toolkit's built-in property field access. Since on the Python level this is a simple vector tuple, named access with standard Python syntax is not possible. This is however supported for compound properties."
   ]
  },
  {
   "cell_type": "code",
   "execution_count": 6,
   "metadata": {},
   "outputs": [
    {
     "name": "stdout",
     "output_type": "stream",
     "text": [
      "(('apossible', 'int'), ('adefined', 'int'), ('aundefined', 'int'), ('bpossible', 'int'), ('bdefined', 'int'), ('bundefined', 'int'))\n",
      "Stereo OK: True\n",
      "Stereo OK: True\n",
      "Stereo OK: True\n",
      "Stereo OK: True\n",
      "Stereo OK: True\n",
      "Stereo OK: True\n",
      "Stereo OK: True\n",
      "Stereo OK: True\n",
      "Stereo OK: False\n",
      "Stereo OK: False\n",
      "Stereo OK: False\n",
      "Stereo OK: False\n",
      "Stereo OK: True\n",
      "Stereo OK: True\n"
     ]
    }
   ],
   "source": [
    "print(Prop.Get('E_STEREO_COUNT','fields'))\n",
    "for e in d:\n",
    "    print(f'Stereo OK: {e.E_STEREO_COUNT[2]==0 and e.E_STEREO_COUNT[5]==0}')\n",
    "    print(f'Stereo OK: {e.get(\"E_STEREO_COUNT(aundefined)\")==0 and e.get(\"E_STEREO_COUNT(bundefined)\")==0}')"
   ]
  },
  {
   "cell_type": "markdown",
   "metadata": {},
   "source": [
    "One way to clean a file is to copy passed records to a new simple text file. The toolkit has a method for verbatim record output, without reading and re-writing data. So one possible cleanup looks like this:"
   ]
  },
  {
   "cell_type": "code",
   "execution_count": 7,
   "metadata": {},
   "outputs": [
    {
     "name": "stdout",
     "output_type": "stream",
     "text": [
      "passed 3 records\n"
     ]
    }
   ],
   "source": [
    "mf_in=Molfile('test.smi')\n",
    "f_out=open('filtered.smi','w')\n",
    "cnt=0\n",
    "\n",
    "def write_filtered(e):\n",
    "    global cnt\n",
    "    if (e.E_NMOLECULES!=1):\n",
    "        return\n",
    "    if (e.E_CHARGE!=0):\n",
    "        return\n",
    "    if (e.get(\"E_STEREO_COUNT(aundefined)\")!=0 or e.get(\"E_STEREO_COUNT(bundefined)\")!=0):\n",
    "        return\n",
    "    cnt += 1\n",
    "    mf_in.copy(f_out,startrecord=-1)\n",
    "\n",
    "mf_in.loop(write_filtered)\n",
    "mf_in.close()\n",
    "f_out.close()\n",
    "print('passed %d records'%cnt)"
   ]
  },
  {
   "cell_type": "markdown",
   "metadata": {},
   "source": [
    "The copy() method copies records directly from the record begin to the record end, to another output channel or into a string. A negative start record indicates an offset to the current record of the input file. Since we already read the structure for testing, we need to backspace one record for the copy operation.\n",
    "\n",
    "Still, this is a lot of explicitly scripted testing. Is there a way to optimize it, and to maybe to it all in-place without a duplicate file? Yes, there is. First, write up the structure property test as a toolkit scan query. The syntax was originally designed to be convenient for processing with Tcl."
   ]
  },
  {
   "cell_type": "code",
   "execution_count": 8,
   "metadata": {},
   "outputs": [
    {
     "name": "stdout",
     "output_type": "stream",
     "text": [
      "[2, 3, 5, 6]\n"
     ]
    },
    {
     "data": {
      "text/plain": [
       "1"
      ]
     },
     "execution_count": 8,
     "metadata": {},
     "output_type": "execute_result"
    }
   ],
   "source": [
    "query='or {E_NMOLECULES != 1} {E_CHARGE != 0} {E_STEREO_COUNT(aundefined) != 0} {E_STEREO_COUNT(bundefined) != 0}'\n",
    "mf=Molfile('test.sdf','r',{'hydrogens':'add'})\n",
    "delrecs = mf.scan(query,mode='recordlist')\n",
    "print(delrecs)\n",
    "mf.close()"
   ]
  },
  {
   "cell_type": "markdown",
   "metadata": {},
   "source": [
    "The record list matches our expectations. Can be apply it in some way directly to a file?"
   ]
  },
  {
   "cell_type": "code",
   "execution_count": 9,
   "metadata": {},
   "outputs": [
    {
     "name": "stdout",
     "output_type": "stream",
     "text": [
      "3\n"
     ]
    },
    {
     "data": {
      "text/plain": [
       "1"
      ]
     },
     "execution_count": 9,
     "metadata": {},
     "output_type": "execute_result"
    }
   ],
   "source": [
    "from shutil import copyfile\n",
    "copyfile('test.sdf','filtered.sdf')\n",
    "# We need to open the file for updating. Simple read access is insufficient. \n",
    "mf=Molfile('filtered.sdf','u')\n",
    "mf.delete(delrecs)\n",
    "print(mf.count())\n",
    "mf.close()"
   ]
  },
  {
   "cell_type": "markdown",
   "metadata": {},
   "source": [
    "And this can be done in an even terser fashion, with a special scan mode."
   ]
  },
  {
   "cell_type": "code",
   "execution_count": 10,
   "metadata": {},
   "outputs": [
    {
     "name": "stdout",
     "output_type": "stream",
     "text": [
      "3\n"
     ]
    },
    {
     "data": {
      "text/plain": [
       "1"
      ]
     },
     "execution_count": 10,
     "metadata": {},
     "output_type": "execute_result"
    }
   ],
   "source": [
    "from shutil import copyfile\n",
    "copyfile('test.sdf','filtered2.sdf')\n",
    "mf=Molfile('filtered2.sdf','u',{'hydrogens':'add'})\n",
    "mf.scan(query,mode='delete')\n",
    "print(mf.count())\n",
    "mf.close()"
   ]
  }
 ],
 "metadata": {
  "kernelspec": {
   "display_name": "Python 3",
   "language": "python",
   "name": "python3"
  },
  "language_info": {
   "codemirror_mode": {
    "name": "ipython",
    "version": 3
   },
   "file_extension": ".py",
   "mimetype": "text/x-python",
   "name": "python",
   "nbconvert_exporter": "python",
   "pygments_lexer": "ipython3",
   "version": "3.8.3"
  }
 },
 "nbformat": 4,
 "nbformat_minor": 4
}
